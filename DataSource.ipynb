{
  "nbformat": 4,
  "nbformat_minor": 0,
  "metadata": {
    "colab": {
      "name": "DataSource.ipynb",
      "provenance": [],
      "include_colab_link": true
    },
    "kernelspec": {
      "name": "python3",
      "display_name": "Python 3"
    }
  },
  "cells": [
    {
      "cell_type": "markdown",
      "metadata": {
        "id": "view-in-github",
        "colab_type": "text"
      },
      "source": [
        "<a href=\"https://colab.research.google.com/github/kenwkliu/ideas/blob/master/DataSource.ipynb\" target=\"_parent\"><img src=\"https://colab.research.google.com/assets/colab-badge.svg\" alt=\"Open In Colab\"/></a>"
      ]
    },
    {
      "cell_type": "code",
      "metadata": {
        "id": "w8KwffiQ616E",
        "colab_type": "code",
        "colab": {}
      },
      "source": [
        "# read html table\n",
        "import pandas as pd\n",
        "\n",
        "sp_url = 'https://en.wikipedia.org/wiki/List_of_S%26P_500_companies'\n",
        "sp = pd.read_html(sp_url, header=0)[0] # returns a list for each table\n",
        "print(sp.info())\n",
        "sp"
      ],
      "execution_count": 0,
      "outputs": []
    },
    {
      "cell_type": "code",
      "metadata": {
        "id": "P3x0ZK0M7rZR",
        "colab_type": "code",
        "colab": {}
      },
      "source": [
        "# get stocks daily data from Yahoo\n",
        "import pandas_datareader.data as web\n",
        "from datetime import datetime\n",
        "\n",
        "start = '2019' # accepts strings\n",
        "end = datetime(2019, 10, 31) # or datetime objects\n",
        "\n",
        "stock= web.DataReader('0005.HK', 'yahoo', start=start, end=end)\n",
        "print(stock.info())\n",
        "stock"
      ],
      "execution_count": 0,
      "outputs": []
    },
    {
      "cell_type": "code",
      "metadata": {
        "id": "jF0n-aK38bP3",
        "colab_type": "code",
        "colab": {}
      },
      "source": [
        ""
      ],
      "execution_count": 0,
      "outputs": []
    }
  ]
}