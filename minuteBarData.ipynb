{
  "nbformat": 4,
  "nbformat_minor": 0,
  "metadata": {
    "colab": {
      "provenance": [],
      "authorship_tag": "ABX9TyNwHjuM7vqvGxU82r2s3M9B",
      "include_colab_link": true
    },
    "kernelspec": {
      "name": "python3",
      "display_name": "Python 3"
    },
    "language_info": {
      "name": "python"
    }
  },
  "cells": [
    {
      "cell_type": "markdown",
      "metadata": {
        "id": "view-in-github",
        "colab_type": "text"
      },
      "source": [
        "<a href=\"https://colab.research.google.com/github/kenwkliu/ideas/blob/master/minuteBarData.ipynb\" target=\"_parent\"><img src=\"https://colab.research.google.com/assets/colab-badge.svg\" alt=\"Open In Colab\"/></a>"
      ]
    },
    {
      "cell_type": "code",
      "execution_count": null,
      "metadata": {
        "id": "LkMvYcrc9eo5"
      },
      "outputs": [],
      "source": [
        "from datetime import datetime\n",
        "import numpy as np\n",
        "import pandas as pd\n",
        "\n",
        "# Yahoo Finance\n",
        "!pip install yfinance\n",
        "import yfinance as yf\n",
        "\n",
        "# Enable Google interactive table\n",
        "from google.colab import data_table\n",
        "data_table.enable_dataframe_formatter()"
      ]
    },
    {
      "cell_type": "code",
      "source": [
        "startDate = '2023-02-23' \n",
        "endDate = '2023-02-24' \n",
        "stockCodes = ['0700.HK', '0005.HK']\n",
        "\n",
        "# interval='1m' for minute bar data\n",
        "minBarData = yf.download(stockCodes, start=startDate, end=endDate, group_by='ticker', auto_adjust=True, interval='1m')"
      ],
      "metadata": {
        "id": "11uj7XcF9na-"
      },
      "execution_count": null,
      "outputs": []
    },
    {
      "cell_type": "code",
      "source": [
        "minBarData['0700.HK']"
      ],
      "metadata": {
        "id": "kEYFx6MX96uA"
      },
      "execution_count": null,
      "outputs": []
    },
    {
      "cell_type": "code",
      "source": [
        "minBarData['0005.HK']"
      ],
      "metadata": {
        "id": "BgJcKVlm-CMs"
      },
      "execution_count": null,
      "outputs": []
    }
  ]
}