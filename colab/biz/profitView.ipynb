{
  "nbformat": 4,
  "nbformat_minor": 0,
  "metadata": {
    "colab": {
      "provenance": [],
      "authorship_tag": "ABX9TyPsg3NFnAWOTkX45g+mu8gb",
      "include_colab_link": true
    },
    "kernelspec": {
      "name": "python3",
      "display_name": "Python 3"
    },
    "language_info": {
      "name": "python"
    }
  },
  "cells": [
    {
      "cell_type": "markdown",
      "metadata": {
        "id": "view-in-github",
        "colab_type": "text"
      },
      "source": [
        "<a href=\"https://colab.research.google.com/github/kenwkliu/ideas/blob/master/colab/biz/profitView.ipynb\" target=\"_parent\"><img src=\"https://colab.research.google.com/assets/colab-badge.svg\" alt=\"Open In Colab\"/></a>"
      ]
    },
    {
      "cell_type": "code",
      "execution_count": null,
      "metadata": {
        "id": "0nw744zb-GiT"
      },
      "outputs": [],
      "source": [
        "import datetime\n",
        "import pandas as pd\n",
        "import requests\n",
        "\n",
        "from google.colab import userdata\n",
        "from google.colab import data_table\n",
        "data_table.enable_dataframe_formatter()\n",
        "\n",
        "### Change to your ProfitView webhook id\n",
        "RESTFUL_ID = userdata.get('profitView')\n",
        "BASE_URL = 'https://profitview.net/trading/signal/{}/'.format(RESTFUL_ID)\n",
        "\n",
        "def toDateTime(unixTime):\n",
        "    return datetime.datetime.fromtimestamp(unixTime / 1e3)"
      ]
    },
    {
      "cell_type": "code",
      "source": [
        "# PERP_BTC_USDT quote from woo\n",
        "url = BASE_URL + 'quote'\n",
        "quote = requests.get(url).json()\n",
        "\n",
        "print(\"Quote: {}: (Bid) {} {} | {} {} (Ask)\".format(toDateTime(quote['data']['time']),\n",
        "                  quote['data']['bid'][1], quote['data']['bid'][0], quote['data']['ask'][0], quote['data']['ask'][1]))"
      ],
      "metadata": {
        "id": "2AwTtu1--QWy"
      },
      "execution_count": null,
      "outputs": []
    },
    {
      "cell_type": "code",
      "source": [
        "# PERP_BTC_USDT trade from woo\n",
        "url = BASE_URL + 'trade'\n",
        "trade = requests.get(url).json()\n",
        "\n",
        "print(\"Trade: {}: {} {}@{}\".format(toDateTime(trade['data']['time']), trade['data']['side'], trade['data']['size'], trade['data']['price']))"
      ],
      "metadata": {
        "id": "LGdc2W7A-U5Q"
      },
      "execution_count": null,
      "outputs": []
    },
    {
      "cell_type": "code",
      "source": [
        "# PERP_BTC_USDT candles from woo\n",
        "# \"1m\", \"15m\", \"1h\", \"1d\"\n",
        "level = \"1m\"\n",
        "\n",
        "url = url = BASE_URL + 'candles?level={}'.format(level)\n",
        "r = requests.get(url)\n",
        "dataDf = pd.DataFrame(r.json()['data']['data'])\n",
        "dataDf['datetime'] = dataDf['time'].apply(lambda x: toDateTime(x))\n",
        "dataDf[['datetime', 'open', 'high', 'low', 'close', 'volume']]"
      ],
      "metadata": {
        "id": "CKx5vZk1-XOG"
      },
      "execution_count": null,
      "outputs": []
    }
  ]
}