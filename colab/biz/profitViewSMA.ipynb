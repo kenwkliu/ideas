{
  "nbformat": 4,
  "nbformat_minor": 0,
  "metadata": {
    "colab": {
      "provenance": [],
      "authorship_tag": "ABX9TyOT2CItYfcVWcX+00wfIQav",
      "include_colab_link": true
    },
    "kernelspec": {
      "name": "python3",
      "display_name": "Python 3"
    },
    "language_info": {
      "name": "python"
    }
  },
  "cells": [
    {
      "cell_type": "markdown",
      "metadata": {
        "id": "view-in-github",
        "colab_type": "text"
      },
      "source": [
        "<a href=\"https://colab.research.google.com/github/kenwkliu/ideas/blob/master/colab/biz/profitViewSMA.ipynb\" target=\"_parent\"><img src=\"https://colab.research.google.com/assets/colab-badge.svg\" alt=\"Open In Colab\"/></a>"
      ]
    },
    {
      "cell_type": "code",
      "execution_count": null,
      "metadata": {
        "id": "587sdJNFc_gW"
      },
      "outputs": [],
      "source": [
        "import requests, time\n",
        "from google.colab import userdata\n",
        "\n",
        "### Change to your ProfitView webhook id\n",
        "RESTFUL_ID = userdata.get('profitView')\n",
        "BASE_URL = 'https://profitview.net/trading/signal/{}/'.format(RESTFUL_ID)\n",
        "\n",
        "\n",
        "# Get historical candle data\n",
        "def getHistData(field, num, level=\"1m\"):\n",
        "  histData = []\n",
        "\n",
        "  url = BASE_URL + 'candles?level={}'.format(level)\n",
        "  r = requests.get(url)\n",
        "  candleData = r.json()['data']['data']\n",
        "\n",
        "  for data in candleData[:5]:\n",
        "    histData.append(data[field])\n",
        "\n",
        "  return histData\n",
        "\n",
        "\n",
        "# Get the latest trade price\n",
        "def getTradePx():\n",
        "  url = BASE_URL + 'trade'\n",
        "  trade = requests.get(url).json()\n",
        "\n",
        "  return trade['data']['price']\n",
        "\n",
        "\n",
        "def calculateSMA(tradePxList, shortMins):\n",
        "  smaLong = sum(tradePxList) / len(tradePxList)\n",
        "  smaShort = sum(tradePxList[:shortMins]) / len(tradePxList[:shortMins])\n",
        "\n",
        "  return smaLong, smaShort\n",
        "\n",
        "\n",
        "def updateTradePxList(tradePxList, tradePx):\n",
        "    tradePxList.insert(0, tradePx)\n",
        "    tradePxList = tradePxList[:len(tradePxList)-1]\n",
        "\n",
        "    return tradePxList\n",
        "\n",
        "# 1: long signal\n",
        "# 0: flat signal\n",
        "# -1: short signal\n",
        "def getTradingSignal(smaLong, smaShort):\n",
        "  if smaShort > smaLong: return 1\n",
        "  elif smaShort < smaLong: return -1\n",
        "\n",
        "  return 0"
      ]
    },
    {
      "cell_type": "code",
      "source": [
        "# Init trading parameters\n",
        "WAIT_SECOND = 3\n",
        "SMA_SHORT_MINS = 2\n",
        "SMA_LONG_MINS = 5"
      ],
      "metadata": {
        "id": "rzJMWS2qdZAI"
      },
      "execution_count": null,
      "outputs": []
    },
    {
      "cell_type": "code",
      "source": [
        "# Calculate trading indicators from the historical data\n",
        "tradePxList = getHistData('close', SMA_LONG_MINS)\n",
        "smaLong, smaShort = calculateSMA(tradePxList, SMA_SHORT_MINS)"
      ],
      "metadata": {
        "id": "grqKKcSldSfe"
      },
      "execution_count": null,
      "outputs": []
    },
    {
      "cell_type": "code",
      "source": [
        "# For each market event (quote/trade update) or timer event\n",
        "while True:\n",
        "    # Update trading indicators from the current market data\n",
        "    tradePxList = updateTradePxList(tradePxList, getTradePx())\n",
        "\n",
        "    # Calculate trading indicators from the current market data\n",
        "    smaLong, smaShort = calculateSMA(tradePxList, SMA_SHORT_MINS)\n",
        "\n",
        "    # Determine the trading signal\n",
        "    signal = getTradingSignal(smaLong, smaShort)\n",
        "    print(\"smaLong={}, smaShort={}, signal={}\".format(smaLong, smaShort, signal))\n",
        "\n",
        "    # Determine the action\n",
        "\n",
        "    time.sleep(WAIT_SECOND)"
      ],
      "metadata": {
        "id": "KINC-qNMh42u"
      },
      "execution_count": null,
      "outputs": []
    }
  ]
}