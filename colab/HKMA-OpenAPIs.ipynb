{
  "nbformat": 4,
  "nbformat_minor": 0,
  "metadata": {
    "colab": {
      "name": "HKMA Open APIs.ipynb",
      "provenance": [],
      "authorship_tag": "ABX9TyMQi/FWebLkEVHRZ2yr+051",
      "include_colab_link": true
    },
    "kernelspec": {
      "name": "python3",
      "display_name": "Python 3"
    }
  },
  "cells": [
    {
      "cell_type": "markdown",
      "metadata": {
        "id": "view-in-github",
        "colab_type": "text"
      },
      "source": [
        "<a href=\"https://colab.research.google.com/github/kenwkliu/ideas/blob/master/colab/HKMA-OpenAPIs.ipynb\" target=\"_parent\"><img src=\"https://colab.research.google.com/assets/colab-badge.svg\" alt=\"Open In Colab\"/></a>"
      ]
    },
    {
      "cell_type": "code",
      "metadata": {
        "id": "duXyMyI6t9Vn"
      },
      "source": [
        "# Visualize the data from HKMA APIs\n",
        "# https://apidocs.hkma.gov.hk/\n",
        "\n",
        "import math\n",
        "import pandas as pd\n",
        "\n",
        "# interative map\n",
        "import folium\n",
        "\n",
        "# bypass SSL cert\n",
        "import os, ssl\n",
        "if (not os.environ.get('PYTHONHTTPSVERIFY', '') and getattr(ssl, '_create_unverified_context', None)):\n",
        "  ssl._create_default_https_context = ssl._create_unverified_context\n",
        "\n",
        "# Enable Google interactive table\n",
        "from google.colab import data_table\n",
        "data_table.enable_dataframe_formatter()\n",
        "\n",
        "# a library to convert the Latitude and Longitude from degree format to decimal\n",
        "!pip install dms2dec\n",
        "from dms2dec.dms_convert import dms2dec"
      ],
      "execution_count": null,
      "outputs": []
    },
    {
      "cell_type": "code",
      "metadata": {
        "id": "Tt3QUNxd1d_N"
      },
      "source": [
        "# Get the daily exchange rate from HKMA\n",
        "url = 'https://api.hkma.gov.hk/public/market-data-and-statistics/monthly-statistical-bulletin/er-ir/er-eeri-daily'\n",
        "\n",
        "# Read the json URL output into a dataframe\n",
        "df = pd.read_json(url)\n",
        "print(df)"
      ],
      "execution_count": null,
      "outputs": []
    },
    {
      "cell_type": "code",
      "metadata": {
        "id": "FvMggXH6tFGh"
      },
      "source": [
        "# Extract the record result into another dataframe\n",
        "ccyDf = pd.DataFrame(df.loc['records', 'result'])\n",
        "ccyDf.set_index('end_of_day', inplace=True)\n",
        "\n",
        "# Display the major ccy\n",
        "ccyDf[['usd', 'gbp', 'cad', 'aud', 'cny', 'jpy', 'eur']]"
      ],
      "execution_count": null,
      "outputs": []
    },
    {
      "cell_type": "code",
      "metadata": {
        "id": "88hdFhgT3Q6m"
      },
      "source": [
        "# sort the date in asc order and plot the graph\n",
        "ccyDf[['gbp']].sort_index().plot(figsize = (12, 8))"
      ],
      "execution_count": null,
      "outputs": []
    },
    {
      "cell_type": "code",
      "metadata": {
        "id": "jttw8uOa9YNw"
      },
      "source": [
        "# Browse other HKMA examples: https://apidocs.hkma.gov.hk/apidata/\n",
        "# and find the corresponding data link in the https://apidocs.hkma.gov.hk/documentation/"
      ],
      "execution_count": null,
      "outputs": []
    },
    {
      "cell_type": "code",
      "metadata": {
        "id": "rTFJI6KNg5tH"
      },
      "source": [
        "# Hospitals info from HA\n",
        "url = 'https://www.ha.org.hk/opendata/facility-hosp.json'\n",
        "dfHospital = pd.read_json(url)\n",
        "dfHospital"
      ],
      "execution_count": null,
      "outputs": []
    },
    {
      "cell_type": "code",
      "metadata": {
        "id": "oIGwEFDkhdo3"
      },
      "source": [
        "# Create an interactive folium map and zoom to HK\n",
        "HK_LAT, HK_LONG = 22.3, 114.2\n",
        "hmap = folium.Map(location=[HK_LAT, HK_LONG], zoom_start=11)\n",
        "\n",
        "# From each row of the footbook dataframe, pin the location in the map with the name and opening_time by a tooltip\n",
        "for row in dfHospital.itertuples():\n",
        "  tip = row.institution_eng\n",
        "  #tip = row.institution_tc\n",
        "  if math.isnan(row.latitude) == False and math.isnan(row.longitude) == False:\n",
        "    folium.Marker([row.latitude, row.longitude], tooltip=tip).add_to(hmap)\n",
        "\n",
        "hmap"
      ],
      "execution_count": null,
      "outputs": []
    },
    {
      "cell_type": "code",
      "metadata": {
        "id": "UtT59rIQisZh"
      },
      "source": [
        "# save the hospital map\n",
        "hmap.save('hospital.html')"
      ],
      "execution_count": null,
      "outputs": []
    },
    {
      "cell_type": "code",
      "metadata": {
        "id": "2IQ5TWOL2tdE"
      },
      "source": [
        "# Other examples\n",
        "# All other JSON format: https://data.gov.hk/en-datasets/format/json\n",
        "# All other CSV format: https://data.gov.hk/en-datasets/format/csv\n",
        "\n",
        "# Idea\n",
        "# Use the Gov open data (such as pollution index, beach water quality) to track health for pharmaceutical stocks\n"
      ],
      "execution_count": null,
      "outputs": []
    }
  ]
}