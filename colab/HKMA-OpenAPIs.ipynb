{
  "nbformat": 4,
  "nbformat_minor": 0,
  "metadata": {
    "colab": {
      "name": "HKMA Open APIs.ipynb",
      "provenance": [],
      "authorship_tag": "ABX9TyMXc7xj03czZIzd1DtlAjfS",
      "include_colab_link": true
    },
    "kernelspec": {
      "name": "python3",
      "display_name": "Python 3"
    }
  },
  "cells": [
    {
      "cell_type": "markdown",
      "metadata": {
        "id": "view-in-github",
        "colab_type": "text"
      },
      "source": [
        "<a href=\"https://colab.research.google.com/github/kenwkliu/ideas/blob/master/colab/HKMA-OpenAPIs.ipynb\" target=\"_parent\"><img src=\"https://colab.research.google.com/assets/colab-badge.svg\" alt=\"Open In Colab\"/></a>"
      ]
    },
    {
      "cell_type": "code",
      "metadata": {
        "id": "duXyMyI6t9Vn",
        "colab_type": "code",
        "colab": {}
      },
      "source": [
        "# Visualize the data from HKMA APIs\n",
        "# https://apidocs.hkma.gov.hk/\n",
        "\n",
        "import pandas as pd\n",
        "\n",
        "# interative map\n",
        "import folium\n",
        "\n",
        "# bypass SSL cert\n",
        "import os, ssl\n",
        "if (not os.environ.get('PYTHONHTTPSVERIFY', '') and getattr(ssl, '_create_unverified_context', None)):\n",
        "  ssl._create_default_https_context = ssl._create_unverified_context\n",
        "\n",
        "# Google colab interactive table\n",
        "%load_ext google.colab.data_table   \n",
        "\n",
        "# a library to convert the Latitude and Longitude from degree format to decimal\n",
        "!pip install dms2dec\n",
        "from dms2dec.dms_convert import dms2dec"
      ],
      "execution_count": null,
      "outputs": []
    },
    {
      "cell_type": "code",
      "metadata": {
        "id": "Tt3QUNxd1d_N",
        "colab_type": "code",
        "colab": {}
      },
      "source": [
        "# Get the daily exchange rate from HKMA \n",
        "url = 'https://api.hkma.gov.hk/public/market-data-and-statistics/monthly-statistical-bulletin/er-ir/er-eeri-daily'\n",
        "\n",
        "# Read the json URL output into a dataframe \n",
        "df = pd.read_json(url)\n",
        "print(df)"
      ],
      "execution_count": null,
      "outputs": []
    },
    {
      "cell_type": "code",
      "metadata": {
        "id": "FvMggXH6tFGh",
        "colab_type": "code",
        "colab": {}
      },
      "source": [
        "# Extract the record result into another dataframe\n",
        "ccyDf = pd.DataFrame(df.loc['records', 'result'])\n",
        "ccyDf.set_index('end_of_day', inplace=True)\n",
        "\n",
        "# Display the major ccy\n",
        "ccyDf[['usd', 'gbp', 'cad', 'aud', 'cny', 'jpy', 'eur']]"
      ],
      "execution_count": null,
      "outputs": []
    },
    {
      "cell_type": "code",
      "metadata": {
        "id": "88hdFhgT3Q6m",
        "colab_type": "code",
        "colab": {}
      },
      "source": [
        "# sort the date in asc order and plot the graph\n",
        "ccyDf[['aud']].sort_index().plot(figsize = (12, 8))"
      ],
      "execution_count": null,
      "outputs": []
    },
    {
      "cell_type": "code",
      "metadata": {
        "id": "jttw8uOa9YNw",
        "colab_type": "code",
        "colab": {}
      },
      "source": [
        "# Browse other HKMA examples: https://apidocs.hkma.gov.hk/apidata/"
      ],
      "execution_count": null,
      "outputs": []
    },
    {
      "cell_type": "code",
      "metadata": {
        "id": "ltxDbZHFtkZY",
        "colab_type": "code",
        "colab": {}
      },
      "source": [
        "# Read HK gov open data: https://data.gov.hk/en/\n",
        "# 11-a-side Soccer Pitches (Artificial Turf Pitch)\n",
        "url = 'https://www.lcsd.gov.hk/datagovhk/facility/facility-sp11atp.json'\n",
        "dfFootball = pd.read_json(url)\n",
        "dfFootball"
      ],
      "execution_count": null,
      "outputs": []
    },
    {
      "cell_type": "code",
      "metadata": {
        "id": "GQv0rXW3zm5P",
        "colab_type": "code",
        "colab": {}
      },
      "source": [
        "# Create an interactive folium map and zoom to HK\n",
        "HK_LAT, HK_LONG = 22.3, 114.2\n",
        "fmap = folium.Map(location=[HK_LAT, HK_LONG], zoom_start=11)\n",
        "\n",
        "# From each row of the footbook dataframe, pin the location in the map with the name and opening_time by a tooltip \n",
        "for row in dfFootball.itertuples():\n",
        "  tip = row.Name_en + \": \" + row.Opening_hours_en\n",
        "  folium.Marker([dms2dec(row.Latitude), dms2dec(row.Longitude)], tooltip=tip).add_to(fmap)\n",
        "\n",
        "fmap"
      ],
      "execution_count": null,
      "outputs": []
    },
    {
      "cell_type": "code",
      "metadata": {
        "id": "iJa5HaOe1WD3",
        "colab_type": "code",
        "colab": {}
      },
      "source": [
        "# save the map\n",
        "fmap.save('football.html')"
      ],
      "execution_count": null,
      "outputs": []
    },
    {
      "cell_type": "code",
      "metadata": {
        "id": "2IQ5TWOL2tdE",
        "colab_type": "code",
        "colab": {}
      },
      "source": [
        "# Other examples\n",
        "# Hospital: http://www.ha.org.hk/opendata/facility-hosp.json\n",
        "# All other JSON format: https://data.gov.hk/en-datasets/format/json\n",
        "# All other CSV format: https://data.gov.hk/en-datasets/format/csv\n"
      ],
      "execution_count": null,
      "outputs": []
    }
  ]
}