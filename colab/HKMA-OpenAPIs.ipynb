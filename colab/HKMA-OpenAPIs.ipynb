{
  "nbformat": 4,
  "nbformat_minor": 0,
  "metadata": {
    "colab": {
      "name": "HKMA Open APIs.ipynb",
      "provenance": [],
      "authorship_tag": "ABX9TyPYyzR96lD7+u5hMFxnlwfU",
      "include_colab_link": true
    },
    "kernelspec": {
      "name": "python3",
      "display_name": "Python 3"
    }
  },
  "cells": [
    {
      "cell_type": "markdown",
      "metadata": {
        "id": "view-in-github",
        "colab_type": "text"
      },
      "source": [
        "<a href=\"https://colab.research.google.com/github/kenwkliu/ideas/blob/master/colab/HKMA-OpenAPIs.ipynb\" target=\"_parent\"><img src=\"https://colab.research.google.com/assets/colab-badge.svg\" alt=\"Open In Colab\"/></a>"
      ]
    },
    {
      "cell_type": "code",
      "metadata": {
        "id": "duXyMyI6t9Vn",
        "colab_type": "code",
        "colab": {}
      },
      "source": [
        "# Visualize the data from HKMA APIs\n",
        "# https://apidocs.hkma.gov.hk/\n",
        "\n",
        "import pandas as pd\n",
        "\n",
        "# interative map\n",
        "import folium\n",
        "\n",
        "# bypass SSL cert\n",
        "import os, ssl\n",
        "if (not os.environ.get('PYTHONHTTPSVERIFY', '') and getattr(ssl, '_create_unverified_context', None)):\n",
        "  ssl._create_default_https_context = ssl._create_unverified_context\n",
        "\n",
        "# Google colab interactive table\n",
        "%load_ext google.colab.data_table   "
      ],
      "execution_count": null,
      "outputs": []
    },
    {
      "cell_type": "code",
      "metadata": {
        "id": "A6CN8fr8uswR",
        "colab_type": "code",
        "colab": {}
      },
      "source": [
        "# Read the Coin Cart location and schedule\n",
        "url = 'https://api.hkma.gov.hk/public/coin-cart-schedule?lang=en&sortby=start_date&sortorder=asc'\n",
        "\n",
        "df = pd.read_json(url)\n",
        "df"
      ],
      "execution_count": null,
      "outputs": []
    },
    {
      "cell_type": "code",
      "metadata": {
        "id": "YS7QBWpBxax8",
        "colab_type": "code",
        "colab": {}
      },
      "source": [
        "# Read the record result into a DataFrame\n",
        "json = df.loc['records', 'result']\n",
        "cartDf = pd.DataFrame(json)\n",
        "cartDf"
      ],
      "execution_count": null,
      "outputs": []
    },
    {
      "cell_type": "code",
      "metadata": {
        "id": "GQv0rXW3zm5P",
        "colab_type": "code",
        "colab": {}
      },
      "source": [
        "# Create an interactive folium map and zoom to HK\n",
        "HK_LAT, HK_LONG = 22.3, 114.2\n",
        "fmap = folium.Map(location=[HK_LAT, HK_LONG], zoom_start=11)\n",
        "\n",
        "# From each row of the Cart dataframe, mark the map with location, address and date by a tooltip \n",
        "for row in cartDf.itertuples():\n",
        "  tip = row.address + \": \" + row.start_date + \" to \" + row.end_date\n",
        "  folium.Marker([row.latitude, row.longitude], tooltip=tip).add_to(fmap)\n",
        "\n",
        "fmap"
      ],
      "execution_count": null,
      "outputs": []
    },
    {
      "cell_type": "code",
      "metadata": {
        "id": "iJa5HaOe1WD3",
        "colab_type": "code",
        "colab": {}
      },
      "source": [
        "# save the map\n",
        "fmap.save('coinCart.html')"
      ],
      "execution_count": null,
      "outputs": []
    },
    {
      "cell_type": "code",
      "metadata": {
        "id": "Tt3QUNxd1d_N",
        "colab_type": "code",
        "colab": {}
      },
      "source": [
        "# Get the daily exchange rate\n",
        "url = 'https://api.hkma.gov.hk/public/market-data-and-statistics/monthly-statistical-bulletin/er-ir/er-eeri-daily'\n",
        "\n",
        "# Read into a dataframe \n",
        "df = pd.read_json(url)\n",
        "ccyDf = pd.DataFrame(df.loc['records', 'result'])\n",
        "ccyDf.set_index('end_of_day', inplace=True)\n",
        "\n",
        "# Display the major ccy\n",
        "ccyDf[['usd', 'gbp', 'cad', 'aud', 'cny', 'jpy', 'eur']]"
      ],
      "execution_count": null,
      "outputs": []
    },
    {
      "cell_type": "code",
      "metadata": {
        "id": "88hdFhgT3Q6m",
        "colab_type": "code",
        "colab": {}
      },
      "source": [
        "# sort the date in asc order and plot the graph\n",
        "ccyDf[['aud']].sort_index().plot(figsize = (12, 8))"
      ],
      "execution_count": null,
      "outputs": []
    },
    {
      "cell_type": "code",
      "metadata": {
        "id": "2IQ5TWOL2tdE",
        "colab_type": "code",
        "colab": {}
      },
      "source": [
        "''' \n",
        "- Other HKMA examples: https://apidocs.hkma.gov.hk/apidata/\n",
        "- HK gov open data: https://data.gov.hk/en/\n",
        "  Example 11-a-side Soccer Pitches (Artificial Turf Pitch): https://www.lcsd.gov.hk/datagovhk/facility/facility-sp11atp.json\n",
        "\n",
        "'''\n"
      ],
      "execution_count": null,
      "outputs": []
    }
  ]
}