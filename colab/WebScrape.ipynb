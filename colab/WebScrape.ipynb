{
  "nbformat": 4,
  "nbformat_minor": 0,
  "metadata": {
    "colab": {
      "name": "WebScrape.ipynb",
      "provenance": [],
      "include_colab_link": true
    },
    "kernelspec": {
      "name": "python3",
      "display_name": "Python 3"
    }
  },
  "cells": [
    {
      "cell_type": "markdown",
      "metadata": {
        "id": "view-in-github",
        "colab_type": "text"
      },
      "source": [
        "<a href=\"https://colab.research.google.com/github/kenwkliu/ideas/blob/master/colab/WebScrape.ipynb\" target=\"_parent\"><img src=\"https://colab.research.google.com/assets/colab-badge.svg\" alt=\"Open In Colab\"/></a>"
      ]
    },
    {
      "cell_type": "code",
      "metadata": {
        "id": "qATD7LJiRzcN",
        "colab_type": "code",
        "colab": {}
      },
      "source": [
        "from bs4 import BeautifulSoup\n",
        "import requests"
      ],
      "execution_count": 0,
      "outputs": []
    },
    {
      "cell_type": "code",
      "metadata": {
        "id": "W9RKUk5USHge",
        "colab_type": "code",
        "colab": {}
      },
      "source": [
        "# set and request url; extract source code\n",
        "url = \"https://www.opentable.com/new-york-restaurant-listings\"\n",
        "html = requests.get(url)\n",
        "html.text[:500]"
      ],
      "execution_count": 0,
      "outputs": []
    },
    {
      "cell_type": "code",
      "metadata": {
        "id": "NftjR2tTSUBa",
        "colab_type": "code",
        "colab": {}
      },
      "source": [
        "# parse raw html => soup object\n",
        "soup = BeautifulSoup(html.text, 'html.parser')\n",
        "\n",
        "# for each span tag, print out text => restaurant name\n",
        "for entry in soup.find_all(name='span', attrs={'class':'rest-row-name-text'}):\n",
        "  print(entry.text)"
      ],
      "execution_count": 0,
      "outputs": []
    }
  ]
}