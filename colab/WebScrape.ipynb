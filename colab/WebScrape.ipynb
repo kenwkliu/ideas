{
  "nbformat": 4,
  "nbformat_minor": 0,
  "metadata": {
    "colab": {
      "name": "WebScrape.ipynb",
      "provenance": [],
      "include_colab_link": true
    },
    "kernelspec": {
      "name": "python3",
      "display_name": "Python 3"
    }
  },
  "cells": [
    {
      "cell_type": "markdown",
      "metadata": {
        "id": "view-in-github",
        "colab_type": "text"
      },
      "source": [
        "<a href=\"https://colab.research.google.com/github/kenwkliu/ideas/blob/master/colab/WebScrape.ipynb\" target=\"_parent\"><img src=\"https://colab.research.google.com/assets/colab-badge.svg\" alt=\"Open In Colab\"/></a>"
      ]
    },
    {
      "cell_type": "code",
      "metadata": {
        "id": "qATD7LJiRzcN",
        "colab_type": "code",
        "colab": {}
      },
      "source": [
        "import pandas as pd\n",
        "from bs4 import BeautifulSoup\n",
        "import requests"
      ],
      "execution_count": 0,
      "outputs": []
    },
    {
      "cell_type": "code",
      "metadata": {
        "id": "W9RKUk5USHge",
        "colab_type": "code",
        "colab": {}
      },
      "source": [
        "# Example 1: Extract New York Resturant Names\n",
        "# set and request url; extract html source code\n",
        "url = \"https://www.opentable.com/new-york-restaurant-listings\"\n",
        "html = requests.get(url)\n",
        "html.text[:500]"
      ],
      "execution_count": 0,
      "outputs": []
    },
    {
      "cell_type": "code",
      "metadata": {
        "id": "NftjR2tTSUBa",
        "colab_type": "code",
        "colab": {}
      },
      "source": [
        "# parse raw html => soup object\n",
        "soup = BeautifulSoup(html.text, 'html.parser')\n",
        "\n",
        "# for each span tag, print out text => restaurant name\n",
        "for entry in soup.find_all(name='span', attrs={'class':'rest-row-name-text'}):\n",
        "  print(entry.text)"
      ],
      "execution_count": 0,
      "outputs": []
    },
    {
      "cell_type": "code",
      "metadata": {
        "id": "pb2XCi4nwKk3",
        "colab_type": "code",
        "colab": {}
      },
      "source": [
        "# Example 2: Extract HK stock codes and names\n",
        "hk_url = 'https://zh-yue.wikipedia.org/wiki/%E9%A6%99%E6%B8%AF%E4%B8%8A%E5%B8%82%E5%85%AC%E5%8F%B8%E4%B8%80%E8%A6%BD'\n",
        "html = requests.get(hk_url)\n",
        "soup = BeautifulSoup(html.text, 'html.parser')"
      ],
      "execution_count": 0,
      "outputs": []
    },
    {
      "cell_type": "code",
      "metadata": {
        "id": "Qla4P5rtw7Lz",
        "colab_type": "code",
        "colab": {}
      },
      "source": [
        "a_tags = soup.find(\"div\", attrs={\"id\":\"mw-content-text\"})\n",
        "all_li = a_tags.find_all(\"li\", attrs={\"class\":\"\"})\n",
        "all_li = all_li[:-1]\n",
        "index = []\n",
        "stock_name = []\n",
        "for li in all_li:\n",
        "    content = li.text.strip()\n",
        "    index.append(content[:4])\n",
        "    stock_name.append(content[4:])\n",
        "    \n",
        "df_hongkong_stock = pd.DataFrame(data=stock_name, index=index)\n",
        "df_hongkong_stock = df_hongkong_stock.reset_index()\n",
        "df_hongkong_stock.columns = [\"index\",\"Name\"]\n",
        "df_hongkong_stock"
      ],
      "execution_count": 0,
      "outputs": []
    }
  ]
}