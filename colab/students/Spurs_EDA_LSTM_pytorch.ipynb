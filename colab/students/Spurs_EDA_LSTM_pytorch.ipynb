{
 "cells": [
  {
   "cell_type": "markdown",
   "metadata": {},
   "source": [
    "# Stock Price  Prediction using PyTorch LSTM"
   ]
  },
  {
   "cell_type": "code",
   "execution_count": 3,
   "metadata": {},
   "outputs": [
    {
     "ename": "ModuleNotFoundError",
     "evalue": "No module named 'yfinance'",
     "output_type": "error",
     "traceback": [
      "\u001b[0;31m---------------------------------------------------------------------------\u001b[0m",
      "\u001b[0;31mModuleNotFoundError\u001b[0m                       Traceback (most recent call last)",
      "\u001b[0;32m<ipython-input-3-fd4842b2a8d9>\u001b[0m in \u001b[0;36m<module>\u001b[0;34m\u001b[0m\n\u001b[1;32m     15\u001b[0m \u001b[0;34m\u001b[0m\u001b[0m\n\u001b[1;32m     16\u001b[0m \u001b[0;32mfrom\u001b[0m \u001b[0mtqdm\u001b[0m\u001b[0;34m.\u001b[0m\u001b[0mnotebook\u001b[0m \u001b[0;32mimport\u001b[0m \u001b[0mtqdm\u001b[0m\u001b[0;34m\u001b[0m\u001b[0;34m\u001b[0m\u001b[0m\n\u001b[0;32m---> 17\u001b[0;31m \u001b[0;32mimport\u001b[0m \u001b[0myfinance\u001b[0m \u001b[0;32mas\u001b[0m \u001b[0myf\u001b[0m\u001b[0;34m\u001b[0m\u001b[0;34m\u001b[0m\u001b[0m\n\u001b[0m\u001b[1;32m     18\u001b[0m \u001b[0;31m# import talib as ta\u001b[0m\u001b[0;34m\u001b[0m\u001b[0;34m\u001b[0m\u001b[0;34m\u001b[0m\u001b[0m\n\u001b[1;32m     19\u001b[0m \u001b[0;31m# from talib import MA_Type\u001b[0m\u001b[0;34m\u001b[0m\u001b[0;34m\u001b[0m\u001b[0;34m\u001b[0m\u001b[0m\n",
      "\u001b[0;31mModuleNotFoundError\u001b[0m: No module named 'yfinance'"
     ]
    }
   ],
   "source": [
    "import numpy as np\n",
    "import pandas as pd\n",
    "import matplotlib.pyplot as plt\n",
    "# import plotly.graph_objs as go\n",
    "# import plotly_express as px\n",
    "# import mplfinance as mpf\n",
    "plt.style.use('fivethirtyeight')\n",
    "\n",
    "import math\n",
    "from sklearn.preprocessing import StandardScaler, MinMaxScaler\n",
    "import torch\n",
    "import torch.nn as nn\n",
    "\n",
    "import  statsmodels.api as sm\n",
    "\n",
    "from tqdm.notebook import tqdm\n",
    "import yfinance as yf\n",
    "# import talib as ta\n",
    "# from talib import MA_Type\n",
    "\n",
    "\n",
    "import warnings\n",
    "warnings.filterwarnings(\"ignore\")\n"
   ]
  },
  {
   "cell_type": "markdown",
   "metadata": {},
   "source": [
    "## EDA"
   ]
  },
  {
   "cell_type": "code",
   "execution_count": 2,
   "metadata": {},
   "outputs": [
    {
     "name": "stdout",
     "output_type": "stream",
     "text": [
      "[*********************100%***********************]  1 of 1 completed\n"
     ]
    },
    {
     "data": {
      "text/html": [
       "<div>\n",
       "<style scoped>\n",
       "    .dataframe tbody tr th:only-of-type {\n",
       "        vertical-align: middle;\n",
       "    }\n",
       "\n",
       "    .dataframe tbody tr th {\n",
       "        vertical-align: top;\n",
       "    }\n",
       "\n",
       "    .dataframe thead th {\n",
       "        text-align: right;\n",
       "    }\n",
       "</style>\n",
       "<table border=\"1\" class=\"dataframe\">\n",
       "  <thead>\n",
       "    <tr style=\"text-align: right;\">\n",
       "      <th></th>\n",
       "      <th>Open</th>\n",
       "      <th>High</th>\n",
       "      <th>Low</th>\n",
       "      <th>Close</th>\n",
       "      <th>Adj Close</th>\n",
       "      <th>Volume</th>\n",
       "    </tr>\n",
       "    <tr>\n",
       "      <th>Date</th>\n",
       "      <th></th>\n",
       "      <th></th>\n",
       "      <th></th>\n",
       "      <th></th>\n",
       "      <th></th>\n",
       "      <th></th>\n",
       "    </tr>\n",
       "  </thead>\n",
       "  <tbody>\n",
       "    <tr>\n",
       "      <th>2014-12-31</th>\n",
       "      <td>20.400000</td>\n",
       "      <td>20.510000</td>\n",
       "      <td>19.990000</td>\n",
       "      <td>20.049999</td>\n",
       "      <td>19.297794</td>\n",
       "      <td>4157500</td>\n",
       "    </tr>\n",
       "    <tr>\n",
       "      <th>2015-01-02</th>\n",
       "      <td>20.129999</td>\n",
       "      <td>20.280001</td>\n",
       "      <td>19.809999</td>\n",
       "      <td>20.129999</td>\n",
       "      <td>19.374790</td>\n",
       "      <td>2842000</td>\n",
       "    </tr>\n",
       "    <tr>\n",
       "      <th>2015-01-05</th>\n",
       "      <td>20.129999</td>\n",
       "      <td>20.190001</td>\n",
       "      <td>19.700001</td>\n",
       "      <td>19.790001</td>\n",
       "      <td>19.047548</td>\n",
       "      <td>4948800</td>\n",
       "    </tr>\n",
       "    <tr>\n",
       "      <th>2015-01-06</th>\n",
       "      <td>19.820000</td>\n",
       "      <td>19.840000</td>\n",
       "      <td>19.170000</td>\n",
       "      <td>19.190001</td>\n",
       "      <td>18.470057</td>\n",
       "      <td>4944100</td>\n",
       "    </tr>\n",
       "    <tr>\n",
       "      <th>2015-01-07</th>\n",
       "      <td>19.330000</td>\n",
       "      <td>19.500000</td>\n",
       "      <td>19.080000</td>\n",
       "      <td>19.139999</td>\n",
       "      <td>18.421932</td>\n",
       "      <td>8045200</td>\n",
       "    </tr>\n",
       "    <tr>\n",
       "      <th>...</th>\n",
       "      <td>...</td>\n",
       "      <td>...</td>\n",
       "      <td>...</td>\n",
       "      <td>...</td>\n",
       "      <td>...</td>\n",
       "      <td>...</td>\n",
       "    </tr>\n",
       "    <tr>\n",
       "      <th>2021-02-09</th>\n",
       "      <td>573.630005</td>\n",
       "      <td>583.330017</td>\n",
       "      <td>568.900024</td>\n",
       "      <td>570.530029</td>\n",
       "      <td>570.530029</td>\n",
       "      <td>7189000</td>\n",
       "    </tr>\n",
       "    <tr>\n",
       "      <th>2021-02-10</th>\n",
       "      <td>578.530029</td>\n",
       "      <td>596.200012</td>\n",
       "      <td>573.659973</td>\n",
       "      <td>590.570007</td>\n",
       "      <td>590.570007</td>\n",
       "      <td>12133800</td>\n",
       "    </tr>\n",
       "    <tr>\n",
       "      <th>2021-02-11</th>\n",
       "      <td>599.210022</td>\n",
       "      <td>610.890015</td>\n",
       "      <td>597.000000</td>\n",
       "      <td>610.030029</td>\n",
       "      <td>610.030029</td>\n",
       "      <td>11245500</td>\n",
       "    </tr>\n",
       "    <tr>\n",
       "      <th>2021-02-12</th>\n",
       "      <td>602.000000</td>\n",
       "      <td>611.650024</td>\n",
       "      <td>591.000000</td>\n",
       "      <td>598.450012</td>\n",
       "      <td>598.450012</td>\n",
       "      <td>9356800</td>\n",
       "    </tr>\n",
       "    <tr>\n",
       "      <th>2021-02-16</th>\n",
       "      <td>602.570007</td>\n",
       "      <td>614.900024</td>\n",
       "      <td>598.000000</td>\n",
       "      <td>613.210022</td>\n",
       "      <td>613.210022</td>\n",
       "      <td>8039000</td>\n",
       "    </tr>\n",
       "  </tbody>\n",
       "</table>\n",
       "<p>1542 rows × 6 columns</p>\n",
       "</div>"
      ],
      "text/plain": [
       "                  Open        High         Low       Close   Adj Close  \\\n",
       "Date                                                                     \n",
       "2014-12-31   20.400000   20.510000   19.990000   20.049999   19.297794   \n",
       "2015-01-02   20.129999   20.280001   19.809999   20.129999   19.374790   \n",
       "2015-01-05   20.129999   20.190001   19.700001   19.790001   19.047548   \n",
       "2015-01-06   19.820000   19.840000   19.170000   19.190001   18.470057   \n",
       "2015-01-07   19.330000   19.500000   19.080000   19.139999   18.421932   \n",
       "...                ...         ...         ...         ...         ...   \n",
       "2021-02-09  573.630005  583.330017  568.900024  570.530029  570.530029   \n",
       "2021-02-10  578.530029  596.200012  573.659973  590.570007  590.570007   \n",
       "2021-02-11  599.210022  610.890015  597.000000  610.030029  610.030029   \n",
       "2021-02-12  602.000000  611.650024  591.000000  598.450012  598.450012   \n",
       "2021-02-16  602.570007  614.900024  598.000000  613.210022  613.210022   \n",
       "\n",
       "              Volume  \n",
       "Date                  \n",
       "2014-12-31   4157500  \n",
       "2015-01-02   2842000  \n",
       "2015-01-05   4948800  \n",
       "2015-01-06   4944100  \n",
       "2015-01-07   8045200  \n",
       "...              ...  \n",
       "2021-02-09   7189000  \n",
       "2021-02-10  12133800  \n",
       "2021-02-11  11245500  \n",
       "2021-02-12   9356800  \n",
       "2021-02-16   8039000  \n",
       "\n",
       "[1542 rows x 6 columns]"
      ]
     },
     "execution_count": 2,
     "metadata": {},
     "output_type": "execute_result"
    }
   ],
   "source": [
    "data = yf.download(\"NVDA\", start=\"2015-1-1\", end=\"2021-2-17\")\n",
    "data"
   ]
  },
  {
   "cell_type": "markdown",
   "metadata": {},
   "source": [
    "## Data Preprocessing"
   ]
  },
  {
   "cell_type": "code",
   "execution_count": 3,
   "metadata": {},
   "outputs": [
    {
     "data": {
      "text/html": [
       "<div>\n",
       "<style scoped>\n",
       "    .dataframe tbody tr th:only-of-type {\n",
       "        vertical-align: middle;\n",
       "    }\n",
       "\n",
       "    .dataframe tbody tr th {\n",
       "        vertical-align: top;\n",
       "    }\n",
       "\n",
       "    .dataframe thead th {\n",
       "        text-align: right;\n",
       "    }\n",
       "</style>\n",
       "<table border=\"1\" class=\"dataframe\">\n",
       "  <thead>\n",
       "    <tr style=\"text-align: right;\">\n",
       "      <th></th>\n",
       "      <th>Adj Close</th>\n",
       "    </tr>\n",
       "    <tr>\n",
       "      <th>Date</th>\n",
       "      <th></th>\n",
       "    </tr>\n",
       "  </thead>\n",
       "  <tbody>\n",
       "    <tr>\n",
       "      <th>2014-12-31</th>\n",
       "      <td>19.297794</td>\n",
       "    </tr>\n",
       "    <tr>\n",
       "      <th>2015-01-02</th>\n",
       "      <td>19.374790</td>\n",
       "    </tr>\n",
       "    <tr>\n",
       "      <th>2015-01-05</th>\n",
       "      <td>19.047548</td>\n",
       "    </tr>\n",
       "    <tr>\n",
       "      <th>2015-01-06</th>\n",
       "      <td>18.470057</td>\n",
       "    </tr>\n",
       "    <tr>\n",
       "      <th>2015-01-07</th>\n",
       "      <td>18.421932</td>\n",
       "    </tr>\n",
       "    <tr>\n",
       "      <th>2015-01-08</th>\n",
       "      <td>19.114916</td>\n",
       "    </tr>\n",
       "    <tr>\n",
       "      <th>2015-01-09</th>\n",
       "      <td>19.191919</td>\n",
       "    </tr>\n",
       "    <tr>\n",
       "      <th>2015-01-12</th>\n",
       "      <td>18.951296</td>\n",
       "    </tr>\n",
       "    <tr>\n",
       "      <th>2015-01-13</th>\n",
       "      <td>18.922422</td>\n",
       "    </tr>\n",
       "    <tr>\n",
       "      <th>2015-01-14</th>\n",
       "      <td>18.999420</td>\n",
       "    </tr>\n",
       "    <tr>\n",
       "      <th>2015-01-15</th>\n",
       "      <td>18.864679</td>\n",
       "    </tr>\n",
       "    <tr>\n",
       "      <th>2015-01-16</th>\n",
       "      <td>19.211166</td>\n",
       "    </tr>\n",
       "    <tr>\n",
       "      <th>2015-01-20</th>\n",
       "      <td>19.268909</td>\n",
       "    </tr>\n",
       "    <tr>\n",
       "      <th>2015-01-21</th>\n",
       "      <td>19.538410</td>\n",
       "    </tr>\n",
       "    <tr>\n",
       "      <th>2015-01-22</th>\n",
       "      <td>19.875278</td>\n",
       "    </tr>\n",
       "    <tr>\n",
       "      <th>2015-01-23</th>\n",
       "      <td>19.933031</td>\n",
       "    </tr>\n",
       "    <tr>\n",
       "      <th>2015-01-26</th>\n",
       "      <td>19.846405</td>\n",
       "    </tr>\n",
       "    <tr>\n",
       "      <th>2015-01-27</th>\n",
       "      <td>18.893547</td>\n",
       "    </tr>\n",
       "    <tr>\n",
       "      <th>2015-01-28</th>\n",
       "      <td>18.585550</td>\n",
       "    </tr>\n",
       "    <tr>\n",
       "      <th>2015-01-29</th>\n",
       "      <td>19.037922</td>\n",
       "    </tr>\n",
       "    <tr>\n",
       "      <th>2015-01-30</th>\n",
       "      <td>18.479681</td>\n",
       "    </tr>\n",
       "    <tr>\n",
       "      <th>2015-02-02</th>\n",
       "      <td>18.883926</td>\n",
       "    </tr>\n",
       "    <tr>\n",
       "      <th>2015-02-03</th>\n",
       "      <td>19.355539</td>\n",
       "    </tr>\n",
       "    <tr>\n",
       "      <th>2015-02-04</th>\n",
       "      <td>19.403667</td>\n",
       "    </tr>\n",
       "    <tr>\n",
       "      <th>2015-02-05</th>\n",
       "      <td>19.721281</td>\n",
       "    </tr>\n",
       "    <tr>\n",
       "      <th>2015-02-06</th>\n",
       "      <td>19.634661</td>\n",
       "    </tr>\n",
       "    <tr>\n",
       "      <th>2015-02-09</th>\n",
       "      <td>19.615410</td>\n",
       "    </tr>\n",
       "    <tr>\n",
       "      <th>2015-02-10</th>\n",
       "      <td>20.164024</td>\n",
       "    </tr>\n",
       "    <tr>\n",
       "      <th>2015-02-11</th>\n",
       "      <td>20.029280</td>\n",
       "    </tr>\n",
       "    <tr>\n",
       "      <th>2015-02-12</th>\n",
       "      <td>21.463383</td>\n",
       "    </tr>\n",
       "  </tbody>\n",
       "</table>\n",
       "</div>"
      ],
      "text/plain": [
       "            Adj Close\n",
       "Date                 \n",
       "2014-12-31  19.297794\n",
       "2015-01-02  19.374790\n",
       "2015-01-05  19.047548\n",
       "2015-01-06  18.470057\n",
       "2015-01-07  18.421932\n",
       "2015-01-08  19.114916\n",
       "2015-01-09  19.191919\n",
       "2015-01-12  18.951296\n",
       "2015-01-13  18.922422\n",
       "2015-01-14  18.999420\n",
       "2015-01-15  18.864679\n",
       "2015-01-16  19.211166\n",
       "2015-01-20  19.268909\n",
       "2015-01-21  19.538410\n",
       "2015-01-22  19.875278\n",
       "2015-01-23  19.933031\n",
       "2015-01-26  19.846405\n",
       "2015-01-27  18.893547\n",
       "2015-01-28  18.585550\n",
       "2015-01-29  19.037922\n",
       "2015-01-30  18.479681\n",
       "2015-02-02  18.883926\n",
       "2015-02-03  19.355539\n",
       "2015-02-04  19.403667\n",
       "2015-02-05  19.721281\n",
       "2015-02-06  19.634661\n",
       "2015-02-09  19.615410\n",
       "2015-02-10  20.164024\n",
       "2015-02-11  20.029280\n",
       "2015-02-12  21.463383"
      ]
     },
     "execution_count": 3,
     "metadata": {},
     "output_type": "execute_result"
    }
   ],
   "source": [
    "X_df = data.filter(['Adj Close'])\n",
    "X_df[:30]"
   ]
  },
  {
   "cell_type": "code",
   "execution_count": 4,
   "metadata": {},
   "outputs": [
    {
     "data": {
      "text/plain": [
       "1234"
      ]
     },
     "execution_count": 4,
     "metadata": {},
     "output_type": "execute_result"
    }
   ],
   "source": [
    "train_length = math.ceil(len(X_df)*0.8)\n",
    "train_length"
   ]
  },
  {
   "cell_type": "code",
   "execution_count": 5,
   "metadata": {},
   "outputs": [
    {
     "data": {
      "text/plain": [
       "1542"
      ]
     },
     "execution_count": 5,
     "metadata": {},
     "output_type": "execute_result"
    }
   ],
   "source": [
    "#Normalisation \n",
    "scaler = MinMaxScaler()\n",
    "\n",
    "scaler = scaler.fit(X_df)\n",
    "data_scaled = scaler.transform(X_df)\n",
    "len(data_scaled)"
   ]
  },
  {
   "cell_type": "code",
   "execution_count": 6,
   "metadata": {},
   "outputs": [
    {
     "data": {
      "text/plain": [
       "array([[0.00147256],\n",
       "       [0.00160201],\n",
       "       [0.00105183],\n",
       "       ...,\n",
       "       [0.99465357],\n",
       "       [0.97518442],\n",
       "       [1.        ]])"
      ]
     },
     "execution_count": 6,
     "metadata": {},
     "output_type": "execute_result"
    }
   ],
   "source": [
    "data_scaled"
   ]
  },
  {
   "cell_type": "code",
   "execution_count": 7,
   "metadata": {},
   "outputs": [],
   "source": [
    "#Define the sliding window function\n",
    "def sliding_train(data, seq_len):\n",
    "    xs = []\n",
    "    ys = []\n",
    "    for i in range(seq_len, train_length):\n",
    "        \n",
    "        x = data[i-seq_len:i]\n",
    "        y = data[i]\n",
    "        xs.append(x)\n",
    "        ys.append(y)\n",
    "        \n",
    "    return np.array(xs), np.array(ys)"
   ]
  },
  {
   "cell_type": "code",
   "execution_count": 8,
   "metadata": {},
   "outputs": [],
   "source": [
    "#Define the sliding window function\n",
    "def sliding_test(data, seq_len):\n",
    "    xs = []\n",
    "    ys = []\n",
    "    for i in range(train_length, len(data)):\n",
    "        \n",
    "        x = data[i-seq_len:i]\n",
    "        y = data[i]\n",
    "        xs.append(x)\n",
    "        ys.append(y)\n",
    "        \n",
    "    return np.array(xs), np.array(ys)"
   ]
  },
  {
   "cell_type": "code",
   "execution_count": 9,
   "metadata": {},
   "outputs": [],
   "source": [
    "seq_len = 5\n",
    "\n",
    "X_train, y_train = sliding_train(data_scaled, seq_len)\n",
    "X_test, y_test = sliding_test(data_scaled, seq_len)\n",
    "\n",
    "X_train = torch.from_numpy(X_train).float().view([1, -1, seq_len])\n",
    "y_train = torch.from_numpy(y_train).float()\n",
    "\n",
    "X_test = torch.from_numpy(X_test).float().view([1, -1, seq_len])\n",
    "y_test = torch.from_numpy(y_test).float()"
   ]
  },
  {
   "cell_type": "code",
   "execution_count": 10,
   "metadata": {},
   "outputs": [
    {
     "name": "stdout",
     "output_type": "stream",
     "text": [
      "torch.Size([1, 1229, 5]) torch.Size([1229, 1]) torch.Size([1, 308, 5]) torch.Size([308, 1])\n"
     ]
    }
   ],
   "source": [
    "print(X_train.shape, y_train.shape, X_test.shape, y_test.shape)"
   ]
  },
  {
   "cell_type": "code",
   "execution_count": 11,
   "metadata": {},
   "outputs": [
    {
     "data": {
      "text/plain": [
       "tensor([[[1.4726e-03, 1.6020e-03, 1.0518e-03, 8.0910e-05, 0.0000e+00],\n",
       "         [1.6020e-03, 1.0518e-03, 8.0910e-05, 0.0000e+00, 1.1651e-03],\n",
       "         [1.0518e-03, 8.0910e-05, 0.0000e+00, 1.1651e-03, 1.2946e-03],\n",
       "         ...,\n",
       "         [3.1885e-01, 3.2090e-01, 3.1151e-01, 3.2508e-01, 3.1788e-01],\n",
       "         [3.2090e-01, 3.1151e-01, 3.2508e-01, 3.1788e-01, 3.2323e-01],\n",
       "         [3.1151e-01, 3.2508e-01, 3.1788e-01, 3.2323e-01, 3.2156e-01]]])"
      ]
     },
     "execution_count": 11,
     "metadata": {},
     "output_type": "execute_result"
    }
   ],
   "source": [
    "X_train"
   ]
  },
  {
   "cell_type": "code",
   "execution_count": 12,
   "metadata": {},
   "outputs": [],
   "source": [
    "# X_test"
   ]
  },
  {
   "cell_type": "code",
   "execution_count": 13,
   "metadata": {},
   "outputs": [
    {
     "data": {
      "text/plain": [
       "tensor([[0.0012],\n",
       "        [0.0013],\n",
       "        [0.0009],\n",
       "        [0.0008],\n",
       "        [0.0010]])"
      ]
     },
     "execution_count": 13,
     "metadata": {},
     "output_type": "execute_result"
    }
   ],
   "source": [
    "y_train[:5]"
   ]
  },
  {
   "cell_type": "code",
   "execution_count": 14,
   "metadata": {},
   "outputs": [
    {
     "data": {
      "text/plain": [
       "tensor([[0.3401],\n",
       "        [0.3330],\n",
       "        [0.3353],\n",
       "        [0.3328],\n",
       "        [0.3203]])"
      ]
     },
     "execution_count": 14,
     "metadata": {},
     "output_type": "execute_result"
    }
   ],
   "source": [
    "y_test[:5]"
   ]
  },
  {
   "cell_type": "markdown",
   "metadata": {},
   "source": [
    "### Buiding a LSTM model"
   ]
  },
  {
   "cell_type": "code",
   "execution_count": 15,
   "metadata": {},
   "outputs": [],
   "source": [
    "class MYLSTM(nn.Module):\n",
    "    def __init__(self, output_size, input_size, hidden_size, num_layers, batch_size):\n",
    "        super(MYLSTM, self).__init__()   #Initiate the new instance usring the __init__method of the super class\n",
    "        \n",
    "        self.num_classes = output_size    #number of output classer, typically a for regression\n",
    "        self.input_size = input_size     #number of expected features in the input x\n",
    "        self.hidden_size = hidden_size    #number of features in the hidden state h\n",
    "        self.num_layers = num_layers      #number of recurrent layers\n",
    "        self.batch_size = batch_size     #number of samples\n",
    "        \n",
    "        #Deploy the nn.LSTM as the RNN\n",
    "        \n",
    "        #Set batch_first=True to dictate the dimensions of the input tensor\n",
    "        self.lstm = nn.LSTM(input_size=input_size, hidden_size=hidden_size, num_layers=num_layers, batch_first=True)\n",
    "        self.mlp_1 = nn.Linear(hidden_size,128)\n",
    "        self.mlp_2 = nn.Linear(128, output_size)\n",
    "        \n",
    "        #Use ReLU as the activation function\n",
    "        self.relu = nn.ReLU()\n",
    "        \n",
    "    #Define the forward propagation that takes the input tensor as input\n",
    "    def forward(self, x):\n",
    "        h_0 = torch.zeros(self.num_layers, self.batch_size, self.hidden_size)\n",
    "        c_0 = torch.zeros(self.num_layers, self.batch_size, self.hidden_size)\n",
    "        \n",
    "        output, (h_n, c_n) = self.lstm(x, (h_0, c_0))\n",
    "        \n",
    "        out = output.view(-1, self.hidden_size)\n",
    "        \n",
    "        out = self.relu(out)\n",
    "        \n",
    "        #Connect to the fully connected layers to generate the output\n",
    "        out = self.mlp_1(out)\n",
    "        out = self.relu(out)\n",
    "        out = self.mlp_2(out)\n",
    "        \n",
    "        return out"
   ]
  },
  {
   "cell_type": "code",
   "execution_count": 16,
   "metadata": {},
   "outputs": [],
   "source": [
    "input_dim = seq_len   #number of features\n",
    "hidden_dim = 64   #number of hidden states\n",
    "num_layers = 2    #number of LSTM layers\n",
    "output_dim = 1    #number of output classes\n",
    "batch_size =1      #number of sample\n",
    "num_epochs = 1000\n",
    "learning_rate = 0.01"
   ]
  },
  {
   "cell_type": "code",
   "execution_count": 17,
   "metadata": {},
   "outputs": [
    {
     "name": "stdout",
     "output_type": "stream",
     "text": [
      "MYLSTM(\n",
      "  (lstm): LSTM(5, 64, num_layers=2, batch_first=True)\n",
      "  (mlp_1): Linear(in_features=64, out_features=128, bias=True)\n",
      "  (mlp_2): Linear(in_features=128, out_features=1, bias=True)\n",
      "  (relu): ReLU()\n",
      ")\n"
     ]
    }
   ],
   "source": [
    "model = MYLSTM(output_dim, input_dim, hidden_dim, num_layers, batch_size)\n",
    "print(model)"
   ]
  },
  {
   "cell_type": "code",
   "execution_count": 18,
   "metadata": {},
   "outputs": [],
   "source": [
    "MSE = torch.nn.MSELoss()\n",
    "optimizer = torch.optim.Adam(model.parameters(), lr=learning_rate)"
   ]
  },
  {
   "cell_type": "code",
   "execution_count": 19,
   "metadata": {},
   "outputs": [
    {
     "data": {
      "application/vnd.jupyter.widget-view+json": {
       "model_id": "f5ece582493d4f248c2175e17ab86366",
       "version_major": 2,
       "version_minor": 0
      },
      "text/plain": [
       "LSTM RNN Training:   0%|          | 0/1000 [00:00<?, ?it/s]"
      ]
     },
     "metadata": {},
     "output_type": "display_data"
    },
    {
     "name": "stdout",
     "output_type": "stream",
     "text": [
      "Epoch: 100, loss:0.000152\n",
      "Epoch: 200, loss:0.000110\n",
      "Epoch: 300, loss:0.000109\n",
      "Epoch: 400, loss:0.000079\n",
      "Epoch: 500, loss:0.000061\n",
      "Epoch: 600, loss:0.000079\n",
      "Epoch: 700, loss:0.000050\n",
      "Epoch: 800, loss:0.000056\n",
      "Epoch: 900, loss:0.000045\n",
      "Epoch: 1000, loss:0.000044\n"
     ]
    }
   ],
   "source": [
    "hist = np.zeros(num_epochs)\n",
    "for t in tqdm(range(num_epochs), desc='LSTM RNN Training'):\n",
    "    out = model(X_train)    #Forward propagation\n",
    "    loss = MSE(out, y_train)\n",
    "    \n",
    "        \n",
    "    if t % 100 == 99:\n",
    "        print(\"Epoch: %d, loss:%f\"%(t+1, loss.item()))\n",
    "    hist[t] = loss.item()\n",
    "      \n",
    "    optimizer.zero_grad()                         #clear the gradients before backward propagation\n",
    "    loss.backward(retain_graph=True)              #Back propagation  \n",
    "    \n",
    "    optimizer.step()                               #Impove from loss by updating all parameters\n"
   ]
  },
  {
   "cell_type": "code",
   "execution_count": 20,
   "metadata": {},
   "outputs": [
    {
     "data": {
      "image/png": "[encoded data removed]",
      "text/plain": [
       "<Figure size 432x288 with 1 Axes>"
      ]
     },
     "metadata": {},
     "output_type": "display_data"
    },
    {
     "data": {
      "image/png": "[encoded data removed]",
      "text/plain": [
       "<Figure size 432x288 with 1 Axes>"
      ]
     },
     "metadata": {},
     "output_type": "display_data"
    }
   ],
   "source": [
    "# Plot preds and performance\n",
    "#####################\n",
    "\n",
    "plt.plot(out.detach().numpy(), label=\"Predictions\")\n",
    "plt.plot(y_train.detach().numpy(), label=\"Actual Prices\")\n",
    "plt.legend()\n",
    "plt.show()\n",
    "\n",
    "plt.plot(hist, label=\"Training loss\")\n",
    "plt.legend()\n",
    "plt.show()"
   ]
  },
  {
   "cell_type": "markdown",
   "metadata": {},
   "source": [
    "## LSTM RNN Testing"
   ]
  },
  {
   "cell_type": "code",
   "execution_count": 21,
   "metadata": {},
   "outputs": [
    {
     "data": {
      "text/html": [
       "<div>\n",
       "<style scoped>\n",
       "    .dataframe tbody tr th:only-of-type {\n",
       "        vertical-align: middle;\n",
       "    }\n",
       "\n",
       "    .dataframe tbody tr th {\n",
       "        vertical-align: top;\n",
       "    }\n",
       "\n",
       "    .dataframe thead th {\n",
       "        text-align: right;\n",
       "    }\n",
       "</style>\n",
       "<table border=\"1\" class=\"dataframe\">\n",
       "  <thead>\n",
       "    <tr style=\"text-align: right;\">\n",
       "      <th></th>\n",
       "      <th>Actual</th>\n",
       "      <th>Predicted</th>\n",
       "    </tr>\n",
       "    <tr>\n",
       "      <th>Date</th>\n",
       "      <th></th>\n",
       "      <th></th>\n",
       "    </tr>\n",
       "  </thead>\n",
       "  <tbody>\n",
       "    <tr>\n",
       "      <th>2015-01-08</th>\n",
       "      <td>19.114916</td>\n",
       "      <td>NaN</td>\n",
       "    </tr>\n",
       "    <tr>\n",
       "      <th>2015-01-09</th>\n",
       "      <td>19.191919</td>\n",
       "      <td>NaN</td>\n",
       "    </tr>\n",
       "    <tr>\n",
       "      <th>2015-01-12</th>\n",
       "      <td>18.951296</td>\n",
       "      <td>NaN</td>\n",
       "    </tr>\n",
       "    <tr>\n",
       "      <th>2015-01-13</th>\n",
       "      <td>18.922422</td>\n",
       "      <td>NaN</td>\n",
       "    </tr>\n",
       "    <tr>\n",
       "      <th>2015-01-14</th>\n",
       "      <td>18.999420</td>\n",
       "      <td>NaN</td>\n",
       "    </tr>\n",
       "    <tr>\n",
       "      <th>...</th>\n",
       "      <td>...</td>\n",
       "      <td>...</td>\n",
       "    </tr>\n",
       "    <tr>\n",
       "      <th>2021-02-09</th>\n",
       "      <td>570.530029</td>\n",
       "      <td>NaN</td>\n",
       "    </tr>\n",
       "    <tr>\n",
       "      <th>2021-02-10</th>\n",
       "      <td>590.570007</td>\n",
       "      <td>NaN</td>\n",
       "    </tr>\n",
       "    <tr>\n",
       "      <th>2021-02-11</th>\n",
       "      <td>610.030029</td>\n",
       "      <td>NaN</td>\n",
       "    </tr>\n",
       "    <tr>\n",
       "      <th>2021-02-12</th>\n",
       "      <td>598.450012</td>\n",
       "      <td>NaN</td>\n",
       "    </tr>\n",
       "    <tr>\n",
       "      <th>2021-02-16</th>\n",
       "      <td>613.210022</td>\n",
       "      <td>NaN</td>\n",
       "    </tr>\n",
       "  </tbody>\n",
       "</table>\n",
       "<p>1537 rows × 2 columns</p>\n",
       "</div>"
      ],
      "text/plain": [
       "                Actual Predicted\n",
       "Date                            \n",
       "2015-01-08   19.114916       NaN\n",
       "2015-01-09   19.191919       NaN\n",
       "2015-01-12   18.951296       NaN\n",
       "2015-01-13   18.922422       NaN\n",
       "2015-01-14   18.999420       NaN\n",
       "...                ...       ...\n",
       "2021-02-09  570.530029       NaN\n",
       "2021-02-10  590.570007       NaN\n",
       "2021-02-11  610.030029       NaN\n",
       "2021-02-12  598.450012       NaN\n",
       "2021-02-16  613.210022       NaN\n",
       "\n",
       "[1537 rows x 2 columns]"
      ]
     },
     "execution_count": 21,
     "metadata": {},
     "output_type": "execute_result"
    }
   ],
   "source": [
    "#Creating dataframe storing Actual and Predicted values for visualization\n",
    "y = pd.DataFrame(index=X_df.index[seq_len:], columns=['Actual', 'Predicted'])\n",
    "y['Actual'] = X_df[seq_len:]\n",
    "y"
   ]
  },
  {
   "cell_type": "markdown",
   "metadata": {},
   "source": [
    "### Perform prediction using trained LSTM RNN"
   ]
  },
  {
   "cell_type": "code",
   "execution_count": 22,
   "metadata": {},
   "outputs": [],
   "source": [
    "y_train_pred = model(X_train)                                            #Forward pass on Training Dataset/Tensor\n",
    "y_train_pred_tsf = scaler.inverse_transform(y_train_pred.detach().numpy())  #Numpy conversion followed by reverse normalization\n",
    "\n",
    "y.loc[y.index[:train_length-seq_len],'Predicted'] = y_train_pred_tsf"
   ]
  },
  {
   "cell_type": "code",
   "execution_count": 23,
   "metadata": {},
   "outputs": [
    {
     "data": {
      "text/plain": [
       "array([[25.19756  ],\n",
       "       [11.4719715],\n",
       "       [15.179428 ],\n",
       "       [19.56775  ],\n",
       "       [21.01314  ]], dtype=float32)"
      ]
     },
     "execution_count": 23,
     "metadata": {},
     "output_type": "execute_result"
    }
   ],
   "source": [
    "y_train_pred_tsf[:5]"
   ]
  },
  {
   "cell_type": "code",
   "execution_count": 24,
   "metadata": {},
   "outputs": [
    {
     "data": {
      "text/plain": [
       "array([[247.38493],\n",
       "       [292.89056],\n",
       "       [245.55038],\n",
       "       [198.47298],\n",
       "       [196.84615]], dtype=float32)"
      ]
     },
     "execution_count": 24,
     "metadata": {},
     "output_type": "execute_result"
    }
   ],
   "source": [
    "y_test_pred = model(X_test)                                            #Forward pass on Training Dataset/Tensor\n",
    "y_test_pred_tsf = scaler.inverse_transform(y_test_pred.detach().numpy())  #Numpy conversion followed by reverse normalization\n",
    "\n",
    "y.loc[y.index[train_length-seq_len:],'Predicted'] = y_test_pred_tsf\n",
    "y_test_pred_tsf[:5]"
   ]
  },
  {
   "cell_type": "code",
   "execution_count": 25,
   "metadata": {},
   "outputs": [
    {
     "data": {
      "text/html": [
       "<div>\n",
       "<style scoped>\n",
       "    .dataframe tbody tr th:only-of-type {\n",
       "        vertical-align: middle;\n",
       "    }\n",
       "\n",
       "    .dataframe tbody tr th {\n",
       "        vertical-align: top;\n",
       "    }\n",
       "\n",
       "    .dataframe thead th {\n",
       "        text-align: right;\n",
       "    }\n",
       "</style>\n",
       "<table border=\"1\" class=\"dataframe\">\n",
       "  <thead>\n",
       "    <tr style=\"text-align: right;\">\n",
       "      <th></th>\n",
       "      <th>Actual</th>\n",
       "      <th>Predicted</th>\n",
       "    </tr>\n",
       "    <tr>\n",
       "      <th>Date</th>\n",
       "      <th></th>\n",
       "      <th></th>\n",
       "    </tr>\n",
       "  </thead>\n",
       "  <tbody>\n",
       "    <tr>\n",
       "      <th>2015-01-08</th>\n",
       "      <td>19.114916</td>\n",
       "      <td>25.197559</td>\n",
       "    </tr>\n",
       "    <tr>\n",
       "      <th>2015-01-09</th>\n",
       "      <td>19.191919</td>\n",
       "      <td>11.471972</td>\n",
       "    </tr>\n",
       "    <tr>\n",
       "      <th>2015-01-12</th>\n",
       "      <td>18.951296</td>\n",
       "      <td>15.179428</td>\n",
       "    </tr>\n",
       "    <tr>\n",
       "      <th>2015-01-13</th>\n",
       "      <td>18.922422</td>\n",
       "      <td>19.567751</td>\n",
       "    </tr>\n",
       "    <tr>\n",
       "      <th>2015-01-14</th>\n",
       "      <td>18.999420</td>\n",
       "      <td>21.01314</td>\n",
       "    </tr>\n",
       "    <tr>\n",
       "      <th>...</th>\n",
       "      <td>...</td>\n",
       "      <td>...</td>\n",
       "    </tr>\n",
       "    <tr>\n",
       "      <th>2021-02-09</th>\n",
       "      <td>570.530029</td>\n",
       "      <td>569.286011</td>\n",
       "    </tr>\n",
       "    <tr>\n",
       "      <th>2021-02-10</th>\n",
       "      <td>590.570007</td>\n",
       "      <td>547.76062</td>\n",
       "    </tr>\n",
       "    <tr>\n",
       "      <th>2021-02-11</th>\n",
       "      <td>610.030029</td>\n",
       "      <td>582.488586</td>\n",
       "    </tr>\n",
       "    <tr>\n",
       "      <th>2021-02-12</th>\n",
       "      <td>598.450012</td>\n",
       "      <td>590.855591</td>\n",
       "    </tr>\n",
       "    <tr>\n",
       "      <th>2021-02-16</th>\n",
       "      <td>613.210022</td>\n",
       "      <td>577.912903</td>\n",
       "    </tr>\n",
       "  </tbody>\n",
       "</table>\n",
       "<p>1537 rows × 2 columns</p>\n",
       "</div>"
      ],
      "text/plain": [
       "                Actual   Predicted\n",
       "Date                              \n",
       "2015-01-08   19.114916   25.197559\n",
       "2015-01-09   19.191919   11.471972\n",
       "2015-01-12   18.951296   15.179428\n",
       "2015-01-13   18.922422   19.567751\n",
       "2015-01-14   18.999420    21.01314\n",
       "...                ...         ...\n",
       "2021-02-09  570.530029  569.286011\n",
       "2021-02-10  590.570007   547.76062\n",
       "2021-02-11  610.030029  582.488586\n",
       "2021-02-12  598.450012  590.855591\n",
       "2021-02-16  613.210022  577.912903\n",
       "\n",
       "[1537 rows x 2 columns]"
      ]
     },
     "execution_count": 25,
     "metadata": {},
     "output_type": "execute_result"
    }
   ],
   "source": [
    "y"
   ]
  },
  {
   "cell_type": "code",
   "execution_count": 26,
   "metadata": {},
   "outputs": [
    {
     "data": {
      "image/png": "[encoded data removed]",
      "text/plain": [
       "<Figure size 864x576 with 1 Axes>"
      ]
     },
     "metadata": {},
     "output_type": "display_data"
    }
   ],
   "source": [
    "#Handle datetime conversions between pandas and matplotlib\n",
    "from pandas.plotting import register_matplotlib_converters\n",
    "register_matplotlib_converters()\n",
    "\n",
    "plt.figure(figsize=(12,8))\n",
    "\n",
    "plt.plot(y.index.values, y['Actual'], label='Actual Price')    #Actual Price  plot\n",
    "plt.plot(y.index.values, y['Predicted'], label='Predicted Price')     #Predicted price plot\n",
    "plt.title('NVIDIA stock price ')\n",
    "plt.legend()\n",
    "plt.axvline(x=y.index.values[1229], c='r', linestyle='--')\n",
    "plt.show()"
   ]
  },
  {
   "cell_type": "code",
   "execution_count": 27,
   "metadata": {},
   "outputs": [
    {
     "name": "stdout",
     "output_type": "stream",
     "text": [
      "MSE(Training):0.03762690508936259\n",
      "MSE(Testing):0.04476409650664158\n"
     ]
    }
   ],
   "source": [
    "from sklearn.metrics import mean_squared_error\n",
    "print(\"MSE(Training):{}\".format(mean_squared_error(\n",
    "    y.loc[y.index[:train_length], 'Actual'], y.loc[y.index[:train_length],'Predicted'], squared=False)/\n",
    "    y.loc[y.index[:train_length], 'Actual'].mean()))\n",
    "\n",
    "print(\"MSE(Testing):{}\".format(mean_squared_error(\n",
    "    y.loc[y.index[train_length:], 'Actual'], y.loc[y.index[train_length:],'Predicted'], squared=False)/\n",
    "    y.loc[y.index[train_length:], 'Actual'].mean()))"
   ]
  },
  {
   "cell_type": "code",
   "execution_count": 28,
   "metadata": {},
   "outputs": [
    {
     "data": {
      "text/plain": [
       "17.860619601533205"
      ]
     },
     "execution_count": 28,
     "metadata": {},
     "output_type": "execute_result"
    }
   ],
   "source": [
    "MSE_Testing = mean_squared_error(y.loc[y.index[train_length:], 'Actual'], y.loc[y.index[train_length:],'Predicted'], squared=False)\n",
    "MSE_Testing     "
   ]
  },
  {
   "cell_type": "markdown",
   "metadata": {},
   "source": [
    "### Evaluating and Tuning"
   ]
  },
  {
   "cell_type": "code",
   "execution_count": 29,
   "metadata": {},
   "outputs": [],
   "source": [
    "# from ray import tune\n",
    "\n",
    "\n",
    "# def objective(step, alpha, beta):\n",
    "#     return (0.1 + alpha * step / 100)**(-1) + beta * 0.1\n",
    "\n",
    "\n",
    "# def training_function(config):\n",
    "#     # Hyperparameters\n",
    "#     alpha, beta = config[\"alpha\"], config[\"beta\"]\n",
    "#     for step in range(10):\n",
    "#         # Iterative training function - can be any arbitrary training procedure.\n",
    "#         intermediate_score = objective(step, alpha, beta)\n",
    "#         # Feed the score back back to Tune.\n",
    "#         tune.report(mean_loss=intermediate_score)\n",
    "\n",
    "\n",
    "# analysis = tune.run(\n",
    "#     training_function,\n",
    "#     config={\n",
    "#         \"alpha\": tune.grid_search([0.001, 0.01, 0.1]),\n",
    "#         \"beta\": tune.choice([1, 2, 3])\n",
    "#     })\n",
    "\n",
    "# print(\"Best config: \", analysis.get_best_config(\n",
    "#     metric=\"mean_loss\", mode=\"min\"))\n",
    "\n",
    "# # Get a dataframe for analyzing trial results.\n",
    "# df = analysis.results_df"
   ]
  },
  {
   "cell_type": "code",
   "execution_count": 30,
   "metadata": {},
   "outputs": [],
   "source": [
    "# import ray\n",
    "# import time\n",
    "\n",
    "# ray.init(num_cpus=4, num_gpus=1)\n",
    "\n",
    "# @ray.remote(num_gpus=0.25)\n",
    "# def f():\n",
    "#     time.sleep(1)\n",
    "\n",
    "# # The four tasks created here can execute concurrently.\n",
    "# ray.get([f.remote() for _ in range(4)])"
   ]
  },
  {
   "cell_type": "code",
   "execution_count": null,
   "metadata": {},
   "outputs": [],
   "source": []
  }
 ],
 "metadata": {
  "kernelspec": {
   "display_name": "Python 3",
   "language": "python",
   "name": "python3"
  },
  "language_info": {
   "codemirror_mode": {
    "name": "ipython",
    "version": 3
   },
   "file_extension": ".py",
   "mimetype": "text/x-python",
   "name": "python",
   "nbconvert_exporter": "python",
   "pygments_lexer": "ipython3",
   "version": "3.6.12"
  }
 },
 "nbformat": 4,
 "nbformat_minor": 4
}
