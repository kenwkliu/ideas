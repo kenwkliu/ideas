{
 "cells": [
  {
   "cell_type": "code",
   "execution_count": null,
   "id": "considered-stewart",
   "metadata": {},
   "outputs": [],
   "source": [
    "import os\n",
    "import ray\n",
    "\n",
    "ray.init(num_cpus=8, num_gpus=1)\n",
    "\n",
    "# @ray.remote(num_gpus=1)\n",
    "# def use_gpu():\n",
    "#     print(\"ray.get_gpu_ids(): {}\".format(ray.get_gpu_ids()))\n",
    "#     print(\"CUDA_VISIBLE_DEVICES: {}\".format(os.environ[\"CUDA_VISIBLE_DEVICES\"]))\n",
    "    \n",
    "def objective(seq_len, hidden_dim, learning_rate):\n",
    "    mse_testing = lstm_model(seq_len, hidden_dim, learning_rate)\n",
    "    return mse_testing\n",
    "\n",
    "\n",
    "def training_function(config):\n",
    "    # Hyperparameters\n",
    "    seq_len, hidden_dim, learning_rate = config[\"seq_len\"], config[\"hidden_dim\"], config[\"learning_rate\"]\n",
    "    for i in range(5):\n",
    "        # Iterative training function - can be any arbitrary training procedure.\n",
    "        intermediate_score = objective(seq_len, hidden_dim, learning_rate)\n",
    "        # Feed the score back back to Tune.\n",
    "        tune.report(mean_loss=intermediate_score)\n",
    "\n",
    "analysis = tune.run(\n",
    "    training_function, \n",
    "    config={\n",
    "        \"hidden_dim\": tune.grid_search([8, 16, 32]),\n",
    "        \"learning_rate\": tune.grid_search([0.01,0.01, 0.001]),\n",
    "        \"seq_len\": tune.grid_search([5, 10, 15])})\n",
    "\n",
    "print(\"Best config: \", analysis.get_best_config(\n",
    "    metric=\"mean_loss\", mode=\"min\"))\n",
    "\n",
    "# Get a dataframe for analyzing trial results.\n",
    "df = analysis.results_df"
   ]
  }
 ],
 "metadata": {
  "kernelspec": {
   "display_name": "Python 3",
   "language": "python",
   "name": "python3"
  },
  "language_info": {
   "codemirror_mode": {
    "name": "ipython",
    "version": 3
   },
   "file_extension": ".py",
   "mimetype": "text/x-python",
   "name": "python",
   "nbconvert_exporter": "python",
   "pygments_lexer": "ipython3",
   "version": "3.7.9"
  }
 },
 "nbformat": 4,
 "nbformat_minor": 5
}
