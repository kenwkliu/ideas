{
 "cells": [
  {
   "cell_type": "code",
   "execution_count": 1,
   "id": "666f5a4a-1ba4-4b15-b6e2-50a4b4854f8c",
   "metadata": {},
   "outputs": [
    {
     "name": "stdout",
     "output_type": "stream",
     "text": [
      "Requirement already satisfied: streamlit in c:\\users\\jm\\anaconda3\\lib\\site-packages (1.37.1)\n",
      "Requirement already satisfied: altair<6,>=4.0 in c:\\users\\jm\\anaconda3\\lib\\site-packages (from streamlit) (5.0.1)\n",
      "Requirement already satisfied: blinker<2,>=1.0.0 in c:\\users\\jm\\anaconda3\\lib\\site-packages (from streamlit) (1.6.2)\n",
      "Requirement already satisfied: cachetools<6,>=4.0 in c:\\users\\jm\\anaconda3\\lib\\site-packages (from streamlit) (5.3.3)\n",
      "Requirement already satisfied: click<9,>=7.0 in c:\\users\\jm\\anaconda3\\lib\\site-packages (from streamlit) (8.1.7)\n",
      "Requirement already satisfied: numpy<3,>=1.20 in c:\\users\\jm\\anaconda3\\lib\\site-packages (from streamlit) (1.26.4)\n",
      "Requirement already satisfied: packaging<25,>=20 in c:\\users\\jm\\anaconda3\\lib\\site-packages (from streamlit) (24.1)\n",
      "Requirement already satisfied: pandas<3,>=1.3.0 in c:\\users\\jm\\anaconda3\\lib\\site-packages (from streamlit) (2.2.2)\n",
      "Requirement already satisfied: pillow<11,>=7.1.0 in c:\\users\\jm\\anaconda3\\lib\\site-packages (from streamlit) (10.4.0)\n",
      "Requirement already satisfied: protobuf<6,>=3.20 in c:\\users\\jm\\anaconda3\\lib\\site-packages (from streamlit) (4.25.3)\n",
      "Requirement already satisfied: pyarrow>=7.0 in c:\\users\\jm\\anaconda3\\lib\\site-packages (from streamlit) (16.1.0)\n",
      "Requirement already satisfied: requests<3,>=2.27 in c:\\users\\jm\\anaconda3\\lib\\site-packages (from streamlit) (2.32.3)\n",
      "Requirement already satisfied: rich<14,>=10.14.0 in c:\\users\\jm\\anaconda3\\lib\\site-packages (from streamlit) (13.7.1)\n",
      "Requirement already satisfied: tenacity<9,>=8.1.0 in c:\\users\\jm\\anaconda3\\lib\\site-packages (from streamlit) (8.2.3)\n",
      "Requirement already satisfied: toml<2,>=0.10.1 in c:\\users\\jm\\anaconda3\\lib\\site-packages (from streamlit) (0.10.2)\n",
      "Requirement already satisfied: typing-extensions<5,>=4.3.0 in c:\\users\\jm\\anaconda3\\lib\\site-packages (from streamlit) (4.11.0)\n",
      "Requirement already satisfied: gitpython!=3.1.19,<4,>=3.0.7 in c:\\users\\jm\\anaconda3\\lib\\site-packages (from streamlit) (3.1.43)\n",
      "Requirement already satisfied: pydeck<1,>=0.8.0b4 in c:\\users\\jm\\anaconda3\\lib\\site-packages (from streamlit) (0.8.0)\n",
      "Requirement already satisfied: tornado<7,>=6.0.3 in c:\\users\\jm\\anaconda3\\lib\\site-packages (from streamlit) (6.4.1)\n",
      "Requirement already satisfied: watchdog<5,>=2.1.5 in c:\\users\\jm\\anaconda3\\lib\\site-packages (from streamlit) (4.0.1)\n",
      "Requirement already satisfied: jinja2 in c:\\users\\jm\\anaconda3\\lib\\site-packages (from altair<6,>=4.0->streamlit) (3.1.4)\n",
      "Requirement already satisfied: jsonschema>=3.0 in c:\\users\\jm\\anaconda3\\lib\\site-packages (from altair<6,>=4.0->streamlit) (4.23.0)\n",
      "Requirement already satisfied: toolz in c:\\users\\jm\\anaconda3\\lib\\site-packages (from altair<6,>=4.0->streamlit) (0.12.0)\n",
      "Requirement already satisfied: colorama in c:\\users\\jm\\anaconda3\\lib\\site-packages (from click<9,>=7.0->streamlit) (0.4.6)\n",
      "Requirement already satisfied: gitdb<5,>=4.0.1 in c:\\users\\jm\\anaconda3\\lib\\site-packages (from gitpython!=3.1.19,<4,>=3.0.7->streamlit) (4.0.7)\n",
      "Requirement already satisfied: python-dateutil>=2.8.2 in c:\\users\\jm\\anaconda3\\lib\\site-packages (from pandas<3,>=1.3.0->streamlit) (2.9.0.post0)\n",
      "Requirement already satisfied: pytz>=2020.1 in c:\\users\\jm\\anaconda3\\lib\\site-packages (from pandas<3,>=1.3.0->streamlit) (2024.1)\n",
      "Requirement already satisfied: tzdata>=2022.7 in c:\\users\\jm\\anaconda3\\lib\\site-packages (from pandas<3,>=1.3.0->streamlit) (2023.3)\n",
      "Requirement already satisfied: charset-normalizer<4,>=2 in c:\\users\\jm\\anaconda3\\lib\\site-packages (from requests<3,>=2.27->streamlit) (3.3.2)\n",
      "Requirement already satisfied: idna<4,>=2.5 in c:\\users\\jm\\anaconda3\\lib\\site-packages (from requests<3,>=2.27->streamlit) (3.7)\n",
      "Requirement already satisfied: urllib3<3,>=1.21.1 in c:\\users\\jm\\anaconda3\\lib\\site-packages (from requests<3,>=2.27->streamlit) (2.2.3)\n",
      "Requirement already satisfied: certifi>=2017.4.17 in c:\\users\\jm\\anaconda3\\lib\\site-packages (from requests<3,>=2.27->streamlit) (2025.1.31)\n",
      "Requirement already satisfied: markdown-it-py>=2.2.0 in c:\\users\\jm\\anaconda3\\lib\\site-packages (from rich<14,>=10.14.0->streamlit) (2.2.0)\n",
      "Requirement already satisfied: pygments<3.0.0,>=2.13.0 in c:\\users\\jm\\anaconda3\\lib\\site-packages (from rich<14,>=10.14.0->streamlit) (2.15.1)\n",
      "Requirement already satisfied: smmap<5,>=3.0.1 in c:\\users\\jm\\anaconda3\\lib\\site-packages (from gitdb<5,>=4.0.1->gitpython!=3.1.19,<4,>=3.0.7->streamlit) (4.0.0)\n",
      "Requirement already satisfied: MarkupSafe>=2.0 in c:\\users\\jm\\anaconda3\\lib\\site-packages (from jinja2->altair<6,>=4.0->streamlit) (2.1.3)\n",
      "Requirement already satisfied: attrs>=22.2.0 in c:\\users\\jm\\anaconda3\\lib\\site-packages (from jsonschema>=3.0->altair<6,>=4.0->streamlit) (25.3.0)\n",
      "Requirement already satisfied: jsonschema-specifications>=2023.03.6 in c:\\users\\jm\\anaconda3\\lib\\site-packages (from jsonschema>=3.0->altair<6,>=4.0->streamlit) (2023.7.1)\n",
      "Requirement already satisfied: referencing>=0.28.4 in c:\\users\\jm\\anaconda3\\lib\\site-packages (from jsonschema>=3.0->altair<6,>=4.0->streamlit) (0.30.2)\n",
      "Requirement already satisfied: rpds-py>=0.7.1 in c:\\users\\jm\\anaconda3\\lib\\site-packages (from jsonschema>=3.0->altair<6,>=4.0->streamlit) (0.10.6)\n",
      "Requirement already satisfied: mdurl~=0.1 in c:\\users\\jm\\anaconda3\\lib\\site-packages (from markdown-it-py>=2.2.0->rich<14,>=10.14.0->streamlit) (0.1.0)\n",
      "Requirement already satisfied: six>=1.5 in c:\\users\\jm\\anaconda3\\lib\\site-packages (from python-dateutil>=2.8.2->pandas<3,>=1.3.0->streamlit) (1.16.0)\n"
     ]
    },
    {
     "data": {
      "image/png": "[encoded data removed]",
      "text/plain": [
       "<Figure size 800x600 with 1 Axes>"
      ]
     },
     "metadata": {},
     "output_type": "display_data"
    },
    {
     "name": "stdout",
     "output_type": "stream",
     "text": [
      "\n",
      "--- Fold 1 ---\n"
     ]
    },
    {
     "name": "stderr",
     "output_type": "stream",
     "text": [
      "C:\\Users\\JM\\anaconda3\\Lib\\site-packages\\keras\\src\\layers\\core\\dense.py:87: UserWarning: Do not pass an `input_shape`/`input_dim` argument to a layer. When using Sequential models, prefer using an `Input(shape)` object as the first layer in the model instead.\n",
      "  super().__init__(activity_regularizer=activity_regularizer, **kwargs)\n"
     ]
    },
    {
     "name": "stdout",
     "output_type": "stream",
     "text": [
      "Validation Accuracy: 0.98\n",
      "\n",
      "--- Fold 2 ---\n"
     ]
    },
    {
     "name": "stderr",
     "output_type": "stream",
     "text": [
      "C:\\Users\\JM\\anaconda3\\Lib\\site-packages\\keras\\src\\layers\\core\\dense.py:87: UserWarning: Do not pass an `input_shape`/`input_dim` argument to a layer. When using Sequential models, prefer using an `Input(shape)` object as the first layer in the model instead.\n",
      "  super().__init__(activity_regularizer=activity_regularizer, **kwargs)\n"
     ]
    },
    {
     "name": "stdout",
     "output_type": "stream",
     "text": [
      "Validation Accuracy: 0.99\n",
      "\n",
      "--- Fold 3 ---\n"
     ]
    },
    {
     "name": "stderr",
     "output_type": "stream",
     "text": [
      "C:\\Users\\JM\\anaconda3\\Lib\\site-packages\\keras\\src\\layers\\core\\dense.py:87: UserWarning: Do not pass an `input_shape`/`input_dim` argument to a layer. When using Sequential models, prefer using an `Input(shape)` object as the first layer in the model instead.\n",
      "  super().__init__(activity_regularizer=activity_regularizer, **kwargs)\n"
     ]
    },
    {
     "name": "stdout",
     "output_type": "stream",
     "text": [
      "Validation Accuracy: 0.99\n",
      "\n",
      "--- Fold 4 ---\n"
     ]
    },
    {
     "name": "stderr",
     "output_type": "stream",
     "text": [
      "C:\\Users\\JM\\anaconda3\\Lib\\site-packages\\keras\\src\\layers\\core\\dense.py:87: UserWarning: Do not pass an `input_shape`/`input_dim` argument to a layer. When using Sequential models, prefer using an `Input(shape)` object as the first layer in the model instead.\n",
      "  super().__init__(activity_regularizer=activity_regularizer, **kwargs)\n"
     ]
    },
    {
     "name": "stdout",
     "output_type": "stream",
     "text": [
      "Validation Accuracy: 0.99\n",
      "\n",
      "--- Fold 5 ---\n"
     ]
    },
    {
     "name": "stderr",
     "output_type": "stream",
     "text": [
      "C:\\Users\\JM\\anaconda3\\Lib\\site-packages\\keras\\src\\layers\\core\\dense.py:87: UserWarning: Do not pass an `input_shape`/`input_dim` argument to a layer. When using Sequential models, prefer using an `Input(shape)` object as the first layer in the model instead.\n",
      "  super().__init__(activity_regularizer=activity_regularizer, **kwargs)\n"
     ]
    },
    {
     "name": "stdout",
     "output_type": "stream",
     "text": [
      "Validation Accuracy: 0.99\n",
      "\n",
      "Average Validation Accuracy: 0.99 ± 0.00\n",
      "\u001b[1m32/32\u001b[0m \u001b[32m━━━━━━━━━━━━━━━━━━━━\u001b[0m\u001b[37m\u001b[0m \u001b[1m0s\u001b[0m 9ms/step \n"
     ]
    },
    {
     "data": {
      "image/png": "[encoded data removed]",
      "text/plain": [
       "<Figure size 600x500 with 2 Axes>"
      ]
     },
     "metadata": {},
     "output_type": "display_data"
    },
    {
     "name": "stdout",
     "output_type": "stream",
     "text": [
      "\n",
      "Prediction example: Probability: 1.00, In deficit\n"
     ]
    }
   ],
   "source": [
    "# Install Streamlit library (not directly used in this code but prepares for potential interactive web application)\n",
    "# Streamlit can quickly convert data scripts into web apps, ideal for showcasing data analysis and model results\n",
    "!pip install streamlit\n",
    "\n",
    "# Import necessary libraries\n",
    "# Data processing and numerical computation libraries\n",
    "import numpy as np\n",
    "import pandas as pd\n",
    "\n",
    "# Data visualization libraries\n",
    "import matplotlib.pyplot as plt\n",
    "import seaborn as sns\n",
    "\n",
    "# Machine learning tools\n",
    "from sklearn.model_selection import KFold, cross_val_score  # For cross-validation\n",
    "from sklearn.preprocessing import StandardScaler  # For feature standardization\n",
    "from sklearn.ensemble import RandomForestClassifier  # Random Forest model (for feature importance analysis)\n",
    "\n",
    "# Deep learning library (Keras)\n",
    "from tensorflow.keras.models import Sequential  # Sequential model architecture\n",
    "from tensorflow.keras.layers import Dense, Dropout  # Fully connected layers and dropout regularization\n",
    "from tensorflow.keras.optimizers import Adam, SGD  # Optimization algorithms\n",
    "from tensorflow.keras.callbacks import EarlyStopping  # Early stopping to prevent overfitting\n",
    "\n",
    "# Model evaluation metrics\n",
    "from sklearn.metrics import accuracy_score, classification_report, confusion_matrix\n",
    "\n",
    "# Filter specific warning messages (to avoid redundant warnings about feature names)\n",
    "import warnings\n",
    "warnings.filterwarnings(\"ignore\", message=\"X does not have valid feature names\")\n",
    "\n",
    "# Neural network model definition example (showing proper input layer definition)\n",
    "# Provides foundation for building more complex models later\n",
    "from tensorflow.keras.models import Sequential\n",
    "from tensorflow.keras.layers import Input, Dense\n",
    "\n",
    "model = Sequential()\n",
    "model.add(Input(shape=(5,)))        # ✅ Recommended practice: explicitly define input shape with Input layer\n",
    "model.add(Dense(64, activation='relu'))\n",
    "model.add(Dense(1, activation='sigmoid'))\n",
    "\n",
    "\n",
    "# 1. Simulated data generation\n",
    "# Since no real dataset is available, generate synthetic data to validate the model workflow\n",
    "# Set random seed for reproducibility of results\n",
    "np.random.seed(42)\n",
    "num_samples = 1000  # Sample size: 1000 samples sufficient for training basic models\n",
    "\n",
    "# Feature generation (selecting physiological and behavioral features related to calorie expenditure)\n",
    "exercise_minutes = np.random.randint(0, 120, num_samples)  # Exercise duration (0-120 minutes)\n",
    "exercise_type = np.random.choice([0, 1, 2], num_samples, p=[0.5, 0.3, 0.2])  # Exercise intensity (0=mild, 1=moderate, 2=vigorous)\n",
    "weight = np.random.normal(70, 10, num_samples)  # Weight (mean 70kg, standard deviation 10)\n",
    "# Basal Metabolic Rate (simplified formula based on weight, height, and age)\n",
    "bmr = 10 * weight + 6.25 * np.random.normal(170, 10, num_samples) - 5 * np.random.normal(30, 10, num_samples) + np.random.normal(5, 2, num_samples)\n",
    "calories_intake = np.random.normal(2000, 300, num_samples)  # Calorie intake (mean 2000, standard deviation 300)\n",
    "\n",
    "# Calculate target variable: calorie deficit (1 if intake < expenditure, 0 otherwise)\n",
    "# Calorie expenditure = basal metabolic expenditure + exercise expenditure (related to duration and intensity)\n",
    "calories_burned = bmr * 1.2 + exercise_minutes * (2 + exercise_type * 1.5)\n",
    "calorie_deficit = (calories_intake < calories_burned).astype(int)  # Convert to binary classification label\n",
    "\n",
    "# Create DataFrame (structured data format for easier processing and analysis)\n",
    "data = pd.DataFrame({\n",
    "    'ExerciseMinutes': exercise_minutes,\n",
    "    'ExerciseType': exercise_type,\n",
    "    'Weight': weight,\n",
    "    'BMR': bmr,\n",
    "    'CaloriesIntake': calories_intake,\n",
    "    'CalorieDeficit': calorie_deficit\n",
    "})\n",
    "\n",
    "# 2. Separate features and label\n",
    "# Machine learning requires clear separation between input features (X) and prediction target (y)\n",
    "X = data.drop('CalorieDeficit', axis=1)  # Features: all input variables\n",
    "y = data['CalorieDeficit']  # Label: the calorie deficit status to predict\n",
    "\n",
    "# 3. Data standardization\n",
    "# Neural networks are sensitive to feature scales; standardization accelerates convergence and improves accuracy\n",
    "scaler = StandardScaler()  # Standardization: transforms features to have mean 0 and standard deviation 1\n",
    "X_scaled = scaler.fit_transform(X)  # Fit scaler to data and transform features\n",
    "\n",
    "# 4. Use Random Forest to get feature importance\n",
    "# Analyze how much each feature influences prediction results, enhancing model interpretability\n",
    "rf = RandomForestClassifier(n_estimators=100, random_state=42)  # Random Forest with 100 trees\n",
    "rf.fit(X_scaled, y)  # Train the model\n",
    "\n",
    "# Visualize feature importance (intuitively show influence weights of each factor)\n",
    "plt.figure(figsize=(8, 6))  # Set figure size\n",
    "sns.barplot(x=rf.feature_importances_, y=X.columns)  # Horizontal bar plot\n",
    "plt.title('Feature Importance')  # Plot title\n",
    "plt.xlabel('Importance')  # X-axis label\n",
    "plt.ylabel('Features')  # Y-axis label\n",
    "plt.show()  # Display the plot\n",
    "\n",
    "# 5. Build neural network model\n",
    "# Define flexible model building function supporting different optimizers and learning rates (facilitates parameter tuning)\n",
    "def build_model(optimizer='adam', learning_rate=0.001):\n",
    "    # Configure optimizer based on selection (different optimizers suit different scenarios)\n",
    "    if optimizer == 'adam':\n",
    "        opt = Adam(learning_rate=learning_rate)  # Adam: adaptive learning rate, suitable for most scenarios\n",
    "    elif optimizer == 'sgd':\n",
    "        opt = SGD(learning_rate=learning_rate)  # SGD: stochastic gradient descent, more stable but slower convergence\n",
    "    else:\n",
    "        raise ValueError(\"Unsupported optimizer\")  # Error for unsupported optimizers\n",
    "\n",
    "    # Build neural network architecture (using multiple fully connected layers, suitable for tabular data)\n",
    "    model = Sequential([\n",
    "        Dense(128, activation='relu', input_shape=(X_scaled.shape[1],)),  # Input layer + first hidden layer (128 neurons)\n",
    "        Dropout(0.3),  # Dropout layer: randomly deactivates 30% of neurons to prevent overfitting\n",
    "        Dense(64, activation='relu'),  # Second hidden layer (64 neurons)\n",
    "        Dropout(0.3),  # Additional dropout for enhanced generalization\n",
    "        Dense(32, activation='relu'),  # Third hidden layer (32 neurons, gradually reducing dimensionality)\n",
    "        Dense(1, activation='sigmoid')  # Output layer: sigmoid activation for 0-1 probability output\n",
    "    ])\n",
    "    \n",
    "    # Compile model: define loss function, optimizer, and evaluation metrics\n",
    "    model.compile(optimizer=opt,\n",
    "                  loss='binary_crossentropy',  # Cross-entropy loss common for binary classification\n",
    "                  metrics=['accuracy'])  # Monitor accuracy metric\n",
    "    return model\n",
    "\n",
    "# 6. Train model using K-Fold cross-validation\n",
    "# Cross-validation provides more reliable model evaluation by avoiding randomness of single data split\n",
    "kfold = KFold(n_splits=5, shuffle=True, random_state=42)  # 5-fold cross-validation with data shuffling\n",
    "accuracies = []  # Store accuracy for each fold\n",
    "\n",
    "# Iterate through each fold for training and validation\n",
    "for fold, (train_idx, val_idx) in enumerate(kfold.split(X_scaled, y)):\n",
    "    print(f\"\\n--- Fold {fold + 1} ---\")\n",
    "    # Split into training and validation sets\n",
    "    X_train, X_val = X_scaled[train_idx], X_scaled[val_idx]\n",
    "    y_train, y_val = y[train_idx], y[val_idx]\n",
    "\n",
    "    # Build model (using Adam optimizer with learning rate 0.0005)\n",
    "    model = build_model(optimizer='adam', learning_rate=0.0005)\n",
    "    \n",
    "    # Early stopping: halt training when validation loss stops improving (prevents overfitting)\n",
    "    early_stop = EarlyStopping(monitor='val_loss', patience=10, restore_best_weights=True)\n",
    "\n",
    "    # Train the model\n",
    "    history = model.fit(X_train, y_train,\n",
    "                        validation_data=(X_val, y_val),  # Validation data\n",
    "                        epochs=100,  # Maximum training epochs\n",
    "                        batch_size=32,  # Batch size: 32 is a commonly used balanced choice\n",
    "                        callbacks=[early_stop],  # Apply early stopping\n",
    "                        verbose=0)  # Silent mode, no training logs\n",
    "\n",
    "    # Evaluate model performance on validation set\n",
    "    loss, acc = model.evaluate(X_val, y_val, verbose=0)\n",
    "    print(f\"Validation Accuracy: {acc:.2f}\")\n",
    "    accuracies.append(acc)\n",
    "\n",
    "# Output cross-validation average results (more robust model performance metric)\n",
    "print(f\"\\nAverage Validation Accuracy: {np.mean(accuracies):.2f} ± {np.std(accuracies):.2f}\")\n",
    "\n",
    "# 7. Model prediction and result visualization\n",
    "# Analyze overall model performance and identify prediction error patterns\n",
    "y_pred = (model.predict(X_scaled) > 0.5).astype(int).flatten()  # Convert probabilities to classes (0/1)\n",
    "\n",
    "# Confusion matrix: shows distribution of true positives, true negatives, false positives, false negatives\n",
    "cm = confusion_matrix(y, y_pred)\n",
    "plt.figure(figsize=(6, 5))\n",
    "sns.heatmap(cm, annot=True, fmt='d', cmap='Blues', \n",
    "            xticklabels=['No Deficit', 'Deficit'], \n",
    "            yticklabels=['No Deficit', 'Deficit'])\n",
    "plt.xlabel('Predicted')  # Predicted labels\n",
    "plt.ylabel('Actual')  # Actual labels\n",
    "plt.title('Confusion Matrix')  # Plot title\n",
    "plt.show()\n",
    "\n",
    "# Example prediction function: encapsulates model for easy user input and prediction\n",
    "def predict_deficit(minutes, exercise_type, weight, bmr, intake):\n",
    "    # Feature standardization (using trained scaler to maintain consistent scale with training data)\n",
    "    input_data = scaler.transform([[minutes, exercise_type, weight, bmr, intake]])\n",
    "    # Predict probability\n",
    "    prob = model.predict(input_data, verbose=0)[0][0]\n",
    "    # Return result: probability value + classification conclusion\n",
    "    return f\"Probability: {prob:.2f}, {'In deficit' if prob >= 0.5 else 'Not in deficit'}\"\n",
    "\n",
    "# Test prediction functionality (verify practical application of the model)\n",
    "# The parameters represent:\n",
    "# 45: minutes of exercise per day\n",
    "# 1: exercise type (1 = moderate intensity)\n",
    "# 68: weight in kilograms\n",
    "# 1600: basal metabolic rate in calories per day\n",
    "# 1800: daily calorie intake\n",
    "# The model will process these values through the same scaling as training data\n",
    "# Then predict the probability of the person being in a calorie deficit (intake < expenditure)\n",
    "# The result shows both the numerical probability and a categorical conclusion\n",
    "print(\"\\nPrediction example:\", predict_deficit(45, 1, 68, 1600, 1800))\n"
   ]
  },
  {
   "cell_type": "code",
   "execution_count": null,
   "id": "331d6bf0-7960-475b-8422-d60f36667e6d",
   "metadata": {},
   "outputs": [],
   "source": []
  }
 ],
 "metadata": {
  "kernelspec": {
   "display_name": "Python 3 (ipykernel)",
   "language": "python",
   "name": "python3"
  },
  "language_info": {
   "codemirror_mode": {
    "name": "ipython",
    "version": 3
   },
   "file_extension": ".py",
   "mimetype": "text/x-python",
   "name": "python",
   "nbconvert_exporter": "python",
   "pygments_lexer": "ipython3",
   "version": "3.12.7"
  }
 },
 "nbformat": 4,
 "nbformat_minor": 5
}
