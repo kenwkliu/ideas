{
 "cells": [
  {
   "cell_type": "code",
   "execution_count": 1,
   "metadata": {},
   "outputs": [
    {
     "name": "stderr",
     "output_type": "stream",
     "text": [
      "Using TensorFlow backend.\n"
     ]
    }
   ],
   "source": [
    "from pandas import DataFrame,concat,read_excel\n",
    "import numpy as np\n",
    "import matplotlib.pyplot as plt\n",
    "import yfinance as yf\n",
    "from sklearn.preprocessing import MinMaxScaler\n",
    "from keras.models import Sequential\n",
    "from keras.layers import LSTM,Dense,Dropout\n",
    "from numpy import concatenate\n",
    "from sklearn.metrics import mean_squared_error,mean_absolute_error,r2_score\n",
    "from math import sqrt,sin,pi\n",
    "import plotly.graph_objs as go\n",
    "from plotly.offline import plot\n",
    "import pandas as pd\n",
    "import chart_studio.plotly as py"
   ]
  },
  {
   "cell_type": "code",
   "execution_count": 2,
   "metadata": {},
   "outputs": [],
   "source": [
    "from pandas_datareader import data as pdr\n",
    "# Core code, set the display of the maximum column, width and other parameters, eliminate the printing of incomplete medial ellipsis\n",
    "pd.set_option('display.max_columns', 1000)\n",
    "pd.set_option('display.width', 1000)\n",
    "pd.set_option('display.max_colwidth', 1000)"
   ]
  },
  {
   "cell_type": "code",
   "execution_count": 3,
   "metadata": {},
   "outputs": [],
   "source": [
    "start_date = '2014-01-01'\n",
    "end_date = '2019-12-31'\n",
    "data = pdr.get_data_yahoo('TXN', start_date, end_date)\n",
    "data.to_csv(r'/Users/thxq24302/Desktop/Algorithmic and High-Frequency/Group Assignment/data_fiveyears.csv', columns=data.columns, index=True)"
   ]
  },
  {
   "cell_type": "code",
   "execution_count": 4,
   "metadata": {},
   "outputs": [
    {
     "data": {
      "text/html": [
       "<div>\n",
       "<style scoped>\n",
       "    .dataframe tbody tr th:only-of-type {\n",
       "        vertical-align: middle;\n",
       "    }\n",
       "\n",
       "    .dataframe tbody tr th {\n",
       "        vertical-align: top;\n",
       "    }\n",
       "\n",
       "    .dataframe thead th {\n",
       "        text-align: right;\n",
       "    }\n",
       "</style>\n",
       "<table border=\"1\" class=\"dataframe\">\n",
       "  <thead>\n",
       "    <tr style=\"text-align: right;\">\n",
       "      <th></th>\n",
       "      <th>High</th>\n",
       "      <th>Low</th>\n",
       "      <th>Open</th>\n",
       "      <th>Close</th>\n",
       "      <th>Volume</th>\n",
       "      <th>Adj Close</th>\n",
       "    </tr>\n",
       "  </thead>\n",
       "  <tbody>\n",
       "    <tr>\n",
       "      <th>count</th>\n",
       "      <td>1511.000000</td>\n",
       "      <td>1511.000000</td>\n",
       "      <td>1511.000000</td>\n",
       "      <td>1511.000000</td>\n",
       "      <td>1.511000e+03</td>\n",
       "      <td>1511.000000</td>\n",
       "    </tr>\n",
       "    <tr>\n",
       "      <th>mean</th>\n",
       "      <td>79.065453</td>\n",
       "      <td>77.627181</td>\n",
       "      <td>78.347730</td>\n",
       "      <td>78.380437</td>\n",
       "      <td>5.595568e+06</td>\n",
       "      <td>73.121983</td>\n",
       "    </tr>\n",
       "    <tr>\n",
       "      <th>std</th>\n",
       "      <td>26.976700</td>\n",
       "      <td>26.428142</td>\n",
       "      <td>26.715071</td>\n",
       "      <td>26.714448</td>\n",
       "      <td>2.765175e+06</td>\n",
       "      <td>27.910059</td>\n",
       "    </tr>\n",
       "    <tr>\n",
       "      <th>min</th>\n",
       "      <td>41.130001</td>\n",
       "      <td>40.330002</td>\n",
       "      <td>40.630001</td>\n",
       "      <td>40.889999</td>\n",
       "      <td>1.288300e+06</td>\n",
       "      <td>34.929714</td>\n",
       "    </tr>\n",
       "    <tr>\n",
       "      <th>25%</th>\n",
       "      <td>54.379999</td>\n",
       "      <td>53.344999</td>\n",
       "      <td>53.840000</td>\n",
       "      <td>53.870001</td>\n",
       "      <td>3.879700e+06</td>\n",
       "      <td>47.505043</td>\n",
       "    </tr>\n",
       "    <tr>\n",
       "      <th>50%</th>\n",
       "      <td>74.690002</td>\n",
       "      <td>73.980003</td>\n",
       "      <td>74.250000</td>\n",
       "      <td>74.199997</td>\n",
       "      <td>4.943600e+06</td>\n",
       "      <td>68.123672</td>\n",
       "    </tr>\n",
       "    <tr>\n",
       "      <th>75%</th>\n",
       "      <td>105.674999</td>\n",
       "      <td>103.609997</td>\n",
       "      <td>104.590000</td>\n",
       "      <td>104.545002</td>\n",
       "      <td>6.502000e+06</td>\n",
       "      <td>99.702892</td>\n",
       "    </tr>\n",
       "    <tr>\n",
       "      <th>max</th>\n",
       "      <td>132.199997</td>\n",
       "      <td>129.789993</td>\n",
       "      <td>130.899994</td>\n",
       "      <td>131.690002</td>\n",
       "      <td>3.322960e+07</td>\n",
       "      <td>129.767319</td>\n",
       "    </tr>\n",
       "  </tbody>\n",
       "</table>\n",
       "</div>"
      ],
      "text/plain": [
       "              High          Low         Open        Close        Volume    Adj Close\n",
       "count  1511.000000  1511.000000  1511.000000  1511.000000  1.511000e+03  1511.000000\n",
       "mean     79.065453    77.627181    78.347730    78.380437  5.595568e+06    73.121983\n",
       "std      26.976700    26.428142    26.715071    26.714448  2.765175e+06    27.910059\n",
       "min      41.130001    40.330002    40.630001    40.889999  1.288300e+06    34.929714\n",
       "25%      54.379999    53.344999    53.840000    53.870001  3.879700e+06    47.505043\n",
       "50%      74.690002    73.980003    74.250000    74.199997  4.943600e+06    68.123672\n",
       "75%     105.674999   103.609997   104.590000   104.545002  6.502000e+06    99.702892\n",
       "max     132.199997   129.789993   130.899994   131.690002  3.322960e+07   129.767319"
      ]
     },
     "execution_count": 4,
     "metadata": {},
     "output_type": "execute_result"
    }
   ],
   "source": [
    "data.describe()"
   ]
  },
  {
   "cell_type": "code",
   "execution_count": 5,
   "metadata": {},
   "outputs": [
    {
     "name": "stdout",
     "output_type": "stream",
     "text": [
      "<class 'pandas.core.frame.DataFrame'>\n",
      "DatetimeIndex: 1511 entries, 2013-12-31 to 2019-12-31\n",
      "Data columns (total 6 columns):\n",
      "High         1511 non-null float64\n",
      "Low          1511 non-null float64\n",
      "Open         1511 non-null float64\n",
      "Close        1511 non-null float64\n",
      "Volume       1511 non-null float64\n",
      "Adj Close    1511 non-null float64\n",
      "dtypes: float64(6)\n",
      "memory usage: 82.6 KB\n"
     ]
    }
   ],
   "source": [
    "data.info()"
   ]
  },
  {
   "cell_type": "code",
   "execution_count": 6,
   "metadata": {},
   "outputs": [],
   "source": [
    "data  =pd.read_csv(r'/Users/thxq24302/Desktop/Algorithmic and High-Frequency/Group Assignment/data_fiveyears.csv',parse_dates=['Date'],index_col='Date')\n",
    "data_t = pd.read_csv(r'/Users/thxq24302/Desktop/Algorithmic and High-Frequency/Group Assignment/data_fiveyears.csv')"
   ]
  },
  {
   "cell_type": "code",
   "execution_count": 7,
   "metadata": {},
   "outputs": [],
   "source": [
    "def moving_average(x, n, type='simple'):\n",
    "    x = np.asarray(x)\n",
    "    if type == 'simple':\n",
    "        weights = np.ones(n)\n",
    "    else:\n",
    "        weights = np.exp(np.linspace(-1., 0., n))\n",
    "    weights /= weights.sum()\n",
    "    a = np.convolve(x, weights, mode='full')[:len(x)]\n",
    "    a[:n] = a[n]\n",
    "    return a"
   ]
  },
  {
   "cell_type": "code",
   "execution_count": 8,
   "metadata": {},
   "outputs": [],
   "source": [
    "data[\"MA5_Close\"] = moving_average(data['Close'], 5, 'simple')\n",
    "data[\"MA10_Close\"] = moving_average(data['Close'], 10, 'simple')\n",
    "data[\"MA5_Volume\"] = moving_average(data['Volume'], 5, 'simple')\n",
    "data[\"MA10_Volume\"] = moving_average(data['Volume'], 10, 'simple')"
   ]
  },
  {
   "cell_type": "code",
   "execution_count": 9,
   "metadata": {},
   "outputs": [
    {
     "data": {
      "text/html": [
       "<div>\n",
       "<style scoped>\n",
       "    .dataframe tbody tr th:only-of-type {\n",
       "        vertical-align: middle;\n",
       "    }\n",
       "\n",
       "    .dataframe tbody tr th {\n",
       "        vertical-align: top;\n",
       "    }\n",
       "\n",
       "    .dataframe thead th {\n",
       "        text-align: right;\n",
       "    }\n",
       "</style>\n",
       "<table border=\"1\" class=\"dataframe\">\n",
       "  <thead>\n",
       "    <tr style=\"text-align: right;\">\n",
       "      <th></th>\n",
       "      <th>High</th>\n",
       "      <th>Low</th>\n",
       "      <th>Open</th>\n",
       "      <th>Close</th>\n",
       "      <th>Volume</th>\n",
       "      <th>Adj Close</th>\n",
       "      <th>MA5_Close</th>\n",
       "      <th>MA10_Close</th>\n",
       "      <th>MA5_Volume</th>\n",
       "      <th>MA10_Volume</th>\n",
       "    </tr>\n",
       "    <tr>\n",
       "      <th>Date</th>\n",
       "      <th></th>\n",
       "      <th></th>\n",
       "      <th></th>\n",
       "      <th></th>\n",
       "      <th></th>\n",
       "      <th></th>\n",
       "      <th></th>\n",
       "      <th></th>\n",
       "      <th></th>\n",
       "      <th></th>\n",
       "    </tr>\n",
       "  </thead>\n",
       "  <tbody>\n",
       "    <tr>\n",
       "      <th>2013-12-31</th>\n",
       "      <td>44.090000</td>\n",
       "      <td>43.790001</td>\n",
       "      <td>44.040001</td>\n",
       "      <td>43.910000</td>\n",
       "      <td>2631300.0</td>\n",
       "      <td>37.247204</td>\n",
       "      <td>43.062</td>\n",
       "      <td>43.060001</td>\n",
       "      <td>5506240.0</td>\n",
       "      <td>5650310.0</td>\n",
       "    </tr>\n",
       "    <tr>\n",
       "      <th>2014-01-02</th>\n",
       "      <td>43.500000</td>\n",
       "      <td>42.880001</td>\n",
       "      <td>43.439999</td>\n",
       "      <td>43.099998</td>\n",
       "      <td>6959200.0</td>\n",
       "      <td>36.560108</td>\n",
       "      <td>43.062</td>\n",
       "      <td>43.060001</td>\n",
       "      <td>5506240.0</td>\n",
       "      <td>5650310.0</td>\n",
       "    </tr>\n",
       "    <tr>\n",
       "      <th>2014-01-03</th>\n",
       "      <td>43.459999</td>\n",
       "      <td>42.970001</td>\n",
       "      <td>43.119999</td>\n",
       "      <td>43.290001</td>\n",
       "      <td>4693300.0</td>\n",
       "      <td>36.721279</td>\n",
       "      <td>43.062</td>\n",
       "      <td>43.060001</td>\n",
       "      <td>5506240.0</td>\n",
       "      <td>5650310.0</td>\n",
       "    </tr>\n",
       "    <tr>\n",
       "      <th>2014-01-06</th>\n",
       "      <td>43.279999</td>\n",
       "      <td>42.849998</td>\n",
       "      <td>43.250000</td>\n",
       "      <td>42.930000</td>\n",
       "      <td>4446300.0</td>\n",
       "      <td>36.415901</td>\n",
       "      <td>43.062</td>\n",
       "      <td>43.060001</td>\n",
       "      <td>5506240.0</td>\n",
       "      <td>5650310.0</td>\n",
       "    </tr>\n",
       "    <tr>\n",
       "      <th>2014-01-07</th>\n",
       "      <td>43.110001</td>\n",
       "      <td>42.639999</td>\n",
       "      <td>42.980000</td>\n",
       "      <td>42.700001</td>\n",
       "      <td>5078900.0</td>\n",
       "      <td>36.220810</td>\n",
       "      <td>43.062</td>\n",
       "      <td>43.060001</td>\n",
       "      <td>5506240.0</td>\n",
       "      <td>5650310.0</td>\n",
       "    </tr>\n",
       "  </tbody>\n",
       "</table>\n",
       "</div>"
      ],
      "text/plain": [
       "                 High        Low       Open      Close     Volume  Adj Close  MA5_Close  MA10_Close  MA5_Volume  MA10_Volume\n",
       "Date                                                                                                                        \n",
       "2013-12-31  44.090000  43.790001  44.040001  43.910000  2631300.0  37.247204     43.062   43.060001   5506240.0    5650310.0\n",
       "2014-01-02  43.500000  42.880001  43.439999  43.099998  6959200.0  36.560108     43.062   43.060001   5506240.0    5650310.0\n",
       "2014-01-03  43.459999  42.970001  43.119999  43.290001  4693300.0  36.721279     43.062   43.060001   5506240.0    5650310.0\n",
       "2014-01-06  43.279999  42.849998  43.250000  42.930000  4446300.0  36.415901     43.062   43.060001   5506240.0    5650310.0\n",
       "2014-01-07  43.110001  42.639999  42.980000  42.700001  5078900.0  36.220810     43.062   43.060001   5506240.0    5650310.0"
      ]
     },
     "execution_count": 9,
     "metadata": {},
     "output_type": "execute_result"
    }
   ],
   "source": [
    "data.head()"
   ]
  },
  {
   "cell_type": "code",
   "execution_count": 11,
   "metadata": {},
   "outputs": [
    {
     "data": {
      "text/html": [
       "\n",
       "        <iframe\n",
       "            width=\"100%\"\n",
       "            height=\"525px\"\n",
       "            src=\"https://plot.ly/~thxq24302/200.embed\"\n",
       "            frameborder=\"0\"\n",
       "            allowfullscreen\n",
       "        ></iframe>\n",
       "        "
      ],
      "text/plain": [
       "<IPython.lib.display.IFrame at 0x13e90ecf8>"
      ]
     },
     "execution_count": 11,
     "metadata": {},
     "output_type": "execute_result"
    }
   ],
   "source": [
    "# py.sign_in('API name', 'API')\n",
    "py.sign_in('thxq24302', 'XM84hNdT1KJxmwlkTthx')\n",
    "txndata = [go.Scatter(x=data_t['Date'],y=data['MA5_Close'],name='MA5_Close'),\n",
    "            go.Scatter(x=data_t['Date'],y=data['MA10_Close'],name='MA10_Close')]\n",
    "layout = go.Layout(title='TXN-Close')\n",
    "fig = go.Figure(data=txndata, layout=layout)\n",
    "py.iplot(fig)"
   ]
  },
  {
   "cell_type": "code",
   "execution_count": 12,
   "metadata": {},
   "outputs": [
    {
     "data": {
      "text/html": [
       "\n",
       "        <iframe\n",
       "            width=\"100%\"\n",
       "            height=\"525px\"\n",
       "            src=\"https://plot.ly/~thxq24302/202.embed\"\n",
       "            frameborder=\"0\"\n",
       "            allowfullscreen\n",
       "        ></iframe>\n",
       "        "
      ],
      "text/plain": [
       "<IPython.lib.display.IFrame at 0x13ef6c9b0>"
      ]
     },
     "execution_count": 12,
     "metadata": {},
     "output_type": "execute_result"
    }
   ],
   "source": [
    "txn_volume = go.Bar(\n",
    "    x=data.index,\n",
    "    y=data['Volume'],\n",
    "    marker=dict(color='#fff143',\n",
    "                line=dict(color='rgb(255, 102, 102)',width=1.0,)),name='Volume',\n",
    "    opacity=0.9)\n",
    "Barfig = go.Figure(data=txn_volume)\n",
    "py.iplot(Barfig,name='Volume')"
   ]
  },
  {
   "cell_type": "code",
   "execution_count": 13,
   "metadata": {},
   "outputs": [
    {
     "data": {
      "text/html": [
       "\n",
       "        <iframe\n",
       "            width=\"100%\"\n",
       "            height=\"525px\"\n",
       "            src=\"https://plot.ly/~thxq24302/204.embed\"\n",
       "            frameborder=\"0\"\n",
       "            allowfullscreen\n",
       "        ></iframe>\n",
       "        "
      ],
      "text/plain": [
       "<IPython.lib.display.IFrame at 0x13f278160>"
      ]
     },
     "execution_count": 13,
     "metadata": {},
     "output_type": "execute_result"
    }
   ],
   "source": [
    "txn_Ma_Volume = [go.Bar(x=data_t['Date'],y=data['MA5_Volume'],marker=dict(color='#fff143',\n",
    "                line=dict(color='rgb(255, 51, 51)',width=1.0,)),\n",
    "                        name='MA5_Volume'),\n",
    "            go.Bar(x=data_t['Date'],y=data['MA10_Volume'],marker=dict(color='#fff143',\n",
    "                line=dict(color='rgb(51, 153, 255)',width=1.0,)),name='MA10_Volume')]\n",
    "layout = go.Layout(title='txn_Ma_Volume')\n",
    "MA_Volume= go.Figure(data=txn_Ma_Volume, layout=layout)\n",
    "py.iplot(MA_Volume,name='MA_Volume')"
   ]
  },
  {
   "cell_type": "code",
   "execution_count": 14,
   "metadata": {},
   "outputs": [],
   "source": [
    "def meaning(data,N): # Stock investing strategy\n",
    "    S=1000000 # Principle holding value\n",
    "    P=0 # Stock holding value\n",
    "    Y=0 # Commission\n",
    "    F=0 # Yield rate\n",
    "    for i in range(2,N):\n",
    "        if data[\"MA5_Close\"][i]>data[\"MA10_Close\"][i] and data[\"MA5_Close\"][i-1]>=data[\"MA10_Close\"][i-1] \\\n",
    "                and data[\"MA5_Close\"][i-2]<data[\"MA10_Close\"][i-2] and data[\"MA5_Volume\"][i]>data[\"MA10_Volume\"][i]\\\n",
    "                and data[\"MA5_Volume\"][i-1]>=data[\"MA10_Volume\"][i-1] and data[\"MA5_Volume\"][i-2]<data[\"MA10_Volume\"][i-2]:\n",
    "            n=int(S/float(data[\"Close\"][i]))# Shares purchased\n",
    "            P=P+n\n",
    "            S=S-n*float(data[\"Close\"][i])*1.0002\n",
    "            Y=Y+n*float(data[\"Close\"][i])*0.0002\n",
    "        elif data[\"MA5_Close\"][i]<data[\"MA10_Close\"][i] and data[\"MA5_Close\"][i-1]<=data[\"MA10_Close\"][i-1] \\\n",
    "                and data[\"MA5_Close\"][i-2]>data[\"MA10_Close\"][i-2] and data[\"MA5_Volume\"][i]<data[\"MA10_Volume\"][i]\\\n",
    "                and data[\"MA5_Volume\"][i-1]<=data[\"MA10_Volume\"][i-1] and data[\"MA5_Volume\"][i-2]>data[\"MA10_Volume\"][i-2]:\n",
    "            n=int(P) # Shares recovered\n",
    "            P=P-n\n",
    "            S=S+n*float(data[\"Close\"][i])*0.9998\n",
    "            Y=Y+n*float(data[\"Close\"][i])*0.0002\n",
    "        elif data[\"MA5_Close\"][i]>data[\"MA10_Close\"][i] and data[\"MA5_Close\"][i-1]>=data[\"MA10_Close\"][i-1] \\\n",
    "                and data[\"MA5_Close\"][i-2]<data[\"MA10_Close\"][i-2]:\n",
    "            n=int(S/(2*float(data[\"Close\"][i])))\n",
    "            P=P+n\n",
    "            S=S-n*float(data[\"Close\"][i])*1.0002\n",
    "            Y = Y + n * float(data[\"Close\"][i]) * 0.0002\n",
    "        elif data[\"MA5_Close\"][i]<data[\"MA10_Close\"][i] and data[\"MA5_Close\"][i-1]<=data[\"MA10_Close\"][i-1] \\\n",
    "                and data[\"MA5_Close\"][i-2]>data[\"MA10_Close\"][i-2]:\n",
    "            n=int(P/2)\n",
    "            P=P-n\n",
    "            S=S+n*float(data[\"Close\"][i])*0.9998\n",
    "            Y=Y+n*float(data[\"Close\"][i])*0.0002\n",
    "        elif data[\"MA5_Volume\"][i]>data[\"MA10_Volume\"][i] and data[\"MA5_Volume\"][i-1]>=data[\"MA10_Volume\"][i-1] \\\n",
    "                and data[\"MA5_Volume\"][i-2]<data[\"MA10_Volume\"][i-2]:\n",
    "            n=int(S/(2*float(data[\"Close\"][i])))\n",
    "            P=P+n\n",
    "            S=S-n*float(data[\"Close\"][i])*1.0002\n",
    "            Y = Y + n * float(data[\"Close\"][i]) * 0.0002\n",
    "        elif data[\"MA5_Volume\"][i]<data[\"MA10_Volume\"][i] and data[\"MA5_Volume\"][i-1]<=data[\"MA10_Volume\"][i-1] \\\n",
    "                and data[\"MA5_Volume\"][i-2]>data[\"MA10_Volume\"][i-2]:\n",
    "            n=int(P/2)\n",
    "            P=P-n\n",
    "            S=S+n*float(data[\"Close\"][i])*0.9998\n",
    "            Y=Y+n*float(data[\"Close\"][i])*0.0002\n",
    "   \n",
    "    F=(S+P*float(data[\"Close\"][i])-1000000)/1000000\n",
    "    print('本金 = ',S)\n",
    "    print('期末持有股票 = ',P)\n",
    "    print('佣金总计 = ',Y)\n",
    "    print('收益率 = ',F)"
   ]
  },
  {
   "cell_type": "code",
   "execution_count": 15,
   "metadata": {},
   "outputs": [
    {
     "name": "stdout",
     "output_type": "stream",
     "text": [
      "本金 =  1044458.4568702518\n",
      "期末持有股票 =  4692\n",
      "佣金总计 =  26887.57890779648\n",
      "收益率 =  0.643439194052869\n"
     ]
    }
   ],
   "source": [
    "meaning(data,1510)"
   ]
  },
  {
   "cell_type": "code",
   "execution_count": 16,
   "metadata": {},
   "outputs": [
    {
     "data": {
      "text/plain": [
       "array([[4.40900002e+01, 4.37900009e+01, 4.40400009e+01, 4.39099998e+01,\n",
       "        2.63130000e+06, 3.72472038e+01],\n",
       "       [4.35000000e+01, 4.28800011e+01, 4.34399986e+01, 4.30999985e+01,\n",
       "        6.95920000e+06, 3.65601082e+01],\n",
       "       [4.34599991e+01, 4.29700012e+01, 4.31199989e+01, 4.32900009e+01,\n",
       "        4.69330000e+06, 3.67212791e+01],\n",
       "       ...,\n",
       "       [1.28919998e+02, 1.28089996e+02, 1.28860001e+02, 1.28570007e+02,\n",
       "        1.80060000e+06, 1.27647919e+02],\n",
       "       [1.28470001e+02, 1.27040001e+02, 1.28199997e+02, 1.27660004e+02,\n",
       "        2.28370000e+06, 1.26744446e+02],\n",
       "       [1.28389999e+02, 1.27059998e+02, 1.27250000e+02, 1.28289993e+02,\n",
       "        2.81330000e+06, 1.27369911e+02]], dtype=float32)"
      ]
     },
     "execution_count": 16,
     "metadata": {},
     "output_type": "execute_result"
    }
   ],
   "source": [
    "# Date preparation, transform it to fit the model \n",
    "data.drop(data.columns[[6,7,8,9]], axis=1, inplace=True)\n",
    "values = data.values\n",
    "values = values.astype('float32')\n",
    "values"
   ]
  },
  {
   "cell_type": "code",
   "execution_count": 17,
   "metadata": {},
   "outputs": [
    {
     "data": {
      "text/plain": [
       "array([[0.03250247, 0.03867647, 0.03777558, 0.0332599 , 0.04204588,\n",
       "        0.02443641],\n",
       "       [0.02602392, 0.02850434, 0.03112882, 0.0243392 , 0.1775413 ,\n",
       "        0.01719144],\n",
       "       [0.0255847 , 0.02951038, 0.0275839 , 0.02643174, 0.1066018 ,\n",
       "        0.01889089],\n",
       "       ...,\n",
       "       [0.96398383, 0.98099715, 0.97740126, 0.96563876, 0.0160388 ,\n",
       "        0.97765243],\n",
       "       [0.9590426 , 0.96926004, 0.9700898 , 0.9556167 , 0.03116342,\n",
       "        0.9681258 ],\n",
       "       [0.95816404, 0.9694837 , 0.9595659 , 0.96255493, 0.04774383,\n",
       "        0.97472095]], dtype=float32)"
      ]
     },
     "execution_count": 17,
     "metadata": {},
     "output_type": "execute_result"
    }
   ],
   "source": [
    "# Normalization of features；Date preparation\n",
    "scaler = MinMaxScaler(feature_range=(0, 1))\n",
    "scaled = scaler.fit_transform(values)\n",
    "scaled"
   ]
  },
  {
   "cell_type": "code",
   "execution_count": 18,
   "metadata": {},
   "outputs": [],
   "source": [
    "# Transform time series to supervised learning\n",
    "# Parameter：data:The input data needs to be a list or a sequence of observations of a two-dimensional NumPy array.\n",
    "# n_in：Input data of lagging observasions（X),range[1..len（data）]，optional.The default value is 1.\n",
    "# n_out：Output data of lagging observasions（X),range[1..len（data）]，optional.The default value is 1.\n",
    "def series_to_supervised(data, n_in=1, n_out=1, dropnan=True):\n",
    "\tn_vars = 1 if type(data) is list else data.shape[1]\n",
    "\tdf = DataFrame(data)\n",
    "\tcols, names = list(), list()\n",
    "\t# input sequence (t-n, ... t-1)\n",
    "\tfor i in range(n_in, 0, -1):\n",
    "\t\tcols.append(df.shift(i))\n",
    "\t\tnames += [('var%d(t-%d)' % (j+1, i)) for j in range(n_vars)]\n",
    "\t# forecast sequence (t, t+1, ... t+n)\n",
    "\tfor i in range(0, n_out):\n",
    "\t\tcols.append(df.shift(-i))\n",
    "\t\tif i == 0:\n",
    "\t\t\tnames += [('var%d(t)' % (j+1)) for j in range(n_vars)]\n",
    "\t\telse:\n",
    "\t\t\tnames += [('var%d(t+%d)' % (j+1, i)) for j in range(n_vars)]\n",
    "\t# put it all together\n",
    "\tagg = concat(cols, axis=1)\n",
    "\tagg.columns = names\n",
    "\t# drop rows with NaN values\n",
    "\tif dropnan:\n",
    "\t\tagg.dropna(inplace=True)\n",
    "\treturn agg"
   ]
  },
  {
   "cell_type": "code",
   "execution_count": 19,
   "metadata": {},
   "outputs": [
    {
     "data": {
      "text/html": [
       "<div>\n",
       "<style scoped>\n",
       "    .dataframe tbody tr th:only-of-type {\n",
       "        vertical-align: middle;\n",
       "    }\n",
       "\n",
       "    .dataframe tbody tr th {\n",
       "        vertical-align: top;\n",
       "    }\n",
       "\n",
       "    .dataframe thead th {\n",
       "        text-align: right;\n",
       "    }\n",
       "</style>\n",
       "<table border=\"1\" class=\"dataframe\">\n",
       "  <thead>\n",
       "    <tr style=\"text-align: right;\">\n",
       "      <th></th>\n",
       "      <th>var1(t-1)</th>\n",
       "      <th>var2(t-1)</th>\n",
       "      <th>var3(t-1)</th>\n",
       "      <th>var4(t-1)</th>\n",
       "      <th>var5(t-1)</th>\n",
       "      <th>var6(t-1)</th>\n",
       "      <th>var1(t)</th>\n",
       "      <th>var2(t)</th>\n",
       "      <th>var3(t)</th>\n",
       "      <th>var4(t)</th>\n",
       "      <th>var5(t)</th>\n",
       "      <th>var6(t)</th>\n",
       "    </tr>\n",
       "  </thead>\n",
       "  <tbody>\n",
       "    <tr>\n",
       "      <th>1</th>\n",
       "      <td>0.032502</td>\n",
       "      <td>0.038676</td>\n",
       "      <td>0.037776</td>\n",
       "      <td>0.033260</td>\n",
       "      <td>0.042046</td>\n",
       "      <td>0.024436</td>\n",
       "      <td>0.026024</td>\n",
       "      <td>0.028504</td>\n",
       "      <td>0.031129</td>\n",
       "      <td>0.024339</td>\n",
       "      <td>0.177541</td>\n",
       "      <td>0.017191</td>\n",
       "    </tr>\n",
       "    <tr>\n",
       "      <th>2</th>\n",
       "      <td>0.026024</td>\n",
       "      <td>0.028504</td>\n",
       "      <td>0.031129</td>\n",
       "      <td>0.024339</td>\n",
       "      <td>0.177541</td>\n",
       "      <td>0.017191</td>\n",
       "      <td>0.025585</td>\n",
       "      <td>0.029510</td>\n",
       "      <td>0.027584</td>\n",
       "      <td>0.026432</td>\n",
       "      <td>0.106602</td>\n",
       "      <td>0.018891</td>\n",
       "    </tr>\n",
       "    <tr>\n",
       "      <th>3</th>\n",
       "      <td>0.025585</td>\n",
       "      <td>0.029510</td>\n",
       "      <td>0.027584</td>\n",
       "      <td>0.026432</td>\n",
       "      <td>0.106602</td>\n",
       "      <td>0.018891</td>\n",
       "      <td>0.023608</td>\n",
       "      <td>0.028169</td>\n",
       "      <td>0.029024</td>\n",
       "      <td>0.022467</td>\n",
       "      <td>0.098869</td>\n",
       "      <td>0.015671</td>\n",
       "    </tr>\n",
       "    <tr>\n",
       "      <th>4</th>\n",
       "      <td>0.023608</td>\n",
       "      <td>0.028169</td>\n",
       "      <td>0.029024</td>\n",
       "      <td>0.022467</td>\n",
       "      <td>0.098869</td>\n",
       "      <td>0.015671</td>\n",
       "      <td>0.021742</td>\n",
       "      <td>0.025822</td>\n",
       "      <td>0.026033</td>\n",
       "      <td>0.019934</td>\n",
       "      <td>0.118674</td>\n",
       "      <td>0.013614</td>\n",
       "    </tr>\n",
       "    <tr>\n",
       "      <th>5</th>\n",
       "      <td>0.021742</td>\n",
       "      <td>0.025822</td>\n",
       "      <td>0.026033</td>\n",
       "      <td>0.019934</td>\n",
       "      <td>0.118674</td>\n",
       "      <td>0.013614</td>\n",
       "      <td>0.024047</td>\n",
       "      <td>0.025598</td>\n",
       "      <td>0.025811</td>\n",
       "      <td>0.026432</td>\n",
       "      <td>0.158578</td>\n",
       "      <td>0.018891</td>\n",
       "    </tr>\n",
       "  </tbody>\n",
       "</table>\n",
       "</div>"
      ],
      "text/plain": [
       "   var1(t-1)  var2(t-1)  var3(t-1)  var4(t-1)  var5(t-1)  var6(t-1)   var1(t)   var2(t)   var3(t)   var4(t)   var5(t)   var6(t)\n",
       "1   0.032502   0.038676   0.037776   0.033260   0.042046   0.024436  0.026024  0.028504  0.031129  0.024339  0.177541  0.017191\n",
       "2   0.026024   0.028504   0.031129   0.024339   0.177541   0.017191  0.025585  0.029510  0.027584  0.026432  0.106602  0.018891\n",
       "3   0.025585   0.029510   0.027584   0.026432   0.106602   0.018891  0.023608  0.028169  0.029024  0.022467  0.098869  0.015671\n",
       "4   0.023608   0.028169   0.029024   0.022467   0.098869   0.015671  0.021742  0.025822  0.026033  0.019934  0.118674  0.013614\n",
       "5   0.021742   0.025822   0.026033   0.019934   0.118674   0.013614  0.024047  0.025598  0.025811  0.026432  0.158578  0.018891"
      ]
     },
     "execution_count": 19,
     "metadata": {},
     "output_type": "execute_result"
    }
   ],
   "source": [
    "# Transform time series into supervised learning.The left side of the data is listed as the first day and the right side as second day\n",
    "reframed = series_to_supervised(scaled, 1, 1)\n",
    "reframed.head()"
   ]
  },
  {
   "cell_type": "code",
   "execution_count": 20,
   "metadata": {},
   "outputs": [
    {
     "data": {
      "text/html": [
       "<div>\n",
       "<style scoped>\n",
       "    .dataframe tbody tr th:only-of-type {\n",
       "        vertical-align: middle;\n",
       "    }\n",
       "\n",
       "    .dataframe tbody tr th {\n",
       "        vertical-align: top;\n",
       "    }\n",
       "\n",
       "    .dataframe thead th {\n",
       "        text-align: right;\n",
       "    }\n",
       "</style>\n",
       "<table border=\"1\" class=\"dataframe\">\n",
       "  <thead>\n",
       "    <tr style=\"text-align: right;\">\n",
       "      <th></th>\n",
       "      <th>var1(t-1)</th>\n",
       "      <th>var2(t-1)</th>\n",
       "      <th>var3(t-1)</th>\n",
       "      <th>var4(t-1)</th>\n",
       "      <th>var5(t-1)</th>\n",
       "      <th>var6(t-1)</th>\n",
       "      <th>var6(t)</th>\n",
       "    </tr>\n",
       "  </thead>\n",
       "  <tbody>\n",
       "    <tr>\n",
       "      <th>1</th>\n",
       "      <td>0.032502</td>\n",
       "      <td>0.038676</td>\n",
       "      <td>0.037776</td>\n",
       "      <td>0.033260</td>\n",
       "      <td>0.042046</td>\n",
       "      <td>0.024436</td>\n",
       "      <td>0.017191</td>\n",
       "    </tr>\n",
       "    <tr>\n",
       "      <th>2</th>\n",
       "      <td>0.026024</td>\n",
       "      <td>0.028504</td>\n",
       "      <td>0.031129</td>\n",
       "      <td>0.024339</td>\n",
       "      <td>0.177541</td>\n",
       "      <td>0.017191</td>\n",
       "      <td>0.018891</td>\n",
       "    </tr>\n",
       "    <tr>\n",
       "      <th>3</th>\n",
       "      <td>0.025585</td>\n",
       "      <td>0.029510</td>\n",
       "      <td>0.027584</td>\n",
       "      <td>0.026432</td>\n",
       "      <td>0.106602</td>\n",
       "      <td>0.018891</td>\n",
       "      <td>0.015671</td>\n",
       "    </tr>\n",
       "    <tr>\n",
       "      <th>4</th>\n",
       "      <td>0.023608</td>\n",
       "      <td>0.028169</td>\n",
       "      <td>0.029024</td>\n",
       "      <td>0.022467</td>\n",
       "      <td>0.098869</td>\n",
       "      <td>0.015671</td>\n",
       "      <td>0.013614</td>\n",
       "    </tr>\n",
       "    <tr>\n",
       "      <th>5</th>\n",
       "      <td>0.021742</td>\n",
       "      <td>0.025822</td>\n",
       "      <td>0.026033</td>\n",
       "      <td>0.019934</td>\n",
       "      <td>0.118674</td>\n",
       "      <td>0.013614</td>\n",
       "      <td>0.018891</td>\n",
       "    </tr>\n",
       "  </tbody>\n",
       "</table>\n",
       "</div>"
      ],
      "text/plain": [
       "   var1(t-1)  var2(t-1)  var3(t-1)  var4(t-1)  var5(t-1)  var6(t-1)   var6(t)\n",
       "1   0.032502   0.038676   0.037776   0.033260   0.042046   0.024436  0.017191\n",
       "2   0.026024   0.028504   0.031129   0.024339   0.177541   0.017191  0.018891\n",
       "3   0.025585   0.029510   0.027584   0.026432   0.106602   0.018891  0.015671\n",
       "4   0.023608   0.028169   0.029024   0.022467   0.098869   0.015671  0.013614\n",
       "5   0.021742   0.025822   0.026033   0.019934   0.118674   0.013614  0.018891"
      ]
     },
     "execution_count": 20,
     "metadata": {},
     "output_type": "execute_result"
    }
   ],
   "source": [
    "# Delete the feature column that we don't need to predict. Predict the closing price and the volume only.\n",
    "reframed.drop(reframed.columns[[6,7,8,9,10,]], axis=1, inplace=True)\n",
    "reframed.head()"
   ]
  },
  {
   "cell_type": "code",
   "execution_count": 21,
   "metadata": {},
   "outputs": [
    {
     "data": {
      "text/plain": [
       "(1510, 7)"
      ]
     },
     "execution_count": 21,
     "metadata": {},
     "output_type": "execute_result"
    }
   ],
   "source": [
    "new_values = reframed.values\n",
    "new_values.shape"
   ]
  },
  {
   "cell_type": "code",
   "execution_count": 22,
   "metadata": {},
   "outputs": [],
   "source": [
    "# Divide the training set and the test set\n",
    "train = np.concatenate([new_values[:1364, :], new_values[1510:, :]])\n",
    "test = new_values[1364:1510, :]"
   ]
  },
  {
   "cell_type": "code",
   "execution_count": 23,
   "metadata": {},
   "outputs": [
    {
     "data": {
      "text/plain": [
       "(146, 6)"
      ]
     },
     "execution_count": 23,
     "metadata": {},
     "output_type": "execute_result"
    }
   ],
   "source": [
    "# Divide the inpput and output of training set and the test set\n",
    "train_X = train[:,:-1]\n",
    "train_y = train[:,-1]\n",
    "test_X = test[:,:-1]\n",
    "test_y = test[:,-1]\n",
    "test_X.shape"
   ]
  },
  {
   "cell_type": "code",
   "execution_count": 24,
   "metadata": {},
   "outputs": [
    {
     "data": {
      "text/plain": [
       "(1364, 1, 6)"
      ]
     },
     "execution_count": 24,
     "metadata": {},
     "output_type": "execute_result"
    }
   ],
   "source": [
    "# Convert to three-dimensional data [samples, timesteps, features]\n",
    "new_train_X = train_X.reshape((train_X.shape[0], 1, train_X.shape[1]))\n",
    "new_test_X = test_X.reshape((test_X.shape[0], 1, test_X.shape[1]))\n",
    "new_train_X.shape"
   ]
  },
  {
   "cell_type": "code",
   "execution_count": 25,
   "metadata": {},
   "outputs": [
    {
     "name": "stdout",
     "output_type": "stream",
     "text": [
      "Model: \"sequential_1\"\n",
      "_________________________________________________________________\n",
      "Layer (type)                 Output Shape              Param #   \n",
      "=================================================================\n",
      "lstm_1 (LSTM)                (None, 64)                18176     \n",
      "_________________________________________________________________\n",
      "dropout_1 (Dropout)          (None, 64)                0         \n",
      "_________________________________________________________________\n",
      "dense_1 (Dense)              (None, 1)                 65        \n",
      "=================================================================\n",
      "Total params: 18,241\n",
      "Trainable params: 18,241\n",
      "Non-trainable params: 0\n",
      "_________________________________________________________________\n"
     ]
    }
   ],
   "source": [
    "# Build LSTM model\n",
    "model = Sequential()\n",
    "model.add(LSTM(64,input_shape=(new_train_X.shape[1],new_train_X.shape[2])))\n",
    "model.add(Dropout(0.5))\n",
    "model.add(Dense(1, activation='relu'))\n",
    "model.compile(loss='mae', optimizer='adam')\n",
    "model.summary()"
   ]
  },
  {
   "cell_type": "code",
   "execution_count": 26,
   "metadata": {},
   "outputs": [
    {
     "name": "stdout",
     "output_type": "stream",
     "text": [
      "Train on 1364 samples, validate on 146 samples\n",
      "Epoch 1/75\n",
      " - 1s - loss: 0.2896 - val_loss: 0.6926\n",
      "Epoch 2/75\n",
      " - 0s - loss: 0.1884 - val_loss: 0.4902\n",
      "Epoch 3/75\n",
      " - 0s - loss: 0.1167 - val_loss: 0.3043\n",
      "Epoch 4/75\n",
      " - 0s - loss: 0.0873 - val_loss: 0.1628\n",
      "Epoch 5/75\n",
      " - 0s - loss: 0.0866 - val_loss: 0.1097\n",
      "Epoch 6/75\n",
      " - 0s - loss: 0.0774 - val_loss: 0.1120\n",
      "Epoch 7/75\n",
      " - 0s - loss: 0.0696 - val_loss: 0.0868\n",
      "Epoch 8/75\n",
      " - 0s - loss: 0.0618 - val_loss: 0.0678\n",
      "Epoch 9/75\n",
      " - 0s - loss: 0.0548 - val_loss: 0.0489\n",
      "Epoch 10/75\n",
      " - 0s - loss: 0.0482 - val_loss: 0.0199\n",
      "Epoch 11/75\n",
      " - 0s - loss: 0.0460 - val_loss: 0.0194\n",
      "Epoch 12/75\n",
      " - 0s - loss: 0.0465 - val_loss: 0.0198\n",
      "Epoch 13/75\n",
      " - 0s - loss: 0.0463 - val_loss: 0.0193\n",
      "Epoch 14/75\n",
      " - 0s - loss: 0.0432 - val_loss: 0.0225\n",
      "Epoch 15/75\n",
      " - 0s - loss: 0.0423 - val_loss: 0.0191\n",
      "Epoch 16/75\n",
      " - 0s - loss: 0.0428 - val_loss: 0.0188\n",
      "Epoch 17/75\n",
      " - 0s - loss: 0.0395 - val_loss: 0.0188\n",
      "Epoch 18/75\n",
      " - 0s - loss: 0.0392 - val_loss: 0.0190\n",
      "Epoch 19/75\n",
      " - 0s - loss: 0.0408 - val_loss: 0.0190\n",
      "Epoch 20/75\n",
      " - 0s - loss: 0.0387 - val_loss: 0.0198\n",
      "Epoch 21/75\n",
      " - 0s - loss: 0.0416 - val_loss: 0.0209\n",
      "Epoch 22/75\n",
      " - 0s - loss: 0.0405 - val_loss: 0.0189\n",
      "Epoch 23/75\n",
      " - 0s - loss: 0.0391 - val_loss: 0.0187\n",
      "Epoch 24/75\n",
      " - 0s - loss: 0.0393 - val_loss: 0.0253\n",
      "Epoch 25/75\n",
      " - 0s - loss: 0.0374 - val_loss: 0.0179\n",
      "Epoch 26/75\n",
      " - 0s - loss: 0.0378 - val_loss: 0.0223\n",
      "Epoch 27/75\n",
      " - 0s - loss: 0.0367 - val_loss: 0.0187\n",
      "Epoch 28/75\n",
      " - 0s - loss: 0.0370 - val_loss: 0.0180\n",
      "Epoch 29/75\n",
      " - 0s - loss: 0.0363 - val_loss: 0.0200\n",
      "Epoch 30/75\n",
      " - 0s - loss: 0.0371 - val_loss: 0.0223\n",
      "Epoch 31/75\n",
      " - 0s - loss: 0.0362 - val_loss: 0.0240\n",
      "Epoch 32/75\n",
      " - 0s - loss: 0.0370 - val_loss: 0.0215\n",
      "Epoch 33/75\n",
      " - 0s - loss: 0.0359 - val_loss: 0.0186\n",
      "Epoch 34/75\n",
      " - 0s - loss: 0.0359 - val_loss: 0.0226\n",
      "Epoch 35/75\n",
      " - 0s - loss: 0.0368 - val_loss: 0.0275\n",
      "Epoch 36/75\n",
      " - 0s - loss: 0.0344 - val_loss: 0.0225\n",
      "Epoch 37/75\n",
      " - 0s - loss: 0.0338 - val_loss: 0.0220\n",
      "Epoch 38/75\n",
      " - 0s - loss: 0.0346 - val_loss: 0.0230\n",
      "Epoch 39/75\n",
      " - 0s - loss: 0.0337 - val_loss: 0.0173\n",
      "Epoch 40/75\n",
      " - 0s - loss: 0.0354 - val_loss: 0.0346\n",
      "Epoch 41/75\n",
      " - 0s - loss: 0.0350 - val_loss: 0.0291\n",
      "Epoch 42/75\n",
      " - 0s - loss: 0.0353 - val_loss: 0.0244\n",
      "Epoch 43/75\n",
      " - 0s - loss: 0.0351 - val_loss: 0.0224\n",
      "Epoch 44/75\n",
      " - 0s - loss: 0.0333 - val_loss: 0.0166\n",
      "Epoch 45/75\n",
      " - 0s - loss: 0.0341 - val_loss: 0.0354\n",
      "Epoch 46/75\n",
      " - 0s - loss: 0.0333 - val_loss: 0.0210\n",
      "Epoch 47/75\n",
      " - 0s - loss: 0.0326 - val_loss: 0.0271\n",
      "Epoch 48/75\n",
      " - 0s - loss: 0.0342 - val_loss: 0.0224\n",
      "Epoch 49/75\n",
      " - 0s - loss: 0.0335 - val_loss: 0.0261\n",
      "Epoch 50/75\n",
      " - 0s - loss: 0.0325 - val_loss: 0.0303\n",
      "Epoch 51/75\n",
      " - 0s - loss: 0.0334 - val_loss: 0.0349\n",
      "Epoch 52/75\n",
      " - 0s - loss: 0.0330 - val_loss: 0.0288\n",
      "Epoch 53/75\n",
      " - 0s - loss: 0.0315 - val_loss: 0.0324\n",
      "Epoch 54/75\n",
      " - 0s - loss: 0.0330 - val_loss: 0.0264\n",
      "Epoch 55/75\n",
      " - 0s - loss: 0.0331 - val_loss: 0.0255\n",
      "Epoch 56/75\n",
      " - 0s - loss: 0.0307 - val_loss: 0.0360\n",
      "Epoch 57/75\n",
      " - 0s - loss: 0.0305 - val_loss: 0.0279\n",
      "Epoch 58/75\n",
      " - 0s - loss: 0.0330 - val_loss: 0.0354\n",
      "Epoch 59/75\n",
      " - 0s - loss: 0.0329 - val_loss: 0.0423\n",
      "Epoch 60/75\n",
      " - 0s - loss: 0.0304 - val_loss: 0.0248\n",
      "Epoch 61/75\n",
      " - 0s - loss: 0.0328 - val_loss: 0.0414\n",
      "Epoch 62/75\n",
      " - 0s - loss: 0.0325 - val_loss: 0.0439\n",
      "Epoch 63/75\n",
      " - 0s - loss: 0.0326 - val_loss: 0.0279\n",
      "Epoch 64/75\n",
      " - 0s - loss: 0.0321 - val_loss: 0.0325\n",
      "Epoch 65/75\n",
      " - 0s - loss: 0.0319 - val_loss: 0.0347\n",
      "Epoch 66/75\n",
      " - 0s - loss: 0.0314 - val_loss: 0.0265\n",
      "Epoch 67/75\n",
      " - 0s - loss: 0.0333 - val_loss: 0.0378\n",
      "Epoch 68/75\n",
      " - 0s - loss: 0.0325 - val_loss: 0.0369\n",
      "Epoch 69/75\n",
      " - 0s - loss: 0.0322 - val_loss: 0.0297\n",
      "Epoch 70/75\n",
      " - 0s - loss: 0.0327 - val_loss: 0.0383\n",
      "Epoch 71/75\n",
      " - 0s - loss: 0.0317 - val_loss: 0.0349\n",
      "Epoch 72/75\n",
      " - 0s - loss: 0.0323 - val_loss: 0.0318\n",
      "Epoch 73/75\n",
      " - 0s - loss: 0.0340 - val_loss: 0.0419\n",
      "Epoch 74/75\n",
      " - 0s - loss: 0.0309 - val_loss: 0.0396\n",
      "Epoch 75/75\n",
      " - 0s - loss: 0.0312 - val_loss: 0.0192\n"
     ]
    }
   ],
   "source": [
    "history = model.fit(new_train_X, train_y, epochs=75, batch_size=100, validation_data=(new_test_X, test_y),verbose=2,\n",
    "                        shuffle=False)"
   ]
  },
  {
   "cell_type": "code",
   "execution_count": 27,
   "metadata": {},
   "outputs": [
    {
     "data": {
      "image/png": "[encoded data removed]",
      "text/plain": [
       "<Figure size 960x480 with 1 Axes>"
      ]
     },
     "metadata": {
      "needs_background": "light"
     },
     "output_type": "display_data"
    }
   ],
   "source": [
    "plt.figure(figsize=(12, 6), dpi=80)\n",
    "plt.plot(history.history['loss'], label='train')\n",
    "plt.plot(history.history['val_loss'], label='test')\n",
    "plt.title('LSTM_TXN_Volume', fontsize='12')\n",
    "plt.ylabel('loss', fontsize='10')\n",
    "plt.xlabel('epoch', fontsize='10')\n",
    "plt.legend()\n",
    "plt.show()"
   ]
  },
  {
   "cell_type": "code",
   "execution_count": 28,
   "metadata": {},
   "outputs": [
    {
     "data": {
      "text/plain": [
       "(146, 1)"
      ]
     },
     "execution_count": 28,
     "metadata": {},
     "output_type": "execute_result"
    }
   ],
   "source": [
    "# Model prediction\n",
    "y_predict = model.predict(new_test_X)\n",
    "y_predict.shape"
   ]
  },
  {
   "cell_type": "code",
   "execution_count": 29,
   "metadata": {},
   "outputs": [
    {
     "data": {
      "text/plain": [
       "(146, 6)"
      ]
     },
     "execution_count": 29,
     "metadata": {},
     "output_type": "execute_result"
    }
   ],
   "source": [
    "# Inversely normalize the predicted results\n",
    "new_test_X2 = new_test_X.reshape((new_test_X.shape[0], new_test_X.shape[2]))\n",
    "new_test_X2.shape"
   ]
  },
  {
   "cell_type": "code",
   "execution_count": 30,
   "metadata": {},
   "outputs": [
    {
     "data": {
      "text/plain": [
       "(146, 6)"
      ]
     },
     "execution_count": 30,
     "metadata": {},
     "output_type": "execute_result"
    }
   ],
   "source": [
    "new_y_test = concatenate((new_test_X2[:,:5], y_predict),axis=1)\n",
    "new_y_test.shape"
   ]
  },
  {
   "cell_type": "code",
   "execution_count": 31,
   "metadata": {},
   "outputs": [],
   "source": [
    "inv_y_test = scaler.inverse_transform(new_y_test)\n",
    "inv_y_predict = inv_y_test[:,-1]"
   ]
  },
  {
   "cell_type": "code",
   "execution_count": 32,
   "metadata": {},
   "outputs": [],
   "source": [
    "# Inversely normalize the real results to scale\n",
    "test_y = test_y.reshape((len(test_y), 1))\n",
    "inv_y_train = concatenate((test_X[:,:5], test_y),axis=1)"
   ]
  },
  {
   "cell_type": "code",
   "execution_count": 33,
   "metadata": {},
   "outputs": [],
   "source": [
    "inv_y_train = scaler.inverse_transform(inv_y_train)\n",
    "inv_y = inv_y_train[:, -1]"
   ]
  },
  {
   "cell_type": "code",
   "execution_count": 34,
   "metadata": {},
   "outputs": [
    {
     "data": {
      "image/png": "[encoded data removed]",
      "text/plain": [
       "<Figure size 960x480 with 1 Axes>"
      ]
     },
     "metadata": {
      "needs_background": "light"
     },
     "output_type": "display_data"
    }
   ],
   "source": [
    "plt.figure(figsize=(12, 6), dpi=80)\n",
    "plt.plot(inv_y, color='red', label='Original')\n",
    "plt.plot(inv_y_predict, color='green', label='Predict')\n",
    "plt.xlabel('the number of test data')\n",
    "plt.ylabel('Volume')\n",
    "plt.title('2019.6.3—2019.12.31')\n",
    "plt.legend()\n",
    "plt.show()"
   ]
  },
  {
   "cell_type": "code",
   "execution_count": 35,
   "metadata": {},
   "outputs": [],
   "source": [
    "mse = mean_squared_error(inv_y, inv_y_predict)\n",
    "rmse = sqrt(mean_squared_error(inv_y, inv_y_predict))\n",
    "mae = mean_absolute_error(inv_y, inv_y_predict)\n",
    "r_square = r2_score(inv_y, inv_y_predict)"
   ]
  },
  {
   "cell_type": "code",
   "execution_count": 36,
   "metadata": {},
   "outputs": [
    {
     "name": "stdout",
     "output_type": "stream",
     "text": [
      "均方误差: 5.633653\n",
      "均方根误差: 2.373532\n",
      "平均绝对误差: 1.816395\n",
      "R_square: 0.843311\n"
     ]
    }
   ],
   "source": [
    "print('均方误差: %.6f' % mse)\n",
    "print('均方根误差: %.6f' % rmse)\n",
    "print('平均绝对误差: %.6f' % mae)\n",
    "print('R_square: %.6f' % r_square)"
   ]
  },
  {
   "cell_type": "code",
   "execution_count": 37,
   "metadata": {},
   "outputs": [],
   "source": [
    "def GM(x,y_label):\n",
    "    # Import time series\n",
    "    lan = []\n",
    "    for i in range(len(x)):\n",
    "        if i == len(x) - 1:\n",
    "            continue\n",
    "        # Calculate stepwise ratio \n",
    "        lan.append(x[i] / x[i + 1])\n",
    "    x_1 = np.cumsum(x)\n",
    "    # Construct data matrix B and data vector\n",
    "    B = np.array([-1 / 2 * (x_1[i] + x_1[i + 1]) for i in range(len(x) - 1)])\n",
    "    B = np.mat(np.vstack((B, np.ones((len(x) - 1,)))).T)\n",
    "    Y = np.mat([x[i + 1] for i in range(len(x) - 1)]).T\n",
    "    u = np.dot(np.dot(B.T.dot(B).I, B.T), Y)\n",
    "    [a, b] = [u[0, 0], u[1, 0]]\n",
    "    a_new, b = x[0] - b / a, b / a\n",
    "    # Input the days that prediction needed\n",
    "    y = 100\n",
    "    y += len(x)\n",
    "    x_predict = [x[0]]\n",
    "    x_predict = x_predict + [a_new * (np.exp(-a * i) - np.exp(-a * (i - 1))) for i in range(1, y)]\n",
    "    plt.figure(figsize=(10, 6), dpi=80)\n",
    "    plt.plot(range(1200, 1510), x[1200:1510], range(1200, 1610), x_predict[1200:1610])\n",
    "    plt.xlabel('Days')\n",
    "    plt.ylabel(y_label)\n",
    "    plt.legend(['Actual', 'Forecast'])\n",
    "    plt.show()\n",
    "    del x_predict[0:1199]\n",
    "    return x_predict"
   ]
  },
  {
   "cell_type": "code",
   "execution_count": 38,
   "metadata": {},
   "outputs": [],
   "source": [
    "def mistakes(n, A, f):\n",
    "    #close=10;volume=500000;\n",
    "    y=[]\n",
    "    for i in range(0,n):\n",
    "        x=2*pi*(i/n)\n",
    "        y.append(A*sin(f*x))\n",
    "    return y"
   ]
  },
  {
   "cell_type": "code",
   "execution_count": 39,
   "metadata": {},
   "outputs": [
    {
     "data": {
      "image/png": "[encoded data removed]",
      "text/plain": [
       "<Figure size 800x480 with 1 Axes>"
      ]
     },
     "metadata": {
      "needs_background": "light"
     },
     "output_type": "display_data"
    }
   ],
   "source": [
    "pre_clo=GM(data['Close'],\"Close\")"
   ]
  },
  {
   "cell_type": "code",
   "execution_count": 40,
   "metadata": {},
   "outputs": [
    {
     "data": {
      "image/png": "[encoded data removed]",
      "text/plain": [
       "<Figure size 800x480 with 1 Axes>"
      ]
     },
     "metadata": {
      "needs_background": "light"
     },
     "output_type": "display_data"
    }
   ],
   "source": [
    "# Predict\n",
    "pre=pd.DataFrame()\n",
    "for i in range(0,99):\n",
    "    pre_clo[i]+=mistakes(100,10,13)[i]\n",
    "pre_vol=GM(data['Volume'],\"Volume\")\n",
    "for i in range(0,99):\n",
    "    pre_vol[i]+=mistakes(100,500000,9)[i]"
   ]
  },
  {
   "cell_type": "code",
   "execution_count": 41,
   "metadata": {},
   "outputs": [
    {
     "name": "stdout",
     "output_type": "stream",
     "text": [
      "本金 =  738165.289370131\n",
      "期末持有股票 =  3720\n",
      "佣金总计 =  2624.462722529548\n",
      "收益率 =  0.1555028900267326\n"
     ]
    }
   ],
   "source": [
    "pre[\"Close\"] = pre_clo\n",
    "pre[\"MA5_Close\"] = moving_average(pre_clo, 5, 'simple')\n",
    "pre[\"MA10_Close\"] = moving_average(pre_clo, 10, 'simple')\n",
    "pre[\"MA5_Volume\"] = moving_average(pre_vol, 5, 'simple')\n",
    "pre[\"MA10_Volume\"] = moving_average(pre_vol, 10, 'simple')\n",
    "meaning(pre,100)"
   ]
  },
  {
   "cell_type": "code",
   "execution_count": 42,
   "metadata": {},
   "outputs": [
    {
     "data": {
      "text/plain": [
       "'temp-plot.html'"
      ]
     },
     "execution_count": 42,
     "metadata": {},
     "output_type": "execute_result"
    }
   ],
   "source": [
    "# plot prediction\n",
    "data = [go.Scatter(x=pd.date_range(start='2020-1-1',periods=100,freq='D'),y=pre['MA5_Close'],name='MA5_Close'),\n",
    "            go.Scatter(x=pd.date_range(start='2020-1-1',periods=100,freq='D'),y=pre['MA10_Close'],name='MA10_Close')]\n",
    "layout = go.Layout(title='TXN-Close')\n",
    "fig = go.Figure(data=data, layout=layout)\n",
    "plot(fig)"
   ]
  },
  {
   "cell_type": "code",
   "execution_count": null,
   "metadata": {},
   "outputs": [],
   "source": [
    "# Position on hand is greater than or equal to zero\n",
    "# Gold cross, buy 50%; Death cross, sell 50%;\n",
    "# Position = 1 million, commission rate = 0.0002;\n",
    "# Rate of return = (sell price - buy price) X volume - sell volume X commission rate"
   ]
  }
 ],
 "metadata": {
  "kernelspec": {
   "display_name": "Python 3",
   "language": "python",
   "name": "python3"
  },
  "language_info": {
   "codemirror_mode": {
    "name": "ipython",
    "version": 3
   },
   "file_extension": ".py",
   "mimetype": "text/x-python",
   "name": "python",
   "nbconvert_exporter": "python",
   "pygments_lexer": "ipython3",
   "version": "3.7.3"
  }
 },
 "nbformat": 4,
 "nbformat_minor": 4
}
