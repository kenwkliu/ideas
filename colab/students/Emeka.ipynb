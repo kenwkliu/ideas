{
 "cells": [
  {
   "cell_type": "code",
   "execution_count": 1,
   "metadata": {},
   "outputs": [
    {
     "name": "stderr",
     "output_type": "stream",
     "text": [
      "In C:\\Users\\Emeka\\anaconda3\\lib\\site-packages\\matplotlib\\mpl-data\\stylelib\\_classic_test.mplstyle: \n",
      "The text.latex.preview rcparam was deprecated in Matplotlib 3.3 and will be removed two minor releases later.\n",
      "In C:\\Users\\Emeka\\anaconda3\\lib\\site-packages\\matplotlib\\mpl-data\\stylelib\\_classic_test.mplstyle: \n",
      "The mathtext.fallback_to_cm rcparam was deprecated in Matplotlib 3.3 and will be removed two minor releases later.\n",
      "In C:\\Users\\Emeka\\anaconda3\\lib\\site-packages\\matplotlib\\mpl-data\\stylelib\\_classic_test.mplstyle: Support for setting the 'mathtext.fallback_to_cm' rcParam is deprecated since 3.3 and will be removed two minor releases later; use 'mathtext.fallback : 'cm' instead.\n",
      "In C:\\Users\\Emeka\\anaconda3\\lib\\site-packages\\matplotlib\\mpl-data\\stylelib\\_classic_test.mplstyle: \n",
      "The validate_bool_maybe_none function was deprecated in Matplotlib 3.3 and will be removed two minor releases later.\n",
      "In C:\\Users\\Emeka\\anaconda3\\lib\\site-packages\\matplotlib\\mpl-data\\stylelib\\_classic_test.mplstyle: \n",
      "The savefig.jpeg_quality rcparam was deprecated in Matplotlib 3.3 and will be removed two minor releases later.\n",
      "In C:\\Users\\Emeka\\anaconda3\\lib\\site-packages\\matplotlib\\mpl-data\\stylelib\\_classic_test.mplstyle: \n",
      "The keymap.all_axes rcparam was deprecated in Matplotlib 3.3 and will be removed two minor releases later.\n",
      "In C:\\Users\\Emeka\\anaconda3\\lib\\site-packages\\matplotlib\\mpl-data\\stylelib\\_classic_test.mplstyle: \n",
      "The animation.avconv_path rcparam was deprecated in Matplotlib 3.3 and will be removed two minor releases later.\n",
      "In C:\\Users\\Emeka\\anaconda3\\lib\\site-packages\\matplotlib\\mpl-data\\stylelib\\_classic_test.mplstyle: \n",
      "The animation.avconv_args rcparam was deprecated in Matplotlib 3.3 and will be removed two minor releases later.\n"
     ]
    }
   ],
   "source": [
    "import pandas as pd\n",
    "import numpy as np\n",
    "import matplotlib.pyplot as plt\n",
    "import seaborn as sns\n",
    "%matplotlib inline\n",
    "#import finnhub\n",
    "import cufflinks as cf\n",
    "cf.go_offline\n",
    "from datetime import datetime\n",
    "from tqdm import trange\n",
    "from pandas_datareader import data\n",
    "import yfinance as yf\n",
    "\n",
    "import warnings\n",
    "warnings.filterwarnings('ignore')"
   ]
  },
  {
   "cell_type": "markdown",
   "metadata": {},
   "source": [
    "# Load Data"
   ]
  },
  {
   "cell_type": "code",
   "execution_count": 2,
   "metadata": {},
   "outputs": [
    {
     "data": {
      "text/html": [
       "<div>\n",
       "<style scoped>\n",
       "    .dataframe tbody tr th:only-of-type {\n",
       "        vertical-align: middle;\n",
       "    }\n",
       "\n",
       "    .dataframe tbody tr th {\n",
       "        vertical-align: top;\n",
       "    }\n",
       "\n",
       "    .dataframe thead th {\n",
       "        text-align: right;\n",
       "    }\n",
       "</style>\n",
       "<table border=\"1\" class=\"dataframe\">\n",
       "  <thead>\n",
       "    <tr style=\"text-align: right;\">\n",
       "      <th></th>\n",
       "      <th>Open</th>\n",
       "      <th>High</th>\n",
       "      <th>Low</th>\n",
       "      <th>Close</th>\n",
       "      <th>Adj Close</th>\n",
       "      <th>Volume</th>\n",
       "    </tr>\n",
       "    <tr>\n",
       "      <th>Date</th>\n",
       "      <th></th>\n",
       "      <th></th>\n",
       "      <th></th>\n",
       "      <th></th>\n",
       "      <th></th>\n",
       "      <th></th>\n",
       "    </tr>\n",
       "  </thead>\n",
       "  <tbody>\n",
       "    <tr>\n",
       "      <th>2011-02-01</th>\n",
       "      <td>4.862000</td>\n",
       "      <td>4.946000</td>\n",
       "      <td>4.708000</td>\n",
       "      <td>4.782000</td>\n",
       "      <td>4.782000</td>\n",
       "      <td>3539000</td>\n",
       "    </tr>\n",
       "    <tr>\n",
       "      <th>2011-02-02</th>\n",
       "      <td>4.832000</td>\n",
       "      <td>4.836000</td>\n",
       "      <td>4.734000</td>\n",
       "      <td>4.788000</td>\n",
       "      <td>4.788000</td>\n",
       "      <td>2847500</td>\n",
       "    </tr>\n",
       "    <tr>\n",
       "      <th>2011-02-03</th>\n",
       "      <td>4.764000</td>\n",
       "      <td>4.780000</td>\n",
       "      <td>4.630000</td>\n",
       "      <td>4.726000</td>\n",
       "      <td>4.726000</td>\n",
       "      <td>2560000</td>\n",
       "    </tr>\n",
       "    <tr>\n",
       "      <th>2011-02-04</th>\n",
       "      <td>4.688000</td>\n",
       "      <td>4.734000</td>\n",
       "      <td>4.644000</td>\n",
       "      <td>4.692000</td>\n",
       "      <td>4.692000</td>\n",
       "      <td>2720000</td>\n",
       "    </tr>\n",
       "    <tr>\n",
       "      <th>2011-02-07</th>\n",
       "      <td>4.652000</td>\n",
       "      <td>4.652000</td>\n",
       "      <td>4.576000</td>\n",
       "      <td>4.614000</td>\n",
       "      <td>4.614000</td>\n",
       "      <td>4475500</td>\n",
       "    </tr>\n",
       "    <tr>\n",
       "      <th>...</th>\n",
       "      <td>...</td>\n",
       "      <td>...</td>\n",
       "      <td>...</td>\n",
       "      <td>...</td>\n",
       "      <td>...</td>\n",
       "      <td>...</td>\n",
       "    </tr>\n",
       "    <tr>\n",
       "      <th>2021-01-25</th>\n",
       "      <td>855.000000</td>\n",
       "      <td>900.400024</td>\n",
       "      <td>838.820007</td>\n",
       "      <td>880.799988</td>\n",
       "      <td>880.799988</td>\n",
       "      <td>41173400</td>\n",
       "    </tr>\n",
       "    <tr>\n",
       "      <th>2021-01-26</th>\n",
       "      <td>891.380005</td>\n",
       "      <td>895.900024</td>\n",
       "      <td>871.599976</td>\n",
       "      <td>883.090027</td>\n",
       "      <td>883.090027</td>\n",
       "      <td>23131600</td>\n",
       "    </tr>\n",
       "    <tr>\n",
       "      <th>2021-01-27</th>\n",
       "      <td>870.349976</td>\n",
       "      <td>891.500000</td>\n",
       "      <td>858.659973</td>\n",
       "      <td>864.159973</td>\n",
       "      <td>864.159973</td>\n",
       "      <td>27334000</td>\n",
       "    </tr>\n",
       "    <tr>\n",
       "      <th>2021-01-28</th>\n",
       "      <td>820.000000</td>\n",
       "      <td>848.000000</td>\n",
       "      <td>801.000000</td>\n",
       "      <td>835.429993</td>\n",
       "      <td>835.429993</td>\n",
       "      <td>26378000</td>\n",
       "    </tr>\n",
       "    <tr>\n",
       "      <th>2021-01-29</th>\n",
       "      <td>830.000000</td>\n",
       "      <td>842.409973</td>\n",
       "      <td>780.099976</td>\n",
       "      <td>793.530029</td>\n",
       "      <td>793.530029</td>\n",
       "      <td>34990800</td>\n",
       "    </tr>\n",
       "  </tbody>\n",
       "</table>\n",
       "<p>2516 rows × 6 columns</p>\n",
       "</div>"
      ],
      "text/plain": [
       "                  Open        High         Low       Close   Adj Close  \\\n",
       "Date                                                                     \n",
       "2011-02-01    4.862000    4.946000    4.708000    4.782000    4.782000   \n",
       "2011-02-02    4.832000    4.836000    4.734000    4.788000    4.788000   \n",
       "2011-02-03    4.764000    4.780000    4.630000    4.726000    4.726000   \n",
       "2011-02-04    4.688000    4.734000    4.644000    4.692000    4.692000   \n",
       "2011-02-07    4.652000    4.652000    4.576000    4.614000    4.614000   \n",
       "...                ...         ...         ...         ...         ...   \n",
       "2021-01-25  855.000000  900.400024  838.820007  880.799988  880.799988   \n",
       "2021-01-26  891.380005  895.900024  871.599976  883.090027  883.090027   \n",
       "2021-01-27  870.349976  891.500000  858.659973  864.159973  864.159973   \n",
       "2021-01-28  820.000000  848.000000  801.000000  835.429993  835.429993   \n",
       "2021-01-29  830.000000  842.409973  780.099976  793.530029  793.530029   \n",
       "\n",
       "              Volume  \n",
       "Date                  \n",
       "2011-02-01   3539000  \n",
       "2011-02-02   2847500  \n",
       "2011-02-03   2560000  \n",
       "2011-02-04   2720000  \n",
       "2011-02-07   4475500  \n",
       "...              ...  \n",
       "2021-01-25  41173400  \n",
       "2021-01-26  23131600  \n",
       "2021-01-27  27334000  \n",
       "2021-01-28  26378000  \n",
       "2021-01-29  34990800  \n",
       "\n",
       "[2516 rows x 6 columns]"
      ]
     },
     "execution_count": 2,
     "metadata": {},
     "output_type": "execute_result"
    }
   ],
   "source": [
    "#start = '2011-2-1'\n",
    "#data = yf.download('USDT_BTC', start)\n",
    "df = pd.read_csv('TSLA - Feb 11 to 21.csv', index_col='Date', parse_dates=True)\n",
    "#df.set_index('Date', inplace=True)\n",
    "df"
   ]
  },
  {
   "cell_type": "code",
   "execution_count": null,
   "metadata": {},
   "outputs": [],
   "source": []
  },
  {
   "cell_type": "markdown",
   "metadata": {},
   "source": [
    "# Define fuctions for chart and strategy"
   ]
  },
  {
   "cell_type": "code",
   "execution_count": 3,
   "metadata": {},
   "outputs": [],
   "source": [
    "#Define function for interactive chart\n",
    "def chart_df(df):\n",
    "    \"\"\"\n",
    "    Plot interactive charts\n",
    "    \n",
    "    Args:\n",
    "        df(DataFrame): OPHLCAV Dataframe\n",
    "        \n",
    "        Returns:\n",
    "            Plot: OPHLCAV Price chart\n",
    "    \"\"\"\n",
    "    qt = cf.QuantFig(df, kind='candle', title='TESLA')\n",
    "    qt.add_volume()\n",
    "    qt.add_ema([50, 200], width=2, color=['green', 'red'], legendgroup=True)\n",
    "    plot = qt.iplot(asFigure=True)\n",
    "    return plot"
   ]
  },
  {
   "cell_type": "code",
   "execution_count": 4,
   "metadata": {},
   "outputs": [],
   "source": [
    "#Backtest, strategy and optimize\n",
    "class Backtest:\n",
    "    \"\"\"Defines, optimize and backtest trading strategy\"\"\"\n",
    "    \n",
    "    def __init__(self, df, capital, order_size):\n",
    "        \"\"\"Iniitialize our backtest\n",
    "        \n",
    "            Args:\n",
    "                df(DataFrame): OPHLCAV Dataframe\n",
    "                capital: Amount to be spent on shares\n",
    "                order_size: Number of shares to buy on each buy and sale order\n",
    "        \"\"\"\n",
    "        global amount\n",
    "        amount = capital\n",
    "        self.df = df.copy()\n",
    "        self.amount = capital\n",
    "        self.order_size = order_size\n",
    "        \n",
    "    def strategy(self, short_ma, long_ma):\n",
    "        \"\"\"Backtest the performance of the moving average crossover\n",
    "        \n",
    "            Args:\n",
    "                short_ma: Short moving average window\n",
    "                long_ma: Long moving average window\n",
    "            \n",
    "            Returns:\n",
    "                Dataframe backtest result\n",
    "                \n",
    "        \"\"\"\n",
    "        \n",
    "        b_df = self.df[['Close']]\n",
    "        b_df.columns = ['Price']\n",
    "        b_df['Short MA'] = b_df['Price'].rolling(short_ma).mean()\n",
    "        b_df['Long MA'] = b_df['Price'].rolling(long_ma).mean()\n",
    "        b_df['Diff'] = b_df['Short MA'] - b_df['Long MA']\n",
    "        b_df['Signal'] = b_df['Diff'].apply(lambda x: (x*0) + 1 if x > 0 else (x*0) - 1 if x < 0 else 0)\n",
    "        b_df['Long'] = b_df['Price'] * (b_df['Signal'][b_df['Signal'] == 1]) * self.order_size\n",
    "        b_df['Short'] = b_df['Price'] * (b_df['Signal'][b_df['Signal'] == -1]) * self.order_size\n",
    "        b_df['Returns'] = b_df['Long'].pct_change().fillna(0) + b_df['Short'].pct_change().fillna(0)\n",
    "        b_df['Cum Return'] = (b_df['Returns']+1).cumprod()\n",
    "        b_df['Portfolio'] = b_df['Cum Return'] * self.amount\n",
    "        return b_df\n",
    "    \n",
    "    def optimize(self, long_mas, short_mas):\n",
    "        \"\"\"Select the best parameter for the backtest of trading strategy\n",
    "            \n",
    "            Args:\n",
    "                short_mas(int): Maximum short moving average window\n",
    "                long_mas(int): maximum long moving average window\n",
    "            Returns:\n",
    "                Dataframe: optimum strategy parameters\n",
    "                \n",
    "        \"\"\"\n",
    "        parameters = []\n",
    "        for long_ma in trange(0, long_mas+1, 5):\n",
    "            for short_ma in range(0, short_mas+1, 5):\n",
    "                if long_ma > short_ma:\n",
    "                    b_df = Backtest.strategy(self, short_ma, long_ma)\n",
    "                    port_return = round(((b_df['Portfolio'].iloc[-1]/b_df['Portfolio'].iloc[0])) * 100,2)\n",
    "                    try:\n",
    "                        sharpe_ratio = round((b_df['Returns'].mean()/b_df['Returns'].std()), 2)\n",
    "                    except:\n",
    "                        sharpe_ratio = None\n",
    "                    parameter = {'Short MA': short_ma, 'Long MA': long_ma, 'Total Portfolio Return': port_return,\n",
    "                                         'Sharpe Ratio': sharpe_ratio}\n",
    "                    parameters.append(parameter)\n",
    "        parameters_df = pd.DataFrame(parameters).set_index(['Short MA', 'Long MA'])\n",
    "        best_parameters = parameters_df[parameters_df['Total Portfolio Return'] == parameters_df['Total Portfolio Return'].max()]\n",
    "        self.short_ma = best_parameters.index[0][0]\n",
    "        self.long_ma = best_parameters.index[0][1]\n",
    "        return best_parameters\n",
    "    \n",
    "    #plotting the backtest result\n",
    "    def plot(self):\n",
    "        \"\"\"Plots the backtest result\"\"\"\n",
    "        \n",
    "        b_df = Backtest.strategy(self, self.short_ma, self.long_ma)\n",
    "        b_df[['Price', 'Short MA', 'Long MA']].plot(title='Price', figsize=(12,8))\n",
    "        plt.show()\n",
    "        b_df['Signal'].plot(title='Signals', figsize=(12,8))\n",
    "        plt.show()\n",
    "        b_df['Returns'].plot(title='Returns', figsize=(12,8))\n",
    "        plt.show()\n",
    "        b_df['Cum Return'].plot(title='Cumulative Returns', figsize=(12,8))\n",
    "        plt.show()\n",
    "        return b_df\n",
    "    "
   ]
  },
  {
   "cell_type": "code",
   "execution_count": 5,
   "metadata": {},
   "outputs": [],
   "source": [
    "bt = Backtest(df, 1000, 1)"
   ]
  },
  {
   "cell_type": "code",
   "execution_count": 6,
   "metadata": {},
   "outputs": [
    {
     "name": "stderr",
     "output_type": "stream",
     "text": [
      "100%|██████████████████████████████████████████████████████████████████████████████████| 11/11 [00:03<00:00,  3.65it/s]\n"
     ]
    },
    {
     "data": {
      "text/html": [
       "<div>\n",
       "<style scoped>\n",
       "    .dataframe tbody tr th:only-of-type {\n",
       "        vertical-align: middle;\n",
       "    }\n",
       "\n",
       "    .dataframe tbody tr th {\n",
       "        vertical-align: top;\n",
       "    }\n",
       "\n",
       "    .dataframe thead th {\n",
       "        text-align: right;\n",
       "    }\n",
       "</style>\n",
       "<table border=\"1\" class=\"dataframe\">\n",
       "  <thead>\n",
       "    <tr style=\"text-align: right;\">\n",
       "      <th></th>\n",
       "      <th></th>\n",
       "      <th>Total Portfolio Return</th>\n",
       "      <th>Sharpe Ratio</th>\n",
       "    </tr>\n",
       "    <tr>\n",
       "      <th>Short MA</th>\n",
       "      <th>Long MA</th>\n",
       "      <th></th>\n",
       "      <th></th>\n",
       "    </tr>\n",
       "  </thead>\n",
       "  <tbody>\n",
       "    <tr>\n",
       "      <th>10</th>\n",
       "      <th>15</th>\n",
       "      <td>3154943.98</td>\n",
       "      <td>0.08</td>\n",
       "    </tr>\n",
       "  </tbody>\n",
       "</table>\n",
       "</div>"
      ],
      "text/plain": [
       "                  Total Portfolio Return  Sharpe Ratio\n",
       "Short MA Long MA                                      \n",
       "10       15                   3154943.98          0.08"
      ]
     },
     "execution_count": 6,
     "metadata": {},
     "output_type": "execute_result"
    }
   ],
   "source": [
    "bt.optimize(50,200)"
   ]
  },
  {
   "cell_type": "markdown",
   "metadata": {},
   "source": [
    "# EDA & Feature Enginerring"
   ]
  },
  {
   "cell_type": "markdown",
   "metadata": {},
   "source": [
    "# Define our model"
   ]
  },
  {
   "cell_type": "code",
   "execution_count": null,
   "metadata": {},
   "outputs": [],
   "source": [
    "#df.describe().T"
   ]
  },
  {
   "cell_type": "code",
   "execution_count": null,
   "metadata": {},
   "outputs": [],
   "source": [
    "#df.isnull().sum()"
   ]
  },
  {
   "cell_type": "code",
   "execution_count": null,
   "metadata": {},
   "outputs": [],
   "source": [
    "#df['previous_day_admission_influenza_confirmed_7_day_sum']#.isnull().sum()"
   ]
  },
  {
   "cell_type": "markdown",
   "metadata": {},
   "source": [
    "**Dealing with missing values**"
   ]
  },
  {
   "cell_type": "code",
   "execution_count": null,
   "metadata": {},
   "outputs": [],
   "source": [
    "#missing_val = ['N/a', 0, '--', ' ']"
   ]
  },
  {
   "cell_type": "code",
   "execution_count": null,
   "metadata": {},
   "outputs": [],
   "source": [
    "#df = pd.read_csv(url, na_values=missing_val)"
   ]
  },
  {
   "cell_type": "code",
   "execution_count": null,
   "metadata": {},
   "outputs": [],
   "source": [
    "#df.isnull().sum().sum()"
   ]
  },
  {
   "cell_type": "code",
   "execution_count": null,
   "metadata": {},
   "outputs": [],
   "source": [
    "#df.isnull().values.any()"
   ]
  },
  {
   "cell_type": "code",
   "execution_count": null,
   "metadata": {},
   "outputs": [],
   "source": [
    "#df.head()"
   ]
  },
  {
   "cell_type": "code",
   "execution_count": null,
   "metadata": {},
   "outputs": [],
   "source": [
    "#df['collection_week'] = pd.to_datetime(df['collection_week'])"
   ]
  },
  {
   "cell_type": "code",
   "execution_count": null,
   "metadata": {},
   "outputs": [],
   "source": [
    "#df['collection_week'][0]"
   ]
  },
  {
   "cell_type": "code",
   "execution_count": null,
   "metadata": {},
   "outputs": [],
   "source": [
    "#Drop some irrelevant columns\n",
    "#df = df.drop('hospital_pk', axis=1)"
   ]
  },
  {
   "cell_type": "code",
   "execution_count": null,
   "metadata": {},
   "outputs": [],
   "source": [
    "#df.columns"
   ]
  },
  {
   "cell_type": "code",
   "execution_count": null,
   "metadata": {},
   "outputs": [],
   "source": [
    "#total_missing = df.isnull().sum().sort_values(ascending=False)\n",
    "#perc_missing = (df.isnull().sum()/df.isnull().count()).sort_values(ascending=False)\n",
    "#missing = pd.concat([total_missing, perc_missing], axis=1, keys=['Total', 'Percentage'])\n",
    "#missing.head(50)"
   ]
  },
  {
   "cell_type": "code",
   "execution_count": null,
   "metadata": {},
   "outputs": [],
   "source": [
    "#df.isnull().sum().count()"
   ]
  },
  {
   "cell_type": "code",
   "execution_count": null,
   "metadata": {},
   "outputs": [],
   "source": []
  }
 ],
 "metadata": {
  "kernelspec": {
   "display_name": "Python 3",
   "language": "python",
   "name": "python3"
  },
  "language_info": {
   "codemirror_mode": {
    "name": "ipython",
    "version": 3
   },
   "file_extension": ".py",
   "mimetype": "text/x-python",
   "name": "python",
   "nbconvert_exporter": "python",
   "pygments_lexer": "ipython3",
   "version": "3.8.3"
  }
 },
 "nbformat": 4,
 "nbformat_minor": 4
}
