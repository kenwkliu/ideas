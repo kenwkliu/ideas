{
  "nbformat": 4,
  "nbformat_minor": 0,
  "metadata": {
    "colab": {
      "name": "Copy of StudentPresents.ipynb",
      "provenance": [],
      "collapsed_sections": [],
      "authorship_tag": "ABX9TyMcUK82+TSSrwu6WP3cwQdM"
    },
    "kernelspec": {
      "name": "python3",
      "display_name": "Python 3"
    }
  },
  "cells": [
    {
      "cell_type": "code",
      "metadata": {
        "id": "DgSB6OVbjk49",
        "colab_type": "code",
        "colab": {}
      },
      "source": [
        "# 1. 'Simon Chau'"
      ],
      "execution_count": null,
      "outputs": []
    },
    {
      "cell_type": "code",
      "metadata": {
        "id": "ShRbpSTexdy4",
        "colab_type": "code",
        "colab": {}
      },
      "source": [
        "from random import randint\n",
        "\n",
        "students=[\n",
        "'Ada Tse',\n",
        "'Betty Poon',\n",
        "'Eric Huang',             \n",
        "'Hong Lin',\n",
        "'I Ching Wong',\n",
        "'Ida Tuen',\n",
        "'Kevin Chan',\n",
        "'Lawrance Yik',\n",
        "'Luke Leong',\n",
        "'SunSun Wong'\n",
        "]\n",
        "\n",
        "students[randint(0, len(students)-1)]"
      ],
      "execution_count": null,
      "outputs": []
    }
  ]
}