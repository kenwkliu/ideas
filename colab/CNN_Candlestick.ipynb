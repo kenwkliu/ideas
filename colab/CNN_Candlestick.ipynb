{
  "nbformat": 4,
  "nbformat_minor": 0,
  "metadata": {
    "colab": {
      "private_outputs": true,
      "provenance": [],
      "gpuType": "T4",
      "authorship_tag": "ABX9TyNt0WsUMavJhcZipiR1lHiM",
      "include_colab_link": true
    },
    "kernelspec": {
      "name": "python3",
      "display_name": "Python 3"
    },
    "language_info": {
      "name": "python"
    },
    "accelerator": "GPU"
  },
  "cells": [
    {
      "cell_type": "markdown",
      "metadata": {
        "id": "view-in-github",
        "colab_type": "text"
      },
      "source": [
        "<a href=\"https://colab.research.google.com/github/kenwkliu/ideas/blob/master/colab/CNN_Candlestick.ipynb\" target=\"_parent\"><img src=\"https://colab.research.google.com/assets/colab-badge.svg\" alt=\"Open In Colab\"/></a>"
      ]
    },
    {
      "cell_type": "code",
      "execution_count": null,
      "metadata": {
        "id": "RtxnD1T1LFoI",
        "cellView": "form"
      },
      "outputs": [],
      "source": [
        "#@title Execute this block to start importing the libraries and helper functions\n",
        "\n",
        "!pip install -q kaleido\n",
        "\n",
        "import numpy as np\n",
        "import pandas as pd\n",
        "import yfinance as yf\n",
        "import plotly.graph_objects as go\n",
        "\n",
        "# Enable Google interactive table\n",
        "from google.colab import data_table\n",
        "data_table.enable_dataframe_formatter()\n",
        "\n",
        "\n",
        "my_layout = go.Layout(\n",
        "    autosize=True,\n",
        "    width=300,\n",
        "    height=150,\n",
        "    margin=dict(l=0, r=0, t=0, b=0),\n",
        "    xaxis_rangeslider_visible=False,\n",
        "    showlegend=False,\n",
        "    yaxis={'visible': False, 'showticklabels': False},\n",
        "    xaxis={'visible': False, 'showticklabels': False}\n",
        ")\n",
        "\n",
        "\n",
        "def getFigure(df, start, end):\n",
        "  fig = go.Figure(data=[go.Candlestick(\n",
        "                  x=df.loc[start:end,'Date'],\n",
        "                  open=df.loc[start:end,'Open'],\n",
        "                  high=df.loc[start:end,'High'],\n",
        "                  low=df.loc[start:end,'Low'],\n",
        "                  close=df.loc[start:end,'Close'])],\n",
        "                  layout=my_layout)\n",
        "\n",
        "  fig.add_trace(\n",
        "      go.Scatter(\n",
        "          x=df.loc[start:end,'Date'],\n",
        "          y=df.loc[start:end,'lead'],\n",
        "          line=dict(color=\"yellow\")\n",
        "      ))\n",
        "\n",
        "  fig.add_trace(\n",
        "      go.Scatter(\n",
        "          x=df.loc[start:end,'Date'],\n",
        "          y=df.loc[start:end,'lag'],\n",
        "          line=dict(color=\"violet\")\n",
        "      ))\n",
        "\n",
        "  return fig\n",
        "\n",
        "\n",
        "def assignLabel(number, thresholdPct=5):\n",
        "  if number < -thresholdPct:\n",
        "    return -1\n",
        "  elif number > thresholdPct:\n",
        "    return 1\n",
        "  else:\n",
        "    return 0"
      ]
    },
    {
      "cell_type": "code",
      "source": [
        "#@title 1: Download historical daily data from Yahoo Finance\n",
        "\n",
        "ticker = 'BTC-USD' # @param [\"BTC-USD\", \"ETH-USD\", \"NVDA\", \"0700.HK\", \"2628.HK\", \"0941.HK\", \"0939.HK\"] {allow-input: true}\n",
        "startDate = '2010-01-01' #@param {type:\"date\"}\n",
        "\n",
        "stock = yf.Ticker(ticker)\n",
        "\n",
        "# get stocks daily data OHLCV (Open/High/Low/Close/Volume) from Yahoo Finance\n",
        "df= stock.history(start=startDate)\n",
        "df.reset_index(inplace=True)\n",
        "df['Date'] = df['Date'].dt.date\n",
        "\n",
        "df"
      ],
      "metadata": {
        "cellView": "form",
        "id": "SIsHcuHuMQ6u"
      },
      "execution_count": null,
      "outputs": []
    },
    {
      "cell_type": "code",
      "source": [
        "lead = 45\n",
        "lag = 125\n",
        "\n",
        "df['lead'] = df['Close'].rolling(lead).mean()\n",
        "df['lag'] = df['Close'].rolling(lag).mean()\n",
        "\n",
        "# Remove the NaN rows\n",
        "df.dropna(inplace=True)\n",
        "df.reset_index(inplace=True)\n",
        "\n",
        "COLUMNS = ['Date', 'Open', 'High', 'Low', 'Close', 'lead', 'lag']\n",
        "df[COLUMNS]"
      ],
      "metadata": {
        "id": "odiqklxKMdWf"
      },
      "execution_count": null,
      "outputs": []
    },
    {
      "cell_type": "code",
      "source": [
        "timespan = 40\n",
        "ret_timespan = 10\n",
        "step = 5\n",
        "\n",
        "dataSet = []\n",
        "for idx in range(0, len(df) - timespan - ret_timespan, step):\n",
        "  end = idx + timespan\n",
        "  fig = getFigure(df, idx, end)\n",
        "  retPct = (df.loc[end + ret_timespan, 'Close'] / df.loc[end,'Close'] -1) * 100\n",
        "  dataSet.append((fig, assignLabel(retPct)))\n",
        "\n",
        "  print(df.loc[idx, 'Date'], df.loc[end, 'Date'], df.loc[end + ret_timespan, 'Date'], retPct)\n"
      ],
      "metadata": {
        "id": "tguvpYI2MlOV"
      },
      "execution_count": null,
      "outputs": []
    },
    {
      "cell_type": "code",
      "source": [
        "for i in range(0, 5):\n",
        "  dataSet[i][0].show()\n",
        "  print(\"label={}\".format(dataSet[i][1]))"
      ],
      "metadata": {
        "id": "ZCs643HiMtB5"
      },
      "execution_count": null,
      "outputs": []
    },
    {
      "cell_type": "code",
      "source": [
        "''' The following CNN code is generated by ChatGPT-4 withe the following prompt:\n",
        "I have Python list of tuple. In the tuple,\n",
        "the first element is a plotly figure (300x150 pixels, RGB),\n",
        "the second element is the corresponding label (-1, 0, 1).\n",
        "Please write a Python function taking the list as input and\n",
        "use TensorFlow CNN deep learning method to use the\n",
        "first 80% of the samples as training and using the remaining 20% as testing samples.\n",
        "'''\n",
        "import tensorflow as tf\n",
        "from tensorflow.keras import layers, models\n",
        "from plotly.io import to_image\n",
        "import numpy as np\n",
        "from PIL import Image\n",
        "import io\n",
        "\n",
        "def preprocess_figure(fig, size=(300, 150)):\n",
        "    # Convert Plotly figure to PNG bytes and then to a PIL Image\n",
        "    img_bytes = to_image(fig, format='png', width=size[0], height=size[1], scale=1)\n",
        "    img = Image.open(io.BytesIO(img_bytes))\n",
        "    return np.array(img)\n",
        "\n",
        "def encode_labels(labels):\n",
        "    # Encode labels from -1, 0, 1 to 0, 1, 2 for compatibility with sparse_categorical_crossentropy\n",
        "    return np.array(labels) + 1\n",
        "\n",
        "def build_cnn_model(input_shape, num_classes):\n",
        "    model = models.Sequential([\n",
        "        layers.Conv2D(32, (3, 3), activation='relu', input_shape=input_shape),\n",
        "        layers.MaxPooling2D((2, 2)),\n",
        "        layers.Conv2D(64, (3, 3), activation='relu'),\n",
        "        layers.MaxPooling2D((2, 2)),\n",
        "        layers.Conv2D(64, (3, 3), activation='relu'),\n",
        "        layers.Flatten(),\n",
        "        layers.Dense(64, activation='relu'),\n",
        "        layers.Dense(num_classes, activation='softmax')\n",
        "    ])\n",
        "    model.compile(optimizer='adam',\n",
        "                  loss='sparse_categorical_crossentropy',\n",
        "                  metrics=['accuracy'])\n",
        "    return model\n",
        "\n",
        "def train_test_model(figures_list):\n",
        "    # Preprocess figures and labels\n",
        "    images = [preprocess_figure(fig) for fig, _ in figures_list]\n",
        "    labels = encode_labels([label for _, label in figures_list])\n",
        "\n",
        "    # Convert images and labels to numpy arrays\n",
        "    images = np.array(images)\n",
        "\n",
        "    # Normalize pixel values to be between 0 and 1\n",
        "    images = images / 255.0\n",
        "\n",
        "    # Split data into training and testing sets\n",
        "    split_index = int(len(images) * 0.8)\n",
        "    train_images, test_images = images[:split_index], images[split_index:]\n",
        "    train_labels, test_labels = labels[:split_index], labels[split_index:]\n",
        "\n",
        "    # Determine the input shape for the CNN\n",
        "    input_shape = train_images[0].shape\n",
        "\n",
        "    # Get the number of unique classes\n",
        "    num_classes = len(np.unique(labels))\n",
        "\n",
        "    # Build the CNN model\n",
        "    model = build_cnn_model(input_shape, num_classes)\n",
        "\n",
        "    # Train the CNN model\n",
        "    model.fit(train_images, train_labels, epochs=10, validation_data=(test_images, test_labels))\n",
        "\n",
        "    # Evaluate the model\n",
        "    test_loss, test_acc = model.evaluate(test_images, test_labels, verbose=2)\n",
        "    print(f\"Test accuracy: {test_acc}\")"
      ],
      "metadata": {
        "id": "Z0wAzll6M0FU"
      },
      "execution_count": null,
      "outputs": []
    },
    {
      "cell_type": "code",
      "source": [
        "train_test_model(dataSet)"
      ],
      "metadata": {
        "id": "jcP-bxHaNeZs"
      },
      "execution_count": null,
      "outputs": []
    }
  ]
}