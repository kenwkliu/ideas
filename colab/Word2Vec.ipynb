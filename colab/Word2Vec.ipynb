{
  "nbformat": 4,
  "nbformat_minor": 0,
  "metadata": {
    "colab": {
      "name": "Word2Vec.ipynb",
      "provenance": [],
      "include_colab_link": true
    },
    "kernelspec": {
      "name": "python3",
      "display_name": "Python 3"
    }
  },
  "cells": [
    {
      "cell_type": "markdown",
      "metadata": {
        "id": "view-in-github",
        "colab_type": "text"
      },
      "source": [
        "<a href=\"https://colab.research.google.com/github/kenwkliu/ideas/blob/master/colab/Word2Vec.ipynb\" target=\"_parent\"><img src=\"https://colab.research.google.com/assets/colab-badge.svg\" alt=\"Open In Colab\"/></a>"
      ]
    },
    {
      "cell_type": "code",
      "metadata": {
        "id": "gjoJDP-pY5K-"
      },
      "source": [
        "# Generate word2vec\n",
        "\n",
        "import warnings\n",
        "warnings.filterwarnings(\"ignore\", category=FutureWarning)\n",
        "warnings.filterwarnings(\"ignore\", category=UserWarning)\n",
        "warnings.filterwarnings(\"ignore\", category=DeprecationWarning)\n",
        "\n",
        "from string import punctuation\n",
        "import numpy as np\n",
        "\n",
        "import nltk\n",
        "from nltk.corpus import gutenberg\n",
        "from nltk.data import find\n",
        "nltk.download('gutenberg')\n",
        "nltk.download('punkt')\n",
        "nltk.download('word2vec_sample')\n",
        "\n",
        "import gensim\n",
        "from gensim.models import word2vec\n",
        "\n",
        "import tensorflow as tf\n",
        "import tensorboard as tb\n",
        "from tensorboard.plugins import projector\n",
        "from torch.utils.tensorboard import SummaryWriter\n",
        "tf.io.gfile = tb.compat.tensorflow_stub.io.gfile\n",
        "%load_ext tensorboard"
      ],
      "execution_count": null,
      "outputs": []
    },
    {
      "cell_type": "code",
      "metadata": {
        "id": "xC9b8rH0Zemm"
      },
      "source": [
        "gutenberg.fileids()"
      ],
      "execution_count": null,
      "outputs": []
    },
    {
      "cell_type": "code",
      "metadata": {
        "id": "ishQuNEQZhRT"
      },
      "source": [
        "# get the KJV bible\n",
        "bible_kjv_sents = gutenberg.sents('bible-kjv.txt') \n",
        "\n",
        "[print(bible_kjv_sents[i]) for i in range(10)]\n",
        "print(\"\\n No. of sentences: \", len(bible_kjv_sents))"
      ],
      "execution_count": null,
      "outputs": []
    },
    {
      "cell_type": "code",
      "metadata": {
        "id": "cu54mzVbZqag"
      },
      "source": [
        "# preprocess the dataset\n",
        "preprocessed = [[word.lower() for word in sent if word not in punctuation] for sent in bible_kjv_sents]\n",
        "\n",
        "[print(preprocessed[i]) for i in range(10)]\n",
        "print(\"\\n No. of sentences: \", len(preprocessed))"
      ],
      "execution_count": null,
      "outputs": []
    },
    {
      "cell_type": "code",
      "metadata": {
        "id": "J9lm-ZbYZu7C"
      },
      "source": [
        "# Generate Bible word2vec by gensim\n",
        "bibleModel = word2vec.Word2Vec(preprocessed, min_count=5, size=64, window=5)\n",
        "bibleW2V = bibleModel.wv\n",
        "\n",
        "print(\"No.of words:\", len(bibleW2V.vocab))\n",
        "print(\"Model dimensions:\", bibleW2V.vector_size)"
      ],
      "execution_count": null,
      "outputs": []
    },
    {
      "cell_type": "markdown",
      "source": [
        "What is God ?"
      ],
      "metadata": {
        "id": "TPrVmiD-nfY9"
      }
    },
    {
      "cell_type": "code",
      "metadata": {
        "id": "ZPa5VL3_Z250"
      },
      "source": [
        "bibleW2V.most_similar('god')"
      ],
      "execution_count": null,
      "outputs": []
    },
    {
      "cell_type": "markdown",
      "source": [
        "What is Jesus ?"
      ],
      "metadata": {
        "id": "5HF1ppwlnjmQ"
      }
    },
    {
      "cell_type": "code",
      "metadata": {
        "id": "Lj5gFXLZZ-bO"
      },
      "source": [
        "bibleW2V.most_similar('jesus')"
      ],
      "execution_count": null,
      "outputs": []
    },
    {
      "cell_type": "markdown",
      "source": [
        "Read the pre-trained Google News word2vec"
      ],
      "metadata": {
        "id": "QUzzThHQitOi"
      }
    },
    {
      "cell_type": "code",
      "metadata": {
        "id": "yjjsB4GgaSRS"
      },
      "source": [
        "word2vec_sample = str(find('models/word2vec_sample/pruned.word2vec.txt'))\n",
        "newsW2V = gensim.models.KeyedVectors.load_word2vec_format(word2vec_sample, binary=False).wv\n",
        "\n",
        "print(\"No.of words:\", len(newsW2V.vocab))\n",
        "\n",
        "#Each word is represented in the space of 300 dimensions:\n",
        "print(\"Model dimensions:\", newsW2V.vector_size)"
      ],
      "execution_count": null,
      "outputs": []
    },
    {
      "cell_type": "markdown",
      "source": [
        "What is university ?\n"
      ],
      "metadata": {
        "id": "HRg-3yT4hMFL"
      }
    },
    {
      "cell_type": "code",
      "metadata": {
        "id": "sphV2Hqtamjr"
      },
      "source": [
        "newsW2V.most_similar('university')"
      ],
      "execution_count": null,
      "outputs": []
    },
    {
      "cell_type": "markdown",
      "source": [
        "Which is the most dissimilar? (breakfast, cereal, dinner, lunch)"
      ],
      "metadata": {
        "id": "55_MAIXZi0Nm"
      }
    },
    {
      "cell_type": "code",
      "metadata": {
        "id": "t-xFTu7ha4oL"
      },
      "source": [
        "newsW2V.doesnt_match(['breakfast', 'cereal', 'dinner', 'lunch'])"
      ],
      "execution_count": null,
      "outputs": []
    },
    {
      "cell_type": "markdown",
      "source": [
        "woman + king - man = ?"
      ],
      "metadata": {
        "id": "qytYK7GsoUHp"
      }
    },
    {
      "cell_type": "code",
      "metadata": {
        "id": "tMJBQzSca8vb"
      },
      "source": [
        "newsW2V.most_similar(positive=['woman','king'], negative=['man'], topn = 1)"
      ],
      "execution_count": null,
      "outputs": []
    },
    {
      "cell_type": "markdown",
      "source": [
        "Paris + Germany - Berlin = ?"
      ],
      "metadata": {
        "id": "5SHRh6ObqHih"
      }
    },
    {
      "cell_type": "code",
      "metadata": {
        "id": "mxsVOK0Oa_q9"
      },
      "source": [
        "newsW2V.most_similar(positive=['Paris','Germany'], negative=['Berlin'], topn = 1)"
      ],
      "execution_count": null,
      "outputs": []
    },
    {
      "cell_type": "code",
      "metadata": {
        "id": "snU-MfKgaDPq"
      },
      "source": [
        "# Write the w2v model to files\n",
        "vectors = np.array(bibleW2V.vectors)\n",
        "metadata = bibleW2V.index2word\n",
        "\n",
        "writer = SummaryWriter('bibleW2V')\n",
        "writer.add_embedding(vectors, metadata)\n",
        "writer.close()"
      ],
      "execution_count": null,
      "outputs": []
    },
    {
      "cell_type": "code",
      "metadata": {
        "id": "mKdxBkDZlizq"
      },
      "source": [
        "# show the embedding projector\n",
        "\n",
        "# TODO: Need to fix the bug\n",
        "#projector.visualize_embeddings('bibleW2V', projector.ProjectorConfig())\n",
        "#%tensorboard --logdir=bibleW2V"
      ],
      "execution_count": null,
      "outputs": []
    },
    {
      "cell_type": "code",
      "metadata": {
        "id": "hbffZf7JkCFQ"
      },
      "source": [
        "# show the word vector\n",
        "word = 'woman'\n",
        "print(newsW2V.wv[word])\n",
        "print(\"len:\", len(newsW2V.wv[word]))"
      ],
      "execution_count": null,
      "outputs": []
    }
  ]
}