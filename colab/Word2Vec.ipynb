{
  "nbformat": 4,
  "nbformat_minor": 0,
  "metadata": {
    "colab": {
      "name": "Word2Vec.ipynb",
      "provenance": [],
      "include_colab_link": true
    },
    "kernelspec": {
      "name": "python3",
      "display_name": "Python 3"
    }
  },
  "cells": [
    {
      "cell_type": "markdown",
      "metadata": {
        "id": "view-in-github",
        "colab_type": "text"
      },
      "source": [
        "<a href=\"https://colab.research.google.com/github/kenwkliu/ideas/blob/master/colab/Word2Vec.ipynb\" target=\"_parent\"><img src=\"https://colab.research.google.com/assets/colab-badge.svg\" alt=\"Open In Colab\"/></a>"
      ]
    },
    {
      "cell_type": "code",
      "metadata": {
        "id": "gjoJDP-pY5K-",
        "colab_type": "code",
        "colab": {}
      },
      "source": [
        "import warnings\n",
        "warnings.filterwarnings(\"ignore\", category=FutureWarning)\n",
        "warnings.filterwarnings(\"ignore\", category=UserWarning)\n",
        "warnings.filterwarnings(\"ignore\", category=DeprecationWarning)\n",
        "\n",
        "from string import punctuation\n",
        "\n",
        "import nltk\n",
        "from nltk.corpus import gutenberg\n",
        "from nltk.data import find\n",
        "nltk.download('gutenberg')\n",
        "nltk.download('punkt')\n",
        "nltk.download('word2vec_sample')\n",
        "\n",
        "import gensim\n",
        "from gensim.models import word2vec"
      ],
      "execution_count": 0,
      "outputs": []
    },
    {
      "cell_type": "code",
      "metadata": {
        "id": "xC9b8rH0Zemm",
        "colab_type": "code",
        "colab": {}
      },
      "source": [
        "gutenberg.fileids()"
      ],
      "execution_count": 0,
      "outputs": []
    },
    {
      "cell_type": "code",
      "metadata": {
        "id": "ishQuNEQZhRT",
        "colab_type": "code",
        "colab": {}
      },
      "source": [
        "# get the KJV bible\n",
        "bible_kjv_sents = gutenberg.sents('bible-kjv.txt') \n",
        "\n",
        "[print(bible_kjv_sents[i]) for i in range(10)]\n",
        "print(\"\\n No. of sentences: \", len(bible_kjv_sents))"
      ],
      "execution_count": 0,
      "outputs": []
    },
    {
      "cell_type": "code",
      "metadata": {
        "id": "cu54mzVbZqag",
        "colab_type": "code",
        "colab": {}
      },
      "source": [
        "# preprocess the dataset\n",
        "preprocessed = [[word.lower() for word in sent if word not in punctuation] for sent in bible_kjv_sents]\n",
        "\n",
        "[print(preprocessed[i]) for i in range(10)]\n",
        "print(\"\\n No. of sentences: \", len(preprocessed))"
      ],
      "execution_count": 0,
      "outputs": []
    },
    {
      "cell_type": "code",
      "metadata": {
        "id": "J9lm-ZbYZu7C",
        "colab_type": "code",
        "colab": {}
      },
      "source": [
        "model = word2vec.Word2Vec(preprocessed, min_count=5, size=64, window=5)\n",
        "\n",
        "print(\"No.of words:\", len(model.wv.vocab))\n",
        "print(\"Model dimensions:\", model.wv.vector_size)"
      ],
      "execution_count": 0,
      "outputs": []
    },
    {
      "cell_type": "code",
      "metadata": {
        "id": "ZPa5VL3_Z250",
        "colab_type": "code",
        "colab": {}
      },
      "source": [
        "model.wv.most_similar([\"god\"])"
      ],
      "execution_count": 0,
      "outputs": []
    },
    {
      "cell_type": "code",
      "metadata": {
        "id": "Lj5gFXLZZ-bO",
        "colab_type": "code",
        "colab": {}
      },
      "source": [
        "model.wv.most_similar([\"jesus\"])"
      ],
      "execution_count": 0,
      "outputs": []
    },
    {
      "cell_type": "code",
      "metadata": {
        "id": "ddZuOGc8aAim",
        "colab_type": "code",
        "colab": {}
      },
      "source": [
        "model.wv.most_similar([\"moses\"])"
      ],
      "execution_count": 0,
      "outputs": []
    },
    {
      "cell_type": "code",
      "metadata": {
        "id": "snU-MfKgaDPq",
        "colab_type": "code",
        "colab": {}
      },
      "source": [
        "model.wv.most_similar([\"judas\"])"
      ],
      "execution_count": 0,
      "outputs": []
    },
    {
      "cell_type": "code",
      "metadata": {
        "id": "yjjsB4GgaSRS",
        "colab_type": "code",
        "colab": {}
      },
      "source": [
        "# read the pre-trained Google News word2vec\n",
        "word2vec_sample = str(find('models/word2vec_sample/pruned.word2vec.txt'))\n",
        "model = gensim.models.KeyedVectors.load_word2vec_format(word2vec_sample, binary=False)\n",
        "\n",
        "print(\"No.of words:\", len(model.vocab))\n",
        "\n",
        "#Each word is represented in the space of 300 dimensions:\n",
        "print(\"Model dimensions:\", model.vector_size)"
      ],
      "execution_count": 0,
      "outputs": []
    },
    {
      "cell_type": "code",
      "metadata": {
        "id": "sphV2Hqtamjr",
        "colab_type": "code",
        "colab": {}
      },
      "source": [
        "model.wv.most_similar(positive=\"university\", topn=10)"
      ],
      "execution_count": 0,
      "outputs": []
    },
    {
      "cell_type": "code",
      "metadata": {
        "id": "t-xFTu7ha4oL",
        "colab_type": "code",
        "colab": {}
      },
      "source": [
        "model.doesnt_match('breakfast cereal dinner lunch'.split())"
      ],
      "execution_count": 0,
      "outputs": []
    },
    {
      "cell_type": "code",
      "metadata": {
        "id": "tMJBQzSca8vb",
        "colab_type": "code",
        "colab": {}
      },
      "source": [
        "model.most_similar(positive=['woman','king'], negative=['man'], topn = 1)"
      ],
      "execution_count": 0,
      "outputs": []
    },
    {
      "cell_type": "code",
      "metadata": {
        "id": "mxsVOK0Oa_q9",
        "colab_type": "code",
        "colab": {}
      },
      "source": [
        "model.most_similar(positive=['Paris','Germany'], negative=['Berlin'], topn = 1)"
      ],
      "execution_count": 0,
      "outputs": []
    },
    {
      "cell_type": "code",
      "metadata": {
        "id": "hbffZf7JkCFQ",
        "colab_type": "code",
        "colab": {}
      },
      "source": [
        "# show the word vector\n",
        "model.wv['woman']"
      ],
      "execution_count": 0,
      "outputs": []
    },
    {
      "cell_type": "code",
      "metadata": {
        "id": "AsuL3y2wkFAi",
        "colab_type": "code",
        "colab": {}
      },
      "source": [
        "model.wv['man']"
      ],
      "execution_count": 0,
      "outputs": []
    }
  ]
}