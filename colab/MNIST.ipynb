{
  "nbformat": 4,
  "nbformat_minor": 0,
  "metadata": {
    "kernelspec": {
      "display_name": "Python 3",
      "language": "python",
      "name": "python3"
    },
    "language_info": {
      "codemirror_mode": {
        "name": "ipython",
        "version": 3
      },
      "file_extension": ".py",
      "mimetype": "text/x-python",
      "name": "python",
      "nbconvert_exporter": "python",
      "pygments_lexer": "ipython3",
      "version": "3.6.4"
    },
    "colab": {
      "name": "MNIST.ipynb",
      "provenance": []
    }
  },
  "cells": [
    {
      "cell_type": "code",
      "metadata": {
        "id": "IuT6qspETDuw",
        "colab_type": "code",
        "colab": {}
      },
      "source": [
        "# https://en.wikipedia.org/wiki/MNIST_database#/media/File:MnistExamples.png\n",
        "\n",
        "%tensorflow_version 2.x\n",
        "%load_ext tensorboard\n",
        "\n",
        "import os, datetime\n",
        "import matplotlib.pyplot as plt\n",
        "\n",
        "import tensorflow as tf\n",
        "from tensorflow import keras\n",
        "\n",
        "from tensorflow.keras.datasets import mnist\n",
        "from tensorflow.keras.models import Sequential\n",
        "from tensorflow.keras.layers import Dense, Dropout\n",
        "from tensorflow.keras.optimizers import RMSprop\n",
        "from tensorflow.keras.utils import plot_model\n",
        "from tensorflow.keras.callbacks import TensorBoard\n",
        "\n",
        "logdir = os.path.join(\"logs\", datetime.datetime.now().strftime(\"%Y%m%d-%H%M%S\"))"
      ],
      "execution_count": null,
      "outputs": []
    },
    {
      "cell_type": "code",
      "metadata": {
        "id": "etBBIp0-TDu2",
        "colab_type": "code",
        "colab": {}
      },
      "source": [
        "# the data, split between train and test sets\n",
        "(x_train, y_train), (x_test, y_test) = mnist.load_data()\n",
        "\n",
        "print(x_train.shape)\n",
        "print(y_train.shape)\n",
        "print(x_test.shape)\n",
        "print(y_test.shape)"
      ],
      "execution_count": null,
      "outputs": []
    },
    {
      "cell_type": "code",
      "metadata": {
        "id": "EERtLzqnTDu5",
        "colab_type": "code",
        "colab": {}
      },
      "source": [
        "# Visual the data\n",
        "\n",
        "index = 1\n",
        "\n",
        "print(x_train[index])\n",
        "first_image = x_train[index]\n",
        "plt.imshow(first_image)\n",
        "plt.show()\n",
        "\n",
        "print(\"Label : \", y_train[index])"
      ],
      "execution_count": null,
      "outputs": []
    },
    {
      "cell_type": "code",
      "metadata": {
        "id": "5N-f9wnpTDu7",
        "colab_type": "code",
        "colab": {}
      },
      "source": [
        "# reshape the 28x28 pixels to a 784 array (for dense neural network)\n",
        "# and normalize the number by 255\n",
        "\n",
        "x_trainp = x_train.reshape(60000, 784)\n",
        "x_testp = x_test.reshape(10000, 784)\n",
        "\n",
        "x_trainp = x_trainp.astype('float32')\n",
        "x_testp = x_testp.astype('float32')\n",
        "x_trainp /= 255\n",
        "x_testp /= 255\n",
        "print(x_trainp.shape[0], 'train samples')\n",
        "print(x_testp.shape[0], 'test samples')"
      ],
      "execution_count": null,
      "outputs": []
    },
    {
      "cell_type": "code",
      "metadata": {
        "id": "Mu7QzVqUmpJf",
        "colab_type": "code",
        "colab": {}
      },
      "source": [
        "# One example of the train data after reshaped and normalized\n",
        "print(x_trainp[0])"
      ],
      "execution_count": null,
      "outputs": []
    },
    {
      "cell_type": "code",
      "metadata": {
        "id": "jOmkp9FWTDu-",
        "colab_type": "code",
        "colab": {}
      },
      "source": [
        "# convert class vectors to binary class matrices: one-hot encoding\n",
        "num_classes = 10\n",
        "\n",
        "y_trainp = keras.utils.to_categorical(y_train, num_classes)\n",
        "y_testp = keras.utils.to_categorical(y_test, num_classes)\n",
        "\n",
        "print(\"one-hot encoding\")\n",
        "print(\"Label 0 is \", y_trainp[1])\n",
        "print(\"Label 5 is \", y_trainp[0])"
      ],
      "execution_count": null,
      "outputs": []
    },
    {
      "cell_type": "code",
      "metadata": {
        "id": "g2FHKl9YTDvB",
        "colab_type": "code",
        "colab": {}
      },
      "source": [
        "model = Sequential()\n",
        "\n",
        "model.add(Dense(2, activation='relu', input_shape=(784,)))\n",
        "model.add(Dense(num_classes, activation='softmax'))\n",
        "\n",
        "model.compile(loss='categorical_crossentropy',\n",
        "              optimizer=RMSprop(),\n",
        "              metrics=['accuracy'])\n",
        "\n",
        "plot_model(model, show_shapes=True, show_layer_names=True)\n"
      ],
      "execution_count": null,
      "outputs": []
    },
    {
      "cell_type": "code",
      "metadata": {
        "id": "LabfOoFHUNjS",
        "colab_type": "code",
        "colab": {}
      },
      "source": [
        "model.summary()\n",
        "# Param calculation in each layer = input * output + output bias\n",
        "# dense Params = 784 * 2 + 2 = 1570\n",
        "# dense_1 params = 2 * 10 + 10 = 30\n",
        "# \"?\" is the number of samples"
      ],
      "execution_count": null,
      "outputs": []
    },
    {
      "cell_type": "code",
      "metadata": {
        "id": "UKS95EdLTDvD",
        "colab_type": "code",
        "colab": {}
      },
      "source": [
        "batch_size = 128\n",
        "epochs = 10\n",
        "\n",
        "# Set aside the first 10,000 samples as the validation set \n",
        "x_valp = x_trainp[:10000]\n",
        "partial_x_trainp = x_trainp[10000:]\n",
        "\n",
        "y_valp = y_trainp[:10000]\n",
        "partial_y_trainp = y_trainp[10000:]\n",
        "\n",
        "tensorboard_callback = TensorBoard(logdir, histogram_freq=1)\n",
        "history = model.fit(partial_x_trainp, partial_y_trainp,\n",
        "                    batch_size=batch_size,\n",
        "                    epochs=epochs,\n",
        "                    verbose=1,\n",
        "                    validation_data=(x_valp, y_valp),\n",
        "                    callbacks=[tensorboard_callback])\n",
        "\n",
        "# Plot the accuracy\n",
        "acc = history.history['accuracy']\n",
        "val_acc = history.history['val_accuracy']\n",
        "epochs = range(1, len(acc) + 1)\n",
        "\n",
        "plt.plot(epochs, acc, 'r', label='Training acc')\n",
        "plt.plot(epochs, val_acc, 'b', label='Validation acc')\n",
        "plt.title('Training and validation accuracy')\n",
        "plt.legend()\n",
        "plt.show()"
      ],
      "execution_count": null,
      "outputs": []
    },
    {
      "cell_type": "code",
      "metadata": {
        "id": "bLdLAPmvTDvG",
        "colab_type": "code",
        "colab": {}
      },
      "source": [
        "# Do the prediction on test set\n",
        "score = model.evaluate(x_testp, y_testp, verbose=0)\n",
        "print('Test loss:', score[0])\n",
        "print('Test accuracy:', score[1])\n",
        "\n",
        "ans = model.predict(x_testp)"
      ],
      "execution_count": null,
      "outputs": []
    },
    {
      "cell_type": "code",
      "metadata": {
        "id": "dbKJGm95TDvI",
        "colab_type": "code",
        "colab": {}
      },
      "source": [
        "# Predict individual number\n",
        "p_index = 1\n",
        "\n",
        "first_image = x_test[p_index]\n",
        "plt.imshow(first_image)\n",
        "plt.show()\n",
        "\n",
        "count = 0\n",
        "for a in ans[p_index]:\n",
        "    print(count, \"=\", a*100)\n",
        "    count = count + 1"
      ],
      "execution_count": null,
      "outputs": []
    },
    {
      "cell_type": "code",
      "metadata": {
        "id": "Xwklta0WtycQ",
        "colab_type": "code",
        "colab": {}
      },
      "source": [
        "%tensorboard --logdir logs"
      ],
      "execution_count": null,
      "outputs": []
    }
  ]
}