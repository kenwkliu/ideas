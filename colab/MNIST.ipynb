{
  "nbformat": 4,
  "nbformat_minor": 0,
  "metadata": {
    "kernelspec": {
      "display_name": "Python 3",
      "language": "python",
      "name": "python3"
    },
    "language_info": {
      "codemirror_mode": {
        "name": "ipython",
        "version": 3
      },
      "file_extension": ".py",
      "mimetype": "text/x-python",
      "name": "python",
      "nbconvert_exporter": "python",
      "pygments_lexer": "ipython3",
      "version": "3.6.4"
    },
    "colab": {
      "name": "MNIST.ipynb",
      "provenance": []
    }
  },
  "cells": [
    {
      "cell_type": "code",
      "metadata": {
        "id": "IuT6qspETDuw"
      },
      "source": [
        "# https://en.wikipedia.org/wiki/MNIST_database#/media/File:MnistExamples.png\n",
        "\n",
        "%tensorflow_version 2.x\n",
        "%load_ext tensorboard\n",
        "\n",
        "import os, datetime\n",
        "import matplotlib.pyplot as plt\n",
        "\n",
        "import tensorflow as tf\n",
        "from tensorflow import keras\n",
        "\n",
        "from tensorflow.keras.datasets import mnist\n",
        "from tensorflow.keras.models import Sequential\n",
        "from tensorflow.keras.layers import Dense, Dropout\n",
        "from tensorflow.keras.optimizers import RMSprop\n",
        "from tensorflow.keras.utils import plot_model\n",
        "from tensorflow.keras.callbacks import TensorBoard\n",
        "\n",
        "logdir = os.path.join(\"logs\", datetime.datetime.now().strftime(\"%Y%m%d-%H%M%S\"))"
      ],
      "execution_count": null,
      "outputs": []
    },
    {
      "cell_type": "code",
      "metadata": {
        "id": "etBBIp0-TDu2"
      },
      "source": [
        "# the data, split between train and test sets\n",
        "(x_train, y_train), (x_test, y_test) = mnist.load_data()\n",
        "\n",
        "print(x_train.shape)\n",
        "print(y_train.shape)\n",
        "print(x_test.shape)\n",
        "print(y_test.shape)"
      ],
      "execution_count": null,
      "outputs": []
    },
    {
      "cell_type": "code",
      "metadata": {
        "id": "EERtLzqnTDu5"
      },
      "source": [
        "# Visual the data\n",
        "\n",
        "index = 1\n",
        "\n",
        "print(x_train[index])\n",
        "first_image = x_train[index]\n",
        "plt.imshow(first_image)\n",
        "plt.show()\n",
        "\n",
        "print(\"Label : \", y_train[index])"
      ],
      "execution_count": null,
      "outputs": []
    },
    {
      "cell_type": "markdown",
      "metadata": {
        "id": "VmUZ6jmo990k"
      },
      "source": [
        "![image.png](data:image/png;base64,iVBORw0KGgoAAAANSUhEUgAAA2IAAAH4CAYAAAAozV6eAAAgAElEQVR4Ae3dD6w8x2Ef9hWgFqqCQmpgAYoYmaIk0hX/SmSKQNcmYUiach1IQAoXkgHKACv7FFR2lbSU7LKJ2MKyWJkicWhQB2wJ2FHspojKunHDUy2jtgnZcgCLdqKINopn6hcxys9UJNEQpaqWRHKK3Xt3b+/f3u7e7tzs3ecHHH73bvdmZj87N7PfN3f3suAfAQIECBAgQIAAAQIECEQVyKLWpjICBAgQIECAAAECBAgQCIKYTkCAAAECBAgQIECAAIHIAoJYZHDVESBAgAABAgQIECBAQBDTBwgQIECAAAECBAgQIBBZQBCLDK46AgQIECBAgAABAgQICGL6AAECBAgQIECAAAECBCILCGKRwVVHgAABAgQIECBAgAABQUwfIECAAAECBAgQIECAQGQBQSwyuOoIECBAgAABAgQIECAgiOkDBAgQIECAAAECBAgQiCwgiEUGVx0BAgQIECBAgAABAgQEMX2AAAECBAgQIECAAAECkQUEscjgqiNAgAABAgQIECBAgIAgpg8QIECAAAECBAgQIEAgsoAgFhlcdQQIECBAgAABAgQIEBDE9AECBAgQIECAAAECBAhEFhDEIoOrjgABAgQIECBAgAABAoKYPkCAAAECBAgQIECAAIHIAoJYZHDVESBAgAABAgQIECBAQBDTBwgQIECAAAECBAgQIBBZQBCLDK46AgQIECBAgAABAgQICGL6AAECBAgQIECAAAECBCILCGKRwVVHgAABAgQIECBAgAABQUwfIECAAAECBAgQIECAQGQBQSwyuOoIECBAgAABAgQIECAgiOkDBAgQIECAAAECBAgQiCwgiEUGVx0BAgQIECBAgAABAgQEMX2AAAECBAgQIECAAAECkQUEscjgqiNAgAABAgQIECBAgIAgpg8QIECAAAECBAgQIEAgsoAgFhlcdQQIECBAgAABAgQIEBDE9AECBAgQIECAAAECBAhEFhDEIoOrjgABAgQIECBAgAABAoKYPkCAAAECBAgQIECAAIHIAoJYZHDVESBAgAABAgQIECBAQBDTBwgQIECAAAECBAgQIBBZQBCLDK46AgQIECBAgAABAgQICGL6AAECBAgQIECAAAECBCILCGKRwVVHgAABAgQIECBAgAABQUwfIECAAAECBAgQIECAQGQBQSwyuOoIECBAgAABAgQIECAgiOkDBAgQIECAAAECBAgQiCwgiEUGVx0BAgQIECBAgAABAgQEMX2AAAECBAgQIECAAAECkQUEscjgqiNAgAABAgQIECBAgIAgpg8QIECAAAECBAgQIEAgsoAgFhlcdQQIECBAgAABAgQIEBDE9AECBAgQIECAAAECBAhEFhDEIoOrjgABAgQIECBAgAABAoKYPkCAAAECBAgQIECAQGuBh375yfBTP//Zrbef/of/PPzirz9V3H7zc38cnvrj51rXdUxPFMSO6Ww6FgIECBAgQIAAAQKRBZ75k2+Fz116duvtM3/w5UUQ++gn/kX48Z/7p+Hv/IPfi9zK9KoTxNI7J1pEgAABAgQIECBA4KgFfvBDv3bUx1fn4ASxOkr2IUCAAAECBAgQIDAUgbNJGGVZyM5v42l6DRfEQhDE0uuXWkSAAAECBAgQIECgpcA0jLMsjCZns+dPxyHLRmH+Y8tCO3+aICaIdd6pFEiAAAECBAgQIEDgYAJF8BqHi0WwszAZZSG1VTFBTBA72GtExQQIECBAgAABAgS6FjibjEI2moTz9bAQwiyILVbIuq6wZXmCmCDWsut4GgECBAgQIECAAIH0BNaDWAjTcemtiok0WRATxBLpippBgAABAgQIECBAYH+B9SBmRWx/1X5K8GUd/bgqlQABAgQIECBAgEB8AZ8Ri2/eskZBrCWcpxEgQIAAAQIECBBIT2D2rYmLL+dYC2ZptNhbE701MY2eqBUECBAgQIAAAQIEuhJY+jti6X11fX6Ygpgg1lV3Vw4BAgQIECBAgAABAjUFBDFBrGZXsRsBAgQIECBAgAABAl0JCGKCWFd9STkECBAgQIAAAQIECNQUEMQEsZpdxW4ECBAgQIAAAQIECHQlIIgJYl31JeUQIECAAAECBAgQIFBTQBATxGp2FbsRIECAAAECBAgQINCVgCAmiHXVl5RDgAABAgQIECBAgEBNAUFMEKvZVexGgAABAgQIECBAgEBXAoKYINZVX1IOAQIECBAgQIAAAQI1BQQxQaxmV7EbAQIECBAgQIAAAQJdCQhiglhXfUk5BAgQIECAAAECBAjUFBDEBLGaXcVuBAgQIECAAAECBAYicDYJoywL2fltPE2v3YKYIJZer9QiAgQIECBAgAABAq0FpmGcZWE0OZuVMB2HLBuF+Y+ti+34iYKYINZxl1IcAQIECBAgQIAAgQMKFMFrHC4Wwc7CZJSF1FbFBDFB7ICvElUTIECAAAECBAgQ6FbgbDIK2WgSztfDQgizILZYIeu2utalCWKCWOvO44kECBAgQIAAAQIEUhNYD2IhTMeltyom0mBBTBBLpCtqBgECBAgQIECAAIH9BdaDmBWx/VX7KSHrp1ilEiBAgAABAgQIECAQXcBnxKKTt61QEGsr53kECBAgQIAAAQIEkhOYfWvi4ss51oJZGg321kRvTUyjJ2oFAQIECBAgQIAAga4Elv6OWHpfXZ8fpiAmiHXV3ZVDgAABAgQIECBAgEBNAUFMEKvZVexGgAABAgQIECBAgEBXAoKYINZVX1IOAQIECBAgQIAAAQI1BQQxQaxmV7EbAQIECBAgQIAAAQJdCQhiglhXfUk5BAgQIECAAAECBAjUFBDEBLGaXcVuBAgQIECAAAECBAh0JSCICWJd9SXlECBAgAABAgQIECBQU0AQE8RqdhW7ESBAgAABAgQIECDQlYAgJoh11ZeUQ4AAAQIECBAgQIBATQFBTBCr2VXsRoAAAQIECBAgQIBAVwKCmCDWVV9SDgECBAgQIECAAAECNQUEMUGsZlexGwECBAgQIECAAAECXQkIYoJYV31JOQQIECBAgAABAgQI1BQQxASxml3FbgQIECBAgAABAgQIdCUgiAliXfUl5RAgQIAAAQIECBAgUFNAEBPEanYVuxEgQIAAAQIECBAg0JWAICaIddWXlEOAAAECBAgQIECAQE0BQUwQq9lV7EaAAAECBAgQIECAQFcCgpgg1lVfUg4BAgQIECBAgACBAwmchckoC9l4WtQ/HWchG03CWQjhbDIKWTYOsy0Hat6GagUxQWxDt/AQAQIECBAgQIAAgSEJCGJDOlvztmbzO/4nQIAAAQIECBAgQIBADAErYlbEYvQzdRAgQIAAAQIECBAgUBIQxASxUndwlwABAgQIECBAgACBGAKCmCAWo5+pgwABAgQIECBAgACBkoAgJoiVuoO7BAgQIECAAAECBAjEEBDEBLEY/UwdBAgQIECAAAECBAiUBAQxQazUHdwlQIAAAQIECBAgQCCGgCAmiMXoZ+ogQIAAAQIECBAgQKAkIIgJYqXu4C4BAgQIECBAgAABAjEEBDFBLEY/UwcBAgQIECBAgAABAiUBQUwQK3UHdwkQIECAAAECBAgQiCEgiAliMfqZOggQIECAAAECBAgQKAkIYoJYqTu4S4AAAQIECBAgQIBADAFBTBCL0c/UQYAAAQIECBAgQIBASUAQE8RK3cFdAgQIECBAgAABAgRiCAhigliMfqYOAgQIECBAgAABAgRKAoKYIFbqDu4SIECAAAECBAgQIBBDQBATxGL0M3UQIECAAAECBAgQIFASEMQEsVJ3cJcAAQIECBAgQIDAEAXOwmSUhWw8LRo/HWchG03CWQjhbDIKWTYOsy3pHJsgJoil0xu1hAABAgQIECBAgEArAUGsFduBn5QduH7VEyBAgAABAgQIECBwYgJWxKyInViXd7gECBAgQIAAAQIEDi8giAlih++FWkCAAAECBAgQIEDgxAQEMUHsxLq8wyVAgAABAgQIECBweAFBTBA7fC/UAgIECBAgQIAAAQInJiCICWIn1uUdLgECBAgQIECAAIHDCwhigtjhe6EWECBAgAABAgQIEDgxAUFMEDuxLu9wCRAgQIAAAQIECBxeQBATxA7fC7WAAAECBAgQIECAwIkJCGKC2Il1eYdLgAABAgQIECBA4PACgpggdvheqAUECBAgQIAAAQIETkxAEBPETqzLO1wCBAgQIECAAIFBCpxNwijLQnZ+G0+rj+JsMir2HU3Oqnc80FZBTBA7UNdTLQECBAgQIECAAIG6AtMwzrKwCFXTcciyUdicseb7TsNkVHpO3aoi7SeICWKRuppqCBAgQIAAAQIECLQUKILXOFwsgp0VIat6VWy2zyK8tay6r6cJYoJYX31LuQQIECBAgAABAgQ6ESjeZjiahIs3GdYJWXX26aR5rQoRxASxVh3HkwgQIECAAAECBAjEElgPYiFMx7vediiIxTo/bevJ2j7R8wgQIECAAAECBAgQ6F9gPYjVCVl19um/7dtqsCJmRWxb3/A4AQIECBAgQIAAgTQEfEYsjfPQcSusiHUMqjgCBAgQIECAAAEC3QrMvglx8eUcS8FstvKVLTbOa7YiNpdI9X9BLNUzo10ECBAgQIAAAQIE5gJLf0es/NX1q0FsFtrmf29s/n9q357orYnemjjv2v4nQIAAAQIECBAgQCCSgCAmiEXqaqohQIAAAQIECBAgQGAuIIgJYvO+4H8CBAgQIECAAAECBCIJCGKCWKSuphoCBAgQIECAAAECBOYCgpggNu8L/idAgAABAgQIECBAIJKAICaIRepqqiFAgACBOgL/0yf/n/BTP//Z4vbQLz9Z5yn2IUCAAIEBCghigtgAu60mEyBA4HgF8on5c5eeLW7P/Mm3jvdAHRkBAgROXEAQE8RO/CXg8AkQIJCWgIk5rfOhNQQIEOhLwHgviPXVt5RLgAABAi0ETMwt0DyFAAECAxQw3h9hEPu3sn87/LvZv+fGQB/oqQ/kr7EXX3xxgEO+Jg9BwMQ8hLOkjQQIENhfwHg/gCD2yU9+MlxzzTXhDW94Q7j//vt3nvU8hN3xkh9yY6AP9NQH8teYILZzKLJDSwETc0s4TyNAgMDABIz3iQex559/Prz+9a8PTz31VPj2t78dbrzxxvDkk9XfoiWICaGCeL99QBAb2Ew3sOZGn5jPJmGUZSE7v42nPYMde3198B2LWezj6ONcKPOwAg360NlktBjX8vGt97GthUz08b5FG/t+StZ3BfuU/5nPfCbceeediyI+8pGPhPxW9U8Q6/ciXMjhK4hVjUC27SsQd2KehnGWhdHkbNbs6Thk2SjMf9z3WNaff+z1rR/x/o8ci1ns49hfXgmpCTToQ3lgG03C+cgWZqFsHPr+PVNTsbjjfdPWxdk/6SD2iU98IrznPe9ZSHz84x8P73vf+xY/z+88/PDD4ZZbbiluL8te7i1pPb0lTQgTwvI+IIjNRx7/9yEQdWIuglf54uQsTEY9/ub42Ovro0Mci1ns4+jjXCjzsAL79KFiJa3PXzK1o4k63rdrYu/POoogVlayIiYsCIz99gFBrDziuN+1QMyJufgtcem3xiHMgthihazjgzv2+jrmKoo7FrPYx9HHuVDmYQX26kNrIe6wxzKvPeZ4P68ztf+TDmLemtjvBbXAwrdNHxDEUhvGj6s9MSfm9QubEKbj0lsVO6Y99vo65iqKOxaz2MfRx7lQ5mEF2vehfn/BtI9KzPF+n3b2+dykg9h3v/vdcNVVV4UvfOELiy/r+PznP1/pYUVMuGgTLjynfr8RxCqHIBv3FIg5Ma9f2PR7wXLs9e156jc+/VjMYh/HRkwPDlqgbR/Kf7mULa38p8MQc7xP56iXW5J0EMub+thjj4Wrr766+PbED3/4w8ut3/CTIFb/glr4YNWmDwhiGwYeD3UmEHViXnu7js+IdXYiuyroWM5R7OPoyl856Qi06EMph7AcNup4n86ZXGpJ8kFsqbU1fhDEhIs24cJz6vcbQazGQGSX1gJxJ+bZt5AtvtZ57UKn9WFseeJQ65sF1OwcqnxxV/yWPit/4cmWQ2/98FDNVg849nGs1u/n4QtU9aHl1+j8866proTNz0Xc8X5ea1r/C2K+YdC3TOoDjfqAIJbWIH5srYk+MS/9XZ4I3yo2yPqWL/LiBrEQwiDNNrwyYx/HhiZ4aOACW/vQ8ms0FL9Uuvj7iPO/kzj/ZUoqCtHH+1QOvNQOQcxFeKOLcCtH9VeOjtVKECuNoO52LmBi7pxUgQQIEEhSwHgfgiAmiAli+kCjPiCIJTmfHU2jTMxHcyodCAECBCoFjPeCWKML0GNd4XBcVrma9AFBrHJesXFPARPznoCeToAAgYEIGO8FMUHMapA+0LAPCGIDmeEG2kwT80BPnGYTIECgoYDxXhBzEd7wIrzJyol9j3OlTRBrONPYvZGAibkRl50JECAwWAHjvSAmiAli+kDDPiCIDXbOG0TDTcyDOE0aSYAAgb0FjPeCmIvwhhfhVrmOc5WryXkVxPaeexRQIWBirsCxiQABAkckYLwXxAQxQUwfaNgHBLEjmgUTPBQTc4InRZMIECDQg4DxXhBzEd7wIrzJyol9j3P1TBDrYTZS5ELAxLygcIcAAQJHLWC8F8QEMUFMH2jYBwSxo54XD35wJuaDnwINIECAQBQB470g5iK84UW4Va7jXOVqcl4FsSjz08lWYmI+2VPvwAkQODEB470gJogJYvpAwz4giJ3YTBn5cKNPzGeTMMqykJ3fxtOeD7iL+hqUcTYZLY4tP8bej68uX4NjyItcPo5RmJzVrajFfg3bVruGvsqt3QA7Dl6gQR9afs2MQ99DWxvb6ON9m0b2/Jys5/KjF59fJDb57b59rfDoA836gCAWfVg7qQrjTszTMM6yMJpf1U/HIcv6vMjvor4GZeQXbaNJmGeW2YVZChdkDY5hHsJKx9HvC6JZ2+q3pa9y67fAnkMXaNKHpmFces1Mx1nIkvktzMV5iDveX9Sb0j1BrOFqgIv2ZhftvI7PSxBLaQg/vrZEnZiL4FUOJmdhMupx1aiL+vYpo/htep9Bs2Z/bHQM+cVnxDY3alvN481366vcBk2w68AF9uhDxS9hSsEsFYmo430qB73SDkFMELOCqA806gOC2Moo6sdOBWJOzOsXJ7Mgtlgh6/TIzt9et3Qx1Ly+vdq8diHX8QHWLK7RMZyHx9Ho4u2jff5mv1Hbah5vvltf5TZogl0HLtC+D62spCXkEHO8T+iwl5oiiLkIb3QRboXr+Fa4mp5TQWxpDPVDxwIxJ+b1C5t84aL0VsWOj62L+tqX0Tz0dXz4i+IaHUMRHksrYuefkenrXVaN2rY4ot13+ip3d832OBaBxn2oeO2c/wKjrxfMnrgxx/s9m9rb0wUxQUwQ0wca9QFBrLfxWMEhhJgT8/qFTb9hpYv62pZRfEZkaTXucN2t0TGsreKlf442yTY65k0FeOzkBfbpQ8Vzs/LbsNPgjDnep3HE660QxFyEN7oIb7p6Yv/jW0ETxNYHUo90JxB1Yt5ykd/bL4+7qK9FGSmFsKKnNDmGtc+19RvEevssV5Nj7u7lpKRjEtinD629jtKAiTrep3HIa60QxAQxQUwfaNQHBLG1cdQDHQrEnZhnn51YBK+1C50OD6woqov6qsqYhZSLz1Cd/7z3SthyueVg1+437c2PYfG5veIcld6q2PUpClVt26eyvsrdp02eOyyBqj60/BoNefBaDGzzP/9gRSzF8y2IuQhvdBFuhev4VrianlNBLMWh/HjaFDeIFd+iUPo7Yn1e4J+fo/PPOM3+blnL+raWsXIxVoSW0pdczP9eWukCrV7PWS53/yBW5b5cV9G+pePt8Vst5xhL9bU8R/Oyyv/3VW65DvePW2BrH1p93Zz/PH/Nx/zm0QZnIPp436BtsXYVxASx5IPYrbffH6pu3/fofxu23f708lWh6rbtefPH/+ptHwlVt6Yh5hj2F8RiDc+nWc8PfujXTvPAHTUBAgROTMB4H4IgJogJYhVBriqE5duOIVg1PQZB7MRmysiHa2KODK46AgQIHEjAeC+IneSFdNML70PvX7Ualm/7voogVbUalm+rem6+TRBbfyumIHagGetEqjUxn8iJdpgECJy8gPFeEBPEBrAiKIith6FDhmNB7OTnzl4BTMy98iqcAAECyQgY7wUxQUwQq1wVsyK2HgIFsWTmsKNsiIn5KE+rgyJAgMCagPFeEBPEBDFBrGEfEMTW5hIPdChgYu4QU1EECBBIWMB4L4gJYg0vwg/xljhvTVxflTrEeZjXKYglPKsdQdNMzEdwEh0CAQIEaggY7wUxQUwQsyLWsA8IYjVmF7u0FjAxt6bzRAIECAxKwHgviAliDS/C56siXf5/260/E6pun/viFaHq9q3LV4a+br//xT8fqm5dOgylLEFsUPPc4BprYh7cKdNgAgQItBIw3g8giF155ZXh+uuvDzfddFO45ZZbdp7o/CJxKBe02jl7y11VCMu3VYWwfFtfISwvtyqE5dtO8RwKYjuHITvsIWBi3gPPUwkQIDAgAeP9QILYV77yldrdShBL6/NEdYKKIDascyaI1R6O7NhCwMTcAs1TCBAgMEAB470gdpIrGnXCUcx9BDFBbIDzhyb3JBB9Yj6bhFGWhez8Np62OLCGZZxNRkV9o8lZi8pCCA3qm9c1O75xaHN47RrZ4bMaHG8ntfZVX1/ldnLQChmEQN0+NB0vxrT52JbiGBB9vE/wJGcJtmmpSa973evCW97ylnDzzTeHhx9+eGnb/If88fxti/ntZdnLhasEPvfVJMgJYoLY/LXsfwJxJ+ZpGGdZWASi4uJlFJrloyZlzPedhsmoVG+j0z4v4zzEVbZ5GsajSZjHvek4C1mrpNmogR3v3OR4u6i6r/r6KreLY1bGMAT260Mpvv7jjvdpnuXkg9iXvvSlQu7LX/5yuPHGG8Pjjz9eKemticO6qM8DmyA2rHPmrYmVQ5CNewpEnZiLEFNeJTorAlKjrNKqjFk9iwDYxKxVfbMKitWxUjBrUu3B9t3jeFu1ua/6+iq31UF60iAF9ulDxUpa018y9a8Udbzv/3Ba1ZB8ECsf1X333RceeOCB8kNr9wWxYV3UC2LDO1+C2Nqw44EOBWJOzOvBpHlAaldG83rmxO3qy5+98tv0eYGJ/9/+eNsdWF/19VVuu6P0rCEK7NOHUlwNy89BzPE+1XOedBD75je/GZ577rnCLr//1re+NXzyk5+stBTEhndhb0VsWOdMEKscgmzcUyDmxLx+YRNCfsHSZKWqXRldBrEdbS5+i37+GbhGS317nsiOnt7Ot33lfdXXV7ntj9QzhybQvg/NfgmT4ss/5nif6vlOOog99dRTxdsR87ckXnvtteHDH/7wTkdBLL2L+r/ytv8+VN0ee+q6UHX708tXhapb1dfXf/6LrwlVt9++dFWoulWVnW/7Sz/40a23O/+du0LVrcnn6FLaVxDbOQzZYQ+BmBPz+oVN84DUrozm9cxJ29U3e3bx3Kz8Vsx5qen+v8/xtjmqvurrq9w2x+g5wxRo24fWn5fO8ccc79M56uWWJB3Elpta7ydBTBArh6eqEJZvqwph+bZyWZvuC2L1Xpf2IlBXIOrEvM9nLuYH1KqM9kEstKrvvLGJfk5kTrnx/32Od2OBOx7sq76+yt1xODYfkUCrPpTualh+ZqKO94l2BUFsYN8wmNLKSN22VK2G5duqVsPybVWrYfm2TQFp/pgg1n0wtyKW6Gh+JM2KOzGvXKSsXejUQa0qYxa41r+pcI8gdv5Zr8XbjJbavFJfHrwWO+bfep9/bX6bFbHlcovPm5x/6Uf7MuvY5vtU+dYto8l+fdXXV7lNjs2+wxao6kPLr9H5cfb/+pzX1O7/uON9uzb2/SxBTBDr/ev+BbHNb1GsG2RT208Q63tYPu3yo0/MS3+Xp+W3im0tY/XiaHYhtfx3fZp9Jq3oHbXrO69/8XfSWh5fWD6OuEFs9e+mtT2GBq+rrb4Nyti0a1/lbqrLY8cpsLUPLb9GZwc/G2+afOY1Nlr08T72AdaoTxATxASxis+JzVfWtv3vrYk1Rhm7EGggYGJugGVXAgQIDFjAeB+CICaICWKCWKM+YEVswLPeAJpuYh7ASdJEAgQIdCBgvBfEGl2ApvYWsaG0x1sTvTWxg/FaESciYGI+kRPtMAkQOHkB470gJojVXBF82yv+s7Dt9h+9/WdD1e3RP3pzqLpte9vf/PF9vqzjnn/2Q6Hq9pbxg6HqNm/Dtv+r2vb6n30wVN2GEqRX22lF7OTnzl4BTMy98iqcAAECyQgY7wUxQUwQE8Rq9oF5IBPEkpnDjrIhJuajPK0OigABAmsCxntBTBCreRG+bTUsf7xqNSzfVrUalm/btto0f7xq1WnX19dXrYbl26pWw/Jt8zZs+7+qbVWrYfm2ebAZ2v+C2Npc4oEOBUzMHWIqigABAgkLGO8FscFeDMe+eBfErtwYygSxhEd4TRukgIl5kKdNowkQINBYwHgviAliVsQqV8W2rYTNHxfEGo+7nkCgUsDEXMljIwECBI5GwHgviAligpggVrMPzFdhvTXxaObAJA/ExJzkadEoAgQIdC5gvBfEBLGaF+HemuitiYJY53OQAjcImJg3oHiIAAECRyhgvBfEBDFBzIpYzT4giB3hLJjgIZmYEzwpmkSAAIEeBIz3gpggVvMi/Lp//HfCttv881J9/V/1Oax82z71Xv9fPhSqbu/8zI+FqltV2978T+4NVbd5sBna/96a2MNspMiFQPSJ+WwSRlkWsvPbeLpoSv07Dco4m4wWdeV19lvfWZiMLo6tOMZWFdanqL1na7NxaHOKQoP68mOYn6fR5Kz2Ie3csWEbdpZnh9MTaNiH5v14Nr6NQpfduQv86ON9F5nkuBwAACAASURBVI3uuIys4/IOXlx+kTi0C9shtHdbCMsf3ycI1XluVdgRxH4oen8XxA4+zB11A+JOzNMwzrKwuNiejkOWNb1YaVBGfhE1moT5pf3sIqlpsGhQX5gFsVSy10XHbXIM0zAumU3HWcgaH1DD+oo+MS1C7KJvXDS+5b0mbWhZhacduUCzPlSML6XXToo4ccf7FAWsiEW/iB1C6NrURkFs88pYVUisWg3Lt21yHsJjgliag/mxtCrqxFwEr3IQahFc9imj+O12w+DXqL4WxxOjIzU6huUGtbq4bFXfzK6zINaqDcvH7qcTF2jUh/LQ1nBsOQBv1PH+AMdXp0orYjXfmjeEC+Q+2yiICWLz/iWI1Rla7dNWIObEvH5R3/zie68y1i6sdqs1q292PPO3XTZf7dvdnjZ7NDuGcg0rKwLlTRX329XXvC9UNGH2Vsel1Yluy6+q27bjEGjUj89/yTMqvzW58Upy/24xx/v+j6ZdDYKYIFZrZUYQE8QEsXaDrGc1E4g5Ma9f2ISQv/WtySpI+zLaXYi3r2/+uafyCmCzc9PV3o2PoQis5591a3Ex2bi+4kDbnZ9tRu3asK00j5+iQKM+VLxmSiti558ta/Hy6ZU65njf64HsUbggJogJYhVf2FH1RR35Nm9N3GP08VQCGwRiTszrFzbNL77bllF81mlphWQDxoaH2tY3K2q2onToi7F9jqF4btYsTLarr3lf2HC6Fg+1a8Pi6e4QaLaqurba3m1/7up0xBzvu2pz1+UIYoKYICaI1eoDVsS6Hn6Vt0kg6sS85WKlUVBpUUbbEFZ4tahv4dzmM2mLJ3d4J/YxtKqv4wvXVm3o0FxRwxdo0ofWXusd9+eONKOO9x21uetiBDFBrNZFuLcmemuiINb18Ku8TQJxJ+aVFaK1C51NLVx9rKqM2cXPxbf8nf/cYiXsotb69U3HpbcmhdnbLrNWdS8fRzlItlmhCqH+MRRfO19Kxr3Xt4Du+sK16pgXlbpDoEKgqg8tv0bD+TemLt5mXYxty+NBRUXRNsUd76MdVqOKBDFBrAhit95+f6i6fe6LV4Rtt6q359XZ9sO/86Oh6nb1Tz8Yqm5VdXzyqTeFqtttf/lnQtXtlrsfDFW3F/74jWHb7ebH7g1Vt3mwGdr/vqyj0Rhr54YC0Sfm889O7PV3draWsXJxVFwMrfxdr/zvl5WCRi2utvW1CmF5i5aPY/8gVvyhrtLfbytfIC7Xtah78bfeyvvW0prtVNfsPCRefMHJ7HwtLmgbVLm269Y2rO3pAQKbBbb2odXXzeprrOXfLNzcis4ejT7ed9by7goSxAQxQawijFWFsHzbthCWP14VwvJtQwtg8/YKYt0NwEpaFzAxr5t4hAABAscoYLz3d8QGezE8vyju6v+q1bB827bVsPzxqhWpOtuqVsPybVWrYfm2qjqqVsPybVWrYfk2QWz9D0YLYsc4HaZzTCbmdM6FlhAgQKBPAeO9ICaIna8ICmKb36IoiAlifU5Cyl4XMDGvm3iEAAECxyhgvBfEBDFBrHJVTBATxI5x8kv5mEzMKZ8dbSNAgEB3AsZ7QUwQE8QEsYafk/TWxO4mISWtC5iY1008QoAAgWMUMN4LYoKYICaICWLHOL8N9phMzIM9dRpOgACBRgLGe0FMEBPEBDFBrNHEYed+BUzM/foqnQABAqkIGO8FsZMJYrfd+jOh6lb1rYj5tm9dvrL17Y5f/5uh6va2P/tjoer2H7z7Y6Hq9vqPPhi23X7ge/9mqLrt+62TVd/YeOlfvTpU3f7qbR8JVbd929bX8701MZUp7DjbYWI+zvPqqAgQILAqYLxPJIjdfffd4VWvelW47rrrFufoa1/7WrjjjjvCG9/4xuL/Z599drGt6k5+kdjXBeiQy60KYfk2QWz9SynqnG9BrOrVaBuB5gIm5uZmnkGAAIEhChjvEwlijz/+eHjiiSeWgtgHPvCBcP/99xf9Kv//gx/8YK0+JohtDhSC2OaVsTphq2ofQazWy9JOBGoLmJhrU9mRAAECgxYw3icSxPJedOnSpaUgds0114TLly8XHSz/P/+5zj9BTBArv02x6m2J+baqkFVnmyBW51VpHwL1BUzM9a3sSYAAgSELGO8TDmKveMUrFn3rxRdfDOWfFxvO7zz88MPhlltuKW4vy16+98V1nQvwoe1jRcyKWFd91mfEVkegzT//0pNPb97g0UqB6BPz2SSMsixk57fxtLJ5mzc2KONsMlrUlWXj0Ka60KC+vMHLdY7C5GzzYUR9tPYxnIXJ6OL8FOepzUmqXd9MYW426hKrYRuino8jqMyYO7yTGH28T5AoS6VNqytiq8Hrla98Za2mWhGzImZFbHMfEMRqDSGd7fTX/rfPBBcGzTnjTszTMM6ysLjYno5DljUNKk3KmIbxaBLmOWg6zkLWOFQ0qe88hJXqbH5G+nhGk2OYBbHGTEvNblLffN9pEQAXfWOpvDY/zMs9P/ut+lqbek/nOcbc4Z3ruON9mj7JBjFvTez2YtqKmBUxQSzuIJxfFLgwaG4edWIuLobLq1ItLvr3KKNYdWkakhrVl1/8Nw2Wzc9Z42c0OoYW52S1QY3qmz95Vm9nQaxVG+Zt8X8dAWNuHaW09ok63qd16IvWJBvE7rnnnqUv68i/vKPOPytimwOcICaICWJ1RpDu9plfFAhjzUxjTszrQaj5xXf7MlZWSGoyNaqveCvcKIzKb+3bb2mpZiurd2t0DGF2TuZvHW2+YrlpVbDOea6zT/Vxlrc2O+byM92vK2DMrSuVzn4xx/t0jnq5JUkEsXe9613h1a9+dXjpS18arrjiivDII4+Er371q+G2224rvr7+9ttvD/nX2df5d6pB7Pv/wn2h6nbjr/ztUHWr+tKJfNtvX9p+++l/8ddC1e0t4wdD1a2rgHCIcqrcdv3ttarzkW87xPHUqdNnxOqMRKFYDXNhUM+qvFfMiXn94jiE/O2CTVZBGpdRrIycf+apRShqVF9RV2lF7PwzSi2qLZ+ive83OoaV2ornNvxsXbv6+g5izfvaCoUfVwTK461fgK3gJPpjzPE+UYKQRBDrEkcQ2xzIdl30VwUKQWzzKmMeWqrcBLEuX9nDK2v1osCFQb1zGHNiXr9Ab37xvU8Z3YSKijZveTtck6BZ76w122sfsxBmK4lNwmS7+ipcmx1usXe7NrSo6ISfYswd3smPOd6nqiOIvWT7RXad1YFU9qlaDcu3CWL9nGdBLNWh7fDt2nRRIIztPi9RJ+YtQaXJRX7Yp4zztw42+mK+JvWtld9tuNh9Nrfs0eQYVotYO6bVHTb83Kq+jq1atWHDsXhoq4AxdytNshuijveJKghiglgR0qoChRWx7SGuys2KWKKjXqRmlS8KPvRbf7D0VkXfprj9JMSdmFdWV9Yulre382JLVRmzi/nFNyPmIaKU8tqsiK2tCC21eaW+889XLVbAin1Lb1W8OIgd95bLLb7t8fxLRvo+hul4ub3lunc0urS5wTlaPKvjILa6krd03haVurOHgDG369fpHiej5lPjjvc1GxV5N0FMEBPE9ugDgljkEWtA1ZUvCr79/AtBGKt38qJPzMUKy/zvVC1f9NdrcfGHukp/i6xcxvKFUejgiyeKNm1t82p9q23LQikH1j68RbvPn1wOQ+2C2Gq7KsyKwDI/P1nImn7L5Pwoa5vNQtvFl4PM6l6E2Xl5bf7f2oY2hXnOqoAxd/n138nrdBW545+jj/cdt7+L4gSxPS7CU3lbYt4Ob03cvmrV53kSxLoYho6zjPJFQX6Ewli982xirudkLwIElgWMucseQ/jJeB98WUefF+kxyxbEBLFY/c23Jtab3lYvCvJnCWO77UzMu43sQYDAuoAxd90k9UeM94JYsl8RvnpRfeef+ZFQdbvt1/9WqLrt+rzSHz7950LV7S/+8MfCttsP/Pn/IlTd3vZ9PxmqbqvHOqSf91kR+9HffXeouqXqsG8QK0+Wp3K/PBkKY2WN9fsm5nUTjxDYR+BUxtnycZa9jLlljbTuG+8FMUHs8pUhD2lVISzfti2E5Y9XhbB8W1UIy7elGjjqtEsQaz6olyfLU7m/quTCYFXk4mcT84WFewS6EDiVcbZ8nKtuxtxVkTR+Nt4LYoMJAVWrYfm2qtWwfJsVsX7euiiINR/My5PlqdzfpOTCYJNKCCbmzS4eJdBW4FTG2fJxbrIy5m5SOexjxntBTBCzIrZXHxDEmg/iuybL5iUO9xkuDNbPnYl53cQjBPYRMOZe6BlzLyxSuGe8F8T2ugiv89a1rvaxItbPita+50cQaz6UuyhYNnNhsOxhYl728BOBfQWMucuCxtxlj0P+ZLwXxAQxK2J79QFBrPkQ7qJg3cyFwYWJifnCwj0CXQgYc9cVjbnrJod4xHgviO11Eb7vakqT51sRsyLWpL/0uW+X35p4iIE/1TpdGMzOjIk51R6qXUMVEMQ2nzlj7maXmI8a7wUxQcyK2F59wIpY8yHbRcF2MxcGvqxje++whUA7AWPudjdj7nabGFsEMUFsr4vwPlcdVsv+Sz/40VB12/WtiLu2/4d//WdD1W21PX6erdAJYs2HahcF1WanfmFgYq7uH7YSaCpgzK0WO/Uxt1qn363Ge0FMEDtfEasKYfk2wWvzWyMFseaDtIuC3WZDuDA4m4xClmWL23haOq7pePF4vs9oclbaWH3XxFztYyuBpgLG3N1iQxhzdx/F8PZoPN6vzC0Xc9A4FFPQyvZNc890PJu3Nm07hGB2iEr7rDP//Moxhoaq1bB8264Vr13bBbHNQWtXXxLEmr+aXRTUM8svDN77q78fyl6/9i+/XO/Jfe91Ngmj0STM49UslJ1PhGEaxtkoLLJXvm/55x1tazwx7yjPZgKnLlAeQ07dour4kx5zqxo+4G1djPdFsCp+E1hj7smD2mgcxqNmvyDsk1gQe0m7C/BdF+hdbxfE0jxPgljz4clFQT2zX3ry6aUQ9qHf+oOQXygk+a8ctor781CWt3ZlctxxAF1MzDuqsJnASQkYc+ud7kGNufUOKfm99h7vG809Z2EyysJ4OvvfilhP3cOK2JWtVsesiLULeoJY8xeyi4LdZoO7ICjeDnIRvmZv/ch/bj7h7T0x7+a1B4GTEjDm7j7dgxtzdx/SIPbYd7y/WA2bHW7V3FO8c6NYOWs+L/WJaUXMilgR3AQxQazuKq6vr+9zSA5heBcEmye12YSYhaz0FsY6cvtOzHXqsA+BUxIQxKrP9vDG3OrjGdLW/cb7/N0W+QrX8hFvnHuW3qmxec5aLiXeT4KYICaI7dEHrIg1H6xcFGw3G+IFQTHpLYWt5clx9vmx0mfGth9+sWW/iXlH4TYTOEEBY+72kz7EMXf70Qxvyz7jfTG31Jp7ZsHrIrAJYr32FG9N9NbEuis7XewniDV/Obso2Gw2xAuC9RAWwvrk2GzS22di3izrUQKnLWDM3Xz+hzjmbj6S4T7afrxf/oVfLrB97pkUK2cX37B48W2/Td+x0Ye0FbE9VkO6uJCvW8b7nvjhUHWrCgT5th/+nR+tvNVth/2W38L4wh+/MWy77Ton7/3sXaHqlqq1tyZ2PxQP74JgFq42TmIrnxcLxVtC1t8+sk2x/cS8rcTVx8/bfv7r0XKYnK3eXXzWbfWZ7X4+hvqO4Riqzl5fx9dXuVXHsr5NEFs3Gd6Yu34M64+k0d/W27X9kbbj/caxuvbcM3PyZR3bz8teW451RawqhOXbdl30C2LLAaqrkLMthOWP7zonVSEs39ZVG7suRxDba4hae/IgLwiKCa/0W8X53xMrh5v5Y8n9HbHYFyvHUN8xHMPaS6/0QF/H11e5pabXuCuILSMNcsxdPoQtP6XR37Y0buPD7YLYbDVsU5BafD7sfP7ZtE9o8SVSGxvf0YNWxKyIFStlXV+sn0p5gljzkah8UXAq97cpHe8FwbYj3v14u4l5d7n2IHCqAqcyzpaPc9u5NuZukznM48b7EAQxQUwQ26MPCGLNB+/yZHkq9zcpuSDYpBKCiXmzi0cJtBU4lXG2fJybrIy5m1QO+5jxXhBL9u1fqytK3prYz1sLV52b/iyINR/Ey5PlqdxfVXJBsCpy8bOJ+cLCPQJdCJzKOFs+zlU3Y+6qSBo/G+8FMUHs/Es8mgYQ+8+CoSCWxmCeYiu2XRS4IKg+Wybmah9bCRDYLGDM3eyS8qPGe0FMEBPE9uoDgljKQ/xh27bpokAI231OTMy7jexBgMC6gDF33ST1R4z3gtheF+ExV4W8NdFbE2P2t6q69v3WxNQnhq7at3pRIITVkzUx13OyFwECywLG3GWPIfxkvBfEkgpif+FHHgzbbn/8pT8Xqm7fulz9h5yv+e8eClW3qgtv27aHwKqvqN91Tq78Bx8JVbdU3QWxetNb+aJACKtnlu9lYq5vZU8CBC4EjLkXFkO5Z7xPJIjdfffd4VWvelW47rrrFn3nvvvuC695zWvCTTfdVNwee+yxxbaqO0P+O2LbQlj+eFUIy7ftuuivCmH5tlQv+lNvlyBW9Wo87W3li4Ly/Q/91h+Ebz//wmnjVBy9ibkCxyYCBLYKlMfZ8n1j7layg28w3icSxB5//PHwxBNPrAWxBx54oHEnEcQ2r4wJYttXtfYJe4JY45foyTyhfCEwv++CYPfpNzHvNrIHAQLrAvNxtvy/MXfdKaVHjPeJBLG8U1y6dEkQ89bEwa3MCWIpDelptaV8MZDfd0FQ7/yYmOs52YsAgWUBY+6yxxB+Mt4nHsSuvPLKcMMNN4T8rYvPPvvs1j718MMPh1tuuaW4vSx7+eAu5ucrMt6a2M+q1dy3j/8Fsa0vy5PfUL4oEMLqdwcTc30rexIgcCFgzL2wGMo9433CQeyZZ54Jzz//fHjhhRfCvffeW4SxOh3LWxO9NbGPwLWtTEGszqvyNPeZXxQIYc3Ov4m5mZe9CRCYCRhzh9cTjPcJB7Fyd1p922J52+p9QUwQ2xaa+nhcEFt9Bfp5LpBfFAhhc436/5uY61vZkwCBCwFj7oXFUO4Z7xMOYpcvX170o4ceeii8853vXPxcdUcQE8T6CFzbyhTEql6Np71NCGt3/k3M7dw8i8CpCxhzh9cDjPeJBLF3vetd4dWvfnV46UtfGq644orwyCOPhLvuuitcf/31xWfE3v72t4dyMKvqakMOYm9+74Nh223X19P/31+4JlTdfuAN94Sq27agceyP3/lnfiRU3b737/1sqLpVBbG//lt/I1Td3vZnfyxU3VK1z19jL774YtXL0LYQfEV9y15gYm4J52kETlzAnwUZXgcw3icSxLrsOoLY5kBWFcLybale9PfdrqoQlm+rCmH5NkGsy1evsgj4g876AAECBE5FQBATxJIKINtWw/LHrYj1842KglhzVytipzJFHuY4TcyHcVcrAQIEYgsY7wUxQez8LYt9rzylWr4gJojFnnjUVy1gYq72sZUAAQLHImC8F8QEMUHMZ8Re0iyMWRE7likwzePof2I+C5NRFrLxtACYjrOQjSbhLIRwNhmFLBuH2ZaufI6hvmM4hqrz2dfx9VVu1bHYdroCw+tv/Y/36feGLP0mNmuhz4j5jFiT1TcrYs1CWG4riDUbk+zdTKD/iTn2xcox1HcMx1DVD/s6vr7KrToW205XYHj9rf/xPv3eIIg1XA1ocpHfdF+fEWseCpoar+4viDU3F8TSH9iH3EIT85DPnrYTIECgvoDx3lsTj+atif/o7OZQdVsNIKfy866gdeXffSBU3XZ9Scov/9GNYdvtL/7wx0LVbajnQBCrP8nYs7mAibm5mWcQIEBgiALGe0FMEEtoRbCPYCKINV/x2nUeBLEhTnfDabOJeTjnSksJECCwj4DxXhATxAQxK2IN+4Agts+047m7BEzMu4RsJ0CAwHEIGO8FMUGs4UX4rtWS1LZbEbMidhzT1ekchYn5dM61IyVA4LQFjPeCmCAmiFkRa9gHrIid9sTZ99GbmPsWVj4BAgTSEDDeC2KCWMOL8NRWvHa1x4qYFbE0phutqCtgYq4rZT8CBAgMW8B4L4gJYoKYFbGGfcCK2LAnvtRbb2JO/QxpHwECBLoRMN4LYoJYw4vwXStQqW23ImZFrJvpQimxBEzMsaTVQ4AAgcMKGO8FsaMJYt/7C/eHqltqAanL9tx268+Ebbcbf+Vvh6rbrr8T9tZf/WCounV5HEMpy4rYYSeuY6/dxHzsZ9jxESBAYCZgvBfEBLEjWBHbFsLyx6tCWL5NEGu+YiaImUL7FDAx96mrbAIECKQjYLwXxAQxQawyjFWthuXbhrKK1WU7BbF0JrFjbImJ+RjPqmMiQIDAuoDxXhBL6kL6ze99MGy77Vq5qXpbYr6tywvx1MqyItZ8VWufcyiIrU8mHulOwMTcnaWSCBAgkLKA8V4QSyqgbAth+eOC2PawIYhtt9kncG17riCW8rQ2/LaZmId/Dh0BAQIE6ggY7wUxQcxbEytDrrcmroc8QazO9GKftgIm5rZynkeAAIFhCRjvBTFBTBATxBr2AUFsWBPd0FprYh7aGdNeAgQItBMw3gtigljDi/Btb1c75OPemri+atXn+RDE2k04nlVPwMRcz8leBAgQGLqA8V4QSyuI/Y0Hw5u33P708lWh6vbLf3RjqLr1eWHed9lX//SDoer2uS9eEbbdqszybdf+Hx+qvPV9bEMsXxAb+tSXdvtNzGmfH60jQIBAVwLGe0FMEBvAilhVCMu3bQth+eOCWPerZYJYV1OQcjYJ9D8xn4XJKAvZeFpUPx1nIRtNwlkI4WwyClk2DrMtm1rX5rFjqO8YjqHq3PV1fH2VW3Ustp2uwPD6W//jffq9IUu/ic1amF8kDnGVIW/zttWw/PFdgaJqNSzfNlSTvN2CWPdhap/+IIg1G5Ps3Uyg/4k59sXKMdR3DMdQ1Q/7Or6+yq06FttOV2B4/a3/8T793iCIJbQiJIhtDhyC2GaXfcLUPs8VxNIf2IfcQhPzkM+ethMgQKC+gPHeWxOTWikSxDYHDkFss8s+YWqf5wpi9ScZezYXMDE3N/MMAgQIDFHAeC+ICWIJrQhuCweCmCA2xAlGm9sJmJjbuXkWAQIEhiZgvBfEBDFBzLcmNuwDVsSGNtUNq70m5mGdL60lQIBAWwHjvSAmiDW8CN+2atXn41bErIi1HeQ9b3gCJubhnTMtJkCAQBsB470gllYQe++D4c1bbt+6fGWouj37r68IVbcr//79oepW9UeR821v+/d/auttW5vnj9/2638rVN12fePjrm+M/EdnN4dttzf/k3tD1e0v/8cfDVW3PgPmUMu2ItZmuvGcugIm5rpS9iNAgMCwBYz3iQSxp59+Otx6663hTW96U7j22mvDZDIpetbXvva1cMcdd4Q3vvGNxf/PPvvszh6XXyQO9QJ3Hlw2/V8VwvJtVSEs31YVwvJtgtjmQDbUvtRnuwWxncOQHfYQMDHvgeepBAgQGJCA8T6RIHb58uXwxBNPFF3nueeeC1dffXV48sknwwc+8IFw//33F4/n/3/wgx/c2b0Esc0rY4LY5pWxqtWwfFufgWaoZQtiO4chO+whYGLeA89TCRAgMCAB430iQWy1z7zjHe8In/rUp8I111wT8pCW/8v/z3/e9U8QE8TKb1Oseltivk0Qa/75M0Fs1yhk+z4CJuZ99DyXAAECwxEw3icYxC5duhRe+9rXhq9//evhFa94xaI3vfjii0s/LzaEEB5++OFwyy23FLeXZS8f7CrGprckzh/z1sSrwrbPipWD1+p9Qax50Nq1UieIlUcf97sWMDF3Lao8AgQIpClgvE8siH3jG98IN998c3j00UeLHlMOYvkDr3zlK3f2JCtiVsTKYUwQE8R2Dhp2SErAxJzU6dAYAgQI9CZgvE8oiH3nO98Jd955Z3jwwQcXJ9xbEy++RdGKmBWxXStVsbZbEVsMUe70IBB9Yj6bhFGWhez8Np62OKgGZZxNRou68joHUV8Lkp1PaW02Dm1O0c72lHdo0Lby03be76vcnRXbgUCaAtHH+wQZshTalL/t8N3vfnd4//vfv9Sce+65Z+nLOvIv79j171RXxHYFtV3bP/WF7wtVt//xD/9K2HbbVfa+29/72btC1e3K/+FjYdstVjg5pXoEsV2jkO37CMSdmKdhnGVhNDmbNXk6Dlk2CvMf6x1HgzLyC/HRJJzXFmahrGmwiF1fPYVmezU4hjAN45LZdJyFrFV6rdvCJm2rW2a+X1/lNmmDfQmkJRB3vE/r2OetSSKIffrTny5+Q3jDDTeEm266qbg99thj4atf/Wq47bbbiq+vv/3220P+dfa7/gli1X9vbFsoqgph+bZtISx/fFuZXT1eFcLybdtCWP74KQWkWMcqiO0ahWzfRyDqxFwEr3IQOguTUcNVqn3KKFZIGga/2PXtczK3PXePYyjCaymYbaui9eN7tK2yzr7KrazURgJpC0Qd7xOlSCKIdWkjiAli5WAWK5ycUj2CWJcjlrJWBWJOzOsX9bMgtlghW23chp/3KmPt4nxDBSsPxa5vpfpOfmx/DCurSp20ZrmQ9m1bLmf1p77KXa3HzwSGJBBzvE/VRRB7SfdfZtD2onz+DYmb/u9qdWlbOVbE0ukHbftPrOcJYqkO58fRrpgT8/rFcQj5W9/2C2J1y2ge+vIz3L7N7erro1c1PoYisJ5/jq/XtyXu41st1fiYq4uzlcBRCMQc71MFE8QEseKthYKYIFY3yAliqQ7nx9GumBPz+sVx87DStozis04t3mIXu74+elXbY8jbUjw3K7+dtNsW7tO2qpb0VW5VnbYRSF0g5nifqoUgJogJYgn1gbph6JD7CWKpDufH0a6oE/PaWwNnQazRokuLMtqGsOIMx66vj27V4hgWzWjzubrFk2vc2adtVcX3nZ6HxAAAHy9JREFUVW5VnbYRSFwg6nifqIUgltBF+Ka3JM4f2/aWwq4etyJmRaxuuBPEEh3Nj6RZcSfm2WeOFsFr7WK5DmpVGbNgd/Etf+c/t1gJu2hJ7PrympePoxwk261QNTiGPHgtTlD/K2LzbzdcVNmqT1ycrYt7Vcd8sZd7BNoLdP06bd+Sus+MO97XbVXc/QQxQcyKWEJ9oG4YOuR+gljcQfrUaos+MRcrLPO/I9bwGwznJ2drGcsXRqG4qJ/XVfp/cdU/L3DH/7Hr6zyIFe8xLP39trL7itm87sXfeivvu8Op7eatvm0LPH9eX+Xu2SxPPxaB5dfO/r8w6d8l+njf/yE1rkEQS+gi/G3f95Nh2+0nfu9doeq278rYn17e/geT8237lP/bl64KVbfv/YX7Q9XtkKFD3esrhYJY43HWExoImJgbYNmVAAECAxYw3ocgiAliRcgSxNYDhxC22UQQG/CsN4Cmm5gHcJI0kQABAh0IGO8FsaT+4O+21bD88arVsHzbPitW+XMFsc2hQxhbdxHEOph9FLFVwMS8lcYGAgQIHJWA8V4QE8Quz/4AtCC2HjiEsM0mgthRzYPJHYyJOblTokEECBDoRcB4L4gJYoJYUn1gCOFPEOtlPlLouYCJWVcgQIDAaQgY7wWxpC7CvTVx85d2DCGcnFIbBbHTmCAPdZQm5kPJq5cAAQJxBYz3gpggZkUsqT4whEAniMWdqE6tNhPzqZ1xx0uAwKkKGO8FsaQuwq2IWRETxE51OnLccwET81zC/wQIEDhuAeO9IJZUEKu6CP+BN9wTqm6vm3wsVN12faviPl/W8b2PfDRU3b7/5vtC1a3quG3b/IUZh3SxInbcE+Ohj87EfOgzoH4CBAjEETDeC2KCWAdvTawKYfm2qhCWbztkqFB386AniMWZoE61FhPzqZ55x02AwKkJGO8FscGEgKrVsHxb1WpYvs2KWPPAIaRtNhPETm2qjHu8Jua43mojQIDAoQSM94KYIGZFbDB9IJVgKIgdaso6jXqjT8xnkzDKspCd38bTFs4NyjibjBZ1Zdk4tKku1K7vLExGF8dWHGOrA2xhsusptY9hVtDcbTQ521Xy/tsbtq12hX2VW7sBdiSQlkD08T6twy9akyXYpr2alF8kpnLB2mU7rIhtXp3p0lhZ9YwFsb2GKE/eIRB3Yp6GcZaFxcX9dByybBSaXes3KWMaxqNJmEeJ6TgLWeNg1KS+WRBrXMWOc7T/5ibHMN93WoTKxbnavxFbSpjXd36WWvWJTUX3Ve6mujxGYBgCccf7NE0EsZfUu/g89EW6IDaM83TofhKjfkEszcH8WFoVdWIuLrLLq1ItgsseZRSrPKVgVuscNqqvxfHUasSeOzU6hnlds2PpPYi1atu8jRX/91VuRZU2EUhdIOp4nyiGICaIFZ8f862Jgl7dECeIJTqaH0mzYk7M60Go+cV++zJWVkhqnr9m9c2OZ/62y+arfTUb1XC3ZscwL7z5uZk/s8n/7dq2u4a+yt1dsz0IpCsQc7xPVUEQE8QEsYH0gbpBqe/9BLFUh/PjaFfMiXn94jiE/O2CTVZdGpdRrIycf26rxXsGG9dX6hbFc9t+Lq1Uzr532x3DoYJY8z6xyafdMW8qyWMEjkcg5nifqpog5iL8KD9T13cYOeXyBbFUh/PjaFfMiXn94rj5xf4+ZRTPbRiM9qkvhNkqXIv812nnancMzc9Nm0a3a9vumvoqd3fN9iCQrkDM8T5VBUFMEBPE9IFGfUAQS3U4P452RZ2Yu/jczj5lFN+i1/DLQWLX10e3anUMcYJYaNW2Gkh9lVujarsQSFUg6nifKIIg5iK80UX4Ka8EOfbZ5+gEsURH8yNpVtyJeWWFaO1iuQ5qVRmz8LD4ZsQ8eJWWo4pVkoYrYmurWkttXq5vOl4OecW3NDb9cpCCYLXcLGTn5fR9DBdnIFIQW101XPK9aE3ze1X9pHlpnkFgXaDr1+l6DV0/Ene877r13ZQniAligpg+0KgPCGLdDL5K2SwQfWJe+ttOy8Flcws3PLq1jOULoxDOf1783bKe6ytCROnviLUKYfnxLh9HOdC1C2J5keW/31Z2WK5rHjwvvnBkdjxNPse34YxVP7S1bdVP27m1r3J3VmyH0xBYfu108jrtGS76eN/z8bQpXhBzEd7oItyqkG9XFMTaDLWeU1fAxFxXyn4ECBAYtoDxPgRBTBATxPSBRn1AEBv2xJd6603MqZ8h7SNAgEA3AsZ7QazRBajVIKtB+sAPBUGsmwlIKZsFTMybXTxKgACBYxMw3gtigpjVIH2gYR8QxI5tKkzreEzMaZ0PrSFAgEBfAsb7RILY008/HW699dbwpje9KVx77bVhMpkU5/y+++4Lr3nNa8JNN91U3B577LGdfSG/SLRqYeVKH+ivDwhiO4chO+whYGLeA89TCRAgMCAB430iQezy5cvhiSeeKLrOc889F66++urw5JNPhjyIPfDAA426lCDW3wW4cMM27wOCWKMhyc4NBUzMDcHsToAAgYEKGO8TCWKr/ecd73hH+NSnPiWINXzLmKAkKMXoA4LY6ojl5y4FTMxdaiqLAAEC6QoY7xMMYpcuXQqvfe1rw9e//vUiiF155ZXhhhtuCHfffXd49tlnN/amhx9+ONxyyy3F7WXZy701UYDTB3rsA4LYxmHIgx0JmJg7glQMAQIEEhcw3icWxL7xjW+Em2++OTz66KNF13nmmWfC888/H1544YVw7733FmFsV5/y1kSrQjFWhU65DkFs1yhk+z4CJuZ99DyXAAECwxEw3icUxL7zne+EO++8Mzz44IMbe1C+Unbddddt3FZ+UBATxE45JMU4dkGsPOK437WAiblrUeURIEAgTQHjfSJB7MUXXwzvfve7w/vf//6lnpJ/icf830MPPRTe+c53zn/c+r8gJojFCCOnXIcgtnX4saEDARNzB4iKIECAwAAEjPeJBLFPf/rTIcuy4rNg5a+qv+uuu8L1119fPP72t789lIPZtv4liAlipxySYhy7ILZt9PF4FwLRJ+azSRhlWTEH5fPQeNrFUVSUcez1VRx6603HYhb7OFqDe2KyAg360NlktBjXooxtLdCij/ct2tj3U7K+K4hdviAmiMUII6dchyAWe1Q7rfriTszTMM6yMJqczZCn45BlozD/sXv5Y6+ve7EQjsUs9nH0cS6UeViBBn0oD2yjSTgf2cIslI1D379nauoTd7xv2ro4+wtiPX673ClfrDv24w3EglicwflUa4k6MRfBq3xxchYmox5XxY69vj467bGYxT6OPs6FMg8rsE8fKlbS+vwlUzuaqON9uyb2/ixBTBDzVe/6QKM+IIj1Pi6fdAUxJ+bit8Sl3xqHMAtiixWyjs/EsdfXMVdR3LGYxT6OPs6FMg8rsFcfWgtxhz2Wee0xx/t5nan9L4i5CG90EW6l63hXuuqeW0EstWH8uNoTc2Jev7AJYTouvVWxY9pjr69jrqK4YzGLfRx9nAtlHlagfR/q9xdM+6jEHO/3aWefzxXEBDFBTB9o1AcEsT6HZGXHnJjXL2z6vWA59vr66L3HYhb7OPo4F8o8rEDbPpT/cilbWvk/7HGUa4853pfrTem+IOYivNFFeN1VE/sd78qZIJbSEH58bYk6Ma+9XcdnxJLrUcdyjmIfR3InUoP2FmjRh1IOYblH1PF+7xPQTwGCmCAmiOkDjfqAINbPYKzUmUDciXn2LWSLr6xfu9Dp+qwMtb5ZQM3OocoXd8Vv6bPyF54w2ywQ+9xvboVHhyxQ1YeWX6Pzz7umuhI2Pwtxx/t5rWn9L4i5CG90EW6l63hXuuqeW0EsrUH82FoTfWJe+rs8Eb5VbJD1LV/kxQ1iIYRBmm14ZcY+jg1N8NDABbb2oeXXaCh+qXTx9xHzvyNW3Ba/dUrDIfp4n8ZhL7VCEBPEBDF9oFEfEMSWxlA/dCxgYu4YVHEECBBIVMB4H4Ig5iK80UV43VUT+x3vypkgluiMdiTNMjEfyYl0GAQIENghYLwXxIQQQVQfaNgHBLEdM4vNewmYmPfi82QCBAgMRsB4L4i5CG94EW6l63hXuuqeW0FsMHPcIBtqYh7kadNoAgQINBYw3gtigpggpg807AOCWOO5xhMaCPz4z/3T4iuN8wn6p37+sw2eaVcCBAgQGJKAICaIuQhveBFed9XEfse7ciaIDWma01YCBAgQIJCmgCAmiAligpg+0LAPCGJpTmhaRYAAAQIEhiQgiB1hEPue7/mecMsttyxuV1555eJ++fEU7qfatlTblZ8zbbvo2036cJdu+WvsxRdfHNJYr60ECBAgQIBAYgKC2BEGsdU+ll+spvov1bal2q78PGpbu96cslu7I/IsAgQIECBAYMgCgpggdtD+m+rFcartyk+WtrXrsim7tTsizyJAgAABAgSGLCCICWIH7b+pXhyn2q78ZGlbuy6bslu7I/IsAgQIECBAYMgCgtgJBLGHH3442T6aattSbVd+IrWtXXdO2a3dEXkWAQIECBA4MYGzSRhlWcjOb+Pp9uM/m4wW+2XZOFTsur2QnrcIYicQxHruQ4onQIAAAQIECBAg0LPANIyzLIwmZ7N6puOQZaMw/3G58mkYjybhfM8wHWchq0pty0+O9pMgJohF62wqIkCAAAECBAgQINBKoAhe5ZWtszAZZaFOvipWx0rBrFX9PTxJEBPEeuhWiiRAgACBrgW+8if/b/jN3/9C18Uqj0AyAv/q33w9/OG//DfJtEdD0hJYD1OzILZYIdva3JWVtK37xd8giB1xEPvkJz8ZrrnmmvCGN7wh3H///fF7V0WN+d90uv7668NNN9108C+fuPvuu8OrXvWqcN111y1a/LWvfS3ccccd4Y1vfGPx/7PPPrvYFvPOprbdd9994TWveU1hl/s99thjMZu0qOvpp58Ot956a3jTm94Urr322jCZTIpth7bb1q5U3BaA7hBoKPDob3w+vPO/+aWGz7I7geEIPPJ/PhH+99/4/HAarKVRBdaDWCjecrg1iBUraOefJ6uzbBb1aGaVCWJHGsSef/758PrXvz489dRT4dvf/na48cYbw5NPPnmALra5yjyIfeUrX9m8MfKjjz/+eHjiiSeWgtgHPvCBRXjNQ+wHP/jByK2aVbepbXmgeOCBBw7SnnKlly9fLtzyx5577rlw9dVXF33s0Hbb2pWKW9nQfQJNBH7hsSfC7e/7n5s8xb4EBiXw4P/yW+Hjjz0xqDZrbDyB9SBWd0UshOK5CX5hhyB2pEHsM5/5TLjzzjsXr46PfOQjIb+l8i+lIJabXLp0aSmI5SuJ+QV9/i//P//5UP9W25ZqoHjHO94RPvWpTxVWqdjl52zerlTdDtWv1Ds8gb8/fSLc8eOC2PDOnBbXFfivf+5XBbG6WKe43x6fEQvFty1u+2KPw2EKYkcaxD7xiU+E97znPYue9fGPfzy8733vW/x86Duve93rwlve8pZw8803J/F17Kth5xWveMWC6MUXXwzlnxcbIt1ZbVseKPIge8MNN4T8rYuHettk+fDzNr72ta8NX//615esUrCbtytFt7Kh+wR2Cfyvn/pn4ft/4pFdu9lOYLACP/GxXxHEBnv2YjR89lmvxbsMl4LZbHVs8c2IefBa7GhFLMbZaVtH1vaJKT8v9SD2pS99qeD78pe/XLxtMn8L3iH/rYad1eD1yle+8mDNW23bM888E/K3nr7wwgvh3nvvLcLYwRoXQvjGN75RBOpHH320aEYqdqvtSs3tkOdM3cMU+M0nvhD+k5/8xfCfP/CPwwf+7tSNwdH1gbf/V78Qfun/+r1hvkC1Oo7A0t8RK69wrQSxcP7z4m+OlfeN09Q6tVgRO9IVsdTfmljunCm8ZWw17KT81sSy3Wq7y9ti3P/Od75TvAX2wQcfXFSXgt2mdi0auOGtqOVt7hNIVeDSv/6T8JuffSr8zue+GH73D7/kxuDo+sCv/e5ZeOarX0/1JahdBDoXEMSONIh997vfDVdddVX4whe+sPiyjs9/Po1vIvrmN79ZfLlD3pvz+29961tD/g2Ph/y3GmjuueeepS/ryL+A4lD/Vts2//xV3p6HHnoovPOd7zxI0/K3Hb773e8O73//+5fqP7Tdtnal4raE5QcCBAgQIEDgZAUEsSMNYnmPzr/WPP8mu/zbEz/84Q8n08nzb3LMv8Uxv+Vfe37otr3rXe8Kr371q8NLX/rScMUVV4RHHnkkfPWrXw233XZb8fX1t99+e8i/kv0Q/za17a677iq++j//jNjb3/72xZeKxG7fpz/96ZBlWfFZtfxr9OdfpX9ou23tSsUt9nlSHwECBAgQIJCmgCB2xEEszS6nVQQIECBAgAABAgQICGKCmFcBAQIECBAgQIAAAQKRBQQxQSxyl1MdAQIECBAgQIAAAQKCmCDmVUCAAAECBAgQIECAQGQBQUwQi9zlVEeAAAECBAgQIECAgCAmiHkVECBAgAABAgQIECAQWUAQE8QidznVESBAgAABAgQIECAgiAliXgUECBAgQIAAAQIECEQWEMQEschdTnUECBAgQCB9gbPJqPij9fkfrs9v42mpzdPx0rbR5Ky00V0CBJIQOJuE0fnrd+01nEQDQxDEBLFEuqJmECBAgACBRATyC7jRJMzj1SyUjcMsi03DOBuFRfYqLvZKPydyCJpB4LQF8tdpFha/JCl+eZLe61QQE8RO+3Xq6AkQIECAwC6Bctgq7s9DWf7ElWC2qyzbCRDoX6AIXuXX6VmYjFZWtvtvxc4aBDFBbGcnsQMBAgQIEDhpgZWLuuk4f7tifpE3u7hb/Nb9pJEcPIF0BIpV7NKqdkj0tSqICWLpvGq0hAABAgQIJCewOWzNwlgWsqWLveQar0EETlJgPYiFkL9mU/uliSAmiJ3kC9RBEyBAgACBOgJF4FoKW7PPnsy/vGP2+bH0PntS59jsQ+BYBdaD2OZfqBz6+AUxQezQfVD9BAgQIEAgSYH1EBbCUC7wkgTVKAKxBFbeTjx/a+L8FyixmrGrHkFMENvVR2wnQIAAAQInJjD77fnGtx2uXuAVX96R3pcAnNgJc7gEVgSWV67D6ut2Ze9D/SiICWKH6nvqJUCAAAECaQoUF22zvx82/ztixf/nv05ffD7s/G8Upfa5kzRRtYpAZIHzX5LMXsNpvn1YEBPEIr8qVEeAAAECBAgQIECAgCAmiHkVECBAgAABAgQIECAQWUAQE8QidznVESBAgAABAgQIECAgiAliXgUECBAgQIAAAQIECEQWEMQEschdTnUECBAgQIAAAQIECAhigphXAQECBAgQIECAAAECkQUEMUEscpdTHQECBAgQIECAAAECgpgg5lVAgAABAgQIECBAgEBkAUFMEIvc5VRHgAABAgQIECBAgIAgJoh5FRAgQIAAAQIECBAgEFlAEBPEInc51REgQIAAAQIECBAgIIgJYl4FBAgQIECAAAECBI5L4GwSRlkWsvPbeJre4Qliglh6vVKLCBAgQIAAAQIECLQWmIZxloXR5GxWwnQcsmwU5j+2LrbjJwpigljHXUpxBAgQIECAAAECBA4oUASvcbhYBDsLk1EWUlsVE8QEsQO+SlRNgAABAgQIECBAoFuBs8koZKNJOF8PCyHMgthihazb6lqXJogJYq07jycSIECAAAECBAgQSE1gPYiFMB2X3qqYSIMFMUEska6oGQQIECBAgAABAgT2F1gPYlbE9lftp4Ssn2KVSoAAAQIECBAgQIBAdAGfEYtO3rZCQaytnOcRIECAAAECBAgQSE5g9q2Jiy/nWAtmaTTYWxO9NTGNnqgVBAgQIECAAAECBLoSWPo7Yul9dX1+mIKYINZVd1cOAQIECBAgQIAAAQI1BQQxQaxmV7EbAQIECBAgQIAAAQJdCQhiglhXfUk5BAgQIECAAAECBAjUFBDEBLGaXcVuBAgQIECAAAECBAh0JSCICWJd9SXlECBAgAABAgQIECBQU0AQE8RqdhW7ESBAgAABAgQIECDQlYAgJoh11ZeUQ4AAAQIECBAgQIBATQFBTBCr2VXsRoAAAQIECBAgQIBAVwKCmCDWVV9SDgECBAgQIECAAAECNQUEMUGsZlexGwECBAgQIECAAAECXQkIYoJYV31JOQQIECBAgAABAgQI1BQQxASxml3FbgQIECBAgAABAgQGInA2CaMsC9n5bTxNr92CmCCWXq/UIgIECBAgQIAAAQKtBaZhnGVhNDmblTAdhywbhfmPrYvt+ImCmCDWcZdSHAECBAgQIECAAIEDChTBaxwuFsHOwmSUhdRWxQQxQeyArxJVEyBAgAABAgQIEOhW4GwyCtloEs7Xw0IIsyC2WCHrtrrWpQligljrzuOJBAgQIECAAAECBFITWA9iIUzHpbcqJtJgQUwQS6QragYBAgQIECBAgACB/QXWg5gVsf1V+ykh66dYpRIgQIAAAQIECBAgEF3AZ8Sik7etUBBrK+d5BAgQIECAAAECBJITmH1r4uLLOdaCWRoN9tZEb01MoydqBQECBAgQIECAAIGuBJb+jlh6X12fH6YgJoh11d2VQ4AAAQIECBAgQIBATQFBTBCr2VXsRoAAAQIECBAgQIBAVwKCmCDWVV9SDgECBAgQIECAAAECNQUEMUGsZlexGwECBAgQIECAAAECXQkIYoJYV31JOQQIECBAgAABAgQI1BQQxASxml3FbgQIECBAgAABAgQIdCUgiAliXfUl5RAgQIAAAQIECBAgUFNAEBPEanYVuxEgQIAAAQIECBAg0JWAICaIddWXlEOAAAECBAgQIECAQE0BQUwQq9lV7EaAAAECBAgQIECAQFcCgpgg1lVfUg4BAgQIECBAgAABAjUFBDFBrGZXsRsBAgQIECBAgACBgQicTcIoy0J2fhtP02u3ICaIpdcrtYgAAQIECBAgQIBAa4FpGGdZGE3OZiVMxyHLRmH+Y+tiO36iICaIddylFEeAAAECBAgQIEDggAJF8BqHi0WwszAZZSG1VTFBTBA74KtE1QQIECBAgAABAgS6FTibjEI2moTz9bAQwiyILVbIuq2udWmCmCDWuvN4IgECBAgQIECAAIHUBNaDWAjTcemtiok0WBATxBLpippBgAABAgQIECBAYH+B9SBmRWx/1X5KyPopVqkECBAgQIAAAQIECEQX8Bmx6ORtKxTE2sp5HgECBAgQIECAAIHkBGbfmrj4co61YJZGg7010VsT0+iJWkGAAAECBAgQIECgK4GlvyOW3lfX54cpiAliXXV35RAgQIAAAQIECBAgUFNAEBPEanYVuxEgQIAAAQIECBAg0JWAICaIddWXlEOAAAECBAgQIECAQE0BQUwQq9lV7EaAAAECBAgQIECAQFcCgpgg1lVfUg4BAgQIECBAgAABAjUFBDFBrGZXsRsBAgQIECBAgAABAl0JCGKCWFd9STkECBAgQIAAAQIECNQUEMQEsZpdxW4ECBAgQIAAAQIECHQlIIgJYl31JeUQIECAAAECBAgQIFBTQBATxGp2FbsRIECAAAECBAgQINCVgCAmiHXVl5RDgAABAgQIECBAgEBNAUFMEKvZVexGgAABAgQIECBAYCACZ5MwyrKQnd/G0/TaLYgJYun1Si0iQIAAAQIECBAg0FpgGsZZFkaTs1kJ03HIslGY/9i62I6fKIgJYh13KcURIECAAAECBAgQOKBAEbzG4WIR7CxMRllIbVVMEBPEDvgqUTUBAgQIECBAgACBbgXOJqOQjSbhfD0shDALYosVsm6ra12aICaIte48nkiAAAECBAgQIEAgNYH1IBbCdFx6q2IiDRbEBLFEuqJmECBAgAABAgQIENhfYD2IHX5F7Jv/33fD5y49W9w+8wdfDr/460+F//Qjv7H/wQ68hGzg7dd8AgQIECBAgAABAgTmAgf4jNhP/fxnQ77Cte2Wh658n/z20//wnxdB7Jk/+da8xSf7vyB2sqfegRMgQIAAAQIECByfwOxbExdfzrEWzI7viId6RILYUM+cdhMgQIAAAQIECBDYJLD0d8TS++r6TU0+xccEsVM8646ZAAECBAgQIECAAIGDCghiB+VXOQECBAgQIECAAAECpyggiJ3iWXfMBAgQIECAAAECBAgcVEAQOyi/ygkQIECAAAECBAgQOEUBQewUz7pjJkCAAAECBAgQIEDgoAKC2EH5VU6AAAECBAgQIECAwCkKCGKneNYdMwECBAgQIECAAAECBxUQxA7Kr3ICBAgQIECAAAECBE5RQBA7xbPumAkQIECAAAECBAgQOKiAIHZQfpUTIECAAAECBAgQIHCKAoLYKZ51x0yAAAECBAgQIECAwEEFBLGD8qucAAECBAgQIECAAIFTFBDETvGsO2YCBAgQIECAAAECBA4qIIgdlF/lBAgQIECAAAECBAicooAgdopn3TETIECAAAECBAgQIHBQAUHsoPwqJ0CAAAECBAgQIEDgFAUEsVM8646ZAAECBAgQIECAAIGDCghiB+VXOQECBAgQIECAAAECpyggiJ3iWXfMBAgQIECAAAECBAgcVEAQOyi/ygkQIECAAAECBAgQOEUBQewUz7pjJkCAAAECBAgQIEDgoAKC2EH5VU6AAAECBAgQIECAwCkK/P/FHjWEp27sLgAAAABJRU5ErkJggg==)"
      ]
    },
    {
      "cell_type": "code",
      "metadata": {
        "id": "5N-f9wnpTDu7"
      },
      "source": [
        "# reshape the 28x28 pixels to a 784 array (for dense neural network)\n",
        "# and normalize the number by 255\n",
        "\n",
        "x_trainp = x_train.reshape(60000, 784)\n",
        "x_testp = x_test.reshape(10000, 784)\n",
        "\n",
        "x_trainp = x_trainp.astype('float32')\n",
        "x_testp = x_testp.astype('float32')\n",
        "x_trainp /= 255\n",
        "x_testp /= 255\n",
        "print(x_trainp.shape[0], 'train samples')\n",
        "print(x_testp.shape[0], 'test samples')"
      ],
      "execution_count": null,
      "outputs": []
    },
    {
      "cell_type": "code",
      "metadata": {
        "id": "Mu7QzVqUmpJf"
      },
      "source": [
        "# One example of the train data after reshaped and normalized\n",
        "print(x_trainp[0])"
      ],
      "execution_count": null,
      "outputs": []
    },
    {
      "cell_type": "code",
      "metadata": {
        "id": "jOmkp9FWTDu-"
      },
      "source": [
        "# convert class vectors to binary class matrices: one-hot encoding\n",
        "num_classes = 10\n",
        "\n",
        "y_trainp = keras.utils.to_categorical(y_train, num_classes)\n",
        "y_testp = keras.utils.to_categorical(y_test, num_classes)\n",
        "\n",
        "print(\"one-hot encoding\")\n",
        "print(\"Label 0 is \", y_trainp[1])\n",
        "print(\"Label 5 is \", y_trainp[0])"
      ],
      "execution_count": null,
      "outputs": []
    },
    {
      "cell_type": "code",
      "metadata": {
        "id": "g2FHKl9YTDvB"
      },
      "source": [
        "model = Sequential()\n",
        "\n",
        "model.add(Dense(2, activation='relu', input_shape=(784,)))\n",
        "model.add(Dense(num_classes, activation='softmax'))\n",
        "\n",
        "model.compile(loss='categorical_crossentropy',\n",
        "              optimizer=RMSprop(),\n",
        "              metrics=['accuracy'])\n",
        "\n",
        "plot_model(model, show_shapes=True, show_layer_names=True)\n"
      ],
      "execution_count": null,
      "outputs": []
    },
    {
      "cell_type": "code",
      "metadata": {
        "id": "LabfOoFHUNjS"
      },
      "source": [
        "model.summary()\n",
        "# Param calculation in each layer = input * output + output bias\n",
        "# dense Params = 784 * 2 + 2 = 1570\n",
        "# dense_1 params = 2 * 10 + 10 = 30\n",
        "# \"?\" is the number of samples"
      ],
      "execution_count": null,
      "outputs": []
    },
    {
      "cell_type": "code",
      "metadata": {
        "id": "UKS95EdLTDvD"
      },
      "source": [
        "batch_size = 128\n",
        "epochs = 10\n",
        "\n",
        "# Set aside the first 10,000 samples as the validation set \n",
        "x_valp = x_trainp[:10000]\n",
        "partial_x_trainp = x_trainp[10000:]\n",
        "\n",
        "y_valp = y_trainp[:10000]\n",
        "partial_y_trainp = y_trainp[10000:]\n",
        "\n",
        "tensorboard_callback = TensorBoard(logdir, histogram_freq=1)\n",
        "history = model.fit(partial_x_trainp, partial_y_trainp,\n",
        "                    batch_size=batch_size,\n",
        "                    epochs=epochs,\n",
        "                    verbose=1,\n",
        "                    validation_data=(x_valp, y_valp),\n",
        "                    callbacks=[tensorboard_callback])\n",
        "\n",
        "# Plot the accuracy\n",
        "acc = history.history['accuracy']\n",
        "val_acc = history.history['val_accuracy']\n",
        "epochs = range(1, len(acc) + 1)\n",
        "\n",
        "plt.plot(epochs, acc, 'r', label='Training acc')\n",
        "plt.plot(epochs, val_acc, 'b', label='Validation acc')\n",
        "plt.title('Training and validation accuracy')\n",
        "plt.legend()\n",
        "plt.show()"
      ],
      "execution_count": null,
      "outputs": []
    },
    {
      "cell_type": "code",
      "metadata": {
        "id": "bLdLAPmvTDvG"
      },
      "source": [
        "# Do the prediction on test set\n",
        "score = model.evaluate(x_testp, y_testp, verbose=0)\n",
        "print('Test loss:', score[0])\n",
        "print('Test accuracy:', score[1])\n",
        "\n",
        "ans = model.predict(x_testp)"
      ],
      "execution_count": null,
      "outputs": []
    },
    {
      "cell_type": "code",
      "metadata": {
        "id": "dbKJGm95TDvI"
      },
      "source": [
        "# Predict individual number\n",
        "p_index = 1\n",
        "\n",
        "first_image = x_test[p_index]\n",
        "plt.imshow(first_image)\n",
        "plt.show()\n",
        "\n",
        "count = 0\n",
        "for a in ans[p_index]:\n",
        "    print(count, \"=\", a*100)\n",
        "    count = count + 1"
      ],
      "execution_count": null,
      "outputs": []
    },
    {
      "cell_type": "code",
      "metadata": {
        "id": "Xwklta0WtycQ"
      },
      "source": [
        "%tensorboard --logdir logs"
      ],
      "execution_count": null,
      "outputs": []
    }
  ]
}