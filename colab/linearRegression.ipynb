{
  "nbformat": 4,
  "nbformat_minor": 0,
  "metadata": {
    "kernelspec": {
      "display_name": "Python 3",
      "language": "python",
      "name": "python3"
    },
    "language_info": {
      "codemirror_mode": {
        "name": "ipython",
        "version": 3
      },
      "file_extension": ".py",
      "mimetype": "text/x-python",
      "name": "python",
      "nbconvert_exporter": "python",
      "pygments_lexer": "ipython3",
      "version": "3.6.4"
    },
    "colab": {
      "name": "linearRegression.ipynb",
      "provenance": []
    }
  },
  "cells": [
    {
      "cell_type": "code",
      "metadata": {
        "id": "lqoMa0WMCMHO",
        "colab_type": "code",
        "colab": {}
      },
      "source": [
        "import numpy as np\n",
        "import matplotlib.pyplot as plt\n",
        "import tensorflow.compat.v1 as tf \n",
        "\n",
        "tf.disable_v2_behavior()\n",
        "number_of_points = 500\n",
        "\n",
        "# These points will contain the generated points\n",
        "x_point = []\n",
        "y_point = []\n",
        "\n",
        "# two constants that will appear in the linear relation of y with x\n",
        "a = 0.42\n",
        "b = 0.78\n",
        "\n",
        "# generate 300 random points around the regression equation y = ax + b\n",
        "for i in range(number_of_points):\n",
        "\tx = np.random.normal(0.0,0.5)\n",
        "\ty = a*x + b +np.random.normal(0.0,0.1)\n",
        "\tx_point.append([x])\n",
        "\ty_point.append([y])\n",
        "\n",
        "    \n",
        "# show Generated Points\n",
        "plt.plot(x_point,y_point, 'o', label='Input Data')\n",
        "plt.legend()\n",
        "plt.show()\n",
        "\n",
        "# define the A and b unknowns\n",
        "# unknown factor A was initialized using a random value between -1 and 1, while the\n",
        "# variableb is initially set to zero\n",
        "A = tf.Variable(tf.random_uniform([1], -1.0, 1.0))\n",
        "b = tf.Variable(tf.zeros([1]))\n",
        "\n",
        "y = A * x_point + b\n",
        "\n",
        "\n",
        "# cost function: that has parameters containing a pair of values A and b to be determined \n",
        "# which returns a value that estimates how well the parameters are correct (mean square error here). \n",
        "cost_function = tf.reduce_mean(tf.square(y - y_point))\n",
        "\n",
        "# optimization algorithm with the gradient descent\n",
        "# 0.5 is the learning rate. It determines how fast or slow we move towards the optimal weights. \n",
        "# If it is very large, we skip the optimal solution, and \n",
        "# if it is too small, we need too many iterations to converge to the best values.\n",
        "optimizer = tf.train.GradientDescentOptimizer(0.5)\n",
        "\n",
        "# define train as the result of the application of the cost_function (optimizer), through its minimize function:\n",
        "train = optimizer.minimize(cost_function)\n",
        "\n",
        "model = tf.global_variables_initializer()\n",
        "\n",
        "\n",
        "with tf.Session() as session:\n",
        "    session.run(model)\n",
        "    \n",
        "    # training iteration\n",
        "    for step in range(0,21):\n",
        "        session.run(train) # execute the optimization step\n",
        "\n",
        "        # Every five steps, we print our pattern of dots\n",
        "        if (step % 5) == 0:\n",
        "            plt.plot(x_point, y_point, 'o', label='step = {}'.format(step))\n",
        "\n",
        "            # plot the straight line\n",
        "            plt.plot(x_point, session.run(A) * x_point + session.run(b))\n",
        "            plt.legend()\n",
        "            plt.show()"
      ],
      "execution_count": 0,
      "outputs": []
    }
  ]
}