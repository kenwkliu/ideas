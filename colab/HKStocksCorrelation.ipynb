{
  "nbformat": 4,
  "nbformat_minor": 0,
  "metadata": {
    "colab": {
      "name": "HKStocksCorrelation.ipynb",
      "provenance": [],
      "collapsed_sections": [],
      "authorship_tag": "ABX9TyP0XpR8BGUcK/KW4strV4My"
    },
    "kernelspec": {
      "name": "python3",
      "display_name": "Python 3"
    }
  },
  "cells": [
    {
      "cell_type": "code",
      "metadata": {
        "id": "RCGn5Z5xOThG",
        "colab_type": "code",
        "colab": {}
      },
      "source": [
        "'''\n",
        "Find the price correlated HK stocks in same sector for Pair strategy \n",
        "Buy the stock when it is relatively under-priced to the correlated stock \n",
        "and sell the corresponding over-priced stock\n",
        "As they're price correlated (statistically), assume they will go back to the similar price ratio later\n",
        "Hopefully, the under-priced stock will goes up later while the over-priced one will drop\n",
        "\n",
        "Pair strategy is a type of relative value strategies which rely on the mean-reversion of prices to the asset's fair value. \n",
        "They assume that prices only temporarily move away from fair value due to behavioral effects \n",
        "like overreaction or herding, or liquidity effects such as temporary market impact or long-term supply/demand friction. \n",
        "'''\n",
        "\n",
        "import warnings\n",
        "warnings.filterwarnings(\"ignore\", category=FutureWarning)\n",
        "warnings.filterwarnings(\"ignore\", category=RuntimeWarning)\n",
        "\n",
        "from datetime import datetime\n",
        "import numpy as np\n",
        "import pandas as pd\n",
        "import pandas_datareader.data as web\n",
        "\n",
        "# Download the font to display Chinese\n",
        "!wget https://github.com/kenwkliu/ideas/raw/master/colab/data/simhei.ttf\n",
        "import matplotlib.pyplot as plt\n",
        "from matplotlib.font_manager import FontProperties\n",
        "CNFont = FontProperties(fname='/content/simhei.ttf')\n",
        "\n",
        "# Google colab interactive table\n",
        "%load_ext google.colab.data_table \n",
        "%matplotlib inline"
      ],
      "execution_count": null,
      "outputs": []
    },
    {
      "cell_type": "code",
      "metadata": {
        "id": "2dUTV3gNRFqQ",
        "colab_type": "code",
        "colab": {}
      },
      "source": [
        "# Get the stock information from Yahoo\n",
        "stockInfo = web.get_quote_yahoo(['0700.HK', '0005.HK', '0939.HK'])\n",
        "stockInfo"
      ],
      "execution_count": null,
      "outputs": []
    },
    {
      "cell_type": "code",
      "metadata": {
        "id": "1u_Dli5NWEi7",
        "colab_type": "code",
        "colab": {}
      },
      "source": [
        "# show the column names\n",
        "stockInfo.columns"
      ],
      "execution_count": null,
      "outputs": []
    },
    {
      "cell_type": "code",
      "metadata": {
        "id": "K-iMkD2kR15R",
        "colab_type": "code",
        "colab": {}
      },
      "source": [
        "# Get the pre-downloaded all HK stocks information from yahoo\n",
        "# Source the Chinese name and stock sectors from http://www1.hket.com/finance/chart/industry-index.do\n",
        "\n",
        "# Pandas support reading Excel directly\n",
        "stocksInfo = pd.read_excel('https://raw.githubusercontent.com/kenwkliu/ideas/master/colab/data/hkStocksQuotes.xlsx')\n",
        "stocksInfo"
      ],
      "execution_count": null,
      "outputs": []
    },
    {
      "cell_type": "code",
      "metadata": {
        "id": "FVDSf4TIkcnp",
        "colab_type": "code",
        "colab": {}
      },
      "source": [
        "# Look at one stock\n",
        "CODE = '0005.HK'\n",
        "stocksInfo[(stocksInfo.code == CODE)]"
      ],
      "execution_count": null,
      "outputs": []
    },
    {
      "cell_type": "code",
      "metadata": {
        "id": "YdixTP-9L6xx",
        "colab_type": "code",
        "colab": {}
      },
      "source": [
        "USE_CHINESE = True\n",
        "#USE_CHINESE = False  ###**** uncomment this line to display English\n",
        "\n",
        "if USE_CHINESE:\n",
        "  COL_NAME = 'nameChi'\n",
        "  COL_INDUSTRY = 'industryChi'\n",
        "  COL_SECTOR = 'sectorChi'\n",
        "  AJD_CLOSE_FILE = 'hkStocksAdjClosePxChi.csv'\n",
        "  TEST_STOCK_A = '恒大健康'\n",
        "  TEST_STOCK_B = '阿里健康'\n",
        "else:\n",
        "  COL_NAME = 'shortName'\n",
        "  COL_INDUSTRY = 'industry'\n",
        "  COL_SECTOR = 'sector'\n",
        "  AJD_CLOSE_FILE = 'hkStocksAdjClosePx.csv'\n",
        "  TEST_STOCK_A = 'EVERG HEALTH'\n",
        "  TEST_STOCK_B = 'ALI HEALTH'  "
      ],
      "execution_count": null,
      "outputs": []
    },
    {
      "cell_type": "code",
      "metadata": {
        "id": "47RtUvHGLVYC",
        "colab_type": "code",
        "colab": {}
      },
      "source": [
        "# list the unique industries names\n",
        "industryNames = stocksInfo[COL_INDUSTRY].unique()\n",
        "print('Count:', len(industryNames))\n",
        "print(industryNames)"
      ],
      "execution_count": null,
      "outputs": []
    },
    {
      "cell_type": "code",
      "metadata": {
        "id": "HPn5S3RVLnzT",
        "colab_type": "code",
        "colab": {}
      },
      "source": [
        "# list the unique sector names\n",
        "sectorNames = stocksInfo[COL_SECTOR].unique()\n",
        "print('Count:', len(sectorNames))\n",
        "print(sectorNames)"
      ],
      "execution_count": null,
      "outputs": []
    },
    {
      "cell_type": "code",
      "metadata": {
        "id": "WcZdPtB6Spup",
        "colab_type": "code",
        "colab": {}
      },
      "source": [
        "# Exploring the data \n",
        "# Look at the subset of useful columns and sort by largest marketCap\n",
        "SELECTED_COLUMNS = ['code', 'quoteType', COL_NAME, COL_INDUSTRY, COL_SECTOR, 'marketCap', 'regularMarketPreviousClose', 'averageDailyVolume10Day']\n",
        "\n",
        "stocksInfo[SELECTED_COLUMNS].sort_values(by=['marketCap'], ascending=False)"
      ],
      "execution_count": null,
      "outputs": []
    },
    {
      "cell_type": "code",
      "metadata": {
        "id": "1GqiXT4fbp2p",
        "colab_type": "code",
        "colab": {}
      },
      "source": [
        "# Before we look at the stock price correlation, select only liquid equity names for the trading purpose\n",
        "# thus add a new colume 'turnover' \n",
        "stocksInfo['turnover'] = round(stocksInfo['regularMarketPreviousClose'] * stocksInfo['averageDailyVolume10Day'])\n",
        "\n",
        "# Select only EQUITY and turnover is bigger than certain numbers\n",
        "QUOTE_TYPE = 'EQUITY'\n",
        "MIN_TURNOVER = 100000000  # 100 millions\n",
        "SELECTED_COLUMNS = ['code', COL_NAME, COL_INDUSTRY, COL_SECTOR, 'turnover']\n",
        "\n",
        "stocksFilteredInfo = stocksInfo[(stocksInfo.quoteType == QUOTE_TYPE) & (stocksInfo.turnover > MIN_TURNOVER)].reset_index()\n",
        "stocksFilteredInfo.sort_values(by=['turnover'], ascending=False)[SELECTED_COLUMNS]"
      ],
      "execution_count": null,
      "outputs": []
    },
    {
      "cell_type": "code",
      "metadata": {
        "id": "DZ7jkU3wwLno",
        "colab_type": "code",
        "colab": {}
      },
      "source": [
        "# Industry Distribution with an interactive pie chart\n",
        "import plotly.express as px\n",
        "\n",
        "# Count the company names per industry\n",
        "industryCount = stocksFilteredInfo[[COL_INDUSTRY, 'code']].groupby([COL_INDUSTRY]).count().reset_index()\n",
        "industryCount.rename(columns={'code' : 'count'}, inplace=True)\n",
        "\n",
        "# Concat the company names per industry\n",
        "industryStocks = stocksFilteredInfo[[COL_INDUSTRY, COL_NAME]].groupby([COL_INDUSTRY])[COL_NAME].apply(', '.join).reset_index()\n",
        "\n",
        "# Sum the marketCap and turnover per industry\n",
        "industryDetails = stocksFilteredInfo[[COL_INDUSTRY, 'marketCap', 'turnover']].groupby([COL_INDUSTRY]).sum().reset_index()\n",
        "\n",
        "# Combine all in one dataframe\n",
        "industryInfo = industryCount.merge(industryStocks, on=COL_INDUSTRY, how='left')\n",
        "industryInfo = industryInfo.merge(industryDetails, on=COL_INDUSTRY, how='left')\n",
        "\n",
        "fig = px.pie(industryInfo, values='count', names=COL_INDUSTRY, hover_name=COL_NAME, title='Industry Distribution')\n",
        "fig.show()"
      ],
      "execution_count": null,
      "outputs": []
    },
    {
      "cell_type": "code",
      "metadata": {
        "id": "hC-DRZq_6z_z",
        "colab_type": "code",
        "colab": {}
      },
      "source": [
        "# Industry Distribution table\n",
        "industryInfo.sort_values(by=['count'], ascending=False)"
      ],
      "execution_count": null,
      "outputs": []
    },
    {
      "cell_type": "code",
      "metadata": {
        "id": "Q-qLjCbrOyjF",
        "colab_type": "code",
        "colab": {}
      },
      "source": [
        "# download the latest stock price from Yahoo\n",
        "# will use the daily stock price to find the correlated stocks\n",
        "SOURCE = 'yahoo'\n",
        "start = '2020' # accepts strings\n",
        "end = datetime.today()\n",
        "\n",
        "columnNames = []\n",
        "stocksDownload = []\n",
        "\n",
        "for code, name in zip(stocksFilteredInfo['code'], stocksFilteredInfo[COL_NAME]):\n",
        "  try:\n",
        "    stocksDownload.append(web.DataReader(code, SOURCE, start=start, end=end))\n",
        "    columnNames.append(name)\n",
        "    print(\"Completed:\", code, name)\n",
        "  except Exception as e:\n",
        "    print(code, name, \": error:\", e)\n",
        "\n",
        "print(\"All Completed\")    "
      ],
      "execution_count": null,
      "outputs": []
    },
    {
      "cell_type": "code",
      "metadata": {
        "id": "n8gKZnDP2z86",
        "colab_type": "code",
        "colab": {}
      },
      "source": [
        "# look at the downloaded stock price\n",
        "index = 0\n",
        "print(columnNames[index])\n",
        "stocksDownload[index]"
      ],
      "execution_count": null,
      "outputs": []
    },
    {
      "cell_type": "code",
      "metadata": {
        "id": "XECupxk_PUeC",
        "colab_type": "code",
        "colab": {}
      },
      "source": [
        "# Only use \"Adj Close\" instead of the close price\n",
        "adjCloses = [stock['Adj Close'] for stock in stocksDownload]\n",
        "\n",
        "# Combine the stocks adjusted closes to one pandas data frame\n",
        "stocks = pd.concat(adjCloses, axis=1)\n",
        "stocks.columns = columnNames\n",
        "stocks"
      ],
      "execution_count": null,
      "outputs": []
    },
    {
      "cell_type": "code",
      "metadata": {
        "id": "n3-OSHZhShWY",
        "colab_type": "code",
        "colab": {}
      },
      "source": [
        "# Export the data to csv file for downloading\n",
        "stocks.to_csv(\"hkStocksAdjClosePx.csv\", encoding='utf_8_sig')\n",
        "\n",
        "# In case the download failed, read from the prepared csv file\n",
        "# stocks = pd.read_csv('https://raw.githubusercontent.com/kenwkliu/ideas/master/colab/data/' + AJD_CLOSE_FILE)"
      ],
      "execution_count": null,
      "outputs": []
    },
    {
      "cell_type": "code",
      "metadata": {
        "id": "lfo9L8KzdgfT",
        "colab_type": "code",
        "colab": {}
      },
      "source": [
        "# Show price correlation of a stock Pair\n",
        "stocks[[TEST_STOCK_A, TEST_STOCK_B]].plot(figsize = (12, 8))\n",
        "plt.legend(prop = CNFont)"
      ],
      "execution_count": null,
      "outputs": []
    },
    {
      "cell_type": "code",
      "metadata": {
        "id": "olUwInNxRDXU",
        "colab_type": "code",
        "colab": {}
      },
      "source": [
        "# Run the price correlation for all stock Pair combination\n",
        "stocksCorr = stocks.corr()\n",
        "stocksCorr.style.background_gradient(cmap='coolwarm', axis=None)"
      ],
      "execution_count": null,
      "outputs": []
    },
    {
      "cell_type": "code",
      "metadata": {
        "id": "4hZ_z09YROGA",
        "colab_type": "code",
        "colab": {}
      },
      "source": [
        "# Filter the correlated stocks pair with the THRESHOLD\n",
        "THRESHOLD = 0.95\n",
        "highCorr = np.where(((stocksCorr >= THRESHOLD) & (stocksCorr < 1)))\n",
        "\n",
        "\n",
        "#Found the price correlated pairs with same sector and store in a dataframe\n",
        "pairsDf = pd.DataFrame(columns=['corr', 'sector', 'stockA', 'stockB'])\n",
        "count = 0\n",
        "pairs = {}\n",
        "\n",
        "for i in range(len(highCorr[0])):\n",
        "  a, b = highCorr[0][i], highCorr[1][i]\n",
        "  revKey = str(b) + str(a)\n",
        "\n",
        "  # prevent duplicated plot as (a,b) pair is the same as (b,a) pair\n",
        "  if revKey not in pairs:\n",
        "    # Get the sector from the Pair\n",
        "    sectorA = stocksFilteredInfo.loc[stocksFilteredInfo[COL_NAME]==columnNames[a], COL_SECTOR].values[0]\n",
        "    sectorB = stocksFilteredInfo.loc[stocksFilteredInfo[COL_NAME]==columnNames[b], COL_SECTOR].values[0]\n",
        "\n",
        "    # Include the Pair which is in the same sector\n",
        "    if sectorA == sectorB:\n",
        "      key = str(a) +str(b)\n",
        "      pairs[key] = [a, b]\n",
        "\n",
        "      # Get the Pair correlation and store the details in a dataframe\n",
        "      corr = round(stocksCorr.at[columnNames[a], columnNames[b]], 4)\n",
        "      pairsDf.loc[count] = [corr, sectorA, columnNames[a], columnNames[b]]\n",
        "      count += 1\n",
        "\n",
        "# shows the Pairs sorted by correlations\n",
        "pairsDf.sort_values(by=['corr'], ascending=False)      "
      ],
      "execution_count": null,
      "outputs": []
    },
    {
      "cell_type": "code",
      "metadata": {
        "id": "7za0nHL384VQ",
        "colab_type": "code",
        "colab": {}
      },
      "source": [
        "# Choose a correlated stock pair and plot their adjClose prices\n",
        "INDEX = 10\n",
        "stock_pair = list(pairs.values())[INDEX]\n",
        "PAIR_STOCK_A = columnNames[stock_pair[0]]\n",
        "PAIR_STOCK_B = columnNames[stock_pair[1]]\n",
        "\n",
        "stocks[[PAIR_STOCK_A, PAIR_STOCK_B]].plot(figsize = (12, 8))\n",
        "plt.legend(prop = CNFont)\n",
        "\n",
        "### Uncomment the following block to plot all the highly correlated stock pairs \n",
        "#for k, pair in pairs.items():\n",
        "#  stocks[[columnNames[pair[0]], columnNames[pair[1]]]].plot()\n",
        "#  plt.legend(prop = CNFont)"
      ],
      "execution_count": null,
      "outputs": []
    },
    {
      "cell_type": "code",
      "metadata": {
        "id": "ajU_zN3d7iUt",
        "colab_type": "code",
        "colab": {}
      },
      "source": [
        "# Calculate the stock price ratios of Pair A/B and Pair B/A over the date period\n",
        "AB_stock = PAIR_STOCK_A + \" / \" + PAIR_STOCK_B\n",
        "BA_stock = PAIR_STOCK_B + \" / \" + PAIR_STOCK_A\n",
        "\n",
        "stocks[AB_stock] = stocks[PAIR_STOCK_A] / stocks[PAIR_STOCK_B]\n",
        "stocks[BA_stock] = stocks[PAIR_STOCK_B] / stocks[PAIR_STOCK_A]\n",
        "\n",
        "stocks[[PAIR_STOCK_A, PAIR_STOCK_B, AB_stock, BA_stock]]"
      ],
      "execution_count": null,
      "outputs": []
    },
    {
      "cell_type": "code",
      "metadata": {
        "id": "1wMrpJ1GQDKz",
        "colab_type": "code",
        "colab": {}
      },
      "source": [
        "# Calculate the average price ratio of the Pair \n",
        "# Trade if the current price ratio is significantly different \n",
        "PX_RATIO_THRESHOLD = 0.05\n",
        "\n",
        "# Calculate the average Buy PAIR_STOCK_A / Sell PAIR_STOCK_B ratio\n",
        "avgPxRatio = stocks[AB_stock].mean()\n",
        "print(\"Average BUY/SELL price ratio of\", AB_stock, \":\", avgPxRatio)\n",
        "\n",
        "execPxRatio = avgPxRatio * (1 - PX_RATIO_THRESHOLD)\n",
        "print(\"Buy\", PAIR_STOCK_A, \"and Sell\", PAIR_STOCK_B, \"when the BUY/SELL price ratio is smaller than:\", execPxRatio)\n",
        "\n",
        "print(f'-'*100)\n",
        "print(\"The ratio can be reached when relatively ... \")\n",
        "print(PAIR_STOCK_A, \"goes down and become under-valued and should buy it\")\n",
        "print(PAIR_STOCK_B, \"goes up and become over-valued and should sell it\")"
      ],
      "execution_count": null,
      "outputs": []
    },
    {
      "cell_type": "code",
      "metadata": {
        "id": "2_XVECKqi3ww",
        "colab_type": "code",
        "colab": {}
      },
      "source": [
        "# Calculate the average Buy PAIR_STOCK_B / Sell PAIR_STOCK_A ratio\n",
        "avgPxRatio = stocks[BA_stock].mean()\n",
        "print(\"Average BUY/SELL price ratio of\", BA_stock, \":\", avgPxRatio)\n",
        "\n",
        "execPxRatio = avgPxRatio * (1 - PX_RATIO_THRESHOLD)\n",
        "print(\"Buy\", PAIR_STOCK_B, \"and Sell\", PAIR_STOCK_A, \"when the BUY/SELL price ratio is smaller than:\", execPxRatio)\n",
        "\n",
        "print(f'-'*100)\n",
        "print(\"The ratio can be reached when relatively ... \")\n",
        "print(PAIR_STOCK_B, \"goes down and become under-valued and should buy it\")\n",
        "print(PAIR_STOCK_A, \"goes up and become over-valued and should sell it\")"
      ],
      "execution_count": null,
      "outputs": []
    },
    {
      "cell_type": "code",
      "metadata": {
        "id": "4Tvo5L1_Htwo",
        "colab_type": "code",
        "colab": {}
      },
      "source": [
        "### Suggestions\n",
        "# Web scrape HKEx web site to exclude non short sell eligible stocks\n",
        "#   https://www.hkex.com.hk/Services/Trading/Securities/Securities-Lists/Designated-Securities-Eligible-for-Short-Selling?sc_lang=en\n",
        "\n",
        "# Instead of using sector, uun a clustering alogrithms (such as k-mean or DBScan) to group similar stocks together and trade Pairs only within the same cluster\n",
        "#   https://scikit-learn.org/stable/auto_examples/applications/plot_stock_market.html\n",
        "\n",
        "# Use Co-integration rather than price correlation\n",
        "#   https://blog.quantinsti.com/pairs-trading-basics/"
      ],
      "execution_count": null,
      "outputs": []
    }
  ]
}