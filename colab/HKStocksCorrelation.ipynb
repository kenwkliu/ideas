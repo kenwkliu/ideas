{
  "nbformat": 4,
  "nbformat_minor": 0,
  "metadata": {
    "colab": {
      "name": "HKStocksCorrelation.ipynb",
      "provenance": [],
      "collapsed_sections": [],
      "authorship_tag": "ABX9TyN0ZnZV9vS2ddKbJV6kCfRx"
    },
    "kernelspec": {
      "name": "python3",
      "display_name": "Python 3"
    }
  },
  "cells": [
    {
      "cell_type": "code",
      "metadata": {
        "id": "RCGn5Z5xOThG",
        "colab_type": "code",
        "colab": {}
      },
      "source": [
        "'''\n",
        "Find the price correlated HK stocks for Pair strategy \n",
        "Buy the stock when it is relatively under-priced to the correlated stock \n",
        "and sell the corresponding over-priced stock\n",
        "As they're price correlated (statistically), assume they will go back to the similar price ratio later\n",
        "Hopefully, the under-priced stock will goes up later while the over-priced one will drop\n",
        "'''\n",
        "\n",
        "import warnings\n",
        "warnings.filterwarnings(\"ignore\", category=FutureWarning)\n",
        "warnings.filterwarnings(\"ignore\", category=RuntimeWarning)\n",
        "\n",
        "from datetime import datetime\n",
        "\n",
        "import numpy as np\n",
        "import pandas as pd\n",
        "import pandas_datareader.data as web\n",
        "\n",
        "# webscraping library\n",
        "import requests\n",
        "from bs4 import BeautifulSoup\n",
        "\n",
        "# Download the font to display Chinese\n",
        "!wget https://github.com/kenwkliu/ideas/raw/master/colab/data/simhei.ttf\n",
        "import matplotlib.pyplot as plt\n",
        "from matplotlib.font_manager import FontProperties\n",
        "CNFont = FontProperties(fname='/content/simhei.ttf')\n",
        "\n",
        "# Google colab interactive table\n",
        "%load_ext google.colab.data_table \n",
        "%matplotlib inline"
      ],
      "execution_count": null,
      "outputs": []
    },
    {
      "cell_type": "code",
      "metadata": {
        "id": "2dUTV3gNRFqQ",
        "colab_type": "code",
        "colab": {}
      },
      "source": [
        "# Get the stock information from Yahoo\n",
        "stockInfo = web.get_quote_yahoo('0700.HK')\n",
        "stockInfo"
      ],
      "execution_count": null,
      "outputs": []
    },
    {
      "cell_type": "code",
      "metadata": {
        "id": "1u_Dli5NWEi7",
        "colab_type": "code",
        "colab": {}
      },
      "source": [
        "# show the column names\n",
        "stockInfo.columns"
      ],
      "execution_count": null,
      "outputs": []
    },
    {
      "cell_type": "code",
      "metadata": {
        "id": "K-iMkD2kR15R",
        "colab_type": "code",
        "colab": {}
      },
      "source": [
        "# Get the pre-downloaded all HK stocks information as of 20200519\n",
        "stocksInfo = pd.read_csv('https://raw.githubusercontent.com/kenwkliu/ideas/master/colab/data/20200519-HK-Stocks.csv')\n",
        "stocksInfo"
      ],
      "execution_count": null,
      "outputs": []
    },
    {
      "cell_type": "code",
      "metadata": {
        "id": "FVDSf4TIkcnp",
        "colab_type": "code",
        "colab": {}
      },
      "source": [
        "# Look at one stock\n",
        "CODE = '0005.HK'\n",
        "stocksInfo[(stocksInfo.code == CODE)]"
      ],
      "execution_count": null,
      "outputs": []
    },
    {
      "cell_type": "code",
      "metadata": {
        "id": "WcZdPtB6Spup",
        "colab_type": "code",
        "colab": {}
      },
      "source": [
        "# add a new colume 'turnover' \n",
        "stocksInfo['turnover'] = round(stocksInfo['regularMarketPreviousClose'] * stocksInfo['averageDailyVolume10Day'])\n",
        "\n",
        "# Look at the subset of useful columns and sort by turnover\n",
        "SELECTED_COLUMNS = ['code', 'quoteType', 'shortName', 'longName', 'marketCap', 'turnover', 'regularMarketPreviousClose', 'averageDailyVolume10Day']\n",
        "SORT_BY = 'turnover'\n",
        "IS_ASCENDING = False\n",
        "\n",
        "stocksSubInfo = stocksInfo[SELECTED_COLUMNS].sort_values(by=[SORT_BY], ascending=IS_ASCENDING)\n",
        "stocksSubInfo"
      ],
      "execution_count": null,
      "outputs": []
    },
    {
      "cell_type": "code",
      "metadata": {
        "id": "1GqiXT4fbp2p",
        "colab_type": "code",
        "colab": {}
      },
      "source": [
        "# We're only interested in trading liquid equity names\n",
        "# Hence select only EQUITY and turnover is bigger than certain numbers\n",
        "QUOTE_TYPE = 'EQUITY'\n",
        "MIN_TURNOVER = 100000000  # 100 millions\n",
        "SELECTED_COLUMNS = ['code', 'shortName', 'turnover']\n",
        "\n",
        "stocksFilteredInfo = stocksSubInfo[(stocksSubInfo.quoteType == QUOTE_TYPE) & (stocksSubInfo.turnover > MIN_TURNOVER)][SELECTED_COLUMNS]\n",
        "stocksFilteredInfo"
      ],
      "execution_count": null,
      "outputs": []
    },
    {
      "cell_type": "code",
      "metadata": {
        "id": "IavVuixZOh1Z",
        "colab_type": "code",
        "colab": {}
      },
      "source": [
        "# Use Webscraping to extract HK stock Chinese names from wiki web site\n",
        "hk_url = 'https://zh-yue.wikipedia.org/wiki/%E9%A6%99%E6%B8%AF%E4%B8%8A%E5%B8%82%E5%85%AC%E5%8F%B8%E4%B8%80%E8%A6%BD'\n",
        "html = requests.get(hk_url)\n",
        "soup = BeautifulSoup(html.text, 'html.parser')\n",
        "soup"
      ],
      "execution_count": null,
      "outputs": []
    },
    {
      "cell_type": "code",
      "metadata": {
        "id": "rxNyV0-AOsXq",
        "colab_type": "code",
        "colab": {}
      },
      "source": [
        "# Read the tags line by line and scrape the stock code and names\n",
        "code = []\n",
        "name = []\n",
        "STOCK_SUFFIX = '.HK'\n",
        "\n",
        "a_tags = soup.find(\"div\", attrs={\"id\":\"mw-content-text\"})\n",
        "all_li = a_tags.find_all(\"li\", attrs={\"class\":\"\"})\n",
        "\n",
        "for li in all_li:\n",
        "    content = li.text.strip()\n",
        "    code.append(str(content[:4] + STOCK_SUFFIX))\n",
        "    name.append(content[4:].strip())\n",
        "    \n",
        "chiNames = pd.DataFrame(index=code, data=name)\n",
        "chiNames = chiNames.reset_index()\n",
        "chiNames.columns = [\"code\", \"chiName\"]\n",
        "chiNames"
      ],
      "execution_count": null,
      "outputs": []
    },
    {
      "cell_type": "code",
      "metadata": {
        "id": "DZ7jkU3wwLno",
        "colab_type": "code",
        "colab": {}
      },
      "source": [
        "# Merge the Chinese names (similar to Excel vlookup)\n",
        "results = stocksFilteredInfo.merge(chiNames, on='code', how='left')\n",
        "results[['code', 'shortName', 'chiName', 'turnover']] "
      ],
      "execution_count": null,
      "outputs": []
    },
    {
      "cell_type": "code",
      "metadata": {
        "id": "Q-qLjCbrOyjF",
        "colab_type": "code",
        "colab": {}
      },
      "source": [
        "# download the latest stock price from Yahoo\n",
        "SOURCE = 'yahoo'\n",
        "start = '2020' # accepts strings\n",
        "end = datetime.today()\n",
        "\n",
        "columnNames = []\n",
        "stocksDownload = []\n",
        "\n",
        "# use results.shortName for display company names in English \n",
        "# use results.chiName for display company names in Chinese \n",
        "for code, name in zip(results.code, results.chiName):\n",
        "  try:\n",
        "    stocksDownload.append(web.DataReader(code, SOURCE, start=start, end=end))\n",
        "    columnNames.append(name)\n",
        "    print(\"Completed:\", code, name)\n",
        "  except Exception as e:\n",
        "    print(code, name, \": error:\", e)\n",
        "\n",
        "print(\"All Completed\")    "
      ],
      "execution_count": null,
      "outputs": []
    },
    {
      "cell_type": "code",
      "metadata": {
        "id": "n8gKZnDP2z86",
        "colab_type": "code",
        "colab": {}
      },
      "source": [
        "# look at the downloaded stock price\n",
        "index = 0\n",
        "print(columnNames[index])\n",
        "stocksDownload[index]"
      ],
      "execution_count": null,
      "outputs": []
    },
    {
      "cell_type": "code",
      "metadata": {
        "id": "XECupxk_PUeC",
        "colab_type": "code",
        "colab": {}
      },
      "source": [
        "# Only use \"Adj Close\"\n",
        "adjCloses = [stock['Adj Close'] for stock in stocksDownload]\n",
        "\n",
        "# Combine the stocks adjusted closes to one pandas data frame\n",
        "stocks = pd.concat(adjCloses, axis=1)\n",
        "stocks.columns = columnNames\n",
        "stocks"
      ],
      "execution_count": null,
      "outputs": []
    },
    {
      "cell_type": "code",
      "metadata": {
        "id": "n3-OSHZhShWY",
        "colab_type": "code",
        "colab": {}
      },
      "source": [
        "# Export the data to csv file for downloading\n",
        "stocks.to_csv(\"hkStocksAdjClosePx.csv\", encoding='utf_8_sig')"
      ],
      "execution_count": null,
      "outputs": []
    },
    {
      "cell_type": "code",
      "metadata": {
        "id": "olUwInNxRDXU",
        "colab_type": "code",
        "colab": {}
      },
      "source": [
        "# Run stocks correlation\n",
        "stocksCorr = stocks.corr()\n",
        "stocksCorr.style.background_gradient(cmap='coolwarm', axis=None)"
      ],
      "execution_count": null,
      "outputs": []
    },
    {
      "cell_type": "code",
      "metadata": {
        "id": "4hZ_z09YROGA",
        "colab_type": "code",
        "colab": {}
      },
      "source": [
        "# Filter the correlated stocks pair with the THRESHOLD\n",
        "THRESHOLD = 0.98\n",
        "highCorr = np.where(((stocksCorr >= THRESHOLD) & (stocksCorr < 1)))\n",
        "print(\"Number of pairs found:\", int(len(highCorr[0])/2))\n",
        "\n",
        "\n",
        "# Print the Paired stocks\n",
        "count = 0\n",
        "pairs = {}\n",
        "for i in range(len(highCorr[0])):\n",
        "  a, b = highCorr[0][i], highCorr[1][i]\n",
        "  revKey = str(b) + str(a)\n",
        "\n",
        "  # prevent duplicated plot as (a,b) pair is the same as (b,a) pair\n",
        "  if revKey not in pairs:\n",
        "    key = str(a) +str(b)\n",
        "    pairs[key] = [a, b]\n",
        "    print(count, \":\", columnNames[a], \"<->\", columnNames[b])\n",
        "    count += 1"
      ],
      "execution_count": null,
      "outputs": []
    },
    {
      "cell_type": "code",
      "metadata": {
        "id": "7za0nHL384VQ",
        "colab_type": "code",
        "colab": {}
      },
      "source": [
        "# Plot the highly correlated stock pairs \n",
        "\n",
        "for k, pair in pairs.items():\n",
        "  stocks[[columnNames[pair[0]], columnNames[pair[1]]]].plot()\n",
        "  plt.legend(prop = CNFont)"
      ],
      "execution_count": null,
      "outputs": []
    },
    {
      "cell_type": "code",
      "metadata": {
        "id": "ajU_zN3d7iUt",
        "colab_type": "code",
        "colab": {}
      },
      "source": [
        "# Choose a stock pair\n",
        "INDEX = 0\n",
        "stock_pair = list(pairs.values())[INDEX]\n",
        "\n",
        "PAIR_STOCK_A = columnNames[stock_pair[0]]\n",
        "PAIR_STOCK_B = columnNames[stock_pair[1]]\n",
        "\n",
        "# Calculate the stock price ratios\n",
        "stocks['A/B'] = stocks[PAIR_STOCK_A] / stocks[PAIR_STOCK_B]\n",
        "stocks['B/A'] = stocks[PAIR_STOCK_B] / stocks[PAIR_STOCK_A]\n",
        "\n",
        "stocks[[PAIR_STOCK_A, PAIR_STOCK_B, 'A/B', 'B/A']]"
      ],
      "execution_count": null,
      "outputs": []
    },
    {
      "cell_type": "code",
      "metadata": {
        "id": "1wMrpJ1GQDKz",
        "colab_type": "code",
        "colab": {}
      },
      "source": [
        "# Calculate the average price ratio of the Pair \n",
        "# Trade if the current price ratio is significantly different \n",
        "PX_RATIO_THRESHOLD = 0.05\n",
        "\n",
        "# Calculate the average Buy PAIR_STOCK_A / Sell PAIR_STOCK_B ratio\n",
        "avgPxRatio = stocks['A/B'].mean()\n",
        "print(\"Average BUY/SELL price ratio of\", PAIR_STOCK_A, \"/\", PAIR_STOCK_B, \":\", avgPxRatio)\n",
        "\n",
        "execPxRatio = avgPxRatio * (1 - PX_RATIO_THRESHOLD)\n",
        "print(\"Buy\", PAIR_STOCK_A, \"and Sell\", PAIR_STOCK_B, \"when the BUY/SELL price ratio is smaller than:\", execPxRatio)\n",
        "\n",
        "print(f'-'*100)\n",
        "print(\"The ratio can be reached when relatively ... \")\n",
        "print(PAIR_STOCK_A, \"goes down and become under-valued and should buy it\")\n",
        "print(PAIR_STOCK_B, \"goes up and become over-valued and should sell it\")"
      ],
      "execution_count": null,
      "outputs": []
    },
    {
      "cell_type": "code",
      "metadata": {
        "id": "2_XVECKqi3ww",
        "colab_type": "code",
        "colab": {}
      },
      "source": [
        "# Calculate the average Buy PAIR_STOCK_B / Sell PAIR_STOCK_A ratio\n",
        "avgPxRatio = stocks['B/A'].mean()\n",
        "print(\"Average BUY/SELL price ratio of\", PAIR_STOCK_B, \"/\", PAIR_STOCK_A, \":\", avgPxRatio)\n",
        "\n",
        "execPxRatio = avgPxRatio * (1 - PX_RATIO_THRESHOLD)\n",
        "print(\"Buy\", PAIR_STOCK_B, \"and Sell\", PAIR_STOCK_A, \"when the BUY/SELL price ratio is smaller than:\", execPxRatio)\n",
        "\n",
        "print(f'-'*100)\n",
        "print(\"The ratio can be reached when relatively ... \")\n",
        "print(PAIR_STOCK_B, \"goes down and become under-valued and should buy it\")\n",
        "print(PAIR_STOCK_A, \"goes up and become over-valued and should sell it\")"
      ],
      "execution_count": null,
      "outputs": []
    },
    {
      "cell_type": "code",
      "metadata": {
        "id": "4Tvo5L1_Htwo",
        "colab_type": "code",
        "colab": {}
      },
      "source": [
        "''' Suggestions\n",
        "- Find dataset with stock sector informatin and filter the stock pairs with same sector only\n",
        "- Or run a clustering alogrithms (such as k-mean or DBScan) to group similar stocks together and trade Pairs only within the same cluster\n",
        "'''"
      ],
      "execution_count": null,
      "outputs": []
    }
  ]
}