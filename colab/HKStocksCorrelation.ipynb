{
  "nbformat": 4,
  "nbformat_minor": 0,
  "metadata": {
    "colab": {
      "name": "HKStocksCorrelation.ipynb",
      "provenance": [],
      "collapsed_sections": [],
      "authorship_tag": "ABX9TyNegOQJIAZTFxh3H5gkGZHm"
    },
    "kernelspec": {
      "name": "python3",
      "display_name": "Python 3"
    }
  },
  "cells": [
    {
      "cell_type": "code",
      "metadata": {
        "id": "RCGn5Z5xOThG"
      },
      "source": [
        "'''\n",
        "Find the price correlated HK stocks in same sector for Pair strategy \n",
        "Buy the stock when it is relatively under-priced to the correlated stock \n",
        "and sell the corresponding over-priced stock\n",
        "As they're price correlated (statistically), assume they will go back to the similar price ratio later (mean reversion)\n",
        "Hence (hopefully), the under-priced stock (bought) will goes up later while the over-priced (sold) one will drop\n",
        "\n",
        "Pair strategy is a type of relative value strategies or statistical arbitrage \n",
        "which rely on the mean-reversion of prices to the asset's fair value. \n",
        "They assume that prices only temporarily move away from fair value due to behavioral effects \n",
        "like overreaction or herding, or liquidity effects such as temporary market impact or long-term supply/demand friction. \n",
        "'''\n",
        "\n",
        "import warnings\n",
        "warnings.filterwarnings(\"ignore\", category=FutureWarning)\n",
        "warnings.filterwarnings(\"ignore\", category=RuntimeWarning)\n",
        "\n",
        "from datetime import datetime\n",
        "import numpy as np\n",
        "import pandas as pd\n",
        "import pandas_datareader.data as web\n",
        "\n",
        "# Download the font to display Chinese\n",
        "!wget https://github.com/kenwkliu/ideas/raw/master/colab/data/simhei.ttf\n",
        "import matplotlib.pyplot as plt\n",
        "from matplotlib.font_manager import FontProperties\n",
        "CNFont = FontProperties(fname='/content/simhei.ttf')\n",
        "\n",
        "# Google colab interactive table\n",
        "%load_ext google.colab.data_table \n",
        "%matplotlib inline\n",
        "\n",
        "CHART_SIZE_X, CHART_SIZE_Y = 12, 8\n",
        "SMALL_CHART_SIZE_X, SMALL_CHART_SIZE_Y = 8, 6\n",
        "\n",
        "\n",
        "# Plot stock pair chart\n",
        "def plotPair(df, stockA, stockB, sizeX, sizeY):\n",
        "  ax1 = df[stockA].plot(label=stockA, legend=True, figsize = (sizeX, sizeY))\n",
        "  ax1.set_ylim(df[stockA].min(), df[stockA].max())\n",
        "\n",
        "  ax2 = df[stockB].plot(secondary_y=True, label=stockB, legend=True, figsize = (sizeX, sizeY))\n",
        "  ax2.set_ylim(df[stockB].min(), df[stockB].max())\n",
        "\n",
        "  ax1.legend(prop=CNFont, loc=2)\n",
        "  ax2.legend(prop=CNFont, loc=1)\n",
        "\n",
        "  plt.show()\n",
        "\n",
        "\n",
        "# Display the stock info in Chinese or not\n",
        "def useChinese(use=True):\n",
        "  # return COL_NAME, COL_INDUSTRY, COL_SECTOR, AJD_CLOSE_FILE\n",
        "  if use:\n",
        "    return 'nameChi', 'industryChi', 'sectorChi', 'hkStocksAdjClosePxChi.csv'\n",
        "\n",
        "  else:\n",
        "    return 'shortName', 'industry', 'sector', 'hkStocksAdjClosePx.csv'\n",
        "\n",
        "\n",
        "COL_NAME, COL_INDUSTRY, COL_SECTOR, AJD_CLOSE_FILE = useChinese(False)"
      ],
      "execution_count": null,
      "outputs": []
    },
    {
      "cell_type": "code",
      "metadata": {
        "id": "2dUTV3gNRFqQ"
      },
      "source": [
        "# Get the stock information from Yahoo\n",
        "stockInfo = web.get_quote_yahoo(['0700.HK', '0005.HK', '0939.HK'])\n",
        "stockInfo"
      ],
      "execution_count": null,
      "outputs": []
    },
    {
      "cell_type": "code",
      "metadata": {
        "id": "1u_Dli5NWEi7"
      },
      "source": [
        "# show the column names\n",
        "stockInfo.columns"
      ],
      "execution_count": null,
      "outputs": []
    },
    {
      "cell_type": "code",
      "metadata": {
        "id": "K-iMkD2kR15R"
      },
      "source": [
        "# Get the pre-downloaded all HK stocks information from yahoo\n",
        "# Source the Chinese name and stock sectors from http://www1.hket.com/finance/chart/industry-index.do\n",
        "\n",
        "# Pandas support reading Excel directly\n",
        "stocksInfo = pd.read_excel('https://raw.githubusercontent.com/kenwkliu/ideas/master/colab/data/hkStocksQuotes.xlsx')\n",
        "stocksInfo"
      ],
      "execution_count": null,
      "outputs": []
    },
    {
      "cell_type": "code",
      "metadata": {
        "id": "FVDSf4TIkcnp"
      },
      "source": [
        "# Look at one stock\n",
        "CODE = '0005.HK'\n",
        "stocksInfo[(stocksInfo.code == CODE)]"
      ],
      "execution_count": null,
      "outputs": []
    },
    {
      "cell_type": "code",
      "metadata": {
        "id": "YdixTP-9L6xx",
        "cellView": "form"
      },
      "source": [
        "#@title Display in Chinese or not (** Needs to run this block after changes)\n",
        "USE_CHINESE = True #@param {type:\"boolean\"}\n",
        "\n",
        "COL_NAME, COL_INDUSTRY, COL_SECTOR, AJD_CLOSE_FILE = useChinese(USE_CHINESE)"
      ],
      "execution_count": null,
      "outputs": []
    },
    {
      "cell_type": "code",
      "metadata": {
        "id": "47RtUvHGLVYC"
      },
      "source": [
        "# list the unique industries names\n",
        "industryNames = stocksInfo[COL_INDUSTRY].unique()\n",
        "print('Count:', len(industryNames))\n",
        "print(industryNames)"
      ],
      "execution_count": null,
      "outputs": []
    },
    {
      "cell_type": "code",
      "metadata": {
        "id": "HPn5S3RVLnzT"
      },
      "source": [
        "# list the unique sector names\n",
        "sectorNames = stocksInfo[COL_SECTOR].unique()\n",
        "print('Count:', len(sectorNames))\n",
        "print(sectorNames)"
      ],
      "execution_count": null,
      "outputs": []
    },
    {
      "cell_type": "code",
      "metadata": {
        "id": "WcZdPtB6Spup"
      },
      "source": [
        "# Exploring the data \n",
        "# Look at the subset of useful columns and sort by largest marketCap\n",
        "SELECTED_COLUMNS = ['code', 'quoteType', COL_NAME, COL_INDUSTRY, COL_SECTOR, 'marketCap', 'regularMarketPreviousClose', 'averageDailyVolume10Day']\n",
        "\n",
        "stocksInfo[SELECTED_COLUMNS].sort_values(by=['marketCap'], ascending=False)"
      ],
      "execution_count": null,
      "outputs": []
    },
    {
      "cell_type": "code",
      "metadata": {
        "id": "1GqiXT4fbp2p"
      },
      "source": [
        "# Before we look at the stock price correlation, select only liquid equity names for the trading purpose\n",
        "# thus add a new colume 'turnover' \n",
        "stocksInfo['turnover'] = round(stocksInfo['regularMarketPreviousClose'] * stocksInfo['averageDailyVolume10Day'])\n",
        "\n",
        "# Select only EQUITY and turnover is bigger than certain numbers\n",
        "QUOTE_TYPE = 'EQUITY'\n",
        "MIN_TURNOVER = 100000000  # 100 millions\n",
        "SELECTED_COLUMNS = ['code', COL_NAME, COL_INDUSTRY, COL_SECTOR, 'turnover']\n",
        "\n",
        "stocksFilteredInfo = stocksInfo[(stocksInfo.quoteType == QUOTE_TYPE) & (stocksInfo.turnover > MIN_TURNOVER)].reset_index()\n",
        "stocksFilteredInfo.sort_values(by=['turnover'], ascending=False)[SELECTED_COLUMNS]"
      ],
      "execution_count": null,
      "outputs": []
    },
    {
      "cell_type": "code",
      "metadata": {
        "id": "DZ7jkU3wwLno"
      },
      "source": [
        "# Industry Distribution with an interactive pie chart\n",
        "import plotly.express as px\n",
        "\n",
        "# Count the company names per industry\n",
        "industryCount = stocksFilteredInfo[[COL_INDUSTRY, 'code']].groupby([COL_INDUSTRY]).count().reset_index()\n",
        "industryCount.rename(columns={'code' : 'count'}, inplace=True)\n",
        "\n",
        "# Concat the company names per industry\n",
        "industryStocks = stocksFilteredInfo[[COL_INDUSTRY, COL_NAME]].groupby([COL_INDUSTRY])[COL_NAME].apply(', '.join).reset_index()\n",
        "\n",
        "# Sum the marketCap and turnover per industry\n",
        "industryDetails = stocksFilteredInfo[[COL_INDUSTRY, 'marketCap', 'turnover']].groupby([COL_INDUSTRY]).sum().reset_index()\n",
        "\n",
        "# Combine all in one dataframe\n",
        "industryInfo = industryCount.merge(industryStocks, on=COL_INDUSTRY, how='left')\n",
        "industryInfo = industryInfo.merge(industryDetails, on=COL_INDUSTRY, how='left')\n",
        "\n",
        "fig = px.pie(industryInfo, values='count', names=COL_INDUSTRY, hover_name=COL_NAME, title='Industry Distribution')\n",
        "fig.show()"
      ],
      "execution_count": null,
      "outputs": []
    },
    {
      "cell_type": "code",
      "metadata": {
        "id": "hC-DRZq_6z_z"
      },
      "source": [
        "# Industry Distribution table\n",
        "industryInfo.sort_values(by=['count'], ascending=False)"
      ],
      "execution_count": null,
      "outputs": []
    },
    {
      "cell_type": "code",
      "metadata": {
        "id": "Q-qLjCbrOyjF"
      },
      "source": [
        "# download the latest stock price info (Open, High, Low, Close, Volume) from Yahoo\n",
        "# will use the daily stock price to find the correlated stocks\n",
        "SOURCE = 'yahoo'\n",
        "start = '2020' # accepts strings\n",
        "end = datetime.today()\n",
        "\n",
        "columnNames = []\n",
        "stocksDownload = []\n",
        "\n",
        "for code, name in zip(stocksFilteredInfo['code'], stocksFilteredInfo[COL_NAME]):\n",
        "  try:\n",
        "    stocksDownload.append(web.DataReader(code, SOURCE, start=start, end=end))\n",
        "    columnNames.append(name)\n",
        "    print(\"Completed:\", code, name)\n",
        "  except Exception as e:\n",
        "    print(code, name, \": error:\", e)\n",
        "\n",
        "print(\"All Completed\")    "
      ],
      "execution_count": null,
      "outputs": []
    },
    {
      "cell_type": "code",
      "metadata": {
        "id": "n8gKZnDP2z86"
      },
      "source": [
        "# look at the downloaded stock price\n",
        "index = 0\n",
        "print(columnNames[index])\n",
        "stocksDownload[index]"
      ],
      "execution_count": null,
      "outputs": []
    },
    {
      "cell_type": "code",
      "metadata": {
        "id": "XECupxk_PUeC"
      },
      "source": [
        "# Only use \"Adj Close\" instead of the close price\n",
        "adjCloses = [stock['Adj Close'] for stock in stocksDownload]\n",
        "\n",
        "# Combine the stocks adjusted closes to one pandas data frame\n",
        "stocks = pd.concat(adjCloses, axis=1)\n",
        "stocks.columns = columnNames\n",
        "stocks"
      ],
      "execution_count": null,
      "outputs": []
    },
    {
      "cell_type": "code",
      "metadata": {
        "id": "n3-OSHZhShWY"
      },
      "source": [
        "# Export the data to csv file for downloading\n",
        "stocks.to_csv(\"hkStocksAdjClosePx.csv\", encoding='utf_8_sig')"
      ],
      "execution_count": null,
      "outputs": []
    },
    {
      "cell_type": "code",
      "metadata": {
        "id": "9stMGs7aiTFM"
      },
      "source": [
        "# In case the Yahoo stock download failed, read from the prepared csv file\n",
        "#stocks = pd.read_csv('https://raw.githubusercontent.com/kenwkliu/ideas/master/colab/data/' + AJD_CLOSE_FILE)\n",
        "#columnNames = stocks.columns.to_list()[1:]\n",
        "#stocks"
      ],
      "execution_count": null,
      "outputs": []
    },
    {
      "cell_type": "code",
      "metadata": {
        "id": "lfo9L8KzdgfT"
      },
      "source": [
        "# Pick 2 stocks price chart to to show the price correlation\n",
        "stockA = 'TENCENT'\n",
        "stockB = 'BABA-SW'\n",
        "plotPair(stocks, stockA, stockB, CHART_SIZE_X, CHART_SIZE_Y)"
      ],
      "execution_count": null,
      "outputs": []
    },
    {
      "cell_type": "code",
      "metadata": {
        "id": "olUwInNxRDXU"
      },
      "source": [
        "# Run the price correlation for all stock Pair combination\n",
        "# Using the the default \"pearson correlatoin\"\n",
        "\n",
        "stocksCorr = stocks.corr()\n",
        "stocksCorr.style.background_gradient(cmap='coolwarm', axis=None)"
      ],
      "execution_count": null,
      "outputs": []
    },
    {
      "cell_type": "code",
      "metadata": {
        "id": "4hZ_z09YROGA"
      },
      "source": [
        "# Filter the correlated stocks pair with the THRESHOLD\n",
        "THRESHOLD = 0.95\n",
        "highCorr = np.where(((stocksCorr >= THRESHOLD) & (stocksCorr < 1)))\n",
        "\n",
        "\n",
        "#Found the price correlated pairs and store in a dataframe\n",
        "pairsDf = pd.DataFrame(columns=['corr', 'stockA', 'stockB', 'sameSector', 'sectorA', 'sectorB'])\n",
        "count = 0\n",
        "pairs = {}\n",
        "\n",
        "for i in range(len(highCorr[0])):\n",
        "  a, b = highCorr[0][i], highCorr[1][i]\n",
        "  revKey = str(b) + str(a)\n",
        "\n",
        "  # prevent duplicated plot as (a,b) pair is the same as (b,a) pair\n",
        "  if revKey not in pairs:\n",
        "    # Get the sector from the Pair\n",
        "    sectorA = stocksFilteredInfo.loc[stocksFilteredInfo[COL_NAME]==columnNames[a], COL_SECTOR].values[0]\n",
        "    sectorB = stocksFilteredInfo.loc[stocksFilteredInfo[COL_NAME]==columnNames[b], COL_SECTOR].values[0]\n",
        "\n",
        "    if sectorA == sectorB:\n",
        "      sameSector = True\n",
        "    else:\n",
        "      sameSector = False\n",
        "\n",
        "    # Construct the pair key id for comparing duplication\n",
        "    key = str(a) +str(b)\n",
        "    pairs[key] = [a, b]\n",
        "\n",
        "    # Get the Pair correlation and store the details in a dataframe\n",
        "    corr = round(stocksCorr.at[columnNames[a], columnNames[b]], 4)\n",
        "    pairsDf.loc[count] = [corr, columnNames[a], columnNames[b], sameSector, sectorA, sectorB]\n",
        "    count += 1\n",
        "\n",
        "# shows the Pairs sorted by correlations\n",
        "pairsDf = pairsDf.sort_values(by=['corr'], ascending=False)  \n",
        "pairsDf      "
      ],
      "execution_count": null,
      "outputs": []
    },
    {
      "cell_type": "code",
      "metadata": {
        "id": "tYlKr1vgRAXL"
      },
      "source": [
        "# Pick 2 stocks price chart to to show the price correlation\r\n",
        "stockA = 'XINYI SOLAR'\r\n",
        "stockB = 'FLAT GLASS'\r\n",
        "plotPair(stocks, stockA, stockB, CHART_SIZE_X, CHART_SIZE_Y)"
      ],
      "execution_count": null,
      "outputs": []
    },
    {
      "cell_type": "code",
      "metadata": {
        "id": "7za0nHL384VQ"
      },
      "source": [
        "# Plot all the correlated Pairs with same sector\n",
        "sectorPairsDf = pairsDf[(pairsDf.sameSector == True)]\n",
        "\n",
        "for index, row in sectorPairsDf.iterrows():\n",
        "    print('\\n', index, ':', row['stockA'], 'vs', row['stockB'], '(', row['corr'], ')')\n",
        "    plotPair(stocks, row['stockA'], row['stockB'], SMALL_CHART_SIZE_X, SMALL_CHART_SIZE_Y)"
      ],
      "execution_count": null,
      "outputs": []
    },
    {
      "cell_type": "code",
      "metadata": {
        "id": "ajU_zN3d7iUt"
      },
      "source": [
        "# Select a Pair for running the ratio\n",
        "selected_pair = 19\n",
        "\n",
        "# Calculate the stock price ratios of Pair A/B and Pair B/A over the date period\n",
        "# The price ratio is \"adjusted close price\" ratio between the 2 stocks\n",
        "PAIR_STOCK_A = pairsDf.loc[selected_pair]['stockA']\n",
        "PAIR_STOCK_B = pairsDf.loc[selected_pair]['stockB']\n",
        "\n",
        "AB_stock = PAIR_STOCK_A + \" / \" + PAIR_STOCK_B\n",
        "BA_stock = PAIR_STOCK_B + \" / \" + PAIR_STOCK_A\n",
        "\n",
        "stocks[AB_stock] = stocks[PAIR_STOCK_A] / stocks[PAIR_STOCK_B]\n",
        "stocks[BA_stock] = stocks[PAIR_STOCK_B] / stocks[PAIR_STOCK_A]\n",
        "\n",
        "stocks[[PAIR_STOCK_A, PAIR_STOCK_B, AB_stock, BA_stock]]"
      ],
      "execution_count": null,
      "outputs": []
    },
    {
      "cell_type": "code",
      "metadata": {
        "id": "1wMrpJ1GQDKz"
      },
      "source": [
        "# Calculate the average price ratio of the Pair over the period\n",
        "# Trade if the current price ratio is significantly different \n",
        "PX_RATIO_THRESHOLD = 0.05\n",
        "\n",
        "# Calculate the average Buy PAIR_STOCK_A / Sell PAIR_STOCK_B ratio\n",
        "avgPxRatio = stocks[AB_stock].mean()\n",
        "print(\"Average BUY/SELL price ratio of\", AB_stock, \":\", avgPxRatio)\n",
        "\n",
        "execPxRatio = avgPxRatio * (1 - PX_RATIO_THRESHOLD)\n",
        "print(\"Buy\", PAIR_STOCK_A, \"and Sell\", PAIR_STOCK_B, \"when the BUY/SELL price ratio is smaller than:\", execPxRatio)\n",
        "\n",
        "print(f'-'*100)\n",
        "print(\"The ratio can be reached when relatively ... \")\n",
        "print(PAIR_STOCK_A, \"goes down and become under-valued and should buy it\")\n",
        "print(PAIR_STOCK_B, \"goes up and become over-valued and should sell it\")"
      ],
      "execution_count": null,
      "outputs": []
    },
    {
      "cell_type": "code",
      "metadata": {
        "id": "9Jah7tCkXBn2"
      },
      "source": [
        "# Plot the averge ratio vs the price ratio threshold\r\n",
        "stocks[AB_stock].plot(figsize=(CHART_SIZE_X, CHART_SIZE_Y))\r\n",
        "\r\n",
        "plt.axhline(y=avgPxRatio, color='r', linestyle='-')\r\n",
        "plt.axhline(y=execPxRatio, color='g', linestyle='--')"
      ],
      "execution_count": null,
      "outputs": []
    },
    {
      "cell_type": "code",
      "metadata": {
        "id": "2_XVECKqi3ww"
      },
      "source": [
        "# Calculate the average Buy PAIR_STOCK_B / Sell PAIR_STOCK_A ratio\n",
        "avgPxRatio = stocks[BA_stock].mean()\n",
        "print(\"Average BUY/SELL price ratio of\", BA_stock, \":\", avgPxRatio)\n",
        "\n",
        "execPxRatio = avgPxRatio * (1 - PX_RATIO_THRESHOLD)\n",
        "print(\"Buy\", PAIR_STOCK_B, \"and Sell\", PAIR_STOCK_A, \"when the BUY/SELL price ratio is smaller than:\", execPxRatio)\n",
        "\n",
        "print(f'-'*100)\n",
        "print(\"The ratio can be reached when relatively ... \")\n",
        "print(PAIR_STOCK_B, \"goes down and become under-valued and should buy it\")\n",
        "print(PAIR_STOCK_A, \"goes up and become over-valued and should sell it\")"
      ],
      "execution_count": null,
      "outputs": []
    },
    {
      "cell_type": "code",
      "metadata": {
        "id": "I7izx06AcsB6"
      },
      "source": [
        "# Plot the averge ratio vs the price ratio threshold\r\n",
        "stocks[BA_stock].plot(figsize=(CHART_SIZE_X, CHART_SIZE_Y))\r\n",
        "\r\n",
        "plt.axhline(y=avgPxRatio, color='r', linestyle='-')\r\n",
        "plt.axhline(y=execPxRatio, color='g', linestyle='--')"
      ],
      "execution_count": null,
      "outputs": []
    },
    {
      "cell_type": "code",
      "metadata": {
        "id": "4Tvo5L1_Htwo"
      },
      "source": [
        "''' Summary and suggestions\n",
        "\n",
        "1. Stocks selection based on Turnover > 100 millon\n",
        "Suggestion: Web scrape HKEx web site to exclude non short sell eligible stocks\n",
        "   https://www.hkex.com.hk/Services/Trading/Securities/Securities-Lists/Designated-Securities-Eligible-for-Short-Selling?sc_lang=en\n",
        "\n",
        "\n",
        "2. Use the adjusted closing price and pandas default corr function (Pearson correlation coefficient) to determine the stocks price correlations\n",
        "Suggestion: Use Co-integration rather than price correlation\n",
        "   https://blog.quantinsti.com/pairs-trading-basics/\n",
        "\n",
        "\n",
        "3. Only choose the stock pairs with high correlation coefficient and from sector\n",
        "Suggestion: Instead of using sector, use a clustering alogrithms (such as k-mean or DBScan) to group similar stocks together and trade Pairs only within the same cluster\n",
        "   https://scikit-learn.org/stable/auto_examples/applications/plot_stock_market.html\n",
        "\n",
        "\n",
        "4. Calculate the strategy entry point if the current price ratio diverge more than the average price ratio (arithmetic average over a period) \n",
        "Suggestion: For the average price ratio, use moving average\n",
        "\n",
        "\n",
        "5. Suggest to do a backtesting on the selected stock pairs with Entry and Exit (Profit/StopLoss mode) parameters \n",
        "using the first half-year of the adjusted close price. Then use the rest of the data to calculate the PnL\n",
        "\n",
        "'''"
      ],
      "execution_count": null,
      "outputs": []
    }
  ]
}