{
  "nbformat": 4,
  "nbformat_minor": 0,
  "metadata": {
    "colab": {
      "name": "nlp.ipynb",
      "provenance": [],
      "collapsed_sections": []
    },
    "kernelspec": {
      "display_name": "Python 3",
      "language": "python",
      "name": "python3"
    }
  },
  "cells": [
    {
      "cell_type": "code",
      "metadata": {
        "id": "z-3iNW_x7VE4",
        "colab_type": "code",
        "colab": {}
      },
      "source": [
        "import nltk\n",
        "from nltk.corpus import treebank\n",
        "nltk.download('treebank')\n",
        "\n",
        "import spacy\n",
        "from spacy import displacy\n",
        "nlp = spacy.load('en')"
      ],
      "execution_count": 0,
      "outputs": []
    },
    {
      "cell_type": "code",
      "metadata": {
        "id": "hqhR5wf-7VE7",
        "colab_type": "code",
        "colab": {}
      },
      "source": [
        "sentence = 'Apple was run by Steve Jobs before 2011 and now it is Tim Cook'\n",
        "doc = nlp(sentence)"
      ],
      "execution_count": 0,
      "outputs": []
    },
    {
      "cell_type": "code",
      "metadata": {
        "id": "rvrLh8eJEcA-",
        "colab_type": "code",
        "colab": {}
      },
      "source": [
        "# POS Tagging\n",
        "# https://spacy.io/api/annotation#pos-tagging\n",
        "print([(token.text, token.pos_) for token in doc])"
      ],
      "execution_count": 0,
      "outputs": []
    },
    {
      "cell_type": "code",
      "metadata": {
        "id": "Dv8ROmg475AT",
        "colab_type": "code",
        "colab": {}
      },
      "source": [
        "# NER (Named Entity Recognition)\n",
        "displacy.render(doc, style='ent', jupyter=True)"
      ],
      "execution_count": 0,
      "outputs": []
    },
    {
      "cell_type": "code",
      "metadata": {
        "id": "iS71so4lEJ-4",
        "colab_type": "code",
        "colab": {}
      },
      "source": [
        "# Dependency Parsing\n",
        "displacy.render(doc, style='dep', jupyter=True, options={'distance': 90})"
      ],
      "execution_count": 0,
      "outputs": []
    },
    {
      "cell_type": "code",
      "metadata": {
        "id": "r2_1XHCq7VFF",
        "colab_type": "code",
        "colab": {}
      },
      "source": [
        "# Tree Bank\n",
        "words = treebank.words()\n",
        "\n",
        "print(\"Word Count\", len(words))\n",
        "print(words[:17])\n",
        "\n",
        "parsed = treebank.parsed_sents()[0]\n",
        "print(parsed)"
      ],
      "execution_count": 0,
      "outputs": []
    }
  ]
}