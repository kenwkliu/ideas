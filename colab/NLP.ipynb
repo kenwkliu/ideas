{
  "nbformat": 4,
  "nbformat_minor": 0,
  "metadata": {
    "colab": {
      "name": "Copy of nlp.ipynb",
      "provenance": [],
      "collapsed_sections": []
    },
    "kernelspec": {
      "display_name": "Python 3",
      "language": "python",
      "name": "python3"
    }
  },
  "cells": [
    {
      "cell_type": "code",
      "metadata": {
        "id": "z-3iNW_x7VE4",
        "colab_type": "code",
        "colab": {}
      },
      "source": [
        "# spaCy NLP library\n",
        "import spacy\n",
        "from spacy import displacy\n",
        "nlp = spacy.load('en')\n",
        "\n",
        "# download tree bank\n",
        "import nltk\n",
        "from nltk.corpus import treebank\n",
        "nltk.download('treebank')\n",
        "\n",
        "#display tree bank\n",
        "!pip install svgling\n",
        "import svgling"
      ],
      "execution_count": null,
      "outputs": []
    },
    {
      "cell_type": "code",
      "metadata": {
        "id": "hqhR5wf-7VE7",
        "colab_type": "code",
        "colab": {}
      },
      "source": [
        "sentence = 'Apple is doing very good in China at 2020 and it is the second best in the history as the profit is over 10 billions. However, Tim Cook is not innovative'\n",
        "doc = nlp(sentence)"
      ],
      "execution_count": null,
      "outputs": []
    },
    {
      "cell_type": "code",
      "metadata": {
        "id": "rvrLh8eJEcA-",
        "colab_type": "code",
        "colab": {}
      },
      "source": [
        "# POS Tagging\n",
        "# https://spacy.io/api/annotation#pos-tagging\n",
        "\n",
        "print(f'{\"Word\":^15}|{\"POS_TAG\":^15}')\n",
        "print(f'-'*28)\n",
        "\n",
        "for token in doc:\n",
        "  print(f'{token.text:<15}|{token.pos_:^10}')"
      ],
      "execution_count": null,
      "outputs": []
    },
    {
      "cell_type": "code",
      "metadata": {
        "id": "Dv8ROmg475AT",
        "colab_type": "code",
        "colab": {}
      },
      "source": [
        "# NER (Named Entity Recognition)\n",
        "displacy.render(doc, style='ent', jupyter=True)"
      ],
      "execution_count": null,
      "outputs": []
    },
    {
      "cell_type": "code",
      "metadata": {
        "id": "iS71so4lEJ-4",
        "colab_type": "code",
        "colab": {}
      },
      "source": [
        "# Dependency Parsing\n",
        "displacy.render(doc, style='dep', jupyter=True, options={'distance': 90})"
      ],
      "execution_count": null,
      "outputs": []
    },
    {
      "cell_type": "code",
      "metadata": {
        "id": "r2_1XHCq7VFF",
        "colab_type": "code",
        "colab": {}
      },
      "source": [
        "# Tree Bank\n",
        "words = treebank.words()\n",
        "\n",
        "print(\"Word Count\", len(words))\n",
        "print(words[:17])\n",
        "\n",
        "parsed = treebank.parsed_sents()[0]\n",
        "svgling.draw_tree(parsed)"
      ],
      "execution_count": null,
      "outputs": []
    }
  ]
}