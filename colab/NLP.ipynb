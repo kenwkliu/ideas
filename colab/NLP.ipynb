{
  "nbformat": 4,
  "nbformat_minor": 0,
  "metadata": {
    "colab": {
      "name": "nlp.ipynb",
      "provenance": [],
      "collapsed_sections": []
    },
    "kernelspec": {
      "display_name": "Python 3",
      "language": "python",
      "name": "python3"
    }
  },
  "cells": [
    {
      "cell_type": "code",
      "metadata": {
        "id": "z-3iNW_x7VE4",
        "colab_type": "code",
        "colab": {}
      },
      "source": [
        "import pandas as pd\n",
        "from sklearn.preprocessing import MinMaxScaler\n",
        "\n",
        "import spacy\n",
        "from spacy import displacy\n",
        "nlp = spacy.load('en')\n",
        "\n",
        "import nltk\n",
        "from nltk.corpus import treebank\n",
        "nltk.download('treebank')\n",
        "\n",
        "from textblob import TextBlob"
      ],
      "execution_count": 0,
      "outputs": []
    },
    {
      "cell_type": "code",
      "metadata": {
        "id": "hqhR5wf-7VE7",
        "colab_type": "code",
        "colab": {}
      },
      "source": [
        "sentence = 'Apple is a good company but Tim Cook is not innovative'\n",
        "doc = nlp(sentence)"
      ],
      "execution_count": 0,
      "outputs": []
    },
    {
      "cell_type": "code",
      "metadata": {
        "id": "rvrLh8eJEcA-",
        "colab_type": "code",
        "colab": {}
      },
      "source": [
        "# POS Tagging\n",
        "# https://spacy.io/api/annotation#pos-tagging\n",
        "print([(token.text, token.pos_) for token in doc])"
      ],
      "execution_count": 0,
      "outputs": []
    },
    {
      "cell_type": "code",
      "metadata": {
        "id": "Dv8ROmg475AT",
        "colab_type": "code",
        "colab": {}
      },
      "source": [
        "# NER (Named Entity Recognition)\n",
        "displacy.render(doc, style='ent', jupyter=True)"
      ],
      "execution_count": 0,
      "outputs": []
    },
    {
      "cell_type": "code",
      "metadata": {
        "id": "iS71so4lEJ-4",
        "colab_type": "code",
        "colab": {}
      },
      "source": [
        "# Dependency Parsing\n",
        "displacy.render(doc, style='dep', jupyter=True, options={'distance': 90})"
      ],
      "execution_count": 0,
      "outputs": []
    },
    {
      "cell_type": "code",
      "metadata": {
        "id": "r2_1XHCq7VFF",
        "colab_type": "code",
        "colab": {}
      },
      "source": [
        "# Tree Bank\n",
        "words = treebank.words()\n",
        "\n",
        "print(\"Word Count\", len(words))\n",
        "print(words[:17])\n",
        "\n",
        "parsed = treebank.parsed_sents()[0]\n",
        "print(parsed)"
      ],
      "execution_count": 0,
      "outputs": []
    },
    {
      "cell_type": "code",
      "metadata": {
        "id": "HmdpcN8SBg9R",
        "colab_type": "code",
        "colab": {}
      },
      "source": [
        "# Sentiment analysis\n",
        "# polarity is a float within the range [-1.0, 1.0] where 0.0 is very negative and 1.0 is very positive\n",
        "tb = TextBlob(sentence)\n",
        "tb.polarity"
      ],
      "execution_count": 0,
      "outputs": []
    },
    {
      "cell_type": "code",
      "metadata": {
        "id": "H0axDOXHZymD",
        "colab_type": "code",
        "colab": {}
      },
      "source": [
        "# subjectivity is a float within the range [0.0, 1.0] where 0.0 is very objective and 1.0 is very subjective\n",
        "tb.sentiment_assessments"
      ],
      "execution_count": 0,
      "outputs": []
    },
    {
      "cell_type": "code",
      "metadata": {
        "id": "VKr6_V6OabJF",
        "colab_type": "code",
        "colab": {}
      },
      "source": [
        "# Use the Apple Tweets to predict the Apple stock price daily movement\n",
        "url = 'https://raw.githubusercontent.com/kenwkliu/ideas/master/colab/data/appleTweetsCleaned.xlsx'\n",
        "appleTweets = pd.read_excel(url)\n",
        "appleTweets"
      ],
      "execution_count": 0,
      "outputs": []
    },
    {
      "cell_type": "code",
      "metadata": {
        "id": "cUtSuvxnbC-u",
        "colab_type": "code",
        "colab": {}
      },
      "source": [
        "COLUMNS = ['Date', 'cleaned', 'Following']\n",
        "appleTweets = appleTweets[COLUMNS]\n",
        "appleTweets['Date'] = pd.to_datetime(appleTweets['Date'])\n",
        "appleTweets"
      ],
      "execution_count": 0,
      "outputs": []
    },
    {
      "cell_type": "code",
      "metadata": {
        "id": "QDzyAMHWbvSj",
        "colab_type": "code",
        "colab": {}
      },
      "source": [
        "appleTweets['sentiment'] = appleTweets['cleaned'].apply(lambda x: TextBlob(x).polarity)\n",
        "appleTweets['sentiment_weighted'] = appleTweets['sentiment'] * appleTweets['Following']\n",
        "appleTweets"
      ],
      "execution_count": 0,
      "outputs": []
    },
    {
      "cell_type": "code",
      "metadata": {
        "id": "8R6-OSnzed7c",
        "colab_type": "code",
        "colab": {}
      },
      "source": [
        "aggregateSentiments = appleTweets.groupby(['Date']).sum()\n",
        "aggregateSentiments"
      ],
      "execution_count": 0,
      "outputs": []
    },
    {
      "cell_type": "code",
      "metadata": {
        "id": "aySTH8NpfRob",
        "colab_type": "code",
        "colab": {}
      },
      "source": [
        "# get stocks daily data (OHLCV) from Yahoo\n",
        "import pandas_datareader.data as web\n",
        "from datetime import datetime\n",
        "\n",
        "start = datetime(2016, 4, 2) \n",
        "end = datetime(2016, 4, 30) \n",
        "stock= web.DataReader('AAPL', 'yahoo', start=start, end=end)\n",
        "stock"
      ],
      "execution_count": 0,
      "outputs": []
    },
    {
      "cell_type": "code",
      "metadata": {
        "id": "1uqVVWVBgUe8",
        "colab_type": "code",
        "colab": {}
      },
      "source": [
        "stock['change'] = (stock['Close'] - stock['Open']) / stock['Open']\n",
        "stock"
      ],
      "execution_count": 0,
      "outputs": []
    },
    {
      "cell_type": "code",
      "metadata": {
        "id": "CpHcHY0EhAtT",
        "colab_type": "code",
        "colab": {}
      },
      "source": [
        "merged = stock.merge(aggregateSentiments, on='Date', how='left')[['change', 'sentiment_weighted']]\n",
        "merged"
      ],
      "execution_count": 0,
      "outputs": []
    },
    {
      "cell_type": "code",
      "metadata": {
        "id": "ObIgUODIiNCa",
        "colab_type": "code",
        "colab": {}
      },
      "source": [
        "scaler = MinMaxScaler((-1, 1))\n",
        "merged['change'] = scaler.fit_transform(merged[['change']])\n",
        "merged['sentiment_weighted'] = scaler.fit_transform(merged[['sentiment_weighted']])\n",
        "merged"
      ],
      "execution_count": 0,
      "outputs": []
    },
    {
      "cell_type": "code",
      "metadata": {
        "id": "46FCldGUjIqE",
        "colab_type": "code",
        "colab": {}
      },
      "source": [
        "merged.plot(figsize=(15, 8))"
      ],
      "execution_count": 0,
      "outputs": []
    }
  ]
}