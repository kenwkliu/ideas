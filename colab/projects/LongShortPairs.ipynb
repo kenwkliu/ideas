{
  "nbformat": 4,
  "nbformat_minor": 0,
  "metadata": {
    "colab": {
      "name": "LongShortPairs.ipynb",
      "provenance": [],
      "authorship_tag": "ABX9TyPiEY2Mp8jQnccfyZfcW+4C",
      "include_colab_link": true
    },
    "kernelspec": {
      "name": "python3",
      "display_name": "Python 3"
    },
    "language_info": {
      "name": "python"
    }
  },
  "cells": [
    {
      "cell_type": "markdown",
      "metadata": {
        "id": "view-in-github",
        "colab_type": "text"
      },
      "source": [
        "<a href=\"https://colab.research.google.com/github/kenwkliu/ideas/blob/master/colab/projects/LongShortPairs.ipynb\" target=\"_parent\"><img src=\"https://colab.research.google.com/assets/colab-badge.svg\" alt=\"Open In Colab\"/></a>"
      ]
    },
    {
      "cell_type": "markdown",
      "metadata": {
        "id": "jq5WweJLG9Vn"
      },
      "source": [
        "# Build a Long/Short Pairs Portfolio to maximum the PnL\n",
        "\n",
        "1.   Base on **stocksInfo** and **researchData** only to **identify  Pairs** and calculate **trading parameters**. No additional data is allowed\n",
        "2.   Based on **testData** to **backtest** the Pairs portfolio with **signals** and **dollarValue**\n",
        "3.   Calculate the **PnL** of the backtested Pairs portfolio\n",
        "\n",
        "\n",
        "\n",
        "# Rules\n",
        " \n",
        "\n",
        "*   **No look-ahead bias**: The testData cannot be used for Pairs identification nor the trading parameters calculations. During backtest, can only refer to **look-back indicators**\n",
        "*   **No overfitting**: The selected Pairs cannot be hand-picked and must be based on rules. Similarly for the trading parameters and dollarValue, apart from the obvious numbers (e.g. 0.05, 0.1, 0.5, 1, 100, 1000 etc.), they must be based on rules also."
      ]
    },
    {
      "cell_type": "code",
      "metadata": {
        "id": "Aow2hL6vGyW4"
      },
      "source": [
        "import numpy as np\n",
        "import pandas as pd\n",
        "import matplotlib.pyplot as plt\n",
        "\n",
        "%load_ext google.colab.data_table \n",
        "%matplotlib inline\n",
        "\n",
        "# Download and import pairslib for calculating PnL\n",
        "!wget https://github.com/kenwkliu/ideas/raw/master/colab/pairslib.py\n",
        "import pairslib\n",
        "\n",
        "# Load the stockInfo, researchData and testData\n",
        "stocksInfo = pd.read_excel('https://raw.githubusercontent.com/kenwkliu/ideas/master/colab/data/hkStocksQuotes.xlsx')\n",
        "researchData = pd.read_csv('https://raw.githubusercontent.com/kenwkliu/ideas/master/colab/data/researchHKStocksAdjClosePx.csv', index_col=0)\n",
        "testData = pd.read_csv('https://raw.githubusercontent.com/kenwkliu/ideas/master/colab/data/testHKStocksAdjClosePx.csv', index_col=0)\n"
      ],
      "execution_count": null,
      "outputs": []
    },
    {
      "cell_type": "code",
      "metadata": {
        "id": "-yLRs96eHLJT"
      },
      "source": [
        "# Implement your logic to construct \"pairsPortfolioBackTest\"\n",
        "# pairsPortfolioBackTest needs to be same format as in\n",
        "# https://colab.research.google.com/github/kenwkliu/ideas/blob/master/colab/HKStocksCorrelation.ipynb\n",
        "# It is a list of backtested Pairs\n",
        "# Each backtested Pairs is a dataframe with at least 5 columns (Date, stockA, stockB, signal, dollarValue)\n",
        "\n",
        "# signal is -1, 0, 1\n",
        "# signal == -1: Long stockA Short stockB\n",
        "# signal == 1: Short stockA Long stockB\n",
        "# signal == 0: flat position\n",
        "# dollarValue if not specified, it will default to 10000. \n",
        "# Can customize each pair with different dollarValue and the allowable range is 5000 to 20000. "
      ],
      "execution_count": null,
      "outputs": []
    },
    {
      "cell_type": "code",
      "metadata": {
        "id": "p-s4wtHsHSKU"
      },
      "source": [
        "# Calcuate the PnL of the Pairs portfolio\n",
        "pnl, pnlDf = pairslib.calcPortfolio(pairsPortfolioBackTest)\n",
        "pnlDf"
      ],
      "execution_count": null,
      "outputs": []
    }
  ]
}