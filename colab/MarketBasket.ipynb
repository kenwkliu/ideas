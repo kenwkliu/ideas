{
  "nbformat": 4,
  "nbformat_minor": 0,
  "metadata": {
    "colab": {
      "name": "MarketBasket.ipynb",
      "provenance": [],
      "include_colab_link": true
    },
    "kernelspec": {
      "name": "python3",
      "display_name": "Python 3"
    }
  },
  "cells": [
    {
      "cell_type": "markdown",
      "metadata": {
        "id": "view-in-github",
        "colab_type": "text"
      },
      "source": [
        "<a href=\"https://colab.research.google.com/github/kenwkliu/ideas/blob/master/colab/MarketBasket.ipynb\" target=\"_parent\"><img src=\"https://colab.research.google.com/assets/colab-badge.svg\" alt=\"Open In Colab\"/></a>"
      ]
    },
    {
      "cell_type": "code",
      "metadata": {
        "id": "tSKHwOIuZM9c",
        "colab_type": "code",
        "colab": {}
      },
      "source": [
        "# http://rasbt.github.io/mlxtend/user_guide/frequent_patterns/apriori/\n",
        "# Apriori is a algorithm for extracting frequent itemsets with applications in association rule learning (aka Market Basket).\n",
        "\n",
        "import pandas as pd\n",
        "from mlxtend.frequent_patterns import apriori"
      ],
      "execution_count": 0,
      "outputs": []
    },
    {
      "cell_type": "code",
      "metadata": {
        "id": "xrmXuFC9ZSIF",
        "colab_type": "code",
        "colab": {}
      },
      "source": [
        "# read the beauty fan pages file and replace \"NaN\" as 0\n",
        "df = pd.read_csv('https://raw.githubusercontent.com/kenwkliu/ideas/master/colab/data/beautyFanPages.csv').fillna(0)\n",
        "df"
      ],
      "execution_count": 0,
      "outputs": []
    },
    {
      "cell_type": "code",
      "metadata": {
        "id": "1aCepOg0ZStS",
        "colab_type": "code",
        "colab": {}
      },
      "source": [
        "# min_support is the ratio of itemset that occur together in all the transactions\n",
        "frequent_itemsets = apriori(df, min_support=0.01, use_colnames=True) #0.002\n",
        "\n",
        "# Add the length of the itemsets\n",
        "frequent_itemsets['length'] = frequent_itemsets['itemsets'].apply(lambda x: len(x))\n",
        "\n",
        "# Display only the itemsets that has more than 2 items\n",
        "result_items = frequent_itemsets[(frequent_itemsets['length'] > 2)]\n",
        "result_items"
      ],
      "execution_count": 0,
      "outputs": []
    },
    {
      "cell_type": "code",
      "metadata": {
        "id": "Cn0I696_k2hp",
        "colab_type": "code",
        "colab": {}
      },
      "source": [
        "# Look at particular items\n",
        "for s in result_items['itemsets'][472:]:\n",
        "  print(s)"
      ],
      "execution_count": 0,
      "outputs": []
    }
  ]
}