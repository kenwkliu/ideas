{
  "nbformat": 4,
  "nbformat_minor": 0,
  "metadata": {
    "colab": {
      "name": "MarketBasket.ipynb",
      "provenance": [],
      "include_colab_link": true
    },
    "kernelspec": {
      "name": "python3",
      "display_name": "Python 3"
    }
  },
  "cells": [
    {
      "cell_type": "markdown",
      "metadata": {
        "id": "view-in-github",
        "colab_type": "text"
      },
      "source": [
        "<a href=\"https://colab.research.google.com/github/kenwkliu/ideas/blob/master/colab/MarketBasket.ipynb\" target=\"_parent\"><img src=\"https://colab.research.google.com/assets/colab-badge.svg\" alt=\"Open In Colab\"/></a>"
      ]
    },
    {
      "cell_type": "code",
      "metadata": {
        "id": "tSKHwOIuZM9c",
        "colab_type": "code",
        "colab": {}
      },
      "source": [
        "# http://rasbt.github.io/mlxtend/user_guide/frequent_patterns/apriori/\n",
        "# Apriori is a algorithm for extracting frequent itemsets with applications in association rule learning (aka Market Basket).\n",
        "\n",
        "import pandas as pd\n",
        "from mlxtend.frequent_patterns import apriori\n",
        "\n",
        "# Google colab interactive table\n",
        "%load_ext google.colab.data_table "
      ],
      "execution_count": null,
      "outputs": []
    },
    {
      "cell_type": "code",
      "metadata": {
        "id": "xrmXuFC9ZSIF",
        "colab_type": "code",
        "colab": {}
      },
      "source": [
        "# read the beauty fan pages file and replace \"NaN\" as 0\n",
        "df = pd.read_csv('https://raw.githubusercontent.com/kenwkliu/ideas/master/colab/data/beautyFanPages.csv').fillna(0)\n",
        "df"
      ],
      "execution_count": null,
      "outputs": []
    },
    {
      "cell_type": "code",
      "metadata": {
        "id": "1aCepOg0ZStS",
        "colab_type": "code",
        "colab": {}
      },
      "source": [
        "# min_support is the ratio of itemset that occur together in all the transactions\n",
        "frequent_itemsets = apriori(df, min_support=0.002, use_colnames=True) \n",
        "\n",
        "# Add the length of the itemsets\n",
        "frequent_itemsets['length'] = frequent_itemsets['itemsets'].apply(lambda x: len(x))\n",
        "\n",
        "# Display only the itemsets that has more than 2 items\n",
        "result_items = frequent_itemsets[(frequent_itemsets['length'] > 2)]\n",
        "result_items"
      ],
      "execution_count": null,
      "outputs": []
    },
    {
      "cell_type": "code",
      "metadata": {
        "id": "YjwRRZVjKat5",
        "colab_type": "code",
        "colab": {}
      },
      "source": [
        "### Investment Fund of Fund exercise\n",
        "# Find a dataset with all the mutual funds/ETFs\n",
        "# For each of the fund, list the Top 10 Holdings as the \"market basket\"\n",
        "# Run the association rule learning algorithm to get the frequent itemsets as the new Funds\n",
        "# Or search within the \"frequent itemsets\" with a particular stock and see which are stocks that the Fund hold together with"
      ],
      "execution_count": null,
      "outputs": []
    },
    {
      "cell_type": "code",
      "metadata": {
        "id": "e_3n64x1PhYR",
        "colab_type": "code",
        "colab": {}
      },
      "source": [
        "mutualFund = pd.read_csv('https://raw.githubusercontent.com/kenwkliu/ideas/master/colab/data/mutualFunds.csv', encoding= 'unicode_escape')\n",
        "mutualFund.head(1000) # look at the first 1000 rows"
      ],
      "execution_count": null,
      "outputs": []
    },
    {
      "cell_type": "code",
      "metadata": {
        "id": "bOkvw05_Qu-Y",
        "colab_type": "code",
        "colab": {}
      },
      "source": [
        "# Webscrape the fund Top 10 Holdings from \"mutualfunds.com\" with the fund_name\n",
        "# Example: https://mutualfunds.com/funds/AAAAX"
      ],
      "execution_count": null,
      "outputs": []
    }
  ]
}