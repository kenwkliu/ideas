{
  "nbformat": 4,
  "nbformat_minor": 0,
  "metadata": {
    "colab": {
      "name": "Untitled6.ipynb",
      "provenance": [],
      "include_colab_link": true
    },
    "kernelspec": {
      "name": "python3",
      "display_name": "Python 3"
    }
  },
  "cells": [
    {
      "cell_type": "markdown",
      "metadata": {
        "id": "view-in-github",
        "colab_type": "text"
      },
      "source": [
        "<a href=\"https://colab.research.google.com/github/kenwkliu/ideas/blob/master/colab/MarketBasket.ipynb\" target=\"_parent\"><img src=\"https://colab.research.google.com/assets/colab-badge.svg\" alt=\"Open In Colab\"/></a>"
      ]
    },
    {
      "cell_type": "code",
      "metadata": {
        "id": "sVNFh_AeSxeu",
        "colab_type": "code",
        "colab": {}
      },
      "source": [
        "import pandas as pd\n",
        "from mlxtend.frequent_patterns import apriori"
      ],
      "execution_count": 0,
      "outputs": []
    },
    {
      "cell_type": "code",
      "metadata": {
        "id": "l5J4slQETV-e",
        "colab_type": "code",
        "colab": {}
      },
      "source": [
        "# read the file and replace \"NaN\" as 0\n",
        "df = pd.read_csv('https://raw.githubusercontent.com/kenwkliu/ideas/master/colab/data/beautyFanPages.csv').fillna(0)\n",
        "df"
      ],
      "execution_count": 0,
      "outputs": []
    },
    {
      "cell_type": "code",
      "metadata": {
        "id": "EzxCgmfWTkYc",
        "colab_type": "code",
        "colab": {}
      },
      "source": [
        "apriori(df, min_support=0.005, use_colnames=True)"
      ],
      "execution_count": 0,
      "outputs": []
    }
  ]
}