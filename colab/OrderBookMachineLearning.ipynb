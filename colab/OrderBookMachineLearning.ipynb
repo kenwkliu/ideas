{
  "nbformat": 4,
  "nbformat_minor": 0,
  "metadata": {
    "colab": {
      "name": "DecisionTree.ipynb",
      "provenance": [],
      "collapsed_sections": []
    },
    "kernelspec": {
      "name": "python3",
      "display_name": "Python 3"
    }
  },
  "cells": [
    {
      "cell_type": "code",
      "metadata": {
        "id": "fHkyqgSAZk9U",
        "colab_type": "code",
        "colab": {}
      },
      "source": [
        "import pandas as pd\n",
        "import matplotlib.pyplot as plt\n",
        "import seaborn as sns\n",
        "\n",
        "# https://www.datacamp.com/community/tutorials/decision-tree-classification-python\n",
        "from sklearn import tree\n",
        "from sklearn.model_selection import train_test_split\n",
        "from sklearn import metrics \n",
        "\n",
        "SCREEN_X, SCREEN_Y = 12, 8"
      ],
      "execution_count": 0,
      "outputs": []
    },
    {
      "cell_type": "code",
      "metadata": {
        "id": "C2g1sCBook0L",
        "colab_type": "code",
        "colab": {}
      },
      "source": [
        "# Import the bid/ask imbalance dataset\n",
        "imbal = pd.read_csv(\"https://raw.githubusercontent.com/kenwkliu/ideas/master/colab/data/20131002-bidAskImbal5.csv\")\n",
        "imbal"
      ],
      "execution_count": 0,
      "outputs": []
    },
    {
      "cell_type": "code",
      "metadata": {
        "id": "buQT3vJGSicP",
        "colab_type": "code",
        "colab": {}
      },
      "source": [
        "# Scatter plot the order book features\n",
        "sns.pairplot(imbal, hue=\"Dir\",palette=\"bright\")"
      ],
      "execution_count": 0,
      "outputs": []
    },
    {
      "cell_type": "code",
      "metadata": {
        "id": "ZuvlxUyMotE7",
        "colab_type": "code",
        "colab": {}
      },
      "source": [
        "# split dataset in features and target variable\n",
        "feature_cols = ['L1', 'L2', 'L3']\n",
        "X = imbal[feature_cols] # Features\n",
        "y = imbal.Dir # Target variable"
      ],
      "execution_count": 0,
      "outputs": []
    },
    {
      "cell_type": "code",
      "metadata": {
        "id": "VZtyNqipooNB",
        "colab_type": "code",
        "colab": {}
      },
      "source": [
        "# Split dataset into training set and test set\n",
        "# 80% training and 20% test\n",
        "X_train, X_test, y_train, y_test = train_test_split(X, y, test_size=0.2, random_state=1) \n"
      ],
      "execution_count": 0,
      "outputs": []
    },
    {
      "cell_type": "code",
      "metadata": {
        "id": "bzIUHugDrWqn",
        "colab_type": "code",
        "colab": {}
      },
      "source": [
        "# Create Decision Tree classifer object with maxiumn 3 level (max_depth=3)\n",
        "# max_depth is the hyperparamter that determine model capacity \n",
        "dtree = tree.DecisionTreeClassifier(max_depth=3)\n",
        "\n",
        "# Train Decision Tree Classifer\n",
        "dtree = dtree.fit(X_train,y_train)"
      ],
      "execution_count": 0,
      "outputs": []
    },
    {
      "cell_type": "code",
      "metadata": {
        "id": "Mvvqw9SPZ4da",
        "colab_type": "code",
        "colab": {}
      },
      "source": [
        "# Visualize the decision tree\n",
        "import graphviz \n",
        "dot_data = tree.export_graphviz(dtree, out_file=None) \n",
        "graph = graphviz.Source(dot_data) \n",
        "graph.render(\"imbal\") \n",
        "\n",
        "dot_data = tree.export_graphviz(dtree, out_file=None, \n",
        "                      feature_names=feature_cols,  \n",
        "                      class_names=[\"D\", \"U\"],  \n",
        "                      filled=True, rounded=True,  \n",
        "                      special_characters=True)  \n",
        "graph = graphviz.Source(dot_data)  \n",
        "graph "
      ],
      "execution_count": 0,
      "outputs": []
    },
    {
      "cell_type": "code",
      "metadata": {
        "id": "nEAWZpliRjcz",
        "colab_type": "code",
        "colab": {}
      },
      "source": [
        "# gini: quantifies the purity of the node/leaf. \n",
        "# A gini score greater than zero implies that samples contained within that node belong to different classes. \n",
        "# A gini score of zero means that the node is pure, that within that node only a single class of samples exist. \n",
        " \n",
        "# value: how many samples in each category (Down vs Up in this case)"
      ],
      "execution_count": 0,
      "outputs": []
    },
    {
      "cell_type": "code",
      "metadata": {
        "id": "s6Q4kGJRrc6H",
        "colab_type": "code",
        "colab": {}
      },
      "source": [
        "# Measure the Decision tree performance\n",
        "y_dtree_pred_train = dtree.predict(X_train)\n",
        "y_dtree_pred_test = dtree.predict(X_test)\n",
        "\n",
        "print(\"Train Accuracy:\", metrics.accuracy_score(y_train, y_dtree_pred_train))\n",
        "print(\"Test Accuracy:\", metrics.accuracy_score(y_test, y_dtree_pred_test))"
      ],
      "execution_count": 0,
      "outputs": []
    },
    {
      "cell_type": "code",
      "metadata": {
        "id": "Hh9OZRfTuJk4",
        "colab_type": "code",
        "colab": {}
      },
      "source": [
        "# https://scikit-learn.org/stable/modules/generated/sklearn.svm.SVC.html\n",
        "from sklearn.svm import SVC\n",
        "\n",
        "# use SVM with default settings\n",
        "svm = SVC()\n",
        "svm.fit(X, y)"
      ],
      "execution_count": 0,
      "outputs": []
    },
    {
      "cell_type": "code",
      "metadata": {
        "id": "EJ-zrwGHubPV",
        "colab_type": "code",
        "colab": {}
      },
      "source": [
        "# Measure the SVM performance\n",
        "y_svm_pred_train = svm.predict(X_train)\n",
        "y_svm_pred_test = svm.predict(X_test)\n",
        "\n",
        "print(\"Train Accuracy:\", metrics.accuracy_score(y_train, y_svm_pred_train))\n",
        "print(\"Test Accuracy:\", metrics.accuracy_score(y_test, y_svm_pred_test))"
      ],
      "execution_count": 0,
      "outputs": []
    }
  ]
}