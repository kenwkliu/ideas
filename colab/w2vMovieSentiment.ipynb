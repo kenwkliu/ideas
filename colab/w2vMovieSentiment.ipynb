{
  "nbformat": 4,
  "nbformat_minor": 0,
  "metadata": {
    "colab": {
      "name": "w2vMovieSentiment.ipynb",
      "provenance": [],
      "collapsed_sections": []
    },
    "kernelspec": {
      "name": "python3",
      "display_name": "Python 3"
    },
    "accelerator": "GPU"
  },
  "cells": [
    {
      "cell_type": "code",
      "metadata": {
        "id": "Dh-ZjcWTM0_N"
      },
      "source": [
        "# Movie sentiment analysis\n",
        "import warnings\n",
        "warnings.filterwarnings(\"ignore\", category=UserWarning)\n",
        "warnings.filterwarnings(\"ignore\", category=FutureWarning)\n",
        "\n",
        "import os\n",
        "import re\n",
        "import numpy as np\n",
        "import pandas as pd\n",
        "\n",
        "import tensorflow as tf\n",
        "from tensorflow import keras\n",
        "from tensorflow.keras.preprocessing.text import Tokenizer\n",
        "from tensorflow.keras.preprocessing.sequence import pad_sequences\n",
        "from tensorflow.keras.models import Sequential\n",
        "from tensorflow.keras.layers import Embedding, Flatten, Dense\n",
        "from tensorflow.keras.utils import plot_model\n",
        "\n",
        "import matplotlib.pyplot as plt\n",
        "%load_ext google.colab.data_table \n",
        "\n",
        "!wget https://raw.githubusercontent.com/kenwkliu/ideas/master/colab/preprocess.py\n",
        "import preprocess\n",
        "from string import punctuation"
      ],
      "execution_count": null,
      "outputs": []
    },
    {
      "cell_type": "code",
      "metadata": {
        "id": "FqNFoPHLV-Yc"
      },
      "source": [
        "# Load all files from a directory in a DataFrame.\n",
        "def load_directory_data(directory):\n",
        "  data = {}\n",
        "  data[\"sentence\"] = []\n",
        "  data[\"sentiment\"] = []\n",
        "  for file_path in os.listdir(directory):\n",
        "    with tf.io.gfile.GFile(os.path.join(directory, file_path), \"r\") as f:\n",
        "      data[\"sentence\"].append(f.read())\n",
        "      data[\"sentiment\"].append(re.match(\"\\d+_(\\d+)\\.txt\", file_path).group(1))\n",
        "  return pd.DataFrame.from_dict(data)\n",
        "\n",
        "# Merge positive and negative examples, add a polarity column and shuffle.\n",
        "def load_dataset(directory):\n",
        "  pos_df = load_directory_data(os.path.join(directory, \"pos\"))\n",
        "  neg_df = load_directory_data(os.path.join(directory, \"neg\"))\n",
        "  pos_df[\"polarity\"] = 1\n",
        "  neg_df[\"polarity\"] = 0\n",
        "  return pd.concat([pos_df, neg_df]).sample(frac=1).reset_index(drop=True)\n",
        "\n",
        "# Download and process the dataset files.\n",
        "def download_and_load_datasets(force_download=False):\n",
        "  dataset = tf.keras.utils.get_file(\n",
        "      fname=\"aclImdb.tar.gz\", \n",
        "      origin=\"http://ai.stanford.edu/~amaas/data/sentiment/aclImdb_v1.tar.gz\", \n",
        "      extract=True)\n",
        "  \n",
        "  train_df = load_dataset(os.path.join(os.path.dirname(dataset), \n",
        "                                       \"aclImdb\", \"train\"))\n",
        "  \n",
        "  return train_df\n",
        "\n",
        "\n",
        "def printInputOutput(index, train, train_text, train_label):\n",
        "  print(\"Original input:\", train['sentence'][index])\n",
        "  print(\"Preprocessed text:\", train_text[index])\n",
        "  print(\"\\nConverted to vector:\", sequences[index])\n",
        "  print(\"Sentiment label:\", train_label[index])\n",
        "  print(\"--------------------------\")\n",
        "\n",
        "  # Check the text to number conversion\n",
        "  currentIndex = 0\n",
        "\n",
        "  for word in train_text[index].split():\n",
        "    if word in df_wordIndex.index:\n",
        "      print(word, \"-->\", sequences[index][currentIndex])\n",
        "      currentIndex += 1\n",
        "    else:\n",
        "      print(word)  "
      ],
      "execution_count": null,
      "outputs": []
    },
    {
      "cell_type": "markdown",
      "metadata": {
        "id": "FCN2FAEIgJ1B"
      },
      "source": [
        "Download the [IMDB movie](https://www.imdb.com/) review dataset. The user comments and the corresponding ratings are the **labelled dataset** for the **supervised** machine learning"
      ]
    },
    {
      "cell_type": "code",
      "metadata": {
        "id": "V4MBFmCZNwP6"
      },
      "source": [
        "SHOW = 5\n",
        "train = download_and_load_datasets()\n",
        "\n",
        "print('Total training rows:', len(train))\n",
        "train[:SHOW]"
      ],
      "execution_count": null,
      "outputs": []
    },
    {
      "cell_type": "code",
      "metadata": {
        "id": "VgDib6Csh9GG"
      },
      "source": [
        "# Preprocess the reviews which include remove symbols and stop words, to small cap, stem the words\r\n",
        "train['preprocessed'] = train['sentence'].apply(preprocess.process)\r\n",
        "train[:SHOW]"
      ],
      "execution_count": null,
      "outputs": []
    },
    {
      "cell_type": "code",
      "metadata": {
        "id": "LzLg51r8OuxF"
      },
      "source": [
        "# define input_x, input_y\n",
        "train_text = train['preprocessed'].values\n",
        "train_label = train['polarity'].values"
      ],
      "execution_count": null,
      "outputs": []
    },
    {
      "cell_type": "code",
      "metadata": {
        "id": "4Mgr4MdbPIUJ"
      },
      "source": [
        "index = 0\n",
        "print('input_x:', train_text[index])\n",
        "print('input_y:', train_label[index])"
      ],
      "execution_count": null,
      "outputs": []
    },
    {
      "cell_type": "markdown",
      "metadata": {
        "id": "pGRRHSXMeOBs"
      },
      "source": [
        "\r\n",
        "\r\n",
        "*   Neural Network doesn't understand English word and only take **vector of numbers** for the input\r\n",
        "*   Need to represent the input word sequence as vector of numbers for the Neural Network input\r\n",
        "*   Use the word occurency frequency in the dataset as the word's indexed number (**ranking**) and use it to convert (encode) the words to numbers\r\n",
        "*   The word_frequency is like a dictionary to map words to numbers\r\n",
        "*   For simplicity, only consider the **top frequent 10,000 words** in the dataset (assume more frequent is more important)"
      ]
    },
    {
      "cell_type": "markdown",
      "metadata": {
        "id": "aEG62i8RB7pJ"
      },
      "source": [
        "![image.png](data:image/png;base64,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)"
      ]
    },
    {
      "cell_type": "code",
      "metadata": {
        "id": "c0t1l49VPdTZ"
      },
      "source": [
        "# For simplicity, only consider the top frequent 10,000 words in the dataset (assume more frequent is more important)\n",
        "max_words = 10000 \n",
        "tokenizer = Tokenizer(num_words=max_words)\n",
        "tokenizer.fit_on_texts(train_text)\n",
        "\n",
        "word_index = tokenizer.word_index\n",
        "print('Found %s unique tokens but will only consider the top frequent %s words' %(len(word_index), max_words))\n",
        "\n",
        "# convert the words to a seqence of numbers (index by the top frequency of the words)\n",
        "# The words in the text sequence will be indexed as a number by the word_index\n",
        "sequences = tokenizer.texts_to_sequences(train_text)\n",
        "\n",
        "# show the word_index\n",
        "df_wordIndex = pd.DataFrame.from_dict(word_index, orient='index', columns=['number'])[:max_words]\n",
        "df_wordIndex"
      ],
      "execution_count": null,
      "outputs": []
    },
    {
      "cell_type": "code",
      "metadata": {
        "id": "CJTkZuzg02gC"
      },
      "source": [
        "index = 0\r\n",
        "printInputOutput(index, train, train_text, train_label)"
      ],
      "execution_count": null,
      "outputs": []
    },
    {
      "cell_type": "code",
      "metadata": {
        "id": "2Cj213YR6HcE"
      },
      "source": [
        "# We will cut reviews after maxlen words because neural network input is fixed size vector\n",
        "maxlen = 200 \n",
        "data = pad_sequences(sequences, maxlen=maxlen)\n",
        "labels = np.asarray(train_label)\n",
        "\n",
        "print('Shape of data tensor', data.shape)\n",
        "print('Shape of labels tensor', labels.shape)"
      ],
      "execution_count": null,
      "outputs": []
    },
    {
      "cell_type": "code",
      "metadata": {
        "id": "XgC-brkz_h-8"
      },
      "source": [
        "# Now the training X, Y is the acceptable format by Neural Network\n",
        "# Input X is a vectors and Y is the corresponding labels (i.e. the sentiment)\n",
        "index = 0\n",
        "print(data[index])\n",
        "print(\"\\n lable:\", labels[index])"
      ],
      "execution_count": null,
      "outputs": []
    },
    {
      "cell_type": "markdown",
      "metadata": {
        "id": "xvU1obA2C_om"
      },
      "source": [
        "![image.png](data:image/png;base64,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)"
      ]
    },
    {
      "cell_type": "code",
      "metadata": {
        "id": "1qieRWfVQEGC"
      },
      "source": [
        "training_samples = 16000  \n",
        "validation_samples = 4000  \n",
        "test_samples = 5000\n",
        "\n",
        "# Split the data into a training set and a validation set\n",
        "x_train = data[:training_samples]\n",
        "y_train = labels[:training_samples]\n",
        "x_val = data[training_samples: training_samples + validation_samples]\n",
        "y_val = labels[training_samples: training_samples + validation_samples]\n",
        "x_test = data[training_samples + validation_samples:]\n",
        "y_test = labels[training_samples + validation_samples:]\n",
        "\n",
        "test_text = train_text[training_samples + validation_samples:]\n",
        "test_label = train_label[training_samples + validation_samples:]\n",
        "\n",
        "print(\"x_train shape:\", x_train.shape)\n",
        "print(\"y_train shape:\", y_train.shape)\n",
        "print(\"x_val shape:\", x_val.shape)\n",
        "print(\"y_val shape:\", y_val.shape)\n",
        "print(\"x_test shape:\", x_test.shape)\n",
        "print(\"y_test shape:\", y_test.shape)"
      ],
      "execution_count": null,
      "outputs": []
    },
    {
      "cell_type": "code",
      "metadata": {
        "id": "CT6qWIWExf4_"
      },
      "source": [
        "# Use the one hidden Dense layer connection which is similar to the MNIST (Digit) recognition\n",
        "model = Sequential()\n",
        "\n",
        "model.add(Dense(32, activation='relu', input_shape=(maxlen,)))\n",
        "model.add(Dense(1, activation='sigmoid'))\n",
        "\n",
        "model.compile(loss='binary_crossentropy',\n",
        "              optimizer='rmsprop',\n",
        "              metrics=['accuracy'])\n",
        "\n",
        "plot_model(model, show_shapes=True, show_layer_names=True)\n",
        "\n",
        "# [9,2,...,200] --dense--> [1,2,.....,32] --dense_output--> 0 or 1"
      ],
      "execution_count": null,
      "outputs": []
    },
    {
      "cell_type": "code",
      "metadata": {
        "id": "XooLKaW9yiAH"
      },
      "source": [
        "model.summary()"
      ],
      "execution_count": null,
      "outputs": []
    },
    {
      "cell_type": "code",
      "metadata": {
        "id": "TP-iKsFsyod1"
      },
      "source": [
        "history = model.fit(x_train, y_train,\n",
        "                    epochs=10,\n",
        "                    batch_size=32,\n",
        "                    validation_data=(x_val, y_val))\n",
        "\n",
        "# Plot the accuracy\n",
        "acc = history.history['accuracy']\n",
        "val_acc = history.history['val_accuracy']\n",
        "epochs = range(1, len(acc) + 1)\n",
        "\n",
        "plt.plot(epochs, acc, 'r', label='Training acc')\n",
        "plt.plot(epochs, val_acc, 'b', label='Validation acc')\n",
        "plt.title('Training and validation accuracy')\n",
        "plt.legend()\n",
        "plt.show()"
      ],
      "execution_count": null,
      "outputs": []
    },
    {
      "cell_type": "code",
      "metadata": {
        "id": "RauN1Mn3nCpa"
      },
      "source": [
        "# The accuracy is not high. As human langauge is complex and the input contain 200 numbers, try with more neurons and layers?"
      ],
      "execution_count": null,
      "outputs": []
    },
    {
      "cell_type": "markdown",
      "metadata": {
        "id": "rWkfJ6jflvPW"
      },
      "source": [
        "*   As usual, the neural network will **learn the input/output associations** (i.e. map the sentence in sequence numberrs to the corresponding sentiment label)\r\n",
        "\r\n",
        "*   However, in order to learning the associations (mapping) effectively, neural network needs to understand the text (which are now merely encoded as numbers by the frequency of appearance in the movies reviews) \r\n",
        "\r\n",
        "*   So the challenge is that the Neural Network has to learn 2 things (**input/output mapping and language understanding**) at the same time\r\n",
        "\r\n",
        "*   Comparing to the image recognition, the pixel positions are naturally mapped to the vectors to represent the image spatial relationship.\r\n"
      ]
    },
    {
      "cell_type": "code",
      "metadata": {
        "id": "5hnuRAp_U6jg"
      },
      "source": [
        "# The key idea here is to use word2vec (a pretrained vector which understand the text to certain extends) \r\n",
        "# to solve the 2nd issue (text understanding) and helps the neural network to learn the input/output mappings.\r\n",
        "# Also, the word2vec output is a vector and which is exactly the required format for Neural Network\r\n",
        "\r\n",
        "from gensim.models import word2vec\r\n",
        "\r\n",
        "reviews = [sent.split(' ') for sent in train['preprocessed']]\r\n",
        "w2vModel = word2vec.Word2Vec(reviews, min_count=5, size=64, window=5)\r\n",
        "w2v = w2vModel.wv\r\n",
        "\r\n",
        "print(\"No.of words in the vocab:\", len(w2v.vocab))"
      ],
      "execution_count": null,
      "outputs": []
    },
    {
      "cell_type": "code",
      "metadata": {
        "id": "5ITOx5dbQ00p"
      },
      "source": [
        "# w2v is a word represented by a vector of numbers\r\n",
        "w2v['movie']"
      ],
      "execution_count": null,
      "outputs": []
    },
    {
      "cell_type": "code",
      "metadata": {
        "id": "rwZxYgwmWLfl"
      },
      "source": [
        "w2v.most_similar('movie')"
      ],
      "execution_count": null,
      "outputs": []
    },
    {
      "cell_type": "markdown",
      "metadata": {
        "id": "rL10EEc6oKAZ"
      },
      "source": [
        "* Build the **embedding matrix** from the word2vec that we will be able to add to the Neural Network as a layer called **Embedding layer** each \r\n",
        "* For each row, it contains the corresponding word2vec vector to the word freqency index which built during earlier tokenization step.\r\n",
        "* Think of the Embedding layer as another dictionary to map each number (the word indexed by the word frequency) to a vector (word2vec)\r\n"
      ]
    },
    {
      "cell_type": "markdown",
      "metadata": {
        "id": "zisJT3kMuY9s"
      },
      "source": [
        "![image.png](data:image/png;base64,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)"
      ]
    },
    {
      "cell_type": "code",
      "metadata": {
        "id": "IoC6Ew_G2zxD"
      },
      "source": [
        "# Note that the index 0 is not supposed to stand for any word or token -- it's a placeholder.\n",
        "# The Embedding layer a matrix of shape (max_words, embedding_dim), \n",
        "\n",
        "embedding_dim = w2v.vector_size\n",
        "embedding_matrix = np.zeros((max_words, embedding_dim))\n",
        "\n",
        "for word, i in word_index.items():\n",
        "  # Words not found in embedding index will be all-zeros.\n",
        "  if word in w2v.vocab and i < max_words:\n",
        "    embedding_matrix[i] = w2v[word]\n",
        "\n",
        "print(\"embedding_matrix.shape:\", embedding_matrix.shape)"
      ],
      "execution_count": null,
      "outputs": []
    },
    {
      "cell_type": "code",
      "metadata": {
        "id": "SKEzktwg5J13"
      },
      "source": [
        "w2vModel = Sequential()\n",
        "\n",
        "# Use w2v embedding layer to injects \"pre-trained\" language knowledge \n",
        "# to encode (represent) the input data more meaningfully\n",
        "# It is a type of transfer learning \n",
        "w2vModel.add(Embedding(max_words, embedding_dim, input_length=maxlen))\n",
        "\n",
        "# Then flatten the embedding output to a single vector for the hidden Dense layer \n",
        "# flatten the 200 sequence of 300-dim w2v vector into one single vector for dense layer\n",
        "w2vModel.add(Flatten())\n",
        "w2vModel.add(Dense(32, activation='relu'))\n",
        "w2vModel.add(Dense(1, activation='sigmoid'))\n",
        "\n",
        "plot_model(w2vModel, show_shapes=True, show_layer_names=True)\n",
        "\n",
        "# [9,2,...,200] --w2v_embedding--> [[1,3,...,4], [7,5,...19],...] --flatten--> [1,3,...4,7,5,...19,...] --dense--> [1,2,.....,32] --dense_output--> 0 or 1"
      ],
      "execution_count": null,
      "outputs": []
    },
    {
      "cell_type": "code",
      "metadata": {
        "id": "KCy5i84YYIAL"
      },
      "source": [
        "w2vModel.summary()\n",
        "\n",
        "# Embedding layer = max_words * embedding_dim = 10,000 * 300 = 3,000,000\n",
        "# Flatten = (input) maxlen * embedding_dim = 200 * 300 = 60,000\n",
        "# dense = flatten_output * dense_output_neurons + bias = 60,000 * 32 + 32 = 1,920,032\n",
        "# dense_1 = dense_output * dense_1_output + bias = 32 * 1 + 1 = 33"
      ],
      "execution_count": null,
      "outputs": []
    },
    {
      "cell_type": "code",
      "metadata": {
        "id": "U6CNp_e45WxZ"
      },
      "source": [
        "# Load the Embedding layer from the embedding_matrix and no need to train the parameters \n",
        "\n",
        "w2vModel.layers[0].set_weights([embedding_matrix])\n",
        "w2vModel.layers[0].trainable = False\n",
        "w2vModel.summary()"
      ],
      "execution_count": null,
      "outputs": []
    },
    {
      "cell_type": "code",
      "metadata": {
        "id": "Yr5VNegd51kf"
      },
      "source": [
        "# compile the model after setting the Embedding layer to non-trainable\n",
        "w2vModel.compile(loss='binary_crossentropy',\n",
        "              optimizer='rmsprop',\n",
        "              metrics=['accuracy'])\n",
        "\n",
        "history = w2vModel.fit(x_train, y_train,\n",
        "                    epochs=10,\n",
        "                    batch_size=32,\n",
        "                    validation_data=(x_val, y_val))\n",
        "\n",
        "# Plot the accuracy\n",
        "acc = history.history['accuracy']\n",
        "val_acc = history.history['val_accuracy']\n",
        "epochs = range(1, len(acc) + 1)\n",
        "\n",
        "plt.plot(epochs, acc, 'r', label='Training acc')\n",
        "plt.plot(epochs, val_acc, 'b', label='Validation acc')\n",
        "plt.title('Training and validation accuracy')\n",
        "plt.legend()\n",
        "plt.show()\n",
        "\n",
        "## Try comparing to the dense connection with more neurons"
      ],
      "execution_count": null,
      "outputs": []
    },
    {
      "cell_type": "code",
      "metadata": {
        "id": "wIH8M-nV6RE9"
      },
      "source": [
        "# Do the prediction on the test set\n",
        "score = w2vModel.evaluate(x_test, y_test, verbose=0)\n",
        "print('Test loss:', score[0])\n",
        "print('Test accuracy:', score[1])\n",
        "\n",
        "ans = w2vModel.predict(x_test)"
      ],
      "execution_count": null,
      "outputs": []
    },
    {
      "cell_type": "code",
      "metadata": {
        "id": "FpU7zTBG6p1O"
      },
      "source": [
        "# Predict individual movie review\n",
        "p_index = 0\n",
        "\n",
        "print(\"Movie Review:\", test_text[p_index])\n",
        "print(\"Truth Sentiment:\", test_label[p_index])\n",
        "print(\"Predicted Sentiment:\", round(ans[p_index][0]))"
      ],
      "execution_count": null,
      "outputs": []
    },
    {
      "cell_type": "code",
      "metadata": {
        "id": "xia7838u1Jxk"
      },
      "source": [
        "# Change the neural network architecture from dense layer to LSTM which is better for sequence \n",
        "# https://www.tensorflow.org/api_docs/python/tf/keras/layers/LSTM\n",
        "from tensorflow.keras.layers import LSTM\n",
        "\n",
        "lstm = Sequential()\n",
        "lstm.add(Embedding(max_words, embedding_dim, input_length=maxlen))\n",
        "# No need to flatten the vector (required for dense layer but not for LSTM)\n",
        "lstm.add(LSTM(32))\n",
        "lstm.add(Dense(1, activation='sigmoid'))\n",
        "\n",
        "# Load the Embedding layer from the embedding_matrix and no need to train the parameters \n",
        "lstm.layers[0].set_weights([embedding_matrix])\n",
        "lstm.layers[0].trainable = False\n",
        "\n",
        "lstm.compile(loss='binary_crossentropy',\n",
        "              optimizer='rmsprop',\n",
        "              metrics=['accuracy'])\n",
        "\n",
        "plot_model(lstm, show_shapes=True, show_layer_names=True)\n",
        "\n",
        "# [good movie ....] --word_indexed_input--> [9,2,..,200] --w2v_embedding--> [[1,3,...,4], [7,5,...19],...] \n",
        "#   --LSTM--> [[1,3,...,4], [7,5,...19],...] --dense_output--> 0 or 1"
      ],
      "execution_count": null,
      "outputs": []
    },
    {
      "cell_type": "code",
      "metadata": {
        "id": "Gofvoc_52Z1B"
      },
      "source": [
        "lstm.summary()\n",
        "# The lstm (LSTM) Param # = g * [h(h+i) + h]\n",
        "# where g is number of gates and LSTM = 4\n",
        "# h = no. of LSTM hidden neurons\n",
        "# i = the dimension of input (feature)\n",
        "# 4 * (32 (32 + 300) + 32) = 42624"
      ],
      "execution_count": null,
      "outputs": []
    },
    {
      "cell_type": "code",
      "metadata": {
        "id": "pmgd2hHp2z4_"
      },
      "source": [
        "history = lstm.fit(x_train, y_train,\n",
        "                    epochs=10,\n",
        "                    batch_size=32,\n",
        "                    validation_data=(x_val, y_val))\n",
        "\n",
        "# Plot the accuracy\n",
        "acc = history.history['accuracy']\n",
        "val_acc = history.history['val_accuracy']\n",
        "epochs = range(1, len(acc) + 1)\n",
        "\n",
        "plt.plot(epochs, acc, 'r', label='Training acc')\n",
        "plt.plot(epochs, val_acc, 'b', label='Validation acc')\n",
        "plt.title('Training and validation accuracy')\n",
        "plt.legend()\n",
        "plt.show()"
      ],
      "execution_count": null,
      "outputs": []
    },
    {
      "cell_type": "code",
      "metadata": {
        "id": "nfHaA-CnAdSW"
      },
      "source": [
        "# Suggested changes\n",
        "# - Try with different max_words and maxlen in the data processing\n",
        "# - Try with different training parameters for the word2vec (min_count, size, window)\n",
        "# - When padding the text sequence to fixed size vector, removing some portion from the middle \n",
        "#       because usually the first and last sentence are more important as far as sentiment is concerned\n",
        "# - Tune the neural network hyper-parameters\n",
        "# - Train with other dataset such news sentiment dataset"
      ],
      "execution_count": null,
      "outputs": []
    }
  ]
}