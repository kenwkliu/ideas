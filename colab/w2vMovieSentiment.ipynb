{
  "nbformat": 4,
  "nbformat_minor": 0,
  "metadata": {
    "colab": {
      "name": "w2vMovieSentiment.ipynb",
      "provenance": [],
      "collapsed_sections": []
    },
    "kernelspec": {
      "name": "python3",
      "display_name": "Python 3"
    },
    "accelerator": "GPU"
  },
  "cells": [
    {
      "cell_type": "code",
      "metadata": {
        "id": "Dh-ZjcWTM0_N"
      },
      "source": [
        "# Movie sentiment analysis\n",
        "import warnings\n",
        "warnings.filterwarnings(\"ignore\", category=UserWarning)\n",
        "warnings.filterwarnings(\"ignore\", category=FutureWarning)\n",
        "\n",
        "import os\n",
        "import re\n",
        "import numpy as np\n",
        "import pandas as pd\n",
        "\n",
        "import tensorflow as tf\n",
        "from tensorflow import keras\n",
        "from tensorflow.keras.preprocessing.text import Tokenizer\n",
        "from tensorflow.keras.preprocessing.sequence import pad_sequences\n",
        "from tensorflow.keras.models import Sequential\n",
        "from tensorflow.keras.layers import Embedding, Flatten, Dense\n",
        "from tensorflow.keras.utils import plot_model\n",
        "\n",
        "import matplotlib.pyplot as plt\n",
        "%load_ext google.colab.data_table \n",
        "\n",
        "!wget https://raw.githubusercontent.com/kenwkliu/ideas/master/colab/preprocess.py\n",
        "import preprocess\n",
        "from string import punctuation"
      ],
      "execution_count": null,
      "outputs": []
    },
    {
      "cell_type": "code",
      "metadata": {
        "id": "FqNFoPHLV-Yc"
      },
      "source": [
        "# Load all files from a directory in a DataFrame.\n",
        "def load_directory_data(directory):\n",
        "  data = {}\n",
        "  data[\"sentence\"] = []\n",
        "  data[\"sentiment\"] = []\n",
        "  for file_path in os.listdir(directory):\n",
        "    with tf.io.gfile.GFile(os.path.join(directory, file_path), \"r\") as f:\n",
        "      data[\"sentence\"].append(f.read())\n",
        "      data[\"sentiment\"].append(re.match(\"\\d+_(\\d+)\\.txt\", file_path).group(1))\n",
        "  return pd.DataFrame.from_dict(data)\n",
        "\n",
        "# Merge positive and negative examples, add a polarity column and shuffle.\n",
        "def load_dataset(directory):\n",
        "  pos_df = load_directory_data(os.path.join(directory, \"pos\"))\n",
        "  neg_df = load_directory_data(os.path.join(directory, \"neg\"))\n",
        "  pos_df[\"polarity\"] = 1\n",
        "  neg_df[\"polarity\"] = 0\n",
        "  return pd.concat([pos_df, neg_df]).sample(frac=1).reset_index(drop=True)\n",
        "\n",
        "# Download and process the dataset files.\n",
        "def download_and_load_datasets(force_download=False):\n",
        "  dataset = tf.keras.utils.get_file(\n",
        "      fname=\"aclImdb.tar.gz\", \n",
        "      origin=\"http://ai.stanford.edu/~amaas/data/sentiment/aclImdb_v1.tar.gz\", \n",
        "      extract=True)\n",
        "  \n",
        "  train_df = load_dataset(os.path.join(os.path.dirname(dataset), \n",
        "                                       \"aclImdb\", \"train\"))\n",
        "  \n",
        "  return train_df"
      ],
      "execution_count": null,
      "outputs": []
    },
    {
      "cell_type": "markdown",
      "metadata": {
        "id": "FCN2FAEIgJ1B"
      },
      "source": [
        "Download the [IMDB movie](https://www.imdb.com/) review dataset. The user comments and the corresponding ratings are the **labelled dataset** for the **supervised** machine learning"
      ]
    },
    {
      "cell_type": "code",
      "metadata": {
        "id": "V4MBFmCZNwP6"
      },
      "source": [
        "SHOW = 5\n",
        "train = download_and_load_datasets()\n",
        "\n",
        "print('Total training rows:', len(train))\n",
        "train[:SHOW]"
      ],
      "execution_count": null,
      "outputs": []
    },
    {
      "cell_type": "code",
      "metadata": {
        "id": "VgDib6Csh9GG"
      },
      "source": [
        "# Preprocess the reviews which include remove symbols and stop words, to small cap, stem the words\r\n",
        "train['preprocessed'] = train['sentence'].apply(preprocess.process)\r\n",
        "train[:SHOW]"
      ],
      "execution_count": null,
      "outputs": []
    },
    {
      "cell_type": "code",
      "metadata": {
        "id": "LzLg51r8OuxF"
      },
      "source": [
        "# define input_x, input_y\n",
        "train_text = train['preprocessed'].values\n",
        "train_label = train['polarity'].values"
      ],
      "execution_count": null,
      "outputs": []
    },
    {
      "cell_type": "code",
      "metadata": {
        "id": "4Mgr4MdbPIUJ"
      },
      "source": [
        "index = 0\n",
        "print('input_x:', train_text[index])\n",
        "print('input_y:', train_label[index])"
      ],
      "execution_count": null,
      "outputs": []
    },
    {
      "cell_type": "markdown",
      "metadata": {
        "id": "pGRRHSXMeOBs"
      },
      "source": [
        "\r\n",
        "\r\n",
        "*   Neural Network doesn't understand English word and only take **vector of numbers** for the input\r\n",
        "*   Need to represent the input word sequence as vector of numbers for the Neural Network input\r\n",
        "*   Use the word occurency frequency in the dataset as the word's indexed number and use it to convert (encode) the words to numbers"
      ]
    },
    {
      "cell_type": "code",
      "metadata": {
        "id": "c0t1l49VPdTZ"
      },
      "source": [
        "# For simplicity, only consider the top frequent 10,000 words in the dataset (assume more frequent is more important)\n",
        "max_words = 10000 \n",
        "tokenizer = Tokenizer(num_words=max_words)\n",
        "tokenizer.fit_on_texts(train_text)\n",
        "\n",
        "word_index = tokenizer.word_index\n",
        "print('Found %s unique tokens but will only consider the top frequent %s words' %(len(word_index), max_words))\n",
        "\n",
        "# show the word_index\n",
        "df = pd.DataFrame.from_dict(word_index, orient='index', columns=['number'])\n",
        "df[:max_words]"
      ],
      "execution_count": null,
      "outputs": []
    },
    {
      "cell_type": "code",
      "metadata": {
        "id": "xrJjnWvl6UHm"
      },
      "source": [
        "# convert the words to a seqence of numbers (index by the top frequency of the words)\r\n",
        "# The word_frequency is like a dictionary to map words to numbers\r\n",
        "# The words in the text sequence will be indexed as a number by the word_index\r\n",
        "sequences = tokenizer.texts_to_sequences(train_text)"
      ],
      "execution_count": null,
      "outputs": []
    },
    {
      "cell_type": "code",
      "metadata": {
        "id": "HUpZO1WD6B7I"
      },
      "source": [
        "# Check the convert results\n",
        "index = 2\n",
        "\n",
        "print(train_text[index])\n",
        "print(sequences[index])"
      ],
      "execution_count": null,
      "outputs": []
    },
    {
      "cell_type": "code",
      "metadata": {
        "id": "2Cj213YR6HcE"
      },
      "source": [
        "# We will cut reviews after maxlen words because neural network input is fixed size vector\n",
        "maxlen = 200 \n",
        "data = pad_sequences(sequences, maxlen=maxlen)\n",
        "labels = np.asarray(train_label)\n",
        "\n",
        "print('Shape of data tensor', data.shape)\n",
        "print('Shape of labels tensor', labels.shape)"
      ],
      "execution_count": null,
      "outputs": []
    },
    {
      "cell_type": "code",
      "metadata": {
        "id": "XgC-brkz_h-8"
      },
      "source": [
        "# Now the training X, Y is the acceptable format by Neural Network\n",
        "# Input X is a vectors and Y is the corresponding labels (i.e. the sentiment)\n",
        "index = 0\n",
        "print(data[index])\n",
        "print(\"\\n lable:\", labels[index])"
      ],
      "execution_count": null,
      "outputs": []
    },
    {
      "cell_type": "markdown",
      "metadata": {
        "id": "tZmp9X2nlAlU"
      },
      "source": [
        "![image.png](data:image/png;base64,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)"
      ]
    },
    {
      "cell_type": "code",
      "metadata": {
        "id": "1qieRWfVQEGC"
      },
      "source": [
        "training_samples = 16000  \n",
        "validation_samples = 4000  \n",
        "test_samples = 5000\n",
        "\n",
        "# Split the data into a training set and a validation set\n",
        "x_train = data[:training_samples]\n",
        "y_train = labels[:training_samples]\n",
        "x_val = data[training_samples: training_samples + validation_samples]\n",
        "y_val = labels[training_samples: training_samples + validation_samples]\n",
        "x_test = data[training_samples + validation_samples:]\n",
        "y_test = labels[training_samples + validation_samples:]\n",
        "\n",
        "test_text = train_text[training_samples + validation_samples:]\n",
        "test_label = train_label[training_samples + validation_samples:]\n",
        "\n",
        "print(\"x_train shape:\", x_train.shape)\n",
        "print(\"y_train shape:\", y_train.shape)\n",
        "print(\"x_val shape:\", x_val.shape)\n",
        "print(\"y_val shape:\", y_val.shape)\n",
        "print(\"x_test shape:\", x_test.shape)\n",
        "print(\"y_test shape:\", y_test.shape)"
      ],
      "execution_count": null,
      "outputs": []
    },
    {
      "cell_type": "code",
      "metadata": {
        "id": "CT6qWIWExf4_"
      },
      "source": [
        "# Use the one hidden Dense layer connection which is similar to the MNIST (Digit) recognition\n",
        "model = Sequential()\n",
        "\n",
        "model.add(Dense(32, activation='relu', input_shape=(maxlen,)))\n",
        "model.add(Dense(1, activation='sigmoid'))\n",
        "\n",
        "model.compile(loss='binary_crossentropy',\n",
        "              optimizer='rmsprop',\n",
        "              metrics=['accuracy'])\n",
        "\n",
        "plot_model(model, show_shapes=True, show_layer_names=True)\n",
        "\n",
        "# [9,2,...,200] --dense--> [1,2,.....,32] --dense_output--> 0 or 1"
      ],
      "execution_count": null,
      "outputs": []
    },
    {
      "cell_type": "code",
      "metadata": {
        "id": "XooLKaW9yiAH"
      },
      "source": [
        "model.summary()"
      ],
      "execution_count": null,
      "outputs": []
    },
    {
      "cell_type": "code",
      "metadata": {
        "id": "TP-iKsFsyod1"
      },
      "source": [
        "history = model.fit(x_train, y_train,\n",
        "                    epochs=10,\n",
        "                    batch_size=32,\n",
        "                    validation_data=(x_val, y_val))\n",
        "\n",
        "# Plot the accuracy\n",
        "acc = history.history['accuracy']\n",
        "val_acc = history.history['val_accuracy']\n",
        "epochs = range(1, len(acc) + 1)\n",
        "\n",
        "plt.plot(epochs, acc, 'r', label='Training acc')\n",
        "plt.plot(epochs, val_acc, 'b', label='Validation acc')\n",
        "plt.title('Training and validation accuracy')\n",
        "plt.legend()\n",
        "plt.show()"
      ],
      "execution_count": null,
      "outputs": []
    },
    {
      "cell_type": "code",
      "metadata": {
        "id": "RauN1Mn3nCpa"
      },
      "source": [
        "# The accuracy is not high. As human langauge is complex and the input contain 200 numbers, try with more neurons and layers?"
      ],
      "execution_count": null,
      "outputs": []
    },
    {
      "cell_type": "markdown",
      "metadata": {
        "id": "rWkfJ6jflvPW"
      },
      "source": [
        "*   As usual, the neural network will **learn the input/output associations** (i.e. map the sentence in sequence numberrs to the corresponding sentiment label)\r\n",
        "\r\n",
        "*   However, in order to learning the associations (mapping) effectively, neural network needs to understand the text (which are now merely encoded as numbers by the frequency of appearance in the movies reviews) \r\n",
        "\r\n",
        "*   So the challenge is that the Neural Network has to learn 2 things (**input/output mapping and language understanding**) at the same time\r\n",
        "\r\n",
        "*   Comparing to the image recognition, the pixel positions are naturally mapped to the vectors to represent the image spatial relationship.\r\n"
      ]
    },
    {
      "cell_type": "code",
      "metadata": {
        "id": "5hnuRAp_U6jg"
      },
      "source": [
        "# The key idea here is to use word2vec (a pretrained vector which understand the text to certain extends) \r\n",
        "# to solve the 2nd issue (text understanding) and helps the neural network to learn the input/output mappings.\r\n",
        "# Also, the word2vec output is a vector and which is exactly the required format for Neural Network\r\n",
        "\r\n",
        "from gensim.models import word2vec\r\n",
        "\r\n",
        "reviews = [sent.split(' ') for sent in train['preprocessed']]\r\n",
        "w2vModel = word2vec.Word2Vec(reviews, min_count=5, size=64, window=5)\r\n",
        "w2v = w2vModel.wv\r\n",
        "\r\n",
        "print(\"No.of words in the vocab:\", len(w2v.vocab))"
      ],
      "execution_count": null,
      "outputs": []
    },
    {
      "cell_type": "code",
      "metadata": {
        "id": "5ITOx5dbQ00p"
      },
      "source": [
        "# w2v is a word represented by a vector of numbers\r\n",
        "w2v['movie']"
      ],
      "execution_count": null,
      "outputs": []
    },
    {
      "cell_type": "code",
      "metadata": {
        "id": "rwZxYgwmWLfl"
      },
      "source": [
        "w2v.most_similar('movie')"
      ],
      "execution_count": null,
      "outputs": []
    },
    {
      "cell_type": "markdown",
      "metadata": {
        "id": "rL10EEc6oKAZ"
      },
      "source": [
        "* Build the **embedding matrix** from the word2vec that we will be able to add to the Neural Network as a layer called **Embedding layer** each \r\n",
        "* For each row, it contains the corresponding word2vec vector to the word freqency index which built during earlier tokenization step.\r\n",
        "* Think of the Embedding layer as another dictionary to map each number (the word indexed by the word frequency) to a vector (word2vec)\r\n"
      ]
    },
    {
      "cell_type": "markdown",
      "metadata": {
        "id": "zisJT3kMuY9s"
      },
      "source": [
        "![image.png](data:image/png;base64,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)"
      ]
    },
    {
      "cell_type": "code",
      "metadata": {
        "id": "IoC6Ew_G2zxD"
      },
      "source": [
        "# Note that the index 0 is not supposed to stand for any word or token -- it's a placeholder.\n",
        "# The Embedding layer a matrix of shape (max_words, embedding_dim), \n",
        "\n",
        "embedding_dim = w2v.vector_size\n",
        "embedding_matrix = np.zeros((max_words, embedding_dim))\n",
        "\n",
        "for word, i in word_index.items():\n",
        "  # Words not found in embedding index will be all-zeros.\n",
        "  if word in w2v.vocab and i < max_words:\n",
        "    embedding_matrix[i] = w2v[word]\n",
        "\n",
        "print(\"embedding_matrix.shape:\", embedding_matrix.shape)"
      ],
      "execution_count": null,
      "outputs": []
    },
    {
      "cell_type": "code",
      "metadata": {
        "id": "SKEzktwg5J13"
      },
      "source": [
        "w2vModel = Sequential()\n",
        "\n",
        "# Use w2v embedding layer to injects \"pre-trained\" language knowledge \n",
        "# to encode (represent) the input data more meaningfully\n",
        "# It is a type of transfer learning \n",
        "w2vModel.add(Embedding(max_words, embedding_dim, input_length=maxlen))\n",
        "\n",
        "# Then flatten the embedding output to a single vector for the hidden Dense layer \n",
        "# flatten the 200 sequence of 300-dim w2v vector into one single vector for dense layer\n",
        "w2vModel.add(Flatten())\n",
        "w2vModel.add(Dense(32, activation='relu'))\n",
        "w2vModel.add(Dense(1, activation='sigmoid'))\n",
        "\n",
        "plot_model(w2vModel, show_shapes=True, show_layer_names=True)\n",
        "\n",
        "# [9,2,...,200] --w2v_embedding--> [[1,3,...,4], [7,5,...19],...] --flatten--> [1,3,...4,7,5,...19,...] --dense--> [1,2,.....,32] --dense_output--> 0 or 1"
      ],
      "execution_count": null,
      "outputs": []
    },
    {
      "cell_type": "code",
      "metadata": {
        "id": "KCy5i84YYIAL"
      },
      "source": [
        "w2vModel.summary()\n",
        "\n",
        "# Embedding layer = max_words * embedding_dim = 10,000 * 300 = 3,000,000\n",
        "# Flatten = (input) maxlen * embedding_dim = 200 * 300 = 60,000\n",
        "# dense = flatten_output * dense_output_neurons + bias = 60,000 * 32 + 32 = 1,920,032\n",
        "# dense_1 = dense_output * dense_1_output + bias = 32 * 1 + 1 = 33"
      ],
      "execution_count": null,
      "outputs": []
    },
    {
      "cell_type": "code",
      "metadata": {
        "id": "U6CNp_e45WxZ"
      },
      "source": [
        "# Load the Embedding layer from the embedding_matrix and no need to train the parameters \n",
        "\n",
        "w2vModel.layers[0].set_weights([embedding_matrix])\n",
        "w2vModel.layers[0].trainable = False\n",
        "w2vModel.summary()"
      ],
      "execution_count": null,
      "outputs": []
    },
    {
      "cell_type": "code",
      "metadata": {
        "id": "Yr5VNegd51kf"
      },
      "source": [
        "# compile the model after setting the Embedding layer to non-trainable\n",
        "w2vModel.compile(loss='binary_crossentropy',\n",
        "              optimizer='rmsprop',\n",
        "              metrics=['accuracy'])\n",
        "\n",
        "history = w2vModel.fit(x_train, y_train,\n",
        "                    epochs=10,\n",
        "                    batch_size=32,\n",
        "                    validation_data=(x_val, y_val))\n",
        "\n",
        "# Plot the accuracy\n",
        "acc = history.history['accuracy']\n",
        "val_acc = history.history['val_accuracy']\n",
        "epochs = range(1, len(acc) + 1)\n",
        "\n",
        "plt.plot(epochs, acc, 'r', label='Training acc')\n",
        "plt.plot(epochs, val_acc, 'b', label='Validation acc')\n",
        "plt.title('Training and validation accuracy')\n",
        "plt.legend()\n",
        "plt.show()\n",
        "\n",
        "## Try comparing to the dense connection with more neurons"
      ],
      "execution_count": null,
      "outputs": []
    },
    {
      "cell_type": "code",
      "metadata": {
        "id": "wIH8M-nV6RE9"
      },
      "source": [
        "# Do the prediction on the test set\n",
        "score = w2vModel.evaluate(x_test, y_test, verbose=0)\n",
        "print('Test loss:', score[0])\n",
        "print('Test accuracy:', score[1])\n",
        "\n",
        "ans = w2vModel.predict(x_test)"
      ],
      "execution_count": null,
      "outputs": []
    },
    {
      "cell_type": "code",
      "metadata": {
        "id": "FpU7zTBG6p1O"
      },
      "source": [
        "# Predict individual movie review\n",
        "p_index = 0\n",
        "\n",
        "print(\"Movie Review:\", test_text[p_index])\n",
        "print(\"Truth Sentiment:\", test_label[p_index])\n",
        "print(\"Predicted Sentiment:\", round(ans[p_index][0]))"
      ],
      "execution_count": null,
      "outputs": []
    },
    {
      "cell_type": "code",
      "metadata": {
        "id": "xia7838u1Jxk"
      },
      "source": [
        "# Change the neural network architecture from dense layer to LSTM which is better for sequence \n",
        "# https://www.tensorflow.org/api_docs/python/tf/keras/layers/LSTM\n",
        "from tensorflow.keras.layers import LSTM\n",
        "\n",
        "lstm = Sequential()\n",
        "lstm.add(Embedding(max_words, embedding_dim, input_length=maxlen))\n",
        "# No need to flatten the vector (required for dense layer but not for LSTM)\n",
        "lstm.add(LSTM(32))\n",
        "lstm.add(Dense(1, activation='sigmoid'))\n",
        "\n",
        "# Load the Embedding layer from the embedding_matrix and no need to train the parameters \n",
        "lstm.layers[0].set_weights([embedding_matrix])\n",
        "lstm.layers[0].trainable = False\n",
        "\n",
        "lstm.compile(loss='binary_crossentropy',\n",
        "              optimizer='rmsprop',\n",
        "              metrics=['accuracy'])\n",
        "\n",
        "plot_model(lstm, show_shapes=True, show_layer_names=True)\n",
        "\n",
        "# [good movie ....] --word_indexed_input--> [9,2,..,200] --w2v_embedding--> [[1,3,...,4], [7,5,...19],...] \n",
        "#   --LSTM--> [[1,3,...,4], [7,5,...19],...] --dense_output--> 0 or 1"
      ],
      "execution_count": null,
      "outputs": []
    },
    {
      "cell_type": "code",
      "metadata": {
        "id": "Gofvoc_52Z1B"
      },
      "source": [
        "lstm.summary()\n",
        "# The lstm (LSTM) Param # = g * [h(h+i) + h]\n",
        "# where g is number of gates and LSTM = 4\n",
        "# h = no. of LSTM hidden neurons\n",
        "# i = the dimension of input (feature)\n",
        "# 4 * (32 (32 + 300) + 32) = 42624"
      ],
      "execution_count": null,
      "outputs": []
    },
    {
      "cell_type": "code",
      "metadata": {
        "id": "pmgd2hHp2z4_"
      },
      "source": [
        "history = lstm.fit(x_train, y_train,\n",
        "                    epochs=10,\n",
        "                    batch_size=32,\n",
        "                    validation_data=(x_val, y_val))\n",
        "\n",
        "# Plot the accuracy\n",
        "acc = history.history['accuracy']\n",
        "val_acc = history.history['val_accuracy']\n",
        "epochs = range(1, len(acc) + 1)\n",
        "\n",
        "plt.plot(epochs, acc, 'r', label='Training acc')\n",
        "plt.plot(epochs, val_acc, 'b', label='Validation acc')\n",
        "plt.title('Training and validation accuracy')\n",
        "plt.legend()\n",
        "plt.show()"
      ],
      "execution_count": null,
      "outputs": []
    },
    {
      "cell_type": "code",
      "metadata": {
        "id": "nfHaA-CnAdSW"
      },
      "source": [
        "# Suggested changes\n",
        "# - Try with different max_words and maxlen in the data processing\n",
        "# - Try with different training parameters for the word2vec (min_count, size, window)\n",
        "# - When padding the text sequence to fixed size vector, removing some portion from the middle \n",
        "#       because usually the first and last sentence are more important as far as sentiment is concerned\n",
        "# - Tune the neural network hyper-parameters\n",
        "# - Train with other dataset such news sentiment dataset"
      ],
      "execution_count": null,
      "outputs": []
    }
  ]
}