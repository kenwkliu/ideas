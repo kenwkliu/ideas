{
  "nbformat": 4,
  "nbformat_minor": 0,
  "metadata": {
    "colab": {
      "name": "Transformers.ipynb",
      "provenance": [],
      "authorship_tag": "ABX9TyOT9PDWkGMkL7UqBZJsTjdd"
    },
    "kernelspec": {
      "name": "python3",
      "display_name": "Python 3"
    },
    "language_info": {
      "name": "python"
    }
  },
  "cells": [
    {
      "cell_type": "code",
      "metadata": {
        "id": "h9lUbg0P81a9"
      },
      "source": [
        "# https://www.analyticsvidhya.com/blog/2021/05/implementing-transformers-in-nlp-under-5-lines-of-codes/\n",
        "!pip install transformers\n",
        "\n",
        "from transformers import pipeline"
      ],
      "execution_count": null,
      "outputs": []
    },
    {
      "cell_type": "code",
      "source": [
        "# Sentiment Analysis\n",
        "sentiment = pipeline('sentiment-analysis', model=\"finiteautomata/bertweet-base-sentiment-analysis\")\n",
        "\n",
        "sentiment(\"I thoroughly enjoyed this movie!\")"
      ],
      "metadata": {
        "id": "gpRhJ2UJuh-V"
      },
      "execution_count": null,
      "outputs": []
    },
    {
      "cell_type": "code",
      "metadata": {
        "id": "vtHuqtHz87CP"
      },
      "source": [
        "# Text Generation\n",
        "nlp = pipeline(task=\"text-generation\", model='gpt2')\n",
        "\n",
        "nlp(\"The development of Big Data and AI is \")"
      ],
      "execution_count": null,
      "outputs": []
    },
    {
      "cell_type": "code",
      "metadata": {
        "id": "0UYvpn7L9CoK"
      },
      "source": [
        "# Q & A\n",
        "sentence = r\"\"\"\n",
        "I'm going to tell you something. Big data is big. AI is cool and I love dogs.\n",
        "\"\"\"\n",
        "\n",
        "output = pipeline(\"question-answering\", model=\"csarron/roberta-base-squad-v1\")\n",
        "question = output(question=\"What is big?\", context=sentence)\n",
        "\n",
        "print(f\"Answer: {question['answer']}\")"
      ],
      "execution_count": null,
      "outputs": []
    },
    {
      "cell_type": "code",
      "metadata": {
        "id": "6Dj-xKCY9NbI"
      },
      "source": [
        "# Masked Language Modeling\n",
        "nlp = pipeline(\"fill-mask\")\n",
        "\n",
        "nlp(f\"{nlp.tokenizer.mask_token} movies are often very scary to people\")"
      ],
      "execution_count": null,
      "outputs": []
    },
    {
      "cell_type": "code",
      "metadata": {
        "id": "Ic1VsJay9Wjw"
      },
      "source": [
        "# Text Summarization\n",
        "\n",
        "txt = r'''\n",
        "Machine learning is the study of computer algorithms that improve automatically through experience and by the use of data. It is seen as a part of artificial intelligence. Machine learning is an important component of the growing field of data\n",
        "science . Machine learning, deep learning, and neural networks are all sub-fields of artificial intelligence . As big data continues to grow, the market demand for data scientists will increase, requiring them to assist in the identification of\n",
        "the most relevant business questions. Machine learning is a method of data analysis that automates analytical model building. It is a branch of artificial intelligence based on the idea that systems can learn from data, identify patterns and make\n",
        "decisions with minimal human intervention.\n",
        "'''\n",
        "\n",
        "nlp = pipeline(task='summarization')\n",
        "\n",
        "nlp(txt, max_length=130, min_length=30)"
      ],
      "execution_count": null,
      "outputs": []
    },
    {
      "cell_type": "code",
      "metadata": {
        "id": "H6FABhQq9ehw"
      },
      "source": [
        "# Translation\n",
        "\n",
        "txt = r'''\n",
        "Machine learning is a branch of artificial intelligence (AI) and computer sciencewhich focuses on the use of data and algorithms to imitate the way that humans learn,gradually improving its accuracy\n",
        "'''\n",
        "\n",
        "nlp = pipeline(task='translation_en_to_fr')\n",
        "\n",
        "print(f\"{nlp(txt)[0]['translation_text']}\")"
      ],
      "execution_count": null,
      "outputs": []
    }
  ]
}