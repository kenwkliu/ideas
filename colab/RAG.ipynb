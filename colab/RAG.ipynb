{
  "nbformat": 4,
  "nbformat_minor": 0,
  "metadata": {
    "colab": {
      "provenance": [],
      "gpuType": "T4",
      "include_colab_link": true
    },
    "kernelspec": {
      "name": "python3",
      "display_name": "Python 3"
    },
    "language_info": {
      "name": "python"
    },
    "accelerator": "GPU"
  },
  "cells": [
    {
      "cell_type": "markdown",
      "metadata": {
        "id": "view-in-github",
        "colab_type": "text"
      },
      "source": [
        "<a href=\"https://colab.research.google.com/github/kenwkliu/ideas/blob/master/colab/RAG.ipynb\" target=\"_parent\"><img src=\"https://colab.research.google.com/assets/colab-badge.svg\" alt=\"Open In Colab\"/></a>"
      ]
    },
    {
      "cell_type": "markdown",
      "source": [
        "# RAG (Retrieval Augmented Generation)\n",
        "\n",
        "Based on Shaw Talebi article: https://towardsdatascience.com/how-to-improve-llms-with-rag-abdc132f76ac <br>\n"
      ],
      "metadata": {
        "id": "WWiBVBuOUm-G"
      }
    },
    {
      "cell_type": "code",
      "source": [
        "#@title Execute this block to start importing the libraries (**llama_index**) and helper functions\n",
        "\n",
        "# Download the documents\n",
        "!mkdir data\n",
        "!wget https://www.budget.gov.hk/2024/eng/pdf/e_budget_speech_2024-25.pdf\n",
        "!mv e_budget_speech_2024-25.pdf data\n",
        "\n",
        "\n",
        "!pip install -q llama-index\n",
        "!pip install -q llama-index-embeddings-huggingface\n",
        "!pip install -q auto-gptq\n",
        "!pip install -q optimum\n",
        "!pip install -q bitsandbytes\n",
        "\n",
        "from transformers import AutoModelForCausalLM, AutoTokenizer\n",
        "from llama_index.embeddings.huggingface import HuggingFaceEmbedding\n",
        "from llama_index.core import Settings, SimpleDirectoryReader, VectorStoreIndex\n",
        "from llama_index.core.retrievers import VectorIndexRetriever\n",
        "from llama_index.core.query_engine import RetrieverQueryEngine\n",
        "from llama_index.core.postprocessor import SimilarityPostprocessor\n",
        "\n",
        "# Wrap the output text\n",
        "from IPython.display import HTML, display\n",
        "\n",
        "def set_css():\n",
        "  display(HTML('''\n",
        "  <style>\n",
        "    pre {\n",
        "        white-space: pre-wrap;\n",
        "    }\n",
        "  </style>\n",
        "  '''))\n",
        "get_ipython().events.register('pre_run_cell', set_css)\n",
        "\n",
        "\n",
        "# Show the LLM reply in the textarea box\n",
        "import ipywidgets as widgets\n",
        "display(HTML(\"<style>textarea, input { font-family: Courier New;}</style>\"))\n",
        "\n",
        "\n",
        "# Output the LLM reply only\n",
        "def extractReply(output):\n",
        "  delim = '[/INST]'\n",
        "  return output[output.find(delim) + len(delim) + 1 : ]\n",
        "\n",
        "\n",
        "def displayLLMOutput(llmOutput):\n",
        "  text = widgets.Textarea(\n",
        "      value=extractReply(llmOutput),\n",
        "      description='LLM Reply:',\n",
        "      disabled=False,\n",
        "      layout=widgets.Layout(height=\"200px\", width=\"auto\"),\n",
        "\n",
        "  )\n",
        "\n",
        "  display(text)"
      ],
      "metadata": {
        "id": "uFwm7wDSoF3V",
        "cellView": "form"
      },
      "execution_count": null,
      "outputs": []
    },
    {
      "cell_type": "code",
      "source": [
        "#@title Import an embedding model from HuggingFace hub (https://huggingface.co/spaces/mteb/leaderboard)\n",
        "\n",
        "embeddingModelName = \"BAAI/bge-small-en-v1.5\" # @param [\"BAAI/bge-small-en-v1.5\", \"thenlper/gte-large\"] {allow-input: true}\n",
        "embeddingModel = HuggingFaceEmbedding(model_name=embeddingModelName)\n"
      ],
      "metadata": {
        "id": "lBuIj8Xzqb6A",
        "cellView": "form"
      },
      "execution_count": null,
      "outputs": []
    },
    {
      "cell_type": "code",
      "source": [
        "#@title Print the input embedding vector\n",
        "\n",
        "query = \"What's the new policies for the property stamp duty in the HK Financial Budget?\" # @param {type:\"string\"}\n",
        "\n",
        "embeddings = embeddingModel.get_text_embedding(\"What's the new policies for the property stamp duty in the HK Financial Budget?\")\n",
        "print(\"Vector size: {}\".format(len(embeddings)))\n",
        "print(embeddings)"
      ],
      "metadata": {
        "cellView": "form",
        "id": "7cWrDkXEvTy-"
      },
      "execution_count": null,
      "outputs": []
    },
    {
      "cell_type": "code",
      "source": [
        "#@title Set the chunk size to read and store docs into Vector DB. Set up the search function\n",
        "\n",
        "Settings.embed_model = embeddingModel\n",
        "Settings.chunk_size = 256\n",
        "Settings.chunk_overlap = 25\n",
        "Settings.llm = None\n",
        "\n",
        "# articles available here: {add GitHub repo}\n",
        "documents = SimpleDirectoryReader(\"data\").load_data()\n",
        "\n",
        "# store docs into vector DB\n",
        "index = VectorStoreIndex.from_documents(documents)\n",
        "\n",
        "# set number of docs to retreive\n",
        "top_k = 3\n",
        "\n",
        "# configure retriever\n",
        "retriever = VectorIndexRetriever(\n",
        "    index=index,\n",
        "    similarity_top_k=top_k,\n",
        ")\n",
        "\n",
        "# assemble query engine\n",
        "query_engine = RetrieverQueryEngine(\n",
        "    retriever=retriever,\n",
        "    node_postprocessors=[SimilarityPostprocessor(similarity_cutoff=0.5)],\n",
        ")"
      ],
      "metadata": {
        "id": "_1pAvTwntWD0",
        "cellView": "form"
      },
      "execution_count": null,
      "outputs": []
    },
    {
      "cell_type": "code",
      "source": [
        "#@title Look up relevant content from the embedding\n",
        "\n",
        "query = \"What's the new policies for the property stamp duty in the HK Financial Budget?\" # @param {type:\"string\"}\n",
        "\n",
        "# query documents\n",
        "response = query_engine.query(query)\n",
        "\n",
        "# reformat response\n",
        "context = \"Context:\\n\"\n",
        "for i in range(top_k):\n",
        "    context = context + response.source_nodes[i].text + \"\\n\\n\"\n",
        "\n",
        "print(context)"
      ],
      "metadata": {
        "id": "VoXW6EovuO64",
        "cellView": "form"
      },
      "execution_count": null,
      "outputs": []
    },
    {
      "cell_type": "code",
      "source": [
        "#@title Load the LLM (Large Language Model)\n",
        "\n",
        "llmModel = \"TheBloke/Mistral-7B-Instruct-v0.2-GPTQ\" # @param [\"TheBloke/Mistral-7B-Instruct-v0.2-GPTQ\"] {allow-input: true}\n",
        "\n",
        "model_name = llmModel\n",
        "model = AutoModelForCausalLM.from_pretrained(model_name, device_map=\"auto\")\n",
        "model.eval()\n",
        "\n",
        "tokenizer = AutoTokenizer.from_pretrained(model_name, use_fast=True)"
      ],
      "metadata": {
        "id": "6vlszLofwmpR",
        "cellView": "form"
      },
      "execution_count": null,
      "outputs": []
    },
    {
      "cell_type": "markdown",
      "source": [
        "### Use LLM"
      ],
      "metadata": {
        "id": "Aajg1MVTzury"
      }
    },
    {
      "cell_type": "code",
      "source": [
        "# prompt (no context)\n",
        "\n",
        "prompt = '[INST]\\nPlease respond to the following question.\\n{}\\n[/INST]'.format(query)\n",
        "print(prompt)"
      ],
      "metadata": {
        "id": "W_NBE5MsL8Dq"
      },
      "execution_count": null,
      "outputs": []
    },
    {
      "cell_type": "code",
      "source": [
        "inputs = tokenizer(prompt, return_tensors=\"pt\")\n",
        "outputs = model.generate(input_ids=inputs[\"input_ids\"].to(\"cuda\"), max_new_tokens=280)\n",
        "\n",
        "displayLLMOutput(tokenizer.batch_decode(outputs)[0])"
      ],
      "metadata": {
        "id": "P-CFTwGa0BEB"
      },
      "execution_count": null,
      "outputs": []
    },
    {
      "cell_type": "code",
      "source": [
        "# prompt (with context)\n",
        "\n",
        "prompt = '[INST]\\n{}\\n\\nPlease respond to the following question. Use the context above if it is helpful.\\n{}\\n[/INST]'.format(context, query)\n",
        "print(prompt)"
      ],
      "metadata": {
        "id": "L3Amn3vtNZsL"
      },
      "execution_count": null,
      "outputs": []
    },
    {
      "cell_type": "code",
      "source": [
        "inputs = tokenizer(prompt, return_tensors=\"pt\")\n",
        "outputs = model.generate(input_ids=inputs[\"input_ids\"].to(\"cuda\"), max_new_tokens=280)\n",
        "\n",
        "displayLLMOutput(tokenizer.batch_decode(outputs)[0])"
      ],
      "metadata": {
        "id": "gAuGtKt81TJo"
      },
      "execution_count": null,
      "outputs": []
    }
  ]
}