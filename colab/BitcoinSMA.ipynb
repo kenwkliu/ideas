{
  "nbformat": 4,
  "nbformat_minor": 0,
  "metadata": {
    "kernelspec": {
      "display_name": "Python 3",
      "language": "python",
      "name": "python3"
    },
    "language_info": {
      "codemirror_mode": {
        "name": "ipython",
        "version": 3
      },
      "file_extension": ".py",
      "mimetype": "text/x-python",
      "name": "python",
      "nbconvert_exporter": "python",
      "pygments_lexer": "ipython3",
      "version": "3.6.5"
    },
    "colab": {
      "name": "BitcoinSMA.ipynb",
      "provenance": []
    }
  },
  "cells": [
    {
      "cell_type": "code",
      "metadata": {
        "id": "lUE7J0DjHWLJ",
        "colab_type": "code",
        "colab": {}
      },
      "source": [
        "import pandas as pd\n",
        "import matplotlib.pyplot as plt\n",
        "\n",
        "%matplotlib inline\n",
        "\n",
        "def CryptoData(symbol, frequency, start=0):\n",
        "    #Params: String symbol, int frequency = 300,900,1800,7200,14400,86400\n",
        "    #Returns: df from first available date\n",
        "    url ='https://poloniex.com/public?command=returnChartData&currencyPair='+symbol+'&end=9999999999&period='+str(frequency)+'&start='+str(start)\n",
        "    df = pd.read_json(url)\n",
        "    df.set_index('date',inplace=True)\n",
        "    return df\n",
        "\n"
      ],
      "execution_count": 0,
      "outputs": []
    },
    {
      "cell_type": "code",
      "metadata": {
        "id": "XCiNVPJjHWLP",
        "colab_type": "code",
        "colab": {}
      },
      "source": [
        "startDate = 0 \n",
        "#startDate = 1514764800 #2018-1-1\n",
        "testSymbol = 'USDT_BTC' #bitCoin\n",
        "\n",
        "# frequency = 86400s which is 1 day\n",
        "df = CryptoData(testSymbol, 86400, startDate)\n",
        "df"
      ],
      "execution_count": 0,
      "outputs": []
    },
    {
      "cell_type": "code",
      "metadata": {
        "id": "IMO7j8j9HWLU",
        "colab_type": "code",
        "colab": {}
      },
      "source": [
        "df['close'].plot(figsize = (16,10))"
      ],
      "execution_count": 0,
      "outputs": []
    },
    {
      "cell_type": "code",
      "metadata": {
        "id": "6t7A4RzRHWLX",
        "colab_type": "code",
        "colab": {}
      },
      "source": [
        "print(df['close'].pct_change().describe())\n",
        "df['close'].pct_change().hist(bins=100)"
      ],
      "execution_count": 0,
      "outputs": []
    },
    {
      "cell_type": "code",
      "metadata": {
        "id": "hcNnaqF2HWLa",
        "colab_type": "code",
        "colab": {}
      },
      "source": [
        "# lead and lag days\n",
        "lead = 5 \n",
        "lag = 15\n",
        "\n",
        "df['SMA_Lead'] = df['close'].rolling(lead).mean()\n",
        "df['SMA_Lag'] = df['close'].rolling(lag).mean()\n",
        "\n",
        "# Control how many data points to be plotted\n",
        "plotCount = 300\n",
        "if len(df['SMA_Lag']) > plotCount:\n",
        "  plotStartFrom = len(df['SMA_Lag']) - plotCount\n",
        "else:\n",
        "  plotStartFrom = 0\n",
        "\n",
        "df[['close', 'SMA_Lead','SMA_Lag']][plotStartFrom:].plot(figsize = (16,10))"
      ],
      "execution_count": 0,
      "outputs": []
    },
    {
      "cell_type": "code",
      "metadata": {
        "id": "UDFejrfgHWLc",
        "colab_type": "code",
        "colab": {}
      },
      "source": [
        "# SMA crossover strategy consists of a leading and a lagging simple moving averages. \n",
        "# Leading SMA has a shorter look-back period than lagging moving average. \n",
        "# Hence, by definition, leading SMA will be more sensitive to most recent price moves; lagging SMA will be slower to react\n",
        "\n",
        "# 1. LONG: if Leading SMA is above Lagging SMA by some threshold\n",
        "# 2. SHORT: if Leading SMA is below Lagging SMA by some threshold\n",
        "# 3. FLAT: threshold is applied to filter out weak signals and flat the current position \n",
        "\n",
        "\n",
        "import numpy as np\n",
        "\n",
        "def test_ma(df, lead, lag, pc_thresh = 0.025):\n",
        "    ma_df = df.copy()\n",
        "\n",
        "    # build the lead/lag indicator\n",
        "    ma_df['lead'] = ma_df['close'].rolling(lead).mean()\n",
        "    ma_df['lag'] = ma_df['close'].rolling(lag).mean()\n",
        "\n",
        "    ma_df.dropna(inplace = True)\n",
        "\n",
        "    # calculate the lead and lag difference\n",
        "    ma_df['lead-lag'] = ma_df['lead'] - ma_df['lag']\n",
        "    ma_df['pc_diff'] = ma_df['lead-lag'] / ma_df['close']\n",
        "\n",
        "    # regime column will govern the buying and selling logic as described above; \n",
        "    # 1 means that we are long, -1 means that we are short and 0 means no position\n",
        "    ma_df['regime'] = np.where(ma_df['pc_diff'] > pc_thresh, 1, 0)\n",
        "    ma_df['regime'] = np.where(ma_df['pc_diff'] < -pc_thresh, -1, ma_df['regime'])\n",
        "    \n",
        "    # Market column as log returns of price series - which is the market performance\n",
        "    ma_df['Market'] = np.log(ma_df['close'] / ma_df['close'].shift(1))\n",
        "    \n",
        "    # compute our Strategy returns by multiplying regime (shifted forward to match the Market column\n",
        "    ma_df['Strategy'] = ma_df['regime'].shift(1) * ma_df['Market']\n",
        "    \n",
        "    # perform a cumulative sum operation as well as apply an exponent on Market and Strategy log returns \n",
        "    # in order to recover the original normalised series\n",
        "    ma_df[['Market','Strategy']] = ma_df[['Market','Strategy']].cumsum().apply(np.exp)\n",
        "    return ma_df"
      ],
      "execution_count": 0,
      "outputs": []
    },
    {
      "cell_type": "code",
      "metadata": {
        "id": "Zje-b8o4HWLf",
        "colab_type": "code",
        "colab": {}
      },
      "source": [
        "# threshold is how sensitivity of the strategy\n",
        "# smaller the number means more sensitive\n",
        "threshold = 0.1\n",
        "ma_df = test_ma(df, lead, lag, threshold).dropna()\n",
        "\n",
        "ma_df['regime'].plot(figsize=(16,5))"
      ],
      "execution_count": 0,
      "outputs": []
    },
    {
      "cell_type": "code",
      "metadata": {
        "id": "3iRyhU0RHWLh",
        "colab_type": "code",
        "colab": {}
      },
      "source": [
        "# Strategy: SMA long/short\n",
        "# market: buy_and_hold strategy\n",
        "ma_df[['Strategy','Market']].iloc[-1]"
      ],
      "execution_count": 0,
      "outputs": []
    },
    {
      "cell_type": "code",
      "metadata": {
        "id": "knT3qgTmHWLk",
        "colab_type": "code",
        "colab": {}
      },
      "source": [
        "ma_df[['Strategy','Market']].plot(figsize = (16,10))"
      ],
      "execution_count": 0,
      "outputs": []
    },
    {
      "cell_type": "code",
      "metadata": {
        "id": "Z1_yAAYDLymP",
        "colab_type": "code",
        "colab": {}
      },
      "source": [
        "# backtest the strategy with different combination to find the optimal lead/lag params\n",
        "\n",
        "# start, end, step\n",
        "leads = np.arange(5, 100, 5) \n",
        "lags = np.arange(105, 200, 5)\n",
        "\n",
        "lead_lags = [[lead,lag] for lead in leads for lag in lags]\n",
        "pnls = pd.DataFrame(index=lags,columns = leads)\n",
        "pnls"
      ],
      "execution_count": 0,
      "outputs": []
    },
    {
      "cell_type": "code",
      "metadata": {
        "id": "Rk_6l5I0OF7E",
        "colab_type": "code",
        "colab": {}
      },
      "source": [
        "# run the strategy with the different combination of lead/lag params\n",
        "for lead, lag in lead_lags:\n",
        "    pnls[lead][lag] = test_ma(df, lead, lag)['Strategy'][-1]\n",
        "    print(lead,lag,pnls[lead][lag])\n",
        "\n",
        "pnls"
      ],
      "execution_count": 0,
      "outputs": []
    },
    {
      "cell_type": "code",
      "metadata": {
        "id": "zAQq0TKaOVzV",
        "colab_type": "code",
        "colab": {}
      },
      "source": [
        "import seaborn as sns\n",
        "\n",
        "# visual backtest result\n",
        "PNLs = pnls[pnls.columns].astype(float)\n",
        "plt.subplots(figsize = (14,10))\n",
        "sns.heatmap(PNLs,cmap='PiYG')"
      ],
      "execution_count": 0,
      "outputs": []
    },
    {
      "cell_type": "code",
      "metadata": {
        "id": "4ia_sPEsOtbR",
        "colab_type": "code",
        "colab": {}
      },
      "source": [
        "# other cryto symbols\n",
        "# 'USDT_BTC','USDT_BCH','USDT_ETC','USDT_XMR','USDT_ETH','USDT_DASH','USDT_XRP','USDT_LTC','USDT_NXT','USDT_STR','USDT_REP','USDT_ZEC'"
      ],
      "execution_count": 0,
      "outputs": []
    }
  ]
}