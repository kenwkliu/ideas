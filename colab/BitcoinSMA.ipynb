{
  "nbformat": 4,
  "nbformat_minor": 0,
  "metadata": {
    "kernelspec": {
      "display_name": "Python 3",
      "language": "python",
      "name": "python3"
    },
    "language_info": {
      "codemirror_mode": {
        "name": "ipython",
        "version": 3
      },
      "file_extension": ".py",
      "mimetype": "text/x-python",
      "name": "python",
      "nbconvert_exporter": "python",
      "pygments_lexer": "ipython3",
      "version": "3.6.5"
    },
    "colab": {
      "name": "BitcoinSMA.ipynb",
      "provenance": []
    }
  },
  "cells": [
    {
      "cell_type": "code",
      "metadata": {
        "id": "lUE7J0DjHWLJ",
        "colab_type": "code",
        "colab": {}
      },
      "source": [
        "# Download Bitcoin historical daily data\n",
        "# and perform a TA (Techinical Analysis) based trading strategy \n",
        "# which is SMA (Simple Moving Average) crossover\n",
        "\n",
        "import datetime\n",
        "import numpy as np\n",
        "import pandas as pd\n",
        "import seaborn as sns\n",
        "import matplotlib.pyplot as plt\n",
        "\n",
        "# Interative charting\n",
        "import altair as alt\n",
        "alt.data_transformers.disable_max_rows()\n",
        "\n",
        "# Google colab interactive table\n",
        "%load_ext google.colab.data_table \n",
        "%matplotlib inline\n",
        "\n",
        "# Download cryto historical price data from the web\n",
        "def CryptoData(symbol, frequency, start=0):\n",
        "    #Params: String symbol, int frequency = 300,900,1800,7200,14400,86400\n",
        "    #Returns: df from first available date\n",
        "    url ='https://poloniex.com/public?command=returnChartData&currencyPair='+symbol+'&end=9999999999&period='+str(frequency)+'&start='+str(start)\n",
        "    df = pd.read_json(url)\n",
        "    df.set_index('date',inplace=True)\n",
        "    return df\n",
        "\n",
        "SCREEN_X, SCREEN_Y = 12, 8"
      ],
      "execution_count": null,
      "outputs": []
    },
    {
      "cell_type": "code",
      "metadata": {
        "id": "XCiNVPJjHWLP",
        "colab_type": "code",
        "colab": {}
      },
      "source": [
        "# Download the daily bitcoin historical data\n",
        "startDate = 0 \n",
        "#startDate = int((datetime.datetime.strptime('1/1/2018', \"%d/%m/%Y\").timestamp()))\n",
        "testSymbol = 'USDT_BTC' #bitCoin\n",
        "\n",
        "# frequency = 86400s which is 1 day\n",
        "df = CryptoData(testSymbol, 86400, startDate)\n",
        "df"
      ],
      "execution_count": null,
      "outputs": []
    },
    {
      "cell_type": "code",
      "metadata": {
        "id": "JIlKZ_3IW0Nu",
        "colab_type": "code",
        "colab": {}
      },
      "source": [
        "# Save the dataframe to csv for downloading\n",
        "df.to_csv('bitcoin.csv')"
      ],
      "execution_count": null,
      "outputs": []
    },
    {
      "cell_type": "code",
      "metadata": {
        "id": "IMO7j8j9HWLU",
        "colab_type": "code",
        "colab": {}
      },
      "source": [
        "# Plot the closing price\n",
        "df['close'].plot(figsize = (SCREEN_X, SCREEN_Y))"
      ],
      "execution_count": null,
      "outputs": []
    },
    {
      "cell_type": "code",
      "metadata": {
        "id": "6t7A4RzRHWLX",
        "colab_type": "code",
        "colab": {}
      },
      "source": [
        "# look at price volatility (closing price change) summary statistics\n",
        "print(df['close'].pct_change().describe())\n",
        "df['close'].pct_change().hist(bins=100)"
      ],
      "execution_count": null,
      "outputs": []
    },
    {
      "cell_type": "code",
      "metadata": {
        "id": "hcNnaqF2HWLa",
        "colab_type": "code",
        "colab": {}
      },
      "source": [
        "# lead and lag days\n",
        "lead = 45 \n",
        "lag = 125\n",
        "\n",
        "df['lead'] = df['close'].rolling(lead).mean()\n",
        "df['lag'] = df['close'].rolling(lag).mean()\n",
        "\n",
        "COLUMNS = ['close', 'lead', 'lag']\n",
        "df[COLUMNS]"
      ],
      "execution_count": null,
      "outputs": []
    },
    {
      "cell_type": "code",
      "metadata": {
        "id": "JAYqupLWwZCp",
        "colab_type": "code",
        "colab": {}
      },
      "source": [
        "# Rearrange the data into altair format\n",
        "# altair plots interactive charts with zooming and panning\n",
        "plot_data = df[COLUMNS].reset_index().melt('date')\n",
        "\n",
        "alt.Chart(plot_data).mark_line().encode(\n",
        "  x='date:T',\n",
        "  y='value',\n",
        "  color='variable'\n",
        ").properties(\n",
        "  width=800,\n",
        "  height=600\n",
        ").interactive()"
      ],
      "execution_count": null,
      "outputs": []
    },
    {
      "cell_type": "code",
      "metadata": {
        "id": "UDFejrfgHWLc",
        "colab_type": "code",
        "colab": {}
      },
      "source": [
        "\"\"\"\n",
        "  SMA crossover strategy consists of a leading and a lagging simple moving averages. \n",
        "  Leading SMA has a shorter look-back period than lagging moving average. \n",
        "  Hence, by definition, leading SMA will be more sensitive to most recent price moves; lagging SMA will be slower to react\n",
        "\n",
        "Regime (1, -1, 0)\n",
        "   1 LONG: if Leading SMA is above Lagging SMA by some threshold -> hold 1 long position of bitcoin\n",
        "  -1 SHORT: if Leading SMA is below Lagging SMA by some threshold -> short 1 bitcoin\n",
        "   0 FLAT: if the difference of Leading and Lagging SMA is less than the threshold -> flatten the bitcoin position\n",
        "  \n",
        "   # threshold is applied to filter out weak signals \n",
        "\"\"\"\n",
        "\n",
        "def test_ma(df, lead, lag, pc_thresh = 0.025):\n",
        "    ma_df = df.copy()\n",
        "\n",
        "    # build the lead/lag indicator\n",
        "    ma_df['lead'] = ma_df['close'].rolling(lead).mean()\n",
        "    ma_df['lag'] = ma_df['close'].rolling(lag).mean()\n",
        "\n",
        "    # Remove the NaN rows\n",
        "    ma_df.dropna(inplace = True)\n",
        "\n",
        "    # calculate the lead and lag difference\n",
        "    ma_df['lead-lag'] = ma_df['lead'] - ma_df['lag']\n",
        "    ma_df['pc_diff'] = ma_df['lead-lag'] / ma_df['close']\n",
        "\n",
        "    # regime column will govern the buying and selling logic as described above; \n",
        "    # 1 means that we are long, -1 means that we are short and 0 means no position\n",
        "    ma_df['regime'] = np.where(ma_df['pc_diff'] > pc_thresh, 1, 0)\n",
        "    ma_df['regime'] = np.where(ma_df['pc_diff'] < -pc_thresh, -1, ma_df['regime'])\n",
        "    \n",
        "    # Market column as log returns of price series - which is the market performance\n",
        "    ma_df['Market'] = np.log(ma_df['close'] / ma_df['close'].shift(1))\n",
        "    \n",
        "    # compute our Strategy returns by multiplying regime (shifted forward to match the Market column\n",
        "    ma_df['Strategy'] = ma_df['regime'].shift(1) * ma_df['Market']\n",
        "    \n",
        "    # perform a cumulative sum operation as well as apply an exponent on Market and Strategy log returns \n",
        "    # in order to recover the original normalised series\n",
        "    ma_df[['Market','Strategy']] = ma_df[['Market','Strategy']].cumsum().apply(np.exp)\n",
        "    return ma_df"
      ],
      "execution_count": null,
      "outputs": []
    },
    {
      "cell_type": "code",
      "metadata": {
        "id": "Zje-b8o4HWLf",
        "colab_type": "code",
        "colab": {}
      },
      "source": [
        "# threshold is how sensitivity of the strategy\n",
        "# smaller the number means more sensitive (which usually means more long/short positions)\n",
        "threshold = 0.1\n",
        "ma_df = test_ma(df, lead, lag, threshold).dropna()\n",
        "\n",
        "SMA_COLUMNS = ['close', 'lead', 'lag', 'lead-lag', 'pc_diff', 'regime', 'Market', 'Strategy']\n",
        "ma_df[SMA_COLUMNS]"
      ],
      "execution_count": null,
      "outputs": []
    },
    {
      "cell_type": "code",
      "metadata": {
        "id": "3iRyhU0RHWLh",
        "colab_type": "code",
        "colab": {}
      },
      "source": [
        "# Market: buy_and_hold strategy which benefit from soaring bitcoin price\n",
        "# Strategy: SMA crossover long/short which can benefit from both soaring and dropping bit coin price\n",
        "# (provided that the SMA predicted the price movement correctly)\n",
        "\n",
        "ma_df[['Market', 'Strategy']].iloc[-1]"
      ],
      "execution_count": null,
      "outputs": []
    },
    {
      "cell_type": "code",
      "metadata": {
        "id": "knT3qgTmHWLk",
        "colab_type": "code",
        "colab": {}
      },
      "source": [
        "# Plot Market vs Strategy performance\n",
        "ma_df[['Market', 'Strategy']].plot(figsize = (SCREEN_X, SCREEN_Y))"
      ],
      "execution_count": null,
      "outputs": []
    },
    {
      "cell_type": "code",
      "metadata": {
        "id": "NA9734sWy2MQ",
        "colab_type": "code",
        "colab": {}
      },
      "source": [
        "# Plot regime over \"lead-lag\" price difference\n",
        "ma_df.regime.plot(label='Regime', legend=True, figsize=(SCREEN_X, SCREEN_Y))\n",
        "ma_df.pc_diff.plot(secondary_y=True, label='Lead-Lag Px Diff', legend=True, figsize=(SCREEN_X, SCREEN_Y))\n"
      ],
      "execution_count": null,
      "outputs": []
    },
    {
      "cell_type": "code",
      "metadata": {
        "id": "K13CkLU_NJ--",
        "colab_type": "code",
        "colab": {}
      },
      "source": [
        "# Plot regime over close price\n",
        "ma_df.regime.plot(label='regime', legend=True, figsize=(SCREEN_X, SCREEN_Y))\n",
        "ma_df.close.plot(secondary_y=True, label='close', legend=True, figsize=(SCREEN_X, SCREEN_Y))\n"
      ],
      "execution_count": null,
      "outputs": []
    },
    {
      "cell_type": "code",
      "metadata": {
        "id": "Z1_yAAYDLymP",
        "colab_type": "code",
        "colab": {}
      },
      "source": [
        "# backtest the strategy with different combination to find the optimal lead/lag params\n",
        "\n",
        "# start, end, step\n",
        "leads = np.arange(5, 100, 5) \n",
        "lags = np.arange(105, 200, 5)\n",
        "\n",
        "lead_lags = [[lead,lag] for lead in leads for lag in lags]\n",
        "pnls = pd.DataFrame(index=lags,columns = leads)\n",
        "pnls"
      ],
      "execution_count": null,
      "outputs": []
    },
    {
      "cell_type": "code",
      "metadata": {
        "id": "Rk_6l5I0OF7E",
        "colab_type": "code",
        "colab": {}
      },
      "source": [
        "# Run the strategy with the different combination of lead/lag params\n",
        "# Calculate the different between market and strategy performance as PnL\n",
        "for lead, lag in lead_lags:\n",
        "  ma_df = test_ma(df, lead, lag, threshold)\n",
        "  pnls[lead][lag] = ma_df['Strategy'][-1] - ma_df['Market'][-1]\n",
        "  print(lead, lag, pnls[lead][lag])\n",
        "\n",
        "pnls"
      ],
      "execution_count": null,
      "outputs": []
    },
    {
      "cell_type": "code",
      "metadata": {
        "id": "zAQq0TKaOVzV",
        "colab_type": "code",
        "colab": {}
      },
      "source": [
        "# Use Heatmap to visualize the backtest results\n",
        "PNLs = pnls[pnls.columns].astype(float)\n",
        "plt.subplots(figsize = (SCREEN_X, SCREEN_Y))\n",
        "sns.heatmap(PNLs, cmap='coolwarm', annot=True, cbar_kws={'orientation': 'horizontal'})"
      ],
      "execution_count": null,
      "outputs": []
    },
    {
      "cell_type": "code",
      "metadata": {
        "id": "4ia_sPEsOtbR",
        "colab_type": "code",
        "colab": {}
      },
      "source": [
        "\"\"\" Suggestions\n",
        "1. Backtest with different threshold values\n",
        "2. Try different time frequency. May have to shorten the time period of the download as there're certain size limitation in each download\n",
        "3. Try other crypto symbols: 'USDT_BTC','USDT_BCH','USDT_ETC','USDT_XMR','USDT_ETH','USDT_DASH','USDT_XRP','USDT_LTC','USDT_NXT','USDT_STR','USDT_REP','USDT_ZEC'\n",
        "4. Use other crypto as correlations to form a better strategy\n",
        "5. Separate the data into 2 portions. Optimize the lead/lag/threshold params from the 1st portion of the data and use it to measure the strategy performance on 2nd portion of the data\n",
        "6. Try different data source: https://colab.research.google.com/github/kenwkliu/ideas/blob/master/colab/DataSource.ipynb\n",
        "7. Try different TA signals such as RSI: https://github.com/PacktPublishing/Learn-Algorithmic-Trading---Fundamentals-of-Algorithmic-Trading/tree/master/chapter2\n",
        "\"\"\""
      ],
      "execution_count": null,
      "outputs": []
    }
  ]
}