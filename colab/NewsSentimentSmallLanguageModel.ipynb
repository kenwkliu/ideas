{
  "nbformat": 4,
  "nbformat_minor": 0,
  "metadata": {
    "colab": {
      "private_outputs": true,
      "provenance": [],
      "authorship_tag": "ABX9TyPsFSGziRqkBKdjXq9JBP2R",
      "include_colab_link": true
    },
    "kernelspec": {
      "name": "python3",
      "display_name": "Python 3"
    },
    "language_info": {
      "name": "python"
    }
  },
  "cells": [
    {
      "cell_type": "markdown",
      "metadata": {
        "id": "view-in-github",
        "colab_type": "text"
      },
      "source": [
        "<a href=\"https://colab.research.google.com/github/kenwkliu/ideas/blob/master/colab/NewsSentimentSmallLanguageModel.ipynb\" target=\"_parent\"><img src=\"https://colab.research.google.com/assets/colab-badge.svg\" alt=\"Open In Colab\"/></a>"
      ]
    },
    {
      "cell_type": "code",
      "execution_count": null,
      "metadata": {
        "id": "a3K67h0uD_z8",
        "cellView": "form"
      },
      "outputs": [],
      "source": [
        "#@title Import libraries and helper functions\n",
        "import warnings\n",
        "warnings.filterwarnings(\"ignore\", category=UserWarning)\n",
        "\n",
        "import requests, datetime\n",
        "import pandas as pd\n",
        "import numpy as np\n",
        "import yfinance as yf\n",
        "from bs4 import BeautifulSoup as bs\n",
        "from textblob import TextBlob\n",
        "from transformers import pipeline\n",
        "from bs4 import BeautifulSoup as bs\n",
        "\n",
        "import matplotlib.pyplot as plt\n",
        "%matplotlib inline\n",
        "\n",
        "# Enable Google interactive table\n",
        "from google.colab import data_table\n",
        "data_table.enable_dataframe_formatter()\n",
        "\n",
        "agent_info = {'User-Agent': 'Mozilla/5.0 (Windows NT 6.1; WOW64; rv:20.0) Gecko/20100101 Firefox/20.0'}\n",
        "\n",
        "# Convert the sentiment label\n",
        "# from: {-1:Negative, 0:Neutral, 1:Positive}\n",
        "#   to: { 0:Negative, 2:Neutral, 1:Positive}\n",
        "def convertSentimentLabel(label):\n",
        "  if label == 0: return -1\n",
        "  elif label == 2: return 0\n",
        "  else: return label\n",
        "\n",
        "\n",
        "# combine multiple words into one single word\n",
        "# e.g. very good -> very_good\n",
        "def combineWord(words):\n",
        "  combined = \"\"\n",
        "  for word in words:\n",
        "    combined += word + \"_\"\n",
        "\n",
        "  return combined[:len(combined)-1]\n",
        "\n",
        "\n",
        "def convertTextBlobSentimentPolarity(polarity, positiveThreshod=0.1, negativeThreshod=-0.1):\n",
        "  if polarity < negativeThreshod: return -1\n",
        "  elif polarity > positiveThreshod: return 1\n",
        "  else: return 0\n",
        "\n",
        "\n",
        "# get the sentiment polarity and assessment from Textblob\n",
        "def getTextBlobSentiments(content):\n",
        "  tb = TextBlob(content)\n",
        "  assessmentsList = []\n",
        "\n",
        "  for assessments in tb.sentiment_assessments.assessments:\n",
        "    assessmentsList.append((combineWord(assessments[0]), assessments[1]))\n",
        "\n",
        "  return convertTextBlobSentimentPolarity(tb.polarity), tb.polarity, assessmentsList\n",
        "\n",
        "\n",
        "def getLmScore(lm):\n",
        "    x = lm[0]\n",
        "\n",
        "    if x['label'] ==\"neutral\":\n",
        "        return 0\n",
        "    elif x['label']  ==\"positive\":\n",
        "        return 1\n",
        "    elif x['label']  ==\"negative\":\n",
        "        return -1"
      ]
    },
    {
      "cell_type": "code",
      "source": [
        "#@title Sample news data source with labelled sentiments polarity (-1: Negative, 0: Neutral, 1: Positive)\n",
        "\n",
        "splits = {'train': 'sent_train.csv', 'validation': 'sent_valid.csv'}\n",
        "df = pd.read_csv(\"hf://datasets/zeroshot/twitter-financial-news-sentiment/\" + splits[\"train\"])\n",
        "\n",
        "# Convert the sentiment label to {-1:Negative, 0:Neutral, 1:Positive}\n",
        "df['polarity'] = df['label'].apply(convertSentimentLabel)\n",
        "df[['text', 'polarity']]"
      ],
      "metadata": {
        "id": "64ohzxufEv0T",
        "cellView": "form"
      },
      "execution_count": null,
      "outputs": []
    },
    {
      "cell_type": "markdown",
      "source": [
        "Sentiment analysis by TextBlob\n",
        "* **polarity** is a float within the range **[-1.0, 1.0]** where -1 is very negative and 1.0 is very positive\n",
        "\n",
        "Textblob is **rule and pattern** based.\n",
        "\n",
        "https://planspace.org/20150607-textblob_sentiment/\n",
        "https://github.com/sloria/TextBlob/blob/eb08c120d364e908646731d60b4e4c6c1712ff63/textblob/en/en-sentiment.xml\n",
        "* `<word form=\"interesting\" wordnet_id=\"a-01343918\" pos=\"JJ\" sense=\"arousing or holding the attention\" polarity=\"0.5\" subjectivity=\"0.5\" intensity=\"1.0\" confidence=\"0.9\" />`\n",
        "* pos=\"JJ\" (adjective)\n",
        "* polarity=\"0.5\"\n",
        "* subjectivity=\"0.5\""
      ],
      "metadata": {
        "id": "HuzzG6c-CGg-"
      }
    },
    {
      "cell_type": "code",
      "source": [
        "# Use a tradition rule-based sentiment engine textblob\n",
        "sentence = 'This demo is interesting'\n",
        "\n",
        "print(sentence)\n",
        "tb = TextBlob(sentence)\n",
        "print('polarity=', tb.polarity)\n",
        "tb.sentiment_assessments"
      ],
      "metadata": {
        "id": "vB-U4kgbgfj7"
      },
      "execution_count": null,
      "outputs": []
    },
    {
      "cell_type": "code",
      "source": [
        "#@title Apply Textblob to each of the news header for the polarity\n",
        "\n",
        "df['textblob_polarity'], df['textblob_sentiment'], df['textblob_assessments'] = zip(*df['text'].apply(getTextBlobSentiments))\n",
        "df[['text', 'polarity', 'textblob_polarity', 'textblob_assessments']]"
      ],
      "metadata": {
        "id": "u1VC2tJTFLu-",
        "cellView": "form"
      },
      "execution_count": null,
      "outputs": []
    },
    {
      "cell_type": "code",
      "source": [
        "#@title Load the small language model\n",
        "lm_model = 'mrm8488/distilroberta-finetuned-financial-news-sentiment-analysis' # @param [\"mrm8488/distilroberta-finetuned-financial-news-sentiment-analysis\"] {allow-input: true}\n",
        "\n",
        "lm_sentiment = pipeline(\"text-classification\", model=lm_model)"
      ],
      "metadata": {
        "id": "R0bROEd7FbQl",
        "cellView": "form"
      },
      "execution_count": null,
      "outputs": []
    },
    {
      "cell_type": "code",
      "source": [
        "print(getLmScore(lm_sentiment(\"The profit is great\")))\n",
        "print(getLmScore(lm_sentiment(\"The profit is the same\")))\n",
        "print(getLmScore(lm_sentiment(\"The profit is bad\")))"
      ],
      "metadata": {
        "id": "Evz0hfzUFe9b"
      },
      "execution_count": null,
      "outputs": []
    },
    {
      "cell_type": "code",
      "source": [
        "#@title Use the Language model to determine the sentiments of each news\n",
        "#df['lm_polarity'] = df['text'].apply(lambda x: getLmScore(lm_sentiment(x)))\n",
        "#df[['text', 'polarity', 'lm_polarity', 'textblob_polarity', 'textblob_sentiment', 'textblob_assessments']]\n",
        "\n",
        "# To save time, use the saved results\n",
        "df = pd.read_csv('https://raw.githubusercontent.com/kenwkliu/ideas/refs/heads/master/colab/data/NewsSentimentSmallLanguageModel.csv')\n",
        "\n",
        "df['lm'] = (df['polarity'] == df['lm_polarity']).astype(int)\n",
        "df['textblob'] = (df['polarity'] == df['textblob_polarity']).astype(int)\n",
        "df[['text', 'polarity', 'lm_polarity', 'textblob_polarity', 'textblob_assessments']]"
      ],
      "metadata": {
        "id": "70rt6p7FFg59",
        "cellView": "form"
      },
      "execution_count": null,
      "outputs": []
    },
    {
      "cell_type": "code",
      "source": [
        "#@title Summarize the accuracy\n",
        "print(\"Small LLM: {}\".format(df['lm'].sum() / len(df['lm'])))\n",
        "print(\"Textblob : {}\".format(df['textblob'].sum() / len(df['lm'])))"
      ],
      "metadata": {
        "id": "yx0i_1VKK1RN",
        "cellView": "form"
      },
      "execution_count": null,
      "outputs": []
    },
    {
      "cell_type": "code",
      "source": [
        "#@title Select a stock ticker to get the URL\n",
        "\n",
        "ticker = 'NVDA' # @param [\"NVDA\", \"AAPL\", \"HSBC\", \"BABA\"] {allow-input: true}\n",
        "\n",
        "# Web scrape the news\n",
        "\n",
        "finviz_url = \"https://finviz.com/quote.ashx?t=\"\n",
        "\n",
        "\n",
        "news_tables = {}\n",
        "url = finviz_url + ticker\n",
        "print(url)\n",
        "t_content = requests.get(url, headers = agent_info)\n",
        "content_bs = bs(t_content.content, \"html\")\n",
        "news_tab = content_bs.find(id=\"news-table\")\n",
        "news_tables[ticker] =news_tab"
      ],
      "metadata": {
        "id": "hJvv2DtufSsA",
        "cellView": "form"
      },
      "execution_count": null,
      "outputs": []
    },
    {
      "cell_type": "code",
      "source": [
        "#@title Webscrape the news from the URL\n",
        "\n",
        "table_array = []\n",
        "\n",
        "for name, news_table in news_tables.items():\n",
        "    for x in news_table.findAll('tr'):\n",
        "        try:\n",
        "          #headline\n",
        "          text_content = x.a.get_text()\n",
        "          #dates\n",
        "          date_content = x.td.text.split()\n",
        "\n",
        "          if len(date_content) == 1:\n",
        "              time = date_content[0]\n",
        "          else:\n",
        "              date= date_content[0]\n",
        "              time = date_content[1]\n",
        "\n",
        "          table_array.append([name,date, time, text_content])\n",
        "\n",
        "        except:\n",
        "          continue\n",
        "\n",
        "table_news = pd.DataFrame(table_array, columns=[\"Ticker\",\"Date\",\"Time\",\"Headline\"])\n",
        "\n",
        "table_news['Date'] = np.where(table_news['Date']==\"Today\", datetime.date.today(), table_news['Date'])\n",
        "table_news['Date'] = pd.to_datetime(table_news['Date']).dt.date\n",
        "\n",
        "table_news"
      ],
      "metadata": {
        "id": "4c7haoJRik_I",
        "cellView": "form"
      },
      "execution_count": null,
      "outputs": []
    },
    {
      "cell_type": "code",
      "source": [
        "#@title Use the small Language model to determine the sentiments of each news\n",
        "\n",
        "table_news['polarity'] = table_news['Headline'].apply(lambda x: getLmScore(lm_sentiment(x)))\n",
        "table_news"
      ],
      "metadata": {
        "cellView": "form",
        "id": "h15z654uJiNV"
      },
      "execution_count": null,
      "outputs": []
    },
    {
      "cell_type": "code",
      "source": [
        "#@title Sentiment Distribution\n",
        "\n",
        "import plotly.express as px\n",
        "\n",
        "df_pie = table_news.groupby('polarity').count().reset_index()\n",
        "df_pie.rename(columns={'Headline' : 'count'}, inplace=True)\n",
        "\n",
        "fig = px.pie(df_pie, values='count', names='polarity', title='Sentiment Distribution')\n",
        "fig.show()"
      ],
      "metadata": {
        "id": "kjPAz5ipewVI",
        "cellView": "form"
      },
      "execution_count": null,
      "outputs": []
    },
    {
      "cell_type": "code",
      "source": [
        "# use the recent aggregate news sentiment (polarity) to determine the bull/bear of a particular stock\n",
        "# if positive sentiment > 40% = Bull -> Buy (Long)\n",
        "# if negative sentiment > 40% = Bear -> Sell (Short)\n",
        "# Otherwise, no action"
      ],
      "metadata": {
        "id": "LMiC7cv6itJr"
      },
      "execution_count": null,
      "outputs": []
    }
  ]
}