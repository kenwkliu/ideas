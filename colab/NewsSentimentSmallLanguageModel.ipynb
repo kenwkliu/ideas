{
  "nbformat": 4,
  "nbformat_minor": 0,
  "metadata": {
    "colab": {
      "private_outputs": true,
      "provenance": [],
      "authorship_tag": "ABX9TyM27FJkrobEluTC2fUJrGsM",
      "include_colab_link": true
    },
    "kernelspec": {
      "name": "python3",
      "display_name": "Python 3"
    },
    "language_info": {
      "name": "python"
    }
  },
  "cells": [
    {
      "cell_type": "markdown",
      "metadata": {
        "id": "view-in-github",
        "colab_type": "text"
      },
      "source": [
        "<a href=\"https://colab.research.google.com/github/kenwkliu/ideas/blob/master/colab/NewsSentimentSmallLanguageModel.ipynb\" target=\"_parent\"><img src=\"https://colab.research.google.com/assets/colab-badge.svg\" alt=\"Open In Colab\"/></a>"
      ]
    },
    {
      "cell_type": "code",
      "execution_count": null,
      "metadata": {
        "id": "a3K67h0uD_z8"
      },
      "outputs": [],
      "source": [
        "import requests, datetime\n",
        "import pandas as pd\n",
        "import numpy as np\n",
        "import yfinance as yf\n",
        "from bs4 import BeautifulSoup as bs\n",
        "from textblob import TextBlob\n",
        "from transformers import pipeline\n",
        "from bs4 import BeautifulSoup as bs\n",
        "\n",
        "import matplotlib.pyplot as plt\n",
        "%matplotlib inline\n",
        "\n",
        "# Enable Google interactive table\n",
        "from google.colab import data_table\n",
        "data_table.enable_dataframe_formatter()\n",
        "\n",
        "agent_info = {'User-Agent': 'Mozilla/5.0 (Windows NT 6.1; WOW64; rv:20.0) Gecko/20100101 Firefox/20.0'}\n",
        "\n",
        "# Convert the sentiment label\n",
        "# from: {-1:Negative, 0:Neutral, 1:Positive}\n",
        "#   to: { 0:Negative, 2:Neutral, 1:Positive}\n",
        "def convertSentimentLabel(label):\n",
        "  if label == 0: return -1\n",
        "  elif label == 2: return 0\n",
        "  else: return label\n",
        "\n",
        "\n",
        "# combine multiple words into one single word\n",
        "# e.g. very good -> very_good\n",
        "def combineWord(words):\n",
        "  combined = \"\"\n",
        "  for word in words:\n",
        "    combined += word + \"_\"\n",
        "\n",
        "  return combined[:len(combined)-1]\n",
        "\n",
        "\n",
        "def convertTextBlobSentimentPolarity(polarity, positiveThreshod=0.1, negativeThreshod=-0.1):\n",
        "  if polarity < negativeThreshod: return -1\n",
        "  elif polarity > positiveThreshod: return 1\n",
        "  else: return 0\n",
        "\n",
        "\n",
        "# get the sentiment polarity and assessment from Textblob\n",
        "def getTextBlobSentiments(content):\n",
        "  tb = TextBlob(content)\n",
        "  assessmentsList = []\n",
        "\n",
        "  for assessments in tb.sentiment_assessments.assessments:\n",
        "    assessmentsList.append((combineWord(assessments[0]), assessments[1]))\n",
        "\n",
        "  return convertTextBlobSentimentPolarity(tb.polarity), tb.polarity, assessmentsList\n",
        "\n",
        "\n",
        "def getLmScore(lm):\n",
        "    x = lm[0]\n",
        "\n",
        "    if x['label'] ==\"neutral\":\n",
        "        return 0\n",
        "    elif x['label']  ==\"positive\":\n",
        "        return 1\n",
        "    elif x['label']  ==\"negative\":\n",
        "        return -1"
      ]
    },
    {
      "cell_type": "code",
      "source": [
        "splits = {'train': 'sent_train.csv', 'validation': 'sent_valid.csv'}\n",
        "df = pd.read_csv(\"hf://datasets/zeroshot/twitter-financial-news-sentiment/\" + splits[\"train\"])\n",
        "\n",
        "# Convert the sentiment label to {-1:Negative, 0:Neutral, 1:Positive}\n",
        "df['polarity'] = df['label'].apply(convertSentimentLabel)\n",
        "df[['text', 'polarity']]"
      ],
      "metadata": {
        "id": "64ohzxufEv0T"
      },
      "execution_count": null,
      "outputs": []
    },
    {
      "cell_type": "code",
      "source": [
        "df['textblob_polarity'], df['textblob_sentiment'], df['textblob_assessments'] = zip(*df['text'].apply(getTextBlobSentiments))\n",
        "df[['text', 'polarity', 'textblob_polarity', 'textblob_sentiment', 'textblob_assessments']]"
      ],
      "metadata": {
        "id": "u1VC2tJTFLu-"
      },
      "execution_count": null,
      "outputs": []
    },
    {
      "cell_type": "code",
      "source": [
        "lm_sentiment = pipeline(\"text-classification\", model=\"mrm8488/distilroberta-finetuned-financial-news-sentiment-analysis\")"
      ],
      "metadata": {
        "id": "R0bROEd7FbQl"
      },
      "execution_count": null,
      "outputs": []
    },
    {
      "cell_type": "code",
      "source": [
        "print(getLmScore(lm_sentiment(\"The profit is great\")))\n",
        "print(getLmScore(lm_sentiment(\"The profit is the same\")))\n",
        "print(getLmScore(lm_sentiment(\"The profit is bad\")))"
      ],
      "metadata": {
        "id": "Evz0hfzUFe9b"
      },
      "execution_count": null,
      "outputs": []
    },
    {
      "cell_type": "code",
      "source": [
        "# Use a saved results\n",
        "df['lm_polarity'] = df['text'].apply(lambda x: getLmScore(lm_sentiment(x)))\n",
        "df[['text', 'polarity', 'lm_polarity', 'textblob_polarity', 'textblob_sentiment', 'textblob_assessments']]"
      ],
      "metadata": {
        "id": "70rt6p7FFg59"
      },
      "execution_count": null,
      "outputs": []
    },
    {
      "cell_type": "code",
      "source": [
        "df['lm'] = (df['polarity'] == df['lm_polarity']).astype(int)\n",
        "df['textblob'] = (df['polarity'] == df['textblob_polarity']).astype(int)\n",
        "df[['text', 'polarity', 'lm_polarity', 'lm', 'textblob', 'textblob_polarity', 'textblob_sentiment', 'textblob_assessments']]"
      ],
      "metadata": {
        "id": "exlSlnP1Kv2V"
      },
      "execution_count": null,
      "outputs": []
    },
    {
      "cell_type": "code",
      "source": [
        "print(df['lm'].sum() / len(df['lm']))\n",
        "print(df['textblob'].sum() / len(df['lm']))"
      ],
      "metadata": {
        "id": "yx0i_1VKK1RN"
      },
      "execution_count": null,
      "outputs": []
    },
    {
      "cell_type": "code",
      "source": [
        "finviz_url = \"https://finviz.com/quote.ashx?t=\"\n",
        "\n",
        "tickers = [\"LCID\",\"XPEV\"]\n",
        "\n",
        "news_tables = {}\n",
        "\n",
        "for t in tickers:\n",
        "    print(t)\n",
        "    url =finviz_url + t\n",
        "    print(url)\n",
        "    t_content = requests.get(url, headers = agent_info)\n",
        "    content_bs = bs(t_content.content, \"html\")\n",
        "    news_tab = content_bs.find(id=\"news-table\")\n",
        "    news_tables[t] =news_tab\n",
        "    print(\"-\"*10)"
      ],
      "metadata": {
        "id": "17DwxdhFigcS"
      },
      "execution_count": null,
      "outputs": []
    },
    {
      "cell_type": "code",
      "source": [
        "table_array = []\n",
        "\n",
        "for name, news_table in news_tables.items():\n",
        "    print(name)\n",
        "\n",
        "    for x in news_table.findAll('tr'):\n",
        "        try:\n",
        "          #headline\n",
        "          text_content = x.a.get_text()\n",
        "          #dates\n",
        "          date_content = x.td.text.split()\n",
        "\n",
        "          if len(date_content) == 1:\n",
        "              time = date_content[0]\n",
        "          else:\n",
        "              date= date_content[0]\n",
        "              time = date_content[1]\n",
        "\n",
        "          table_array.append([name,date, time, text_content])\n",
        "        except:\n",
        "          print(\"Some items cannot be parsed\")"
      ],
      "metadata": {
        "id": "4c7haoJRik_I"
      },
      "execution_count": null,
      "outputs": []
    },
    {
      "cell_type": "code",
      "source": [
        "table_news = pd.DataFrame(table_array, columns=[\"Ticker\",\"Date\",\"Time\",\"Headline\"])\n",
        "\n",
        "table_news['Date'] = np.where(table_news['Date']==\"Today\", datetime.date.today(), table_news['Date'])\n",
        "table_news['Date'] = pd.to_datetime(table_news['Date']).dt.date\n",
        "\n",
        "table_news.head()"
      ],
      "metadata": {
        "id": "YkTI5Ziqiofk"
      },
      "execution_count": null,
      "outputs": []
    },
    {
      "cell_type": "code",
      "source": [],
      "metadata": {
        "id": "LMiC7cv6itJr"
      },
      "execution_count": null,
      "outputs": []
    }
  ]
}