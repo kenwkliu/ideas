{
  "nbformat": 4,
  "nbformat_minor": 0,
  "metadata": {
    "kernelspec": {
      "display_name": "Python 3",
      "language": "python",
      "name": "python3"
    },
    "language_info": {
      "codemirror_mode": {
        "name": "ipython",
        "version": 3
      },
      "file_extension": ".py",
      "mimetype": "text/x-python",
      "name": "python",
      "nbconvert_exporter": "python",
      "pygments_lexer": "ipython3",
      "version": "3.6.4"
    },
    "colab": {
      "name": "preprocess.ipynb",
      "provenance": []
    }
  },
  "cells": [
    {
      "cell_type": "code",
      "metadata": {
        "id": "lSb-_6hddD1h",
        "colab_type": "code",
        "colab": {}
      },
      "source": [
        "!wget https://raw.githubusercontent.com/kenwkliu/ideas/master/colab/preprocess.py\n",
        "import preprocess\n",
        "import re"
      ],
      "execution_count": 0,
      "outputs": []
    },
    {
      "cell_type": "code",
      "metadata": {
        "id": "x1rVxQS4dD1n",
        "colab_type": "code",
        "colab": {}
      },
      "source": [
        "text = \"How are you, Tom? How many works do you have to work?\"\n",
        "print(preprocess._removeSymbols(text))"
      ],
      "execution_count": 0,
      "outputs": []
    },
    {
      "cell_type": "code",
      "metadata": {
        "id": "IULY3OAadD1q",
        "colab_type": "code",
        "colab": {}
      },
      "source": [
        "text = \"How are you, Tom? How many works do you have to work?\"\n",
        "print(text.lower())"
      ],
      "execution_count": 0,
      "outputs": []
    },
    {
      "cell_type": "code",
      "metadata": {
        "id": "ZdNkymvRdD1s",
        "colab_type": "code",
        "colab": {}
      },
      "source": [
        "text = \"How are you, Tom? How many works do you have to work?\"\n",
        "print(preprocess._stem(text))"
      ],
      "execution_count": 0,
      "outputs": []
    },
    {
      "cell_type": "code",
      "metadata": {
        "id": "VOV78KWadD1v",
        "colab_type": "code",
        "colab": {}
      },
      "source": [
        "text = \"How are you, Tom? How many works do you have to work?\"\n",
        "print(preprocess._stop(text))"
      ],
      "execution_count": 0,
      "outputs": []
    },
    {
      "cell_type": "code",
      "metadata": {
        "id": "0s9JF5vldQUq",
        "colab_type": "code",
        "colab": {}
      },
      "source": [
        "preprocess.stop_words"
      ],
      "execution_count": 0,
      "outputs": []
    },
    {
      "cell_type": "code",
      "metadata": {
        "id": "jSZRvismdD1y",
        "colab_type": "code",
        "colab": {}
      },
      "source": [
        "text = \"How are you, Tom? How many works do you have to work?\"\n",
        "print(preprocess.process(text))"
      ],
      "execution_count": 0,
      "outputs": []
    },
    {
      "cell_type": "code",
      "metadata": {
        "id": "dNt9OcwDdD10",
        "colab_type": "code",
        "colab": {}
      },
      "source": [
        "# Segment Chinese sentence into words\n",
        "import jieba\n",
        "\n",
        "seg_list = jieba.cut(\"我来到北京清华大学\", cut_all=False)\n",
        "print(\"Default Mode: \" + \"/ \".join(seg_list))  # 精确模式"
      ],
      "execution_count": 0,
      "outputs": []
    },
    {
      "cell_type": "code",
      "metadata": {
        "id": "KyQwf52fdpCz",
        "colab_type": "code",
        "colab": {}
      },
      "source": [
        "# Combine English words to phrases\n",
        "from gensim.models.phrases import Phrases, Phraser\n",
        "\n",
        "documents = [\n",
        "    \"the cheif executive officer of new york was there\", \n",
        "    \"machine learning can be useful sometimes\",\n",
        "    \"new york cheif executive officer was present\",\n",
        "    \"machine learning is good\"\n",
        "]\n",
        "\n",
        "sentence_stream = [doc.split(\" \") for doc in documents]"
      ],
      "execution_count": 0,
      "outputs": []
    },
    {
      "cell_type": "code",
      "metadata": {
        "id": "TY7mW2WmdxSI",
        "colab_type": "code",
        "colab": {}
      },
      "source": [
        "bigram = Phraser(Phrases(sentence_stream, min_count=1, threshold=2))\n",
        "\n",
        "for sent in bigram[sentence_stream]:\n",
        "    print(sent)"
      ],
      "execution_count": 0,
      "outputs": []
    },
    {
      "cell_type": "code",
      "metadata": {
        "id": "gcRb1OQmd1yC",
        "colab_type": "code",
        "colab": {}
      },
      "source": [
        "trigram = Phraser(Phrases(bigram[sentence_stream], min_count=1, threshold=2))\n",
        "\n",
        "for sent in trigram[bigram[sentence_stream]]:\n",
        "    print(sent)"
      ],
      "execution_count": 0,
      "outputs": []
    }
  ]
}