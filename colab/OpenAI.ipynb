{
  "nbformat": 4,
  "nbformat_minor": 0,
  "metadata": {
    "colab": {
      "provenance": [],
      "authorship_tag": "ABX9TyNluKFBgAw86iPsUfmFr/K/"
    },
    "kernelspec": {
      "name": "python3",
      "display_name": "Python 3"
    },
    "language_info": {
      "name": "python"
    }
  },
  "cells": [
    {
      "cell_type": "code",
      "source": [
        "# if seeing the library dependency error, run this block twice\n",
        "!pip install -q openai"
      ],
      "metadata": {
        "id": "-2DCZkacDJji"
      },
      "execution_count": null,
      "outputs": []
    },
    {
      "cell_type": "code",
      "execution_count": null,
      "metadata": {
        "id": "jN8U8EUe5Ks1"
      },
      "outputs": [],
      "source": [
        "import os\n",
        "from openai import OpenAI\n",
        "from google.colab import userdata\n",
        "\n",
        "api_key = userdata.get('openai')\n",
        "\n",
        "os.environ['OPENAI_API_KEY'] = api_key\n",
        "\n",
        "client = OpenAI()\n",
        "\n"
      ]
    },
    {
      "cell_type": "code",
      "source": [
        "def get_completion(prompt,client_instance,model=\"gpt-3.5-turbo\"):\n",
        "\n",
        "  messages = [{\"role\": \"user\", \"content\": prompt}]\n",
        "\n",
        "  response = client_instance.chat.completions.create(\n",
        "    model=model,\n",
        "    messages=messages,\n",
        "    max_tokens=50,\n",
        "    temperature=0,\n",
        "  )\n",
        "  return response.choices[0].message.content\n",
        "\n",
        "prompt = \"How far away is the moon?\"\n",
        "\n",
        "get_completion(prompt, client)"
      ],
      "metadata": {
        "id": "kzrKD41KVS7r"
      },
      "execution_count": null,
      "outputs": []
    },
    {
      "cell_type": "code",
      "source": [
        "client = OpenAI(\n",
        "    api_key=api_key,\n",
        ")\n",
        "\n",
        "chat_completion = client.chat.completions.create(\n",
        "    messages=[\n",
        "        {\n",
        "            \"role\": \"user\",\n",
        "            \"content\": \"Say this is a test\",\n",
        "        }\n",
        "    ],\n",
        "    model=\"gpt-3.5-turbo\",\n",
        ")"
      ],
      "metadata": {
        "id": "QF45V1bsIzxG"
      },
      "execution_count": null,
      "outputs": []
    }
  ]
}