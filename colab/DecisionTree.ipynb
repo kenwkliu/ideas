{
  "nbformat": 4,
  "nbformat_minor": 0,
  "metadata": {
    "colab": {
      "name": "DecisionTree.ipynb",
      "provenance": [],
      "collapsed_sections": []
    },
    "kernelspec": {
      "name": "python3",
      "display_name": "Python 3"
    }
  },
  "cells": [
    {
      "cell_type": "code",
      "metadata": {
        "id": "fHkyqgSAZk9U",
        "colab_type": "code",
        "colab": {}
      },
      "source": [
        "# https://www.datacamp.com/community/tutorials/decision-tree-classification-python\n",
        "import pandas as pd\n",
        "import matplotlib.pyplot as plt\n",
        "\n",
        "from sklearn import tree\n",
        "from sklearn.model_selection import train_test_split\n",
        "from sklearn import metrics "
      ],
      "execution_count": 0,
      "outputs": []
    },
    {
      "cell_type": "code",
      "metadata": {
        "id": "C2g1sCBook0L",
        "colab_type": "code",
        "colab": {}
      },
      "source": [
        "# Import the bid/ask imbalance dataset\n",
        "imbal = pd.read_csv(\"https://raw.githubusercontent.com/kenwkliu/ideas/master/colab/data/20131002-bidAskImbal5.csv\")\n",
        "imbal"
      ],
      "execution_count": 0,
      "outputs": []
    },
    {
      "cell_type": "code",
      "metadata": {
        "id": "buQT3vJGSicP",
        "colab_type": "code",
        "colab": {}
      },
      "source": [
        "# Scatter plot the L1 & L2 imbalance\n",
        "downs = imbal[(imbal['Dir'] == 'd')]\n",
        "ups = imbal[(imbal['Dir'] == 'u')] \n",
        "\n",
        "fig = plt.figure(figsize=(16, 10))\n",
        "ax = fig.add_subplot()\n",
        "ax.scatter(downs['L1'].tolist(), downs['L2'].tolist(), c='blue', label='Down')\n",
        "ax.scatter(ups['L1'].tolist(), ups['L2'].tolist(), c='red', label='Up')\n",
        "\n",
        "plt.title('L1 & L2 Order Book Imbalance')\n",
        "plt.legend(loc=2)\n",
        "plt.show()"
      ],
      "execution_count": 0,
      "outputs": []
    },
    {
      "cell_type": "code",
      "metadata": {
        "id": "ZuvlxUyMotE7",
        "colab_type": "code",
        "colab": {}
      },
      "source": [
        "# split dataset in features and target variable\n",
        "feature_cols = ['L1', 'L2', 'L3']\n",
        "X = imbal[feature_cols] # Features\n",
        "y = imbal.Dir # Target variable"
      ],
      "execution_count": 0,
      "outputs": []
    },
    {
      "cell_type": "code",
      "metadata": {
        "id": "VZtyNqipooNB",
        "colab_type": "code",
        "colab": {}
      },
      "source": [
        "# Split dataset into training set and test set\n",
        "# 80% training and 20% test\n",
        "X_train, X_test, y_train, y_test = train_test_split(X, y, test_size=0.2, random_state=1) \n"
      ],
      "execution_count": 0,
      "outputs": []
    },
    {
      "cell_type": "code",
      "metadata": {
        "id": "bzIUHugDrWqn",
        "colab_type": "code",
        "colab": {}
      },
      "source": [
        "# Create Decision Tree classifer object with maxiumn 3 level\n",
        "clf = tree.DecisionTreeClassifier(max_depth=3)\n",
        "\n",
        "# Train Decision Tree Classifer\n",
        "clf = clf.fit(X_train,y_train)"
      ],
      "execution_count": 0,
      "outputs": []
    },
    {
      "cell_type": "code",
      "metadata": {
        "id": "Mvvqw9SPZ4da",
        "colab_type": "code",
        "colab": {}
      },
      "source": [
        "# Visualize the decision tree\n",
        "import graphviz \n",
        "dot_data = tree.export_graphviz(clf, out_file=None) \n",
        "graph = graphviz.Source(dot_data) \n",
        "graph.render(\"imbal\") \n",
        "\n",
        "dot_data = tree.export_graphviz(clf, out_file=None, \n",
        "                      feature_names=feature_cols,  \n",
        "                      class_names=[\"D\", \"U\"],  \n",
        "                      filled=True, rounded=True,  \n",
        "                      special_characters=True)  \n",
        "graph = graphviz.Source(dot_data)  \n",
        "graph "
      ],
      "execution_count": 0,
      "outputs": []
    },
    {
      "cell_type": "code",
      "metadata": {
        "id": "nEAWZpliRjcz",
        "colab_type": "code",
        "colab": {}
      },
      "source": [
        "# gini: quantifies the purity of the node/leaf. \n",
        "# A gini score greater than zero implies that samples contained within that node belong to different classes. \n",
        "# A gini score of zero means that the node is pure, that within that node only a single class of samples exist. \n",
        " \n",
        "# value: how many samples in each category (Down vs Up in this case)"
      ],
      "execution_count": 0,
      "outputs": []
    },
    {
      "cell_type": "code",
      "metadata": {
        "id": "s6Q4kGJRrc6H",
        "colab_type": "code",
        "colab": {}
      },
      "source": [
        "# Measure the performance\n",
        "y_pred_train = clf.predict(X_train)\n",
        "y_pred_test = clf.predict(X_test)\n",
        "\n",
        "print(\"Train Accuracy:\", metrics.accuracy_score(y_train, y_pred_train))\n",
        "print(\"Test Accuracy:\", metrics.accuracy_score(y_test, y_pred_test))"
      ],
      "execution_count": 0,
      "outputs": []
    }
  ]
}