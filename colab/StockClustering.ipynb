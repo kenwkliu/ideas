{
  "nbformat": 4,
  "nbformat_minor": 0,
  "metadata": {
    "colab": {
      "name": "StockClustering.ipynb",
      "provenance": [],
      "authorship_tag": "ABX9TyNozv0pk0G7uiYw9usO9yW5",
      "include_colab_link": true
    },
    "kernelspec": {
      "name": "python3",
      "display_name": "Python 3"
    },
    "language_info": {
      "name": "python"
    }
  },
  "cells": [
    {
      "cell_type": "markdown",
      "metadata": {
        "id": "view-in-github",
        "colab_type": "text"
      },
      "source": [
        "<a href=\"https://colab.research.google.com/github/kenwkliu/ideas/blob/master/colab/StockClustering.ipynb\" target=\"_parent\"><img src=\"https://colab.research.google.com/assets/colab-badge.svg\" alt=\"Open In Colab\"/></a>"
      ]
    },
    {
      "cell_type": "code",
      "metadata": {
        "id": "CbLfiXSRjM-2"
      },
      "source": [
        "import numpy as np\n",
        "import pandas as pd\n",
        "import matplotlib.pyplot as plt\n",
        "from sklearn.preprocessing import StandardScaler\n",
        "\n",
        "%load_ext google.colab.data_table \n",
        "%matplotlib inline"
      ],
      "execution_count": null,
      "outputs": []
    },
    {
      "cell_type": "code",
      "metadata": {
        "id": "myVXQtQDjX0U"
      },
      "source": [
        "# Read stock info\n",
        "\n",
        "stocksInfo = pd.read_excel('https://raw.githubusercontent.com/kenwkliu/ideas/master/colab/data/hkStocksQuotes.xlsx')\n",
        "stocksInfo"
      ],
      "execution_count": null,
      "outputs": []
    },
    {
      "cell_type": "code",
      "metadata": {
        "id": "RTQDKeWrjcPQ"
      },
      "source": [
        "# Read stock histocial adjusted close price\n",
        "researchData = pd.read_csv('https://raw.githubusercontent.com/kenwkliu/ideas/master/colab/data/researchHKStocksAdjClosePx.csv', index_col=0)\n",
        "researchData"
      ],
      "execution_count": null,
      "outputs": []
    },
    {
      "cell_type": "code",
      "metadata": {
        "id": "OFzEu3bfjqG2"
      },
      "source": [
        "# Cluster based on the stock performance and volatility\n",
        "\n",
        "#Calculate the performance\n",
        "returns = researchData.pct_change().mean()*266\n",
        "returns = pd.DataFrame(returns)\n",
        "returns.columns = ['returns']\n",
        "\n",
        "#Calculate the volatility\n",
        "returns['volatility'] = researchData.pct_change().std()*np.sqrt(266)\n",
        "\n",
        "#Prepare the scaler\n",
        "scale = StandardScaler().fit(returns)\n",
        "\n",
        "#Fit the scaler\n",
        "scaledReturns = pd.DataFrame(scale.fit_transform(returns),columns = returns.columns, index = returns.index)\n",
        "scaledReturns"
      ],
      "execution_count": null,
      "outputs": []
    },
    {
      "cell_type": "code",
      "metadata": {
        "id": "Xfm02Y0Hj1JZ"
      },
      "source": [
        "from sklearn.cluster import KMeans\n",
        "from sklearn import metrics\n",
        "\n",
        "K = range(1,15)\n",
        "distortions = []\n",
        "scaledReturns.dropna(inplace = True)\n",
        "\n",
        "#Fit the method\n",
        "for k in K:\n",
        "    kmeans = KMeans(n_clusters = k)\n",
        "    kmeans.fit(scaledReturns)\n",
        "    distortions.append(kmeans.inertia_)\n",
        "\n",
        "#Plot the results\n",
        "fig = plt.figure(figsize= (15, 5))\n",
        "plt.plot(K, distortions, 'bx-')\n",
        "plt.xlabel('Values of K')\n",
        "plt.ylabel('Distortion')\n",
        "plt.title('Elbow Method')\n",
        "plt.grid(True)\n",
        "plt.show()"
      ],
      "execution_count": null,
      "outputs": []
    },
    {
      "cell_type": "code",
      "metadata": {
        "id": "_FsgfVMdj-ZZ"
      },
      "source": [
        "c = 6\n",
        "\n",
        "#Fit the model\n",
        "k_means = KMeans(n_clusters=c)\n",
        "k_means.fit(scaledReturns)\n",
        "prediction = k_means.predict(scaledReturns)\n",
        "\n",
        "#Plot the results\n",
        "centroids = k_means.cluster_centers_\n",
        "fig = plt.figure(figsize = (18,10))\n",
        "\n",
        "ax = fig.add_subplot(111)\n",
        "scatter = ax.scatter(scaledReturns.iloc[:,0], scaledReturns.iloc[:,1], c=k_means.labels_, cmap=\"rainbow\", label=scaledReturns.index)\n",
        "\n",
        "ax.set_title('k-Means Cluster Analysis Results')\n",
        "ax.set_xlabel('Mean Return')\n",
        "ax.set_ylabel('Volatility')\n",
        "\n",
        "plt.colorbar(scatter)\n",
        "plt.plot(centroids[:,0],centroids[:,1],'sg',markersize=10)\n",
        "plt.show()"
      ],
      "execution_count": null,
      "outputs": []
    },
    {
      "cell_type": "code",
      "metadata": {
        "id": "lLFdF02kkJtv"
      },
      "source": [
        "clustered_series = pd.Series(index=scaledReturns.index, data=k_means.labels_.flatten())\n",
        "clustered_series_all = pd.Series(index=scaledReturns.index, data=k_means.labels_.flatten())\n",
        "clustered_series = clustered_series[clustered_series != -1]\n",
        "\n",
        "plt.figure(figsize=(12,8))\n",
        "plt.barh(range(len(clustered_series.value_counts())),clustered_series.value_counts())\n",
        "plt.title('Clusters')\n",
        "\n",
        "plt.xlabel('Stocks per Cluster')\n",
        "plt.ylabel('Cluster Number')\n",
        "\n",
        "plt.show()"
      ],
      "execution_count": null,
      "outputs": []
    },
    {
      "cell_type": "code",
      "metadata": {
        "id": "9YvHHmJzkOEJ"
      },
      "source": [
        "clusterDf = clustered_series.to_frame()\n",
        "clusterDf.rename(columns = {0 : 'cluster'}, inplace=True)\n",
        "clusterDf"
      ],
      "execution_count": null,
      "outputs": []
    }
  ]
}