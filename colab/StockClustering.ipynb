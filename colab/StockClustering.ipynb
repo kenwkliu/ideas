{
  "nbformat": 4,
  "nbformat_minor": 0,
  "metadata": {
    "colab": {
      "name": "StockClustering.ipynb",
      "provenance": [],
      "authorship_tag": "ABX9TyMz810XeV/nb6rIXdoE2A0Z",
      "include_colab_link": true
    },
    "kernelspec": {
      "name": "python3",
      "display_name": "Python 3"
    },
    "language_info": {
      "name": "python"
    }
  },
  "cells": [
    {
      "cell_type": "markdown",
      "metadata": {
        "id": "view-in-github",
        "colab_type": "text"
      },
      "source": [
        "<a href=\"https://colab.research.google.com/github/kenwkliu/ideas/blob/master/colab/StockClustering.ipynb\" target=\"_parent\"><img src=\"https://colab.research.google.com/assets/colab-badge.svg\" alt=\"Open In Colab\"/></a>"
      ]
    },
    {
      "cell_type": "code",
      "metadata": {
        "id": "CbLfiXSRjM-2"
      },
      "source": [
        "import numpy as np\n",
        "import pandas as pd\n",
        "import matplotlib.pyplot as plt\n",
        "from sklearn.preprocessing import StandardScaler\n",
        "\n",
        "%load_ext google.colab.data_table \n",
        "%matplotlib inline"
      ],
      "execution_count": null,
      "outputs": []
    },
    {
      "cell_type": "code",
      "source": [
        "# Read the highly correlated HK Pairs\n",
        "pairsDf = pd.read_csv('https://raw.githubusercontent.com/kenwkliu/ideas/master/colab/data/hkCorrelatedPairs.csv')\n",
        "pairsDf"
      ],
      "metadata": {
        "id": "7hMHCt75mTbR"
      },
      "execution_count": null,
      "outputs": []
    },
    {
      "cell_type": "code",
      "metadata": {
        "id": "RTQDKeWrjcPQ"
      },
      "source": [
        "# Read stock histocial adjusted close price\n",
        "researchData = pd.read_csv('https://raw.githubusercontent.com/kenwkliu/ideas/master/colab/data/researchHKStocksAdjClosePx.csv', index_col=0)\n",
        "researchData"
      ],
      "execution_count": null,
      "outputs": []
    },
    {
      "cell_type": "code",
      "source": [
        "# Descriptive statistics include those that summarize the central tendency, dispersion and shape of a dataset\n",
        "researchData.describe().T.round(4)"
      ],
      "metadata": {
        "id": "ynp3Ok9wm7k9"
      },
      "execution_count": null,
      "outputs": []
    },
    {
      "cell_type": "code",
      "metadata": {
        "id": "OFzEu3bfjqG2"
      },
      "source": [
        "# Cluster based on the stock return and volatility\n",
        "\n",
        "# Calculate the annualized return\n",
        "TRADING_DAYS = 252\n",
        "returns = researchData.pct_change().mean() * TRADING_DAYS\n",
        "returns = pd.DataFrame(returns)\n",
        "returns.columns = ['returns']\n",
        "\n",
        "# Calculate the annualized volatility\n",
        "returns['volatility'] = researchData.pct_change().std() * np.sqrt(TRADING_DAYS)\n",
        "\n",
        "# Normalize the 2 set of numbers to similar scale\n",
        "scale = StandardScaler().fit(returns)\n",
        "scaledReturns = pd.DataFrame(scale.fit_transform(returns),columns = returns.columns, index = returns.index)\n",
        "scaledReturns"
      ],
      "execution_count": null,
      "outputs": []
    },
    {
      "cell_type": "code",
      "metadata": {
        "id": "Xfm02Y0Hj1JZ"
      },
      "source": [
        "# Use K-mean to cluster different groups and elbow method to find the optimal k \n",
        "from sklearn.cluster import KMeans\n",
        "from sklearn import metrics\n",
        "\n",
        "K = range(1,15)\n",
        "distortions = []\n",
        "scaledReturns.dropna(inplace = True)\n",
        "\n",
        "#Fit the method\n",
        "for k in K:\n",
        "    kmeans = KMeans(n_clusters = k)\n",
        "    kmeans.fit(scaledReturns)\n",
        "    distortions.append(kmeans.inertia_)\n",
        "\n",
        "#Plot the results\n",
        "fig = plt.figure(figsize= (15, 5))\n",
        "plt.plot(K, distortions, 'bx-')\n",
        "plt.xlabel('Values of K')\n",
        "plt.ylabel('Distortion')\n",
        "plt.title('Elbow Method')\n",
        "plt.grid(True)\n",
        "plt.show()"
      ],
      "execution_count": null,
      "outputs": []
    },
    {
      "cell_type": "code",
      "metadata": {
        "id": "_FsgfVMdj-ZZ"
      },
      "source": [
        "# Pick the number of clusters\n",
        "c = 8\n",
        "\n",
        "#Fit the model\n",
        "k_means = KMeans(n_clusters=c)\n",
        "k_means.fit(scaledReturns)\n",
        "prediction = k_means.predict(scaledReturns)\n",
        "\n",
        "#Plot the results\n",
        "centroids = k_means.cluster_centers_\n",
        "fig = plt.figure(figsize = (18,10))\n",
        "\n",
        "ax = fig.add_subplot(111)\n",
        "scatter = ax.scatter(scaledReturns.iloc[:,0], scaledReturns.iloc[:,1], c=k_means.labels_, cmap=\"rainbow\", label=scaledReturns.index)\n",
        "\n",
        "ax.set_title('k-Means Cluster Analysis Results')\n",
        "ax.set_xlabel('Mean Return')\n",
        "ax.set_ylabel('Volatility')\n",
        "\n",
        "plt.colorbar(scatter)\n",
        "plt.plot(centroids[:,0],centroids[:,1],'sg',markersize=10)\n",
        "plt.show()"
      ],
      "execution_count": null,
      "outputs": []
    },
    {
      "cell_type": "code",
      "metadata": {
        "id": "lLFdF02kkJtv"
      },
      "source": [
        "# Plot the number of stocks in each cluster\n",
        "clustered_series = pd.Series(index=scaledReturns.index, data=k_means.labels_.flatten())\n",
        "clustered_series_all = pd.Series(index=scaledReturns.index, data=k_means.labels_.flatten())\n",
        "clustered_series = clustered_series[clustered_series != -1]\n",
        "\n",
        "plt.figure(figsize=(12,8))\n",
        "plt.barh(range(len(clustered_series.value_counts())),clustered_series.value_counts())\n",
        "plt.title('Clusters')\n",
        "\n",
        "plt.xlabel('Stocks per Cluster')\n",
        "plt.ylabel('Cluster Number')\n",
        "\n",
        "plt.show()"
      ],
      "execution_count": null,
      "outputs": []
    },
    {
      "cell_type": "code",
      "metadata": {
        "id": "9YvHHmJzkOEJ"
      },
      "source": [
        "# Show the stocks and the corresponding clusters\n",
        "clusterDf = clustered_series.to_frame().reset_index()\n",
        "clusterDf.rename(columns = {'index': 'stock', 0 : 'cluster'}, inplace=True)\n",
        "clusterDf"
      ],
      "execution_count": null,
      "outputs": []
    },
    {
      "cell_type": "code",
      "source": [
        "# Merge the cluster info back to the stock Pairs\n",
        "cols = ['stockA', 'stockB', 'corr', 'cluster_A', 'cluster_B']\n",
        "clusterPairsDf = pairsDf.merge(clusterDf, how='left', left_on='stockA', right_on='stock').merge(clusterDf, how='left', left_on='stockB', right_on='stock', suffixes=('_A', '_B'))[cols]\n",
        "clusterPairsDf['sameCluster'] = (clusterPairsDf['cluster_A'] == clusterPairsDf['cluster_B'])\n",
        "\n",
        "clusterPairsDf"
      ],
      "metadata": {
        "id": "h802t-lVqDqR"
      },
      "execution_count": null,
      "outputs": []
    },
    {
      "cell_type": "code",
      "source": [
        " # Time-series based clustering: https://tslearn.readthedocs.io/en/stable/user_guide/clustering.html\n",
        "\n",
        "!pip install tslearn\n",
        "from tslearn.clustering import TimeSeriesKMeans"
      ],
      "metadata": {
        "id": "9a7RvUNvqRed"
      },
      "execution_count": null,
      "outputs": []
    },
    {
      "cell_type": "code",
      "source": [
        "from sklearn.preprocessing import Normalizer\n",
        "\n",
        "researchData.dropna(inplace=True)\n",
        "\n",
        "# Normalize the price series\n",
        "normalizer = Normalizer()\n",
        "researchDataPriceNormalized = normalizer.fit_transform(researchData.T.reset_index(drop=True))\n",
        "researchDataPriceNormalized"
      ],
      "metadata": {
        "id": "HLnxy4AaqVu9"
      },
      "execution_count": null,
      "outputs": []
    },
    {
      "cell_type": "code",
      "source": [
        "# dtw is \"Dynamic Time Warping\"\n",
        "tskm = TimeSeriesKMeans(n_clusters=c, metric=\"dtw\")\n",
        "tskm.fit(researchDataPriceNormalized)\n",
        "\n",
        "tskm_labels = tskm.labels_\n",
        "tskm_labels"
      ],
      "metadata": {
        "id": "LPyUqeZCqXco"
      },
      "execution_count": null,
      "outputs": []
    },
    {
      "cell_type": "code",
      "source": [
        "stock_names = researchData.columns\n",
        "tskmDf = pd.DataFrame(tskm_labels, stock_names)\n",
        "tskmDf.rename(columns = {0 : 'cluster'}, inplace=True)\n",
        "tskmDf"
      ],
      "metadata": {
        "id": "Y_sZP2m_qaOS"
      },
      "execution_count": null,
      "outputs": []
    }
  ]
}