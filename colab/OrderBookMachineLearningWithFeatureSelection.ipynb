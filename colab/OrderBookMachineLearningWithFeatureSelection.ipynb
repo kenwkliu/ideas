{
  "nbformat": 4,
  "nbformat_minor": 0,
  "metadata": {
    "colab": {
      "name": "DecisionTree.ipynb",
      "provenance": [],
      "collapsed_sections": []
    },
    "kernelspec": {
      "name": "python3",
      "display_name": "Python 3"
    }
  },
  "cells": [
    {
      "cell_type": "code",
      "metadata": {
        "id": "fHkyqgSAZk9U",
        "colab_type": "code",
        "colab": {}
      },
      "source": [
        "import pandas as pd\n",
        "import matplotlib.pyplot as plt\n",
        "import seaborn as sns\n",
        "\n",
        "from sklearn import metrics\n",
        "from sklearn.metrics import plot_confusion_matrix\n",
        "from sklearn.model_selection import train_test_split\n",
        "\n",
        "SCREEN_X, SCREEN_Y = 12, 8"
      ],
      "execution_count": 0,
      "outputs": []
    },
    {
      "cell_type": "code",
      "metadata": {
        "id": "C2g1sCBook0L",
        "colab_type": "code",
        "colab": {}
      },
      "source": [
        "# Import order book features dataset of 0005.HK in 20131002\n",
        "# It contains L1, L2, L3 order_book_imbalance and MF (money_flow) to predict the next stock price movement (u=up or d=down)\n",
        "# The data is normalized to the range of -1 to 1\n",
        "# Please refer to course note for the order book features explanation\n",
        "orderBook = pd.read_csv(\"https://raw.githubusercontent.com/kenwkliu/ideas/master/colab/data/20131002-5HK-OrderBookFeatures.csv\")\n",
        "orderBook"
      ],
      "execution_count": 0,
      "outputs": []
    },
    {
      "cell_type": "code",
      "metadata": {
        "id": "buQT3vJGSicP",
        "colab_type": "code",
        "colab": {}
      },
      "source": [
        "# Scatter plot the order book features\n",
        "sns.pairplot(orderBook, hue=\"Dir\",palette=\"bright\")"
      ],
      "execution_count": 0,
      "outputs": []
    },
    {
      "cell_type": "code",
      "metadata": {
        "id": "ZuvlxUyMotE7",
        "colab_type": "code",
        "colab": {}
      },
      "source": [
        "# split dataset in features and target variable\n",
        "feature_cols = ['L1', 'L2', 'L3', 'MF']\n",
        "X = orderBook[feature_cols] # Features\n",
        "y = orderBook.Dir # Target variable\n",
        "\n",
        "# Split dataset into training set and test set\n",
        "# 80% training and 20% test\n",
        "X_train, X_test, y_train, y_test = train_test_split(X, y, test_size=0.2, random_state=1) "
      ],
      "execution_count": 0,
      "outputs": []
    },
    {
      "cell_type": "code",
      "metadata": {
        "id": "bzIUHugDrWqn",
        "colab_type": "code",
        "colab": {}
      },
      "source": [
        "# https://www.datacamp.com/community/tutorials/decision-tree-classification-python\n",
        "from sklearn import tree\n",
        "\n",
        "# Create Decision Tree classifer object with maxiumn 3 level (max_depth=3)\n",
        "# max_depth is the hyperparamter that determine model capacity \n",
        "dtree = tree.DecisionTreeClassifier(max_depth=3)\n",
        "\n",
        "# Train Decision Tree Classifer\n",
        "dtree = dtree.fit(X_train,y_train)"
      ],
      "execution_count": 0,
      "outputs": []
    },
    {
      "cell_type": "code",
      "metadata": {
        "id": "Mvvqw9SPZ4da",
        "colab_type": "code",
        "colab": {}
      },
      "source": [
        "# Visualize the decision tree\n",
        "import graphviz \n",
        "dot_data = tree.export_graphviz(dtree, out_file=None) \n",
        "graph = graphviz.Source(dot_data) \n",
        "graph.render(\"imbal\") \n",
        "\n",
        "dot_data = tree.export_graphviz(dtree, out_file=None, \n",
        "                      feature_names=feature_cols,  \n",
        "                      class_names=[\"D\", \"U\"],  \n",
        "                      filled=True, rounded=True,  \n",
        "                      special_characters=True)  \n",
        "graph = graphviz.Source(dot_data)  \n",
        "graph \n",
        "\n",
        "\n",
        "# gini: quantifies the purity of the node/leaf. \n",
        "# A gini score greater than zero implies that samples contained within that node belong to different classes. \n",
        "# A gini score of zero means that the node is pure, that within that node only a single class of samples exist. \n",
        " \n",
        "# value: how many samples in each category (Down vs Up in this case)"
      ],
      "execution_count": 0,
      "outputs": []
    },
    {
      "cell_type": "code",
      "metadata": {
        "id": "s6Q4kGJRrc6H",
        "colab_type": "code",
        "colab": {}
      },
      "source": [
        "# Measure the Decision tree performance\n",
        "y_dtree_pred_train = dtree.predict(X_train)\n",
        "y_dtree_pred_test = dtree.predict(X_test)\n",
        "\n",
        "print(\"Train Accuracy:\", metrics.accuracy_score(y_train, y_dtree_pred_train))\n",
        "print(\"Test Accuracy:\", metrics.accuracy_score(y_test, y_dtree_pred_test))"
      ],
      "execution_count": 0,
      "outputs": []
    },
    {
      "cell_type": "code",
      "metadata": {
        "id": "q6yuHSaC22Nb",
        "colab_type": "code",
        "colab": {}
      },
      "source": [
        "# Plot confusion matrix on the test set\n",
        "plot_confusion_matrix(dtree, X_test, y_test, display_labels=orderBook.Dir, cmap=plt.cm.Blues)"
      ],
      "execution_count": 0,
      "outputs": []
    },
    {
      "cell_type": "code",
      "metadata": {
        "id": "Hh9OZRfTuJk4",
        "colab_type": "code",
        "colab": {}
      },
      "source": [
        "# https://scikit-learn.org/stable/modules/generated/sklearn.svm.SVC.html\n",
        "from sklearn.svm import SVC\n",
        "\n",
        "# use SVM with default settings\n",
        "svm = SVC()\n",
        "svm.fit(X, y)"
      ],
      "execution_count": 0,
      "outputs": []
    },
    {
      "cell_type": "code",
      "metadata": {
        "id": "EJ-zrwGHubPV",
        "colab_type": "code",
        "colab": {}
      },
      "source": [
        "# Measure the SVM performance\n",
        "y_svm_pred_train = svm.predict(X_train)\n",
        "y_svm_pred_test = svm.predict(X_test)\n",
        "\n",
        "print(\"Train Accuracy:\", metrics.accuracy_score(y_train, y_svm_pred_train))\n",
        "print(\"Test Accuracy:\", metrics.accuracy_score(y_test, y_svm_pred_test))"
      ],
      "execution_count": 0,
      "outputs": []
    },
    {
      "cell_type": "code",
      "metadata": {
        "id": "OWLjg_hE7MLg",
        "colab_type": "code",
        "colab": {}
      },
      "source": [
        "# Plot confusion matrix on the test set\n",
        "plot_confusion_matrix(svm, X_test, y_test, display_labels=orderBook.Dir, cmap=plt.cm.Blues)"
      ],
      "execution_count": 0,
      "outputs": []
    },
    {
      "cell_type": "code",
      "metadata": {
        "id": "-XVLu2X8309u",
        "colab_type": "code",
        "colab": {}
      },
      "source": [
        "# use XGBoost to plot feature importance\n",
        "# XGBoost doc: https://xgboost.readthedocs.io/en/latest/tutorials/model.html\n",
        "\n",
        "from xgboost import XGBClassifier\n",
        "from xgboost import plot_importance\n",
        "\n",
        "xgb = XGBClassifier()\n",
        "xgb.fit(X, y)\n",
        "plot_importance(xgb)"
      ],
      "execution_count": 0,
      "outputs": []
    },
    {
      "cell_type": "code",
      "metadata": {
        "id": "BKeSAYn2OVQs",
        "colab_type": "code",
        "colab": {}
      },
      "source": [
        "# Only use the most important feature\n",
        "feature_cols = ['L2']\n",
        "X = orderBook[feature_cols] # Features\n",
        "y = orderBook.Dir # Target variable\n",
        "\n",
        "# 80% training and 20% test\n",
        "X_train, X_test, y_train, y_test = train_test_split(X, y, test_size=0.2, random_state=1) \n",
        "\n",
        "# Train by Decision Tree\n",
        "dtree = dtree.fit(X_train,y_train)\n",
        "# Train by SVM\n",
        "svm.fit(X, y)\n",
        "\n",
        "# Measure the Decision tree performance\n",
        "y_dtree_pred_train = dtree.predict(X_train)\n",
        "y_dtree_pred_test = dtree.predict(X_test)\n",
        "print(\"Decision Tree Train Accuracy:\", metrics.accuracy_score(y_train, y_dtree_pred_train))\n",
        "print(\"Decision Tree Test Accuracy:\", metrics.accuracy_score(y_test, y_dtree_pred_test))\n",
        "\n",
        "# Measure the SVM performance\n",
        "y_svm_pred_train = svm.predict(X_train)\n",
        "y_svm_pred_test = svm.predict(X_test)\n",
        "print(\"SVM Train Accuracy:\", metrics.accuracy_score(y_train, y_svm_pred_train))\n",
        "print(\"SVM Test Accuracy:\", metrics.accuracy_score(y_test, y_svm_pred_test))"
      ],
      "execution_count": 0,
      "outputs": []
    },
    {
      "cell_type": "code",
      "metadata": {
        "id": "v9byBeMJOayC",
        "colab_type": "code",
        "colab": {}
      },
      "source": [
        ""
      ],
      "execution_count": 0,
      "outputs": []
    }
  ]
}